{
 "cells": [
  {
   "cell_type": "markdown",
   "metadata": {},
   "source": [
    "# Training Simple SF Model"
   ]
  },
  {
   "cell_type": "markdown",
   "metadata": {},
   "source": [
    "## Importing Data and Libraries"
   ]
  },
  {
   "cell_type": "code",
   "execution_count": 1,
   "metadata": {},
   "outputs": [],
   "source": [
    "import pandas as pd\n",
    "import numpy as np\n",
    "import matplotlib.pyplot as plt\n",
    "import seaborn as sns\n",
    "import datetime\n",
    "import warnings\n",
    "warnings.filterwarnings(\"ignore\")"
   ]
  },
  {
   "cell_type": "markdown",
   "metadata": {},
   "source": [
    "## Data Exploration"
   ]
  },
  {
   "cell_type": "code",
   "execution_count": 2,
   "metadata": {},
   "outputs": [],
   "source": [
    "smf=pd.read_csv('smf_cleaned_train_val.csv')\n",
    "# json_df=pd.read_csv('json_df_cleaned_train_val_1.csv')"
   ]
  },
  {
   "cell_type": "code",
   "execution_count": 3,
   "metadata": {},
   "outputs": [
    {
     "data": {
      "text/html": [
       "<div>\n",
       "<style scoped>\n",
       "    .dataframe tbody tr th:only-of-type {\n",
       "        vertical-align: middle;\n",
       "    }\n",
       "\n",
       "    .dataframe tbody tr th {\n",
       "        vertical-align: top;\n",
       "    }\n",
       "\n",
       "    .dataframe thead th {\n",
       "        text-align: right;\n",
       "    }\n",
       "</style>\n",
       "<table border=\"1\" class=\"dataframe\">\n",
       "  <thead>\n",
       "    <tr style=\"text-align: right;\">\n",
       "      <th></th>\n",
       "      <th>Id</th>\n",
       "      <th>date</th>\n",
       "      <th>ticker</th>\n",
       "      <th>SF1</th>\n",
       "      <th>SF2</th>\n",
       "      <th>SF3</th>\n",
       "      <th>SF4</th>\n",
       "      <th>SF5</th>\n",
       "      <th>SF6</th>\n",
       "      <th>SF7</th>\n",
       "      <th>alpha</th>\n",
       "      <th>Month</th>\n",
       "      <th>Day</th>\n",
       "      <th>WeekDay</th>\n",
       "      <th>WeekNumber</th>\n",
       "    </tr>\n",
       "  </thead>\n",
       "  <tbody>\n",
       "    <tr>\n",
       "      <th>0</th>\n",
       "      <td>1</td>\n",
       "      <td>2018-08-21</td>\n",
       "      <td>NTAP</td>\n",
       "      <td>-0.628652</td>\n",
       "      <td>0.988891</td>\n",
       "      <td>-0.055714</td>\n",
       "      <td>0.774379</td>\n",
       "      <td>0.551089</td>\n",
       "      <td>-1.329229</td>\n",
       "      <td>-0.995539</td>\n",
       "      <td>2</td>\n",
       "      <td>8</td>\n",
       "      <td>21</td>\n",
       "      <td>1</td>\n",
       "      <td>34</td>\n",
       "    </tr>\n",
       "    <tr>\n",
       "      <th>1</th>\n",
       "      <td>2</td>\n",
       "      <td>2018-10-11</td>\n",
       "      <td>WYNN</td>\n",
       "      <td>1.315786</td>\n",
       "      <td>1.438754</td>\n",
       "      <td>0.187327</td>\n",
       "      <td>0.608933</td>\n",
       "      <td>-1.153030</td>\n",
       "      <td>1.859441</td>\n",
       "      <td>0.730995</td>\n",
       "      <td>3</td>\n",
       "      <td>10</td>\n",
       "      <td>11</td>\n",
       "      <td>3</td>\n",
       "      <td>41</td>\n",
       "    </tr>\n",
       "    <tr>\n",
       "      <th>2</th>\n",
       "      <td>3</td>\n",
       "      <td>2018-08-21</td>\n",
       "      <td>DRI</td>\n",
       "      <td>-1.141388</td>\n",
       "      <td>-1.455016</td>\n",
       "      <td>0.332755</td>\n",
       "      <td>0.674502</td>\n",
       "      <td>0.111326</td>\n",
       "      <td>-0.478597</td>\n",
       "      <td>-1.488157</td>\n",
       "      <td>1</td>\n",
       "      <td>8</td>\n",
       "      <td>21</td>\n",
       "      <td>1</td>\n",
       "      <td>34</td>\n",
       "    </tr>\n",
       "    <tr>\n",
       "      <th>3</th>\n",
       "      <td>4</td>\n",
       "      <td>2018-07-10</td>\n",
       "      <td>GE</td>\n",
       "      <td>-0.054839</td>\n",
       "      <td>-1.454149</td>\n",
       "      <td>-0.162267</td>\n",
       "      <td>-0.681870</td>\n",
       "      <td>0.307869</td>\n",
       "      <td>-0.529987</td>\n",
       "      <td>0.404172</td>\n",
       "      <td>2</td>\n",
       "      <td>7</td>\n",
       "      <td>10</td>\n",
       "      <td>1</td>\n",
       "      <td>28</td>\n",
       "    </tr>\n",
       "    <tr>\n",
       "      <th>4</th>\n",
       "      <td>5</td>\n",
       "      <td>2018-09-12</td>\n",
       "      <td>FE</td>\n",
       "      <td>-0.686366</td>\n",
       "      <td>0.838865</td>\n",
       "      <td>0.073830</td>\n",
       "      <td>0.679024</td>\n",
       "      <td>0.329463</td>\n",
       "      <td>1.262782</td>\n",
       "      <td>-1.024042</td>\n",
       "      <td>2</td>\n",
       "      <td>9</td>\n",
       "      <td>12</td>\n",
       "      <td>2</td>\n",
       "      <td>37</td>\n",
       "    </tr>\n",
       "  </tbody>\n",
       "</table>\n",
       "</div>"
      ],
      "text/plain": [
       "   Id        date ticker       SF1       SF2       SF3       SF4       SF5  \\\n",
       "0   1  2018-08-21   NTAP -0.628652  0.988891 -0.055714  0.774379  0.551089   \n",
       "1   2  2018-10-11   WYNN  1.315786  1.438754  0.187327  0.608933 -1.153030   \n",
       "2   3  2018-08-21    DRI -1.141388 -1.455016  0.332755  0.674502  0.111326   \n",
       "3   4  2018-07-10     GE -0.054839 -1.454149 -0.162267 -0.681870  0.307869   \n",
       "4   5  2018-09-12     FE -0.686366  0.838865  0.073830  0.679024  0.329463   \n",
       "\n",
       "        SF6       SF7  alpha  Month  Day  WeekDay  WeekNumber  \n",
       "0 -1.329229 -0.995539      2      8   21        1          34  \n",
       "1  1.859441  0.730995      3     10   11        3          41  \n",
       "2 -0.478597 -1.488157      1      8   21        1          34  \n",
       "3 -0.529987  0.404172      2      7   10        1          28  \n",
       "4  1.262782 -1.024042      2      9   12        2          37  "
      ]
     },
     "execution_count": 3,
     "metadata": {},
     "output_type": "execute_result"
    }
   ],
   "source": [
    "smf.head()"
   ]
  },
  {
   "cell_type": "code",
   "execution_count": 4,
   "metadata": {},
   "outputs": [],
   "source": [
    "# json_df.head()"
   ]
  },
  {
   "cell_type": "code",
   "execution_count": 5,
   "metadata": {},
   "outputs": [
    {
     "name": "stdout",
     "output_type": "stream",
     "text": [
      "<class 'pandas.core.frame.DataFrame'>\n",
      "RangeIndex: 27006 entries, 0 to 27005\n",
      "Data columns (total 15 columns):\n",
      "Id            27006 non-null int64\n",
      "date          27006 non-null object\n",
      "ticker        27006 non-null object\n",
      "SF1           27006 non-null float64\n",
      "SF2           27006 non-null float64\n",
      "SF3           27006 non-null float64\n",
      "SF4           27006 non-null float64\n",
      "SF5           27006 non-null float64\n",
      "SF6           27006 non-null float64\n",
      "SF7           27006 non-null float64\n",
      "alpha         27006 non-null int64\n",
      "Month         27006 non-null int64\n",
      "Day           27006 non-null int64\n",
      "WeekDay       27006 non-null int64\n",
      "WeekNumber    27006 non-null int64\n",
      "dtypes: float64(7), int64(6), object(2)\n",
      "memory usage: 3.1+ MB\n"
     ]
    }
   ],
   "source": [
    "smf.info()"
   ]
  },
  {
   "cell_type": "code",
   "execution_count": 6,
   "metadata": {},
   "outputs": [],
   "source": [
    "X=smf.drop(['Id','alpha','date','ticker'],axis=1)\n",
    "y=smf['alpha']"
   ]
  },
  {
   "cell_type": "code",
   "execution_count": 7,
   "metadata": {},
   "outputs": [
    {
     "data": {
      "text/html": [
       "<div>\n",
       "<style scoped>\n",
       "    .dataframe tbody tr th:only-of-type {\n",
       "        vertical-align: middle;\n",
       "    }\n",
       "\n",
       "    .dataframe tbody tr th {\n",
       "        vertical-align: top;\n",
       "    }\n",
       "\n",
       "    .dataframe thead th {\n",
       "        text-align: right;\n",
       "    }\n",
       "</style>\n",
       "<table border=\"1\" class=\"dataframe\">\n",
       "  <thead>\n",
       "    <tr style=\"text-align: right;\">\n",
       "      <th></th>\n",
       "      <th>SF1</th>\n",
       "      <th>SF2</th>\n",
       "      <th>SF3</th>\n",
       "      <th>SF4</th>\n",
       "      <th>SF5</th>\n",
       "      <th>SF6</th>\n",
       "      <th>SF7</th>\n",
       "      <th>Month</th>\n",
       "      <th>Day</th>\n",
       "      <th>WeekDay</th>\n",
       "      <th>WeekNumber</th>\n",
       "    </tr>\n",
       "  </thead>\n",
       "  <tbody>\n",
       "    <tr>\n",
       "      <th>0</th>\n",
       "      <td>-0.628652</td>\n",
       "      <td>0.988891</td>\n",
       "      <td>-0.055714</td>\n",
       "      <td>0.774379</td>\n",
       "      <td>0.551089</td>\n",
       "      <td>-1.329229</td>\n",
       "      <td>-0.995539</td>\n",
       "      <td>8</td>\n",
       "      <td>21</td>\n",
       "      <td>1</td>\n",
       "      <td>34</td>\n",
       "    </tr>\n",
       "    <tr>\n",
       "      <th>1</th>\n",
       "      <td>1.315786</td>\n",
       "      <td>1.438754</td>\n",
       "      <td>0.187327</td>\n",
       "      <td>0.608933</td>\n",
       "      <td>-1.153030</td>\n",
       "      <td>1.859441</td>\n",
       "      <td>0.730995</td>\n",
       "      <td>10</td>\n",
       "      <td>11</td>\n",
       "      <td>3</td>\n",
       "      <td>41</td>\n",
       "    </tr>\n",
       "    <tr>\n",
       "      <th>2</th>\n",
       "      <td>-1.141388</td>\n",
       "      <td>-1.455016</td>\n",
       "      <td>0.332755</td>\n",
       "      <td>0.674502</td>\n",
       "      <td>0.111326</td>\n",
       "      <td>-0.478597</td>\n",
       "      <td>-1.488157</td>\n",
       "      <td>8</td>\n",
       "      <td>21</td>\n",
       "      <td>1</td>\n",
       "      <td>34</td>\n",
       "    </tr>\n",
       "    <tr>\n",
       "      <th>3</th>\n",
       "      <td>-0.054839</td>\n",
       "      <td>-1.454149</td>\n",
       "      <td>-0.162267</td>\n",
       "      <td>-0.681870</td>\n",
       "      <td>0.307869</td>\n",
       "      <td>-0.529987</td>\n",
       "      <td>0.404172</td>\n",
       "      <td>7</td>\n",
       "      <td>10</td>\n",
       "      <td>1</td>\n",
       "      <td>28</td>\n",
       "    </tr>\n",
       "    <tr>\n",
       "      <th>4</th>\n",
       "      <td>-0.686366</td>\n",
       "      <td>0.838865</td>\n",
       "      <td>0.073830</td>\n",
       "      <td>0.679024</td>\n",
       "      <td>0.329463</td>\n",
       "      <td>1.262782</td>\n",
       "      <td>-1.024042</td>\n",
       "      <td>9</td>\n",
       "      <td>12</td>\n",
       "      <td>2</td>\n",
       "      <td>37</td>\n",
       "    </tr>\n",
       "  </tbody>\n",
       "</table>\n",
       "</div>"
      ],
      "text/plain": [
       "        SF1       SF2       SF3       SF4       SF5       SF6       SF7  \\\n",
       "0 -0.628652  0.988891 -0.055714  0.774379  0.551089 -1.329229 -0.995539   \n",
       "1  1.315786  1.438754  0.187327  0.608933 -1.153030  1.859441  0.730995   \n",
       "2 -1.141388 -1.455016  0.332755  0.674502  0.111326 -0.478597 -1.488157   \n",
       "3 -0.054839 -1.454149 -0.162267 -0.681870  0.307869 -0.529987  0.404172   \n",
       "4 -0.686366  0.838865  0.073830  0.679024  0.329463  1.262782 -1.024042   \n",
       "\n",
       "   Month  Day  WeekDay  WeekNumber  \n",
       "0      8   21        1          34  \n",
       "1     10   11        3          41  \n",
       "2      8   21        1          34  \n",
       "3      7   10        1          28  \n",
       "4      9   12        2          37  "
      ]
     },
     "execution_count": 7,
     "metadata": {},
     "output_type": "execute_result"
    }
   ],
   "source": [
    "X.head()"
   ]
  },
  {
   "cell_type": "code",
   "execution_count": 8,
   "metadata": {},
   "outputs": [],
   "source": [
    "from sklearn.model_selection import train_test_split\n",
    "X_train_s, X_test_s, y_train_s, y_test_s = train_test_split(X, y, test_size = 0.3, random_state=42,stratify=y)"
   ]
  },
  {
   "cell_type": "code",
   "execution_count": 9,
   "metadata": {},
   "outputs": [
    {
     "data": {
      "text/plain": [
       "2    0.404041\n",
       "3    0.204983\n",
       "1    0.202444\n",
       "4    0.188532\n",
       "Name: alpha, dtype: float64"
      ]
     },
     "execution_count": 9,
     "metadata": {},
     "output_type": "execute_result"
    }
   ],
   "source": [
    "y_train_s.value_counts()/y_train_s.value_counts().sum()"
   ]
  },
  {
   "cell_type": "code",
   "execution_count": 10,
   "metadata": {},
   "outputs": [
    {
     "data": {
      "text/plain": [
       "2    0.404098\n",
       "3    0.205011\n",
       "1    0.202419\n",
       "4    0.188472\n",
       "Name: alpha, dtype: float64"
      ]
     },
     "execution_count": 10,
     "metadata": {},
     "output_type": "execute_result"
    }
   ],
   "source": [
    "y_test_s.value_counts()/y_test_s.value_counts().sum()"
   ]
  },
  {
   "cell_type": "markdown",
   "metadata": {},
   "source": [
    "## Simple Classification Model on SMF Data"
   ]
  },
  {
   "cell_type": "code",
   "execution_count": 11,
   "metadata": {},
   "outputs": [],
   "source": [
    "# Machine Learning Imports\n",
    "from mlxtend.classifier import StackingClassifier\n",
    "from sklearn.linear_model import LogisticRegression\n",
    "from sklearn.neighbors import KNeighborsClassifier\n",
    "from sklearn.linear_model import SGDClassifier\n",
    "from sklearn.naive_bayes import MultinomialNB\n",
    "from sklearn.tree import DecisionTreeClassifier\n",
    "from sklearn.ensemble import RandomForestClassifier\n",
    "from sklearn.ensemble import AdaBoostClassifier\n",
    "from lightgbm import LGBMClassifier\n",
    "from catboost import CatBoostClassifier\n",
    "from xgboost import XGBClassifier\n",
    "from sklearn.neural_network import MLPClassifier\n",
    "\n",
    "from sklearn.metrics import classification_report,confusion_matrix\n",
    "from sklearn.metrics import accuracy_score\n",
    "from sklearn.metrics import f1_score"
   ]
  },
  {
   "cell_type": "code",
   "execution_count": 12,
   "metadata": {},
   "outputs": [],
   "source": [
    "# Making the Confusion Matrix\n",
    "def confusion_matrix_c(y_test,y_pred):\n",
    "    cm = confusion_matrix(y_test, y_pred)\n",
    "    class_label = [\"1\", \"2\", \"3\", \"4\"]\n",
    "    df_cm = pd.DataFrame(cm, index=class_label,columns=class_label)\n",
    "    sns.heatmap(df_cm, annot=True, fmt='d')\n",
    "    plt.title(\"Confusion Matrix\")\n",
    "    plt.xlabel(\"Predicted Label\")\n",
    "    plt.ylabel(\"True Label\")\n",
    "    plt.show()"
   ]
  },
  {
   "cell_type": "markdown",
   "metadata": {},
   "source": [
    "### Logistic Regression"
   ]
  },
  {
   "cell_type": "code",
   "execution_count": 13,
   "metadata": {},
   "outputs": [
    {
     "data": {
      "text/plain": [
       "LogisticRegression(C=1.0, class_weight=None, dual=False, fit_intercept=True,\n",
       "                   intercept_scaling=1, l1_ratio=None, max_iter=100,\n",
       "                   multi_class='warn', n_jobs=-1, penalty='l2',\n",
       "                   random_state=None, solver='newton-cg', tol=0.0001, verbose=0,\n",
       "                   warm_start=False)"
      ]
     },
     "execution_count": 13,
     "metadata": {},
     "output_type": "execute_result"
    }
   ],
   "source": [
    "lg_s = LogisticRegression(solver = 'newton-cg',n_jobs=-1)\n",
    "lg_s.fit(X_train_s,y_train_s)"
   ]
  },
  {
   "cell_type": "code",
   "execution_count": 14,
   "metadata": {},
   "outputs": [],
   "source": [
    "# Predicting the Train and Test set results\n",
    "y_pred_lr_train= lg_s.predict(X_train_s)\n",
    "y_pred_lr_test= lg_s.predict(X_test_s)"
   ]
  },
  {
   "cell_type": "markdown",
   "metadata": {},
   "source": [
    "#### Train Set"
   ]
  },
  {
   "cell_type": "code",
   "execution_count": 15,
   "metadata": {},
   "outputs": [
    {
     "name": "stdout",
     "output_type": "stream",
     "text": [
      "              precision    recall  f1-score   support\n",
      "\n",
      "           1       0.69      0.11      0.20      3827\n",
      "           2       0.44      0.96      0.61      7638\n",
      "           3       0.38      0.14      0.20      3875\n",
      "           4       0.12      0.01      0.02      3564\n",
      "\n",
      "    accuracy                           0.44     18904\n",
      "   macro avg       0.41      0.31      0.26     18904\n",
      "weighted avg       0.42      0.44      0.33     18904\n",
      "\n"
     ]
    }
   ],
   "source": [
    "print(classification_report(y_train_s,y_pred_lr_train))"
   ]
  },
  {
   "cell_type": "code",
   "execution_count": 16,
   "metadata": {},
   "outputs": [
    {
     "data": {
      "image/png": "[encoded data removed]",
      "text/plain": [
       "<Figure size 432x288 with 2 Axes>"
      ]
     },
     "metadata": {
      "needs_background": "light"
     },
     "output_type": "display_data"
    }
   ],
   "source": [
    "# Confusion Matrix\n",
    "confusion_matrix_c(y_train_s, y_pred_lr_train)"
   ]
  },
  {
   "cell_type": "code",
   "execution_count": 17,
   "metadata": {
    "code_folding": []
   },
   "outputs": [
    {
     "name": "stdout",
     "output_type": "stream",
     "text": [
      "Misclassified samples: 10559\n",
      "Accuracy: 0.44\n",
      "F1-Score: 0.26\n"
     ]
    }
   ],
   "source": [
    "# how did our model perform?\n",
    "count_misclassified = (y_train_s != y_pred_lr_train).sum()\n",
    "print('Misclassified samples: {}'.format(count_misclassified))\n",
    "accuracy = accuracy_score(y_train_s, y_pred_lr_train)\n",
    "print('Accuracy: {:.2f}'.format(accuracy))\n",
    "f1=f1_score(y_train_s, y_pred_lr_train, average='macro')\n",
    "print('F1-Score: {:.2f}'.format(f1))"
   ]
  },
  {
   "cell_type": "markdown",
   "metadata": {},
   "source": [
    "#### Test Set"
   ]
  },
  {
   "cell_type": "code",
   "execution_count": 18,
   "metadata": {},
   "outputs": [
    {
     "name": "stdout",
     "output_type": "stream",
     "text": [
      "              precision    recall  f1-score   support\n",
      "\n",
      "           1       0.71      0.11      0.19      1640\n",
      "           2       0.44      0.96      0.61      3274\n",
      "           3       0.41      0.14      0.21      1661\n",
      "           4       0.18      0.02      0.03      1527\n",
      "\n",
      "    accuracy                           0.44      8102\n",
      "   macro avg       0.44      0.31      0.26      8102\n",
      "weighted avg       0.44      0.44      0.33      8102\n",
      "\n"
     ]
    }
   ],
   "source": [
    "print(classification_report(y_test_s,y_pred_lr_test))"
   ]
  },
  {
   "cell_type": "code",
   "execution_count": 19,
   "metadata": {},
   "outputs": [
    {
     "data": {
      "image/png": "[encoded data removed]",
      "text/plain": [
       "<Figure size 432x288 with 2 Axes>"
      ]
     },
     "metadata": {
      "needs_background": "light"
     },
     "output_type": "display_data"
    }
   ],
   "source": [
    "# Confusion Matrix\n",
    "confusion_matrix_c(y_test_s, y_pred_lr_test)"
   ]
  },
  {
   "cell_type": "code",
   "execution_count": 20,
   "metadata": {
    "code_folding": [],
    "scrolled": true
   },
   "outputs": [
    {
     "name": "stdout",
     "output_type": "stream",
     "text": [
      "Misclassified samples: 4504\n",
      "Accuracy: 0.44\n",
      "F1-Score: 0.26\n"
     ]
    }
   ],
   "source": [
    "# how did our model perform?\n",
    "count_misclassified = (y_test_s != y_pred_lr_test).sum()\n",
    "print('Misclassified samples: {}'.format(count_misclassified))\n",
    "accuracy = accuracy_score(y_test_s, y_pred_lr_test)\n",
    "print('Accuracy: {:.2f}'.format(accuracy))\n",
    "f1=f1_score(y_test_s, y_pred_lr_test, average='macro')\n",
    "print('F1-Score: {:.2f}'.format(f1))"
   ]
  },
  {
   "cell_type": "markdown",
   "metadata": {},
   "source": [
    "### SVM"
   ]
  },
  {
   "cell_type": "code",
   "execution_count": 21,
   "metadata": {},
   "outputs": [],
   "source": [
    "from sklearn.linear_model import SGDClassifier"
   ]
  },
  {
   "cell_type": "code",
   "execution_count": 22,
   "metadata": {},
   "outputs": [],
   "source": [
    "# from sklearn.model_selection import RandomizedSearchCV\n",
    "# params_distributions = {'kernel': ['rbf'], 'gamma': [1e-3, 1e-4],\n",
    "#                      'C': [1, 10, 100, 1000]},\n",
    "#                     {'kernel': ['linear'], 'C': [1, 10, 100, 1000]}"
   ]
  },
  {
   "cell_type": "code",
   "execution_count": 23,
   "metadata": {},
   "outputs": [
    {
     "data": {
      "text/plain": [
       "SGDClassifier(alpha=0.0001, average=False, class_weight=None,\n",
       "              early_stopping=False, epsilon=0.1, eta0=0.0, fit_intercept=True,\n",
       "              l1_ratio=0.15, learning_rate='optimal', loss='hinge',\n",
       "              max_iter=100, n_iter_no_change=5, n_jobs=None, penalty='l2',\n",
       "              power_t=0.5, random_state=None, shuffle=True, tol=0.001,\n",
       "              validation_fraction=0.1, verbose=0, warm_start=False)"
      ]
     },
     "execution_count": 23,
     "metadata": {},
     "output_type": "execute_result"
    }
   ],
   "source": [
    "# Performing CV to tune parameters for best SVM fit \n",
    "#svm_s = RandomizedSearchCV(SVC(), params_distributions, cv=5)\n",
    "svm_s=SGDClassifier(loss='hinge',max_iter=100)\n",
    "svm_s.fit(X_train_s, y_train_s)"
   ]
  },
  {
   "cell_type": "code",
   "execution_count": 24,
   "metadata": {},
   "outputs": [],
   "source": [
    "# # View the accuracy score\n",
    "# print('Best score for training data:', svm_s.best_score_,\"\\n\") \n",
    "\n",
    "# # View the best parameters for the model found using grid search\n",
    "# print('Best C:',svm_s.best_estimator_.C,\"\\n\") \n",
    "# print('Best Kernel:',svm_s.best_estimator_.kernel,\"\\n\")\n",
    "# print('Best Gamma:',svm_s.best_estimator_.gamma,\"\\n\")"
   ]
  },
  {
   "cell_type": "code",
   "execution_count": 25,
   "metadata": {},
   "outputs": [],
   "source": [
    "# Predicting the Train and Test set results\n",
    "y_pred_svm_train= svm_s.predict(X_train_s)\n",
    "y_pred_svm_test= svm_s.predict(X_test_s)"
   ]
  },
  {
   "cell_type": "markdown",
   "metadata": {},
   "source": [
    "#### Train Set"
   ]
  },
  {
   "cell_type": "code",
   "execution_count": 26,
   "metadata": {},
   "outputs": [
    {
     "name": "stdout",
     "output_type": "stream",
     "text": [
      "              precision    recall  f1-score   support\n",
      "\n",
      "           1       0.62      0.00      0.00      3827\n",
      "           2       0.32      0.03      0.05      7638\n",
      "           3       0.21      0.98      0.34      3875\n",
      "           4       0.00      0.00      0.00      3564\n",
      "\n",
      "    accuracy                           0.21     18904\n",
      "   macro avg       0.29      0.25      0.10     18904\n",
      "weighted avg       0.30      0.21      0.09     18904\n",
      "\n"
     ]
    }
   ],
   "source": [
    "print(classification_report(y_train_s,y_pred_svm_train))"
   ]
  },
  {
   "cell_type": "code",
   "execution_count": 27,
   "metadata": {},
   "outputs": [
    {
     "data": {
      "image/png": "[encoded data removed]",
      "text/plain": [
       "<Figure size 432x288 with 2 Axes>"
      ]
     },
     "metadata": {
      "needs_background": "light"
     },
     "output_type": "display_data"
    }
   ],
   "source": [
    "# Confusion Matrix\n",
    "confusion_matrix_c(y_train_s, y_pred_svm_train)"
   ]
  },
  {
   "cell_type": "code",
   "execution_count": 28,
   "metadata": {
    "code_folding": []
   },
   "outputs": [
    {
     "name": "stdout",
     "output_type": "stream",
     "text": [
      "Misclassified samples: 14892\n",
      "Accuracy: 0.21\n",
      "F1-Score: 0.10\n"
     ]
    }
   ],
   "source": [
    "# how did our model perform?\n",
    "count_misclassified = (y_train_s != y_pred_svm_train).sum()\n",
    "print('Misclassified samples: {}'.format(count_misclassified))\n",
    "accuracy = accuracy_score(y_train_s, y_pred_svm_train)\n",
    "print('Accuracy: {:.2f}'.format(accuracy))\n",
    "f1=f1_score(y_train_s, y_pred_svm_train, average='macro')\n",
    "print('F1-Score: {:.2f}'.format(f1))"
   ]
  },
  {
   "cell_type": "markdown",
   "metadata": {},
   "source": [
    "#### Test Set"
   ]
  },
  {
   "cell_type": "code",
   "execution_count": 29,
   "metadata": {},
   "outputs": [
    {
     "name": "stdout",
     "output_type": "stream",
     "text": [
      "              precision    recall  f1-score   support\n",
      "\n",
      "           1       0.29      0.00      0.00      1640\n",
      "           2       0.31      0.03      0.05      3274\n",
      "           3       0.21      0.98      0.34      1661\n",
      "           4       0.00      0.00      0.00      1527\n",
      "\n",
      "    accuracy                           0.21      8102\n",
      "   macro avg       0.20      0.25      0.10      8102\n",
      "weighted avg       0.22      0.21      0.09      8102\n",
      "\n"
     ]
    }
   ],
   "source": [
    "print(classification_report(y_test_s,y_pred_svm_test))"
   ]
  },
  {
   "cell_type": "code",
   "execution_count": 30,
   "metadata": {},
   "outputs": [
    {
     "data": {
      "image/png": "[encoded data removed]",
      "text/plain": [
       "<Figure size 432x288 with 2 Axes>"
      ]
     },
     "metadata": {
      "needs_background": "light"
     },
     "output_type": "display_data"
    }
   ],
   "source": [
    "# Confusion Matrix\n",
    "confusion_matrix_c(y_test_s, y_pred_svm_test)"
   ]
  },
  {
   "cell_type": "code",
   "execution_count": 31,
   "metadata": {
    "code_folding": [],
    "scrolled": true
   },
   "outputs": [
    {
     "name": "stdout",
     "output_type": "stream",
     "text": [
      "Misclassified samples: 6392\n",
      "Accuracy: 0.21\n",
      "F1-Score: 0.10\n"
     ]
    }
   ],
   "source": [
    "# how did our model perform?\n",
    "count_misclassified = (y_test_s != y_pred_svm_test).sum()\n",
    "print('Misclassified samples: {}'.format(count_misclassified))\n",
    "accuracy = accuracy_score(y_test_s, y_pred_svm_test)\n",
    "print('Accuracy: {:.2f}'.format(accuracy))\n",
    "f1=f1_score(y_test_s, y_pred_svm_test, average='macro')\n",
    "print('F1-Score: {:.2f}'.format(f1))"
   ]
  },
  {
   "cell_type": "markdown",
   "metadata": {},
   "source": [
    "### KNN Classifier"
   ]
  },
  {
   "cell_type": "code",
   "execution_count": 32,
   "metadata": {},
   "outputs": [
    {
     "data": {
      "text/plain": [
       "KNeighborsClassifier(algorithm='auto', leaf_size=30, metric='minkowski',\n",
       "                     metric_params=None, n_jobs=None, n_neighbors=5, p=2,\n",
       "                     weights='uniform')"
      ]
     },
     "execution_count": 32,
     "metadata": {},
     "output_type": "execute_result"
    }
   ],
   "source": [
    "## Fitting KNN to the Training set\n",
    "knn_s = KNeighborsClassifier()\n",
    "knn_s.fit(X_train_s,y_train_s)"
   ]
  },
  {
   "cell_type": "code",
   "execution_count": 33,
   "metadata": {},
   "outputs": [],
   "source": [
    "# Predicting the Train and Test set results\n",
    "y_pred_knn_train= knn_s.predict(X_train_s)\n",
    "y_pred_knn_test= knn_s.predict(X_test_s)"
   ]
  },
  {
   "cell_type": "markdown",
   "metadata": {},
   "source": [
    "#### Train Set"
   ]
  },
  {
   "cell_type": "code",
   "execution_count": 34,
   "metadata": {},
   "outputs": [
    {
     "name": "stdout",
     "output_type": "stream",
     "text": [
      "              precision    recall  f1-score   support\n",
      "\n",
      "           1       0.65      0.59      0.62      3827\n",
      "           2       0.62      0.91      0.74      7638\n",
      "           3       0.67      0.41      0.51      3875\n",
      "           4       0.67      0.33      0.44      3564\n",
      "\n",
      "    accuracy                           0.63     18904\n",
      "   macro avg       0.65      0.56      0.58     18904\n",
      "weighted avg       0.64      0.63      0.61     18904\n",
      "\n"
     ]
    }
   ],
   "source": [
    "print(classification_report(y_train_s,y_pred_knn_train))"
   ]
  },
  {
   "cell_type": "code",
   "execution_count": 35,
   "metadata": {},
   "outputs": [
    {
     "data": {
      "image/png": "[encoded data removed]",
      "text/plain": [
       "<Figure size 432x288 with 2 Axes>"
      ]
     },
     "metadata": {
      "needs_background": "light"
     },
     "output_type": "display_data"
    }
   ],
   "source": [
    "# Confusion Matrix\n",
    "confusion_matrix_c(y_train_s, y_pred_knn_train)"
   ]
  },
  {
   "cell_type": "code",
   "execution_count": 36,
   "metadata": {
    "code_folding": []
   },
   "outputs": [
    {
     "name": "stdout",
     "output_type": "stream",
     "text": [
      "Misclassified samples: 6902\n",
      "Accuracy: 0.63\n",
      "F1-Score: 0.58\n"
     ]
    }
   ],
   "source": [
    "# how did our model perform?\n",
    "count_misclassified = (y_train_s != y_pred_knn_train).sum()\n",
    "print('Misclassified samples: {}'.format(count_misclassified))\n",
    "accuracy = accuracy_score(y_train_s, y_pred_knn_train)\n",
    "print('Accuracy: {:.2f}'.format(accuracy))\n",
    "f1=f1_score(y_train_s, y_pred_knn_train, average='macro')\n",
    "print('F1-Score: {:.2f}'.format(f1))"
   ]
  },
  {
   "cell_type": "markdown",
   "metadata": {},
   "source": [
    "#### Test Set"
   ]
  },
  {
   "cell_type": "code",
   "execution_count": 37,
   "metadata": {},
   "outputs": [
    {
     "name": "stdout",
     "output_type": "stream",
     "text": [
      "              precision    recall  f1-score   support\n",
      "\n",
      "           1       0.43      0.37      0.40      1640\n",
      "           2       0.53      0.81      0.64      3274\n",
      "           3       0.48      0.27      0.34      1661\n",
      "           4       0.38      0.19      0.25      1527\n",
      "\n",
      "    accuracy                           0.49      8102\n",
      "   macro avg       0.46      0.41      0.41      8102\n",
      "weighted avg       0.47      0.49      0.46      8102\n",
      "\n"
     ]
    }
   ],
   "source": [
    "print(classification_report(y_test_s,y_pred_knn_test))"
   ]
  },
  {
   "cell_type": "code",
   "execution_count": 38,
   "metadata": {},
   "outputs": [
    {
     "data": {
      "image/png": "[encoded data removed]",
      "text/plain": [
       "<Figure size 432x288 with 2 Axes>"
      ]
     },
     "metadata": {
      "needs_background": "light"
     },
     "output_type": "display_data"
    }
   ],
   "source": [
    "# Confusion Matrix\n",
    "confusion_matrix_c(y_test_s, y_pred_knn_test)"
   ]
  },
  {
   "cell_type": "code",
   "execution_count": 39,
   "metadata": {
    "code_folding": [],
    "scrolled": true
   },
   "outputs": [
    {
     "name": "stdout",
     "output_type": "stream",
     "text": [
      "Misclassified samples: 4096\n",
      "Accuracy: 0.49\n",
      "F1-Score: 0.41\n"
     ]
    }
   ],
   "source": [
    "# how did our model perform?\n",
    "count_misclassified = (y_test_s != y_pred_knn_test).sum()\n",
    "print('Misclassified samples: {}'.format(count_misclassified))\n",
    "accuracy = accuracy_score(y_test_s, y_pred_knn_test)\n",
    "print('Accuracy: {:.2f}'.format(accuracy))\n",
    "f1=f1_score(y_test_s, y_pred_knn_test, average='macro')\n",
    "print('F1-Score: {:.2f}'.format(f1))"
   ]
  },
  {
   "cell_type": "markdown",
   "metadata": {},
   "source": [
    "### Decision Tree Classifier"
   ]
  },
  {
   "cell_type": "code",
   "execution_count": 40,
   "metadata": {},
   "outputs": [
    {
     "data": {
      "text/plain": [
       "DecisionTreeClassifier(class_weight=None, criterion='gini', max_depth=None,\n",
       "                       max_features=None, max_leaf_nodes=None,\n",
       "                       min_impurity_decrease=0.0, min_impurity_split=None,\n",
       "                       min_samples_leaf=1, min_samples_split=2,\n",
       "                       min_weight_fraction_leaf=0.0, presort=False,\n",
       "                       random_state=None, splitter='best')"
      ]
     },
     "execution_count": 40,
     "metadata": {},
     "output_type": "execute_result"
    }
   ],
   "source": [
    "# Fitting DecisionTree to the Training set\n",
    "dt_s = DecisionTreeClassifier()\n",
    "dt_s.fit(X_train_s,y_train_s)"
   ]
  },
  {
   "cell_type": "code",
   "execution_count": 41,
   "metadata": {},
   "outputs": [],
   "source": [
    "# Predicting the Train and Test set results\n",
    "y_pred_dt_train= dt_s.predict(X_train_s)\n",
    "y_pred_dt_test= dt_s.predict(X_test_s)"
   ]
  },
  {
   "cell_type": "markdown",
   "metadata": {},
   "source": [
    "#### Train Set"
   ]
  },
  {
   "cell_type": "code",
   "execution_count": 42,
   "metadata": {},
   "outputs": [
    {
     "name": "stdout",
     "output_type": "stream",
     "text": [
      "              precision    recall  f1-score   support\n",
      "\n",
      "           1       1.00      1.00      1.00      3827\n",
      "           2       1.00      1.00      1.00      7638\n",
      "           3       1.00      1.00      1.00      3875\n",
      "           4       1.00      1.00      1.00      3564\n",
      "\n",
      "    accuracy                           1.00     18904\n",
      "   macro avg       1.00      1.00      1.00     18904\n",
      "weighted avg       1.00      1.00      1.00     18904\n",
      "\n"
     ]
    }
   ],
   "source": [
    "print(classification_report(y_train_s,y_pred_dt_train))"
   ]
  },
  {
   "cell_type": "code",
   "execution_count": 43,
   "metadata": {},
   "outputs": [
    {
     "data": {
      "image/png": "[encoded data removed]",
      "text/plain": [
       "<Figure size 432x288 with 2 Axes>"
      ]
     },
     "metadata": {
      "needs_background": "light"
     },
     "output_type": "display_data"
    }
   ],
   "source": [
    "# Confusion Matrix\n",
    "confusion_matrix_c(y_train_s, y_pred_dt_train)"
   ]
  },
  {
   "cell_type": "code",
   "execution_count": 44,
   "metadata": {
    "code_folding": []
   },
   "outputs": [
    {
     "name": "stdout",
     "output_type": "stream",
     "text": [
      "Misclassified samples: 0\n",
      "Accuracy: 1.00\n",
      "F1-Score: 1.00\n"
     ]
    }
   ],
   "source": [
    "# how did our model perform?\n",
    "count_misclassified = (y_train_s != y_pred_dt_train).sum()\n",
    "print('Misclassified samples: {}'.format(count_misclassified))\n",
    "accuracy = accuracy_score(y_train_s, y_pred_dt_train)\n",
    "print('Accuracy: {:.2f}'.format(accuracy))\n",
    "f1=f1_score(y_train_s, y_pred_dt_train, average='macro')\n",
    "print('F1-Score: {:.2f}'.format(f1))"
   ]
  },
  {
   "cell_type": "markdown",
   "metadata": {},
   "source": [
    "#### Test Set"
   ]
  },
  {
   "cell_type": "code",
   "execution_count": 45,
   "metadata": {},
   "outputs": [
    {
     "name": "stdout",
     "output_type": "stream",
     "text": [
      "              precision    recall  f1-score   support\n",
      "\n",
      "           1       0.49      0.50      0.49      1640\n",
      "           2       0.80      0.76      0.78      3274\n",
      "           3       0.46      0.47      0.47      1661\n",
      "           4       0.52      0.55      0.54      1527\n",
      "\n",
      "    accuracy                           0.61      8102\n",
      "   macro avg       0.57      0.57      0.57      8102\n",
      "weighted avg       0.61      0.61      0.61      8102\n",
      "\n"
     ]
    }
   ],
   "source": [
    "print(classification_report(y_test_s,y_pred_dt_test))"
   ]
  },
  {
   "cell_type": "code",
   "execution_count": 46,
   "metadata": {},
   "outputs": [
    {
     "data": {
      "image/png": "[encoded data removed]",
      "text/plain": [
       "<Figure size 432x288 with 2 Axes>"
      ]
     },
     "metadata": {
      "needs_background": "light"
     },
     "output_type": "display_data"
    }
   ],
   "source": [
    "# Confusion Matrix\n",
    "confusion_matrix_c(y_test_s, y_pred_dt_test)"
   ]
  },
  {
   "cell_type": "code",
   "execution_count": 47,
   "metadata": {
    "code_folding": [],
    "scrolled": true
   },
   "outputs": [
    {
     "name": "stdout",
     "output_type": "stream",
     "text": [
      "Misclassified samples: 3165\n",
      "Accuracy: 0.61\n",
      "F1-Score: 0.57\n"
     ]
    }
   ],
   "source": [
    "# how did our model perform?\n",
    "count_misclassified = (y_test_s != y_pred_dt_test).sum()\n",
    "print('Misclassified samples: {}'.format(count_misclassified))\n",
    "accuracy = accuracy_score(y_test_s, y_pred_dt_test)\n",
    "print('Accuracy: {:.2f}'.format(accuracy))\n",
    "f1=f1_score(y_test_s, y_pred_dt_test, average='macro')\n",
    "print('F1-Score: {:.2f}'.format(f1))"
   ]
  },
  {
   "cell_type": "markdown",
   "metadata": {},
   "source": [
    "### Random Forest Classifier"
   ]
  },
  {
   "cell_type": "code",
   "execution_count": 48,
   "metadata": {},
   "outputs": [
    {
     "data": {
      "text/plain": [
       "RandomForestClassifier(bootstrap=True, class_weight=None, criterion='gini',\n",
       "                       max_depth=None, max_features='auto', max_leaf_nodes=None,\n",
       "                       min_impurity_decrease=0.0, min_impurity_split=None,\n",
       "                       min_samples_leaf=1, min_samples_split=2,\n",
       "                       min_weight_fraction_leaf=0.0, n_estimators=10,\n",
       "                       n_jobs=None, oob_score=False, random_state=42, verbose=0,\n",
       "                       warm_start=False)"
      ]
     },
     "execution_count": 48,
     "metadata": {},
     "output_type": "execute_result"
    }
   ],
   "source": [
    "from sklearn.model_selection import RandomizedSearchCV\n",
    "# GridSearchCV\n",
    "# param_grid={'max_depth':range(1,15,2),\n",
    "#             'n_estimators':[125,250],\n",
    "#             'max_features':range(1,15,2)}\n",
    "rf_s=RandomForestClassifier(random_state=42)\n",
    "rf_s.fit(X_train_s,y_train_s)\n",
    "# dt_cv=RandomizedSearchCV(dt_g,param_grid,cv=10,scoring='f1_macro',n_jobs=-1)\n",
    "# dt_cv.fit(X_train_s,y_train_s)\n",
    "\n",
    "# print(\"Best parameters:\",dt_cv.best_params_)\n",
    "# print(\"Accuracy :\",dt_cv.best_score_)"
   ]
  },
  {
   "cell_type": "code",
   "execution_count": 49,
   "metadata": {
    "scrolled": true
   },
   "outputs": [],
   "source": [
    "# # Fitting Logistic Regression to the Training set\n",
    "# rf_s = RandomForestClassifier(max_depth=,max_features=,n_estimators=,random_state=42)\n",
    "# rf_s.fit(X_train,y_train)"
   ]
  },
  {
   "cell_type": "code",
   "execution_count": 50,
   "metadata": {},
   "outputs": [],
   "source": [
    "# Predicting the Train and Test set results\n",
    "y_pred_rf_train= rf_s.predict(X_train_s)\n",
    "y_pred_rf_test= rf_s.predict(X_test_s)"
   ]
  },
  {
   "cell_type": "markdown",
   "metadata": {},
   "source": [
    "#### Train Set"
   ]
  },
  {
   "cell_type": "code",
   "execution_count": 51,
   "metadata": {},
   "outputs": [
    {
     "name": "stdout",
     "output_type": "stream",
     "text": [
      "              precision    recall  f1-score   support\n",
      "\n",
      "           1       0.98      0.98      0.98      3827\n",
      "           2       0.98      1.00      0.99      7638\n",
      "           3       0.99      0.97      0.98      3875\n",
      "           4       0.99      0.97      0.98      3564\n",
      "\n",
      "    accuracy                           0.99     18904\n",
      "   macro avg       0.99      0.98      0.98     18904\n",
      "weighted avg       0.99      0.99      0.99     18904\n",
      "\n"
     ]
    }
   ],
   "source": [
    "print(classification_report(y_train_s,y_pred_rf_train))"
   ]
  },
  {
   "cell_type": "code",
   "execution_count": 52,
   "metadata": {},
   "outputs": [
    {
     "data": {
      "image/png": "[encoded data removed]",
      "text/plain": [
       "<Figure size 432x288 with 2 Axes>"
      ]
     },
     "metadata": {
      "needs_background": "light"
     },
     "output_type": "display_data"
    }
   ],
   "source": [
    "# Confusion Matrix\n",
    "confusion_matrix_c(y_train_s, y_pred_rf_train)"
   ]
  },
  {
   "cell_type": "code",
   "execution_count": 53,
   "metadata": {
    "code_folding": []
   },
   "outputs": [
    {
     "name": "stdout",
     "output_type": "stream",
     "text": [
      "Misclassified samples: 279\n",
      "Accuracy: 0.99\n",
      "F1-Score: 0.98\n"
     ]
    }
   ],
   "source": [
    "# how did our model perform?\n",
    "count_misclassified = (y_train_s != y_pred_rf_train).sum()\n",
    "print('Misclassified samples: {}'.format(count_misclassified))\n",
    "accuracy = accuracy_score(y_train_s, y_pred_rf_train)\n",
    "print('Accuracy: {:.2f}'.format(accuracy))\n",
    "f1=f1_score(y_train_s, y_pred_rf_train, average='macro')\n",
    "print('F1-Score: {:.2f}'.format(f1))"
   ]
  },
  {
   "cell_type": "markdown",
   "metadata": {},
   "source": [
    "#### Test Set"
   ]
  },
  {
   "cell_type": "code",
   "execution_count": 54,
   "metadata": {},
   "outputs": [
    {
     "name": "stdout",
     "output_type": "stream",
     "text": [
      "              precision    recall  f1-score   support\n",
      "\n",
      "           1       0.58      0.55      0.57      1640\n",
      "           2       0.76      0.91      0.83      3274\n",
      "           3       0.58      0.46      0.51      1661\n",
      "           4       0.60      0.52      0.56      1527\n",
      "\n",
      "    accuracy                           0.67      8102\n",
      "   macro avg       0.63      0.61      0.62      8102\n",
      "weighted avg       0.66      0.67      0.66      8102\n",
      "\n"
     ]
    }
   ],
   "source": [
    "print(classification_report(y_test_s,y_pred_rf_test))"
   ]
  },
  {
   "cell_type": "code",
   "execution_count": 55,
   "metadata": {},
   "outputs": [
    {
     "data": {
      "image/png": "[encoded data removed]",
      "text/plain": [
       "<Figure size 432x288 with 2 Axes>"
      ]
     },
     "metadata": {
      "needs_background": "light"
     },
     "output_type": "display_data"
    }
   ],
   "source": [
    "# Confusion Matrix\n",
    "confusion_matrix_c(y_test_s, y_pred_rf_test)"
   ]
  },
  {
   "cell_type": "code",
   "execution_count": 56,
   "metadata": {
    "code_folding": [],
    "scrolled": false
   },
   "outputs": [
    {
     "name": "stdout",
     "output_type": "stream",
     "text": [
      "Misclassified samples: 2662\n",
      "Accuracy: 0.67\n",
      "F1-Score: 0.62\n"
     ]
    }
   ],
   "source": [
    "# how did our model perform?\n",
    "count_misclassified = (y_test_s != y_pred_rf_test).sum()\n",
    "print('Misclassified samples: {}'.format(count_misclassified))\n",
    "accuracy = accuracy_score(y_test_s, y_pred_rf_test)\n",
    "print('Accuracy: {:.2f}'.format(accuracy))\n",
    "f1=f1_score(y_test_s, y_pred_rf_test, average='macro')\n",
    "print('F1-Score: {:.2f}'.format(f1))"
   ]
  },
  {
   "cell_type": "markdown",
   "metadata": {},
   "source": [
    "###  Fitting on Whole Dataset and Saving Model"
   ]
  },
  {
   "cell_type": "code",
   "execution_count": 57,
   "metadata": {},
   "outputs": [
    {
     "data": {
      "text/plain": [
       "RandomForestClassifier(bootstrap=True, class_weight=None, criterion='gini',\n",
       "                       max_depth=None, max_features='auto', max_leaf_nodes=None,\n",
       "                       min_impurity_decrease=0.0, min_impurity_split=None,\n",
       "                       min_samples_leaf=1, min_samples_split=2,\n",
       "                       min_weight_fraction_leaf=0.0, n_estimators=10,\n",
       "                       n_jobs=None, oob_score=False, random_state=42, verbose=0,\n",
       "                       warm_start=False)"
      ]
     },
     "execution_count": 57,
     "metadata": {},
     "output_type": "execute_result"
    }
   ],
   "source": [
    "rf_s=RandomForestClassifier(random_state=42)\n",
    "rf_s.fit(X,y)"
   ]
  },
  {
   "cell_type": "markdown",
   "metadata": {},
   "source": [
    "# Saving Model"
   ]
  },
  {
   "cell_type": "code",
   "execution_count": 58,
   "metadata": {},
   "outputs": [],
   "source": [
    "import pickle\n",
    "# Save to file \n",
    "pkl_filename = \"rf_s_model.pkl\"\n",
    "with open(pkl_filename, 'wb') as file:\n",
    "    pickle.dump(rf_s, file)"
   ]
  },
  {
   "cell_type": "markdown",
   "metadata": {},
   "source": [
    "## Just Checking "
   ]
  },
  {
   "cell_type": "markdown",
   "metadata": {},
   "source": [
    "### Xgboost Classifier"
   ]
  },
  {
   "cell_type": "code",
   "execution_count": 59,
   "metadata": {},
   "outputs": [
    {
     "data": {
      "text/plain": [
       "XGBClassifier(base_score=0.5, booster='gbtree', colsample_bylevel=1,\n",
       "              colsample_bytree=1, gamma=0, learning_rate=0.1, max_delta_step=0,\n",
       "              max_depth=3, min_child_weight=1, missing=None, n_estimators=100,\n",
       "              n_jobs=1, nthread=None, objective='multi:softprob',\n",
       "              random_state=42, reg_alpha=0, reg_lambda=1, scale_pos_weight=1,\n",
       "              seed=None, silent=True, subsample=1)"
      ]
     },
     "execution_count": 59,
     "metadata": {},
     "output_type": "execute_result"
    }
   ],
   "source": [
    "xgb_s=XGBClassifier(random_state=42)\n",
    "xgb_s.fit(X_train_s,y_train_s)"
   ]
  },
  {
   "cell_type": "code",
   "execution_count": 60,
   "metadata": {},
   "outputs": [],
   "source": [
    "# Predicting the Train and Test set results\n",
    "y_pred_xgb_train= xgb_s.predict(X_train_s)\n",
    "y_pred_xgb_test= xgb_s.predict(X_test_s)"
   ]
  },
  {
   "cell_type": "markdown",
   "metadata": {},
   "source": [
    "### Train Set"
   ]
  },
  {
   "cell_type": "code",
   "execution_count": 61,
   "metadata": {},
   "outputs": [
    {
     "name": "stdout",
     "output_type": "stream",
     "text": [
      "              precision    recall  f1-score   support\n",
      "\n",
      "           1       0.72      0.47      0.57      3827\n",
      "           2       0.65      0.95      0.77      7638\n",
      "           3       0.60      0.46      0.52      3875\n",
      "           4       0.62      0.39      0.48      3564\n",
      "\n",
      "    accuracy                           0.65     18904\n",
      "   macro avg       0.65      0.57      0.58     18904\n",
      "weighted avg       0.65      0.65      0.62     18904\n",
      "\n"
     ]
    }
   ],
   "source": [
    "print(classification_report(y_train_s,y_pred_xgb_train))"
   ]
  },
  {
   "cell_type": "code",
   "execution_count": 62,
   "metadata": {},
   "outputs": [
    {
     "data": {
      "image/png": "[encoded data removed]",
      "text/plain": [
       "<Figure size 432x288 with 2 Axes>"
      ]
     },
     "metadata": {
      "needs_background": "light"
     },
     "output_type": "display_data"
    }
   ],
   "source": [
    "# Confusion Matrix\n",
    "confusion_matrix_c(y_train_s, y_pred_xgb_train)"
   ]
  },
  {
   "cell_type": "code",
   "execution_count": 63,
   "metadata": {
    "code_folding": []
   },
   "outputs": [
    {
     "name": "stdout",
     "output_type": "stream",
     "text": [
      "Misclassified samples: 6659\n",
      "Accuracy: 0.65\n",
      "F1-Score: 0.58\n"
     ]
    }
   ],
   "source": [
    "# how did our model perform?\n",
    "count_misclassified = (y_train_s != y_pred_xgb_train).sum()\n",
    "print('Misclassified samples: {}'.format(count_misclassified))\n",
    "accuracy = accuracy_score(y_train_s, y_pred_xgb_train)\n",
    "print('Accuracy: {:.2f}'.format(accuracy))\n",
    "f1=f1_score(y_train_s, y_pred_xgb_train, average='macro')\n",
    "print('F1-Score: {:.2f}'.format(f1))"
   ]
  },
  {
   "cell_type": "markdown",
   "metadata": {},
   "source": [
    "### Test Set"
   ]
  },
  {
   "cell_type": "code",
   "execution_count": 64,
   "metadata": {},
   "outputs": [
    {
     "name": "stdout",
     "output_type": "stream",
     "text": [
      "              precision    recall  f1-score   support\n",
      "\n",
      "           1       0.70      0.46      0.55      1640\n",
      "           2       0.65      0.94      0.77      3274\n",
      "           3       0.57      0.44      0.50      1661\n",
      "           4       0.58      0.38      0.46      1527\n",
      "\n",
      "    accuracy                           0.64      8102\n",
      "   macro avg       0.63      0.55      0.57      8102\n",
      "weighted avg       0.63      0.64      0.61      8102\n",
      "\n"
     ]
    }
   ],
   "source": [
    "print(classification_report(y_test_s,y_pred_xgb_test))"
   ]
  },
  {
   "cell_type": "code",
   "execution_count": 65,
   "metadata": {},
   "outputs": [
    {
     "data": {
      "image/png": "[encoded data removed]",
      "text/plain": [
       "<Figure size 432x288 with 2 Axes>"
      ]
     },
     "metadata": {
      "needs_background": "light"
     },
     "output_type": "display_data"
    }
   ],
   "source": [
    "# Confusion Matrix\n",
    "confusion_matrix_c(y_test_s, y_pred_xgb_test)"
   ]
  },
  {
   "cell_type": "code",
   "execution_count": 66,
   "metadata": {
    "code_folding": [],
    "scrolled": true
   },
   "outputs": [
    {
     "name": "stdout",
     "output_type": "stream",
     "text": [
      "Misclassified samples: 2957\n",
      "Accuracy: 0.64\n",
      "F1-Score: 0.57\n"
     ]
    }
   ],
   "source": [
    "# how did our model perform?\n",
    "count_misclassified = (y_test_s != y_pred_xgb_test).sum()\n",
    "print('Misclassified samples: {}'.format(count_misclassified))\n",
    "accuracy = accuracy_score(y_test_s, y_pred_xgb_test)\n",
    "print('Accuracy: {:.2f}'.format(accuracy))\n",
    "f1=f1_score(y_test_s, y_pred_xgb_test, average='macro')\n",
    "print('F1-Score: {:.2f}'.format(f1))"
   ]
  },
  {
   "cell_type": "markdown",
   "metadata": {},
   "source": [
    "## Fin"
   ]
  },
  {
   "cell_type": "markdown",
   "metadata": {},
   "source": [
    "# Testing Model"
   ]
  },
  {
   "cell_type": "code",
   "execution_count": 2,
   "metadata": {},
   "outputs": [],
   "source": [
    "smf=pd.read_csv('smf_cleaned_test.csv')"
   ]
  },
  {
   "cell_type": "markdown",
   "metadata": {},
   "source": [
    "## Data Exploration"
   ]
  },
  {
   "cell_type": "code",
   "execution_count": 3,
   "metadata": {},
   "outputs": [
    {
     "data": {
      "text/html": [
       "<div>\n",
       "<style scoped>\n",
       "    .dataframe tbody tr th:only-of-type {\n",
       "        vertical-align: middle;\n",
       "    }\n",
       "\n",
       "    .dataframe tbody tr th {\n",
       "        vertical-align: top;\n",
       "    }\n",
       "\n",
       "    .dataframe thead th {\n",
       "        text-align: right;\n",
       "    }\n",
       "</style>\n",
       "<table border=\"1\" class=\"dataframe\">\n",
       "  <thead>\n",
       "    <tr style=\"text-align: right;\">\n",
       "      <th></th>\n",
       "      <th>Id</th>\n",
       "      <th>date</th>\n",
       "      <th>ticker</th>\n",
       "      <th>SF1</th>\n",
       "      <th>SF2</th>\n",
       "      <th>SF3</th>\n",
       "      <th>SF4</th>\n",
       "      <th>SF5</th>\n",
       "      <th>SF6</th>\n",
       "      <th>SF7</th>\n",
       "      <th>Month</th>\n",
       "      <th>Day</th>\n",
       "      <th>WeekDay</th>\n",
       "      <th>WeekNumber</th>\n",
       "    </tr>\n",
       "  </thead>\n",
       "  <tbody>\n",
       "    <tr>\n",
       "      <th>0</th>\n",
       "      <td>270007</td>\n",
       "      <td>2018-07-21</td>\n",
       "      <td>INTC</td>\n",
       "      <td>-3.062194</td>\n",
       "      <td>1.223466</td>\n",
       "      <td>1.741714</td>\n",
       "      <td>2.279266</td>\n",
       "      <td>-1.323573</td>\n",
       "      <td>-0.274912</td>\n",
       "      <td>-4.504449</td>\n",
       "      <td>7</td>\n",
       "      <td>21</td>\n",
       "      <td>5</td>\n",
       "      <td>29</td>\n",
       "    </tr>\n",
       "    <tr>\n",
       "      <th>1</th>\n",
       "      <td>270008</td>\n",
       "      <td>2018-10-05</td>\n",
       "      <td>CTSH</td>\n",
       "      <td>0.816263</td>\n",
       "      <td>-2.184408</td>\n",
       "      <td>0.157975</td>\n",
       "      <td>-0.264743</td>\n",
       "      <td>-0.836282</td>\n",
       "      <td>0.046276</td>\n",
       "      <td>0.826353</td>\n",
       "      <td>10</td>\n",
       "      <td>5</td>\n",
       "      <td>4</td>\n",
       "      <td>40</td>\n",
       "    </tr>\n",
       "    <tr>\n",
       "      <th>2</th>\n",
       "      <td>270009</td>\n",
       "      <td>2018-10-01</td>\n",
       "      <td>CB</td>\n",
       "      <td>0.401281</td>\n",
       "      <td>0.091604</td>\n",
       "      <td>0.083411</td>\n",
       "      <td>-1.147041</td>\n",
       "      <td>-0.485223</td>\n",
       "      <td>-0.601060</td>\n",
       "      <td>1.012811</td>\n",
       "      <td>10</td>\n",
       "      <td>1</td>\n",
       "      <td>0</td>\n",
       "      <td>40</td>\n",
       "    </tr>\n",
       "    <tr>\n",
       "      <th>3</th>\n",
       "      <td>270010</td>\n",
       "      <td>2018-10-24</td>\n",
       "      <td>CTAS</td>\n",
       "      <td>-0.783521</td>\n",
       "      <td>1.192929</td>\n",
       "      <td>0.813831</td>\n",
       "      <td>-0.368166</td>\n",
       "      <td>-1.113656</td>\n",
       "      <td>-0.553581</td>\n",
       "      <td>-0.683803</td>\n",
       "      <td>10</td>\n",
       "      <td>24</td>\n",
       "      <td>2</td>\n",
       "      <td>43</td>\n",
       "    </tr>\n",
       "    <tr>\n",
       "      <th>4</th>\n",
       "      <td>270011</td>\n",
       "      <td>2018-07-27</td>\n",
       "      <td>INTC</td>\n",
       "      <td>0.796507</td>\n",
       "      <td>0.455341</td>\n",
       "      <td>0.679032</td>\n",
       "      <td>0.354336</td>\n",
       "      <td>-1.799055</td>\n",
       "      <td>0.126153</td>\n",
       "      <td>0.297111</td>\n",
       "      <td>7</td>\n",
       "      <td>27</td>\n",
       "      <td>4</td>\n",
       "      <td>30</td>\n",
       "    </tr>\n",
       "  </tbody>\n",
       "</table>\n",
       "</div>"
      ],
      "text/plain": [
       "       Id        date ticker       SF1       SF2       SF3       SF4  \\\n",
       "0  270007  2018-07-21   INTC -3.062194  1.223466  1.741714  2.279266   \n",
       "1  270008  2018-10-05   CTSH  0.816263 -2.184408  0.157975 -0.264743   \n",
       "2  270009  2018-10-01     CB  0.401281  0.091604  0.083411 -1.147041   \n",
       "3  270010  2018-10-24   CTAS -0.783521  1.192929  0.813831 -0.368166   \n",
       "4  270011  2018-07-27   INTC  0.796507  0.455341  0.679032  0.354336   \n",
       "\n",
       "        SF5       SF6       SF7  Month  Day  WeekDay  WeekNumber  \n",
       "0 -1.323573 -0.274912 -4.504449      7   21        5          29  \n",
       "1 -0.836282  0.046276  0.826353     10    5        4          40  \n",
       "2 -0.485223 -0.601060  1.012811     10    1        0          40  \n",
       "3 -1.113656 -0.553581 -0.683803     10   24        2          43  \n",
       "4 -1.799055  0.126153  0.297111      7   27        4          30  "
      ]
     },
     "execution_count": 3,
     "metadata": {},
     "output_type": "execute_result"
    }
   ],
   "source": [
    "smf.head()"
   ]
  },
  {
   "cell_type": "code",
   "execution_count": 4,
   "metadata": {},
   "outputs": [
    {
     "name": "stdout",
     "output_type": "stream",
     "text": [
      "<class 'pandas.core.frame.DataFrame'>\n",
      "RangeIndex: 11575 entries, 0 to 11574\n",
      "Data columns (total 14 columns):\n",
      "Id            11575 non-null int64\n",
      "date          11575 non-null object\n",
      "ticker        11575 non-null object\n",
      "SF1           11575 non-null float64\n",
      "SF2           11575 non-null float64\n",
      "SF3           11575 non-null float64\n",
      "SF4           11575 non-null float64\n",
      "SF5           11575 non-null float64\n",
      "SF6           11575 non-null float64\n",
      "SF7           11575 non-null float64\n",
      "Month         11575 non-null int64\n",
      "Day           11575 non-null int64\n",
      "WeekDay       11575 non-null int64\n",
      "WeekNumber    11575 non-null int64\n",
      "dtypes: float64(7), int64(5), object(2)\n",
      "memory usage: 1.2+ MB\n"
     ]
    }
   ],
   "source": [
    "smf.info()"
   ]
  },
  {
   "cell_type": "markdown",
   "metadata": {},
   "source": [
    "## For Storing ID's"
   ]
  },
  {
   "cell_type": "code",
   "execution_count": 5,
   "metadata": {},
   "outputs": [],
   "source": [
    "df_i=smf.copy()"
   ]
  },
  {
   "cell_type": "code",
   "execution_count": 6,
   "metadata": {},
   "outputs": [],
   "source": [
    "X=smf.drop(['Id','date','ticker'],axis=1)\n",
    "# y=smf['alpha']"
   ]
  },
  {
   "cell_type": "code",
   "execution_count": 7,
   "metadata": {},
   "outputs": [
    {
     "data": {
      "text/html": [
       "<div>\n",
       "<style scoped>\n",
       "    .dataframe tbody tr th:only-of-type {\n",
       "        vertical-align: middle;\n",
       "    }\n",
       "\n",
       "    .dataframe tbody tr th {\n",
       "        vertical-align: top;\n",
       "    }\n",
       "\n",
       "    .dataframe thead th {\n",
       "        text-align: right;\n",
       "    }\n",
       "</style>\n",
       "<table border=\"1\" class=\"dataframe\">\n",
       "  <thead>\n",
       "    <tr style=\"text-align: right;\">\n",
       "      <th></th>\n",
       "      <th>SF1</th>\n",
       "      <th>SF2</th>\n",
       "      <th>SF3</th>\n",
       "      <th>SF4</th>\n",
       "      <th>SF5</th>\n",
       "      <th>SF6</th>\n",
       "      <th>SF7</th>\n",
       "      <th>Month</th>\n",
       "      <th>Day</th>\n",
       "      <th>WeekDay</th>\n",
       "      <th>WeekNumber</th>\n",
       "    </tr>\n",
       "  </thead>\n",
       "  <tbody>\n",
       "    <tr>\n",
       "      <th>0</th>\n",
       "      <td>-3.062194</td>\n",
       "      <td>1.223466</td>\n",
       "      <td>1.741714</td>\n",
       "      <td>2.279266</td>\n",
       "      <td>-1.323573</td>\n",
       "      <td>-0.274912</td>\n",
       "      <td>-4.504449</td>\n",
       "      <td>7</td>\n",
       "      <td>21</td>\n",
       "      <td>5</td>\n",
       "      <td>29</td>\n",
       "    </tr>\n",
       "    <tr>\n",
       "      <th>1</th>\n",
       "      <td>0.816263</td>\n",
       "      <td>-2.184408</td>\n",
       "      <td>0.157975</td>\n",
       "      <td>-0.264743</td>\n",
       "      <td>-0.836282</td>\n",
       "      <td>0.046276</td>\n",
       "      <td>0.826353</td>\n",
       "      <td>10</td>\n",
       "      <td>5</td>\n",
       "      <td>4</td>\n",
       "      <td>40</td>\n",
       "    </tr>\n",
       "    <tr>\n",
       "      <th>2</th>\n",
       "      <td>0.401281</td>\n",
       "      <td>0.091604</td>\n",
       "      <td>0.083411</td>\n",
       "      <td>-1.147041</td>\n",
       "      <td>-0.485223</td>\n",
       "      <td>-0.601060</td>\n",
       "      <td>1.012811</td>\n",
       "      <td>10</td>\n",
       "      <td>1</td>\n",
       "      <td>0</td>\n",
       "      <td>40</td>\n",
       "    </tr>\n",
       "    <tr>\n",
       "      <th>3</th>\n",
       "      <td>-0.783521</td>\n",
       "      <td>1.192929</td>\n",
       "      <td>0.813831</td>\n",
       "      <td>-0.368166</td>\n",
       "      <td>-1.113656</td>\n",
       "      <td>-0.553581</td>\n",
       "      <td>-0.683803</td>\n",
       "      <td>10</td>\n",
       "      <td>24</td>\n",
       "      <td>2</td>\n",
       "      <td>43</td>\n",
       "    </tr>\n",
       "    <tr>\n",
       "      <th>4</th>\n",
       "      <td>0.796507</td>\n",
       "      <td>0.455341</td>\n",
       "      <td>0.679032</td>\n",
       "      <td>0.354336</td>\n",
       "      <td>-1.799055</td>\n",
       "      <td>0.126153</td>\n",
       "      <td>0.297111</td>\n",
       "      <td>7</td>\n",
       "      <td>27</td>\n",
       "      <td>4</td>\n",
       "      <td>30</td>\n",
       "    </tr>\n",
       "  </tbody>\n",
       "</table>\n",
       "</div>"
      ],
      "text/plain": [
       "        SF1       SF2       SF3       SF4       SF5       SF6       SF7  \\\n",
       "0 -3.062194  1.223466  1.741714  2.279266 -1.323573 -0.274912 -4.504449   \n",
       "1  0.816263 -2.184408  0.157975 -0.264743 -0.836282  0.046276  0.826353   \n",
       "2  0.401281  0.091604  0.083411 -1.147041 -0.485223 -0.601060  1.012811   \n",
       "3 -0.783521  1.192929  0.813831 -0.368166 -1.113656 -0.553581 -0.683803   \n",
       "4  0.796507  0.455341  0.679032  0.354336 -1.799055  0.126153  0.297111   \n",
       "\n",
       "   Month  Day  WeekDay  WeekNumber  \n",
       "0      7   21        5          29  \n",
       "1     10    5        4          40  \n",
       "2     10    1        0          40  \n",
       "3     10   24        2          43  \n",
       "4      7   27        4          30  "
      ]
     },
     "execution_count": 7,
     "metadata": {},
     "output_type": "execute_result"
    }
   ],
   "source": [
    "X.head()"
   ]
  },
  {
   "cell_type": "markdown",
   "metadata": {},
   "source": [
    "## Simple Classification Model on SMF Data"
   ]
  },
  {
   "cell_type": "markdown",
   "metadata": {},
   "source": [
    "### Random Forest Classifier"
   ]
  },
  {
   "cell_type": "code",
   "execution_count": 8,
   "metadata": {},
   "outputs": [
    {
     "data": {
      "text/plain": [
       "0    270007\n",
       "1    270008\n",
       "2    270009\n",
       "3    270010\n",
       "4    270011\n",
       "Name: Id, dtype: int64"
      ]
     },
     "execution_count": 8,
     "metadata": {},
     "output_type": "execute_result"
    }
   ],
   "source": [
    "df_i['Id'].head()"
   ]
  },
  {
   "cell_type": "markdown",
   "metadata": {},
   "source": [
    "### Loading Saved Model"
   ]
  },
  {
   "cell_type": "code",
   "execution_count": 9,
   "metadata": {},
   "outputs": [],
   "source": [
    "import pickle\n",
    "# Load from file\n",
    "pkl_filename = \"rf_s_model.pkl\"\n",
    "with open(pkl_filename, 'rb') as file:\n",
    "    rf_s = pickle.load(file)"
   ]
  },
  {
   "cell_type": "code",
   "execution_count": 10,
   "metadata": {},
   "outputs": [],
   "source": [
    "# Predicting the Train and Test set results\n",
    "y_pred_rf_test= rf_s.predict(X)"
   ]
  },
  {
   "cell_type": "code",
   "execution_count": 11,
   "metadata": {},
   "outputs": [
    {
     "data": {
      "text/html": [
       "<div>\n",
       "<style scoped>\n",
       "    .dataframe tbody tr th:only-of-type {\n",
       "        vertical-align: middle;\n",
       "    }\n",
       "\n",
       "    .dataframe tbody tr th {\n",
       "        vertical-align: top;\n",
       "    }\n",
       "\n",
       "    .dataframe thead th {\n",
       "        text-align: right;\n",
       "    }\n",
       "</style>\n",
       "<table border=\"1\" class=\"dataframe\">\n",
       "  <thead>\n",
       "    <tr style=\"text-align: right;\">\n",
       "      <th></th>\n",
       "      <th>Id</th>\n",
       "      <th>alpha</th>\n",
       "    </tr>\n",
       "  </thead>\n",
       "  <tbody>\n",
       "    <tr>\n",
       "      <th>0</th>\n",
       "      <td>270007</td>\n",
       "      <td>4</td>\n",
       "    </tr>\n",
       "    <tr>\n",
       "      <th>1</th>\n",
       "      <td>270008</td>\n",
       "      <td>4</td>\n",
       "    </tr>\n",
       "    <tr>\n",
       "      <th>2</th>\n",
       "      <td>270009</td>\n",
       "      <td>2</td>\n",
       "    </tr>\n",
       "    <tr>\n",
       "      <th>3</th>\n",
       "      <td>270010</td>\n",
       "      <td>1</td>\n",
       "    </tr>\n",
       "    <tr>\n",
       "      <th>4</th>\n",
       "      <td>270011</td>\n",
       "      <td>3</td>\n",
       "    </tr>\n",
       "    <tr>\n",
       "      <th>5</th>\n",
       "      <td>270012</td>\n",
       "      <td>4</td>\n",
       "    </tr>\n",
       "    <tr>\n",
       "      <th>6</th>\n",
       "      <td>270013</td>\n",
       "      <td>4</td>\n",
       "    </tr>\n",
       "    <tr>\n",
       "      <th>7</th>\n",
       "      <td>270014</td>\n",
       "      <td>3</td>\n",
       "    </tr>\n",
       "    <tr>\n",
       "      <th>8</th>\n",
       "      <td>270015</td>\n",
       "      <td>4</td>\n",
       "    </tr>\n",
       "    <tr>\n",
       "      <th>9</th>\n",
       "      <td>270016</td>\n",
       "      <td>2</td>\n",
       "    </tr>\n",
       "  </tbody>\n",
       "</table>\n",
       "</div>"
      ],
      "text/plain": [
       "       Id  alpha\n",
       "0  270007      4\n",
       "1  270008      4\n",
       "2  270009      2\n",
       "3  270010      1\n",
       "4  270011      3\n",
       "5  270012      4\n",
       "6  270013      4\n",
       "7  270014      3\n",
       "8  270015      4\n",
       "9  270016      2"
      ]
     },
     "execution_count": 11,
     "metadata": {},
     "output_type": "execute_result"
    }
   ],
   "source": [
    "rf_s_pred_actual = pd.DataFrame({ 'Id': df_i['Id'],'alpha': y_pred_rf_test})\n",
    "\n",
    "rf_s_pred_actual.head(10)"
   ]
  },
  {
   "cell_type": "code",
   "execution_count": 12,
   "metadata": {},
   "outputs": [
    {
     "data": {
      "text/plain": [
       "(11575, 2)"
      ]
     },
     "execution_count": 12,
     "metadata": {},
     "output_type": "execute_result"
    }
   ],
   "source": [
    "rf_s_pred_actual.shape"
   ]
  },
  {
   "cell_type": "code",
   "execution_count": 13,
   "metadata": {},
   "outputs": [
    {
     "data": {
      "text/plain": [
       "2    5586\n",
       "1    2214\n",
       "4    1902\n",
       "3    1873\n",
       "Name: alpha, dtype: int64"
      ]
     },
     "execution_count": 13,
     "metadata": {},
     "output_type": "execute_result"
    }
   ],
   "source": [
    "rf_s_pred_actual['alpha'].value_counts()"
   ]
  },
  {
   "cell_type": "markdown",
   "metadata": {},
   "source": [
    "# Simple Model Prediction(Random Forest)"
   ]
  },
  {
   "cell_type": "code",
   "execution_count": 14,
   "metadata": {},
   "outputs": [],
   "source": [
    "# rf_s_pred_actual.to_csv('Rfs_1_pred.csv', index=False)\n",
    "#rf_s_pred_actual.to_csv('rf_s_pred.csv', index=False)"
   ]
  },
  {
   "cell_type": "markdown",
   "metadata": {},
   "source": [
    "## Fin"
   ]
  }
 ],
 "metadata": {
  "kernelspec": {
   "display_name": "Python 3",
   "language": "python",
   "name": "python3"
  },
  "language_info": {
   "codemirror_mode": {
    "name": "ipython",
    "version": 3
   },
   "file_extension": ".py",
   "mimetype": "text/x-python",
   "name": "python",
   "nbconvert_exporter": "python",
   "pygments_lexer": "ipython3",
   "version": "3.6.8"
  },
  "toc": {
   "base_numbering": 1,
   "nav_menu": {},
   "number_sections": true,
   "sideBar": true,
   "skip_h1_title": false,
   "title_cell": "Table of Contents",
   "title_sidebar": "Contents",
   "toc_cell": false,
   "toc_position": {},
   "toc_section_display": true,
   "toc_window_display": true
  },
  "varInspector": {
   "cols": {
    "lenName": 16,
    "lenType": 16,
    "lenVar": 40
   },
   "kernels_config": {
    "python": {
     "delete_cmd_postfix": "",
     "delete_cmd_prefix": "del ",
     "library": "var_list.py",
     "varRefreshCmd": "print(var_dic_list())"
    },
    "r": {
     "delete_cmd_postfix": ") ",
     "delete_cmd_prefix": "rm(",
     "library": "var_list.r",
     "varRefreshCmd": "cat(var_dic_list()) "
    }
   },
   "types_to_exclude": [
    "module",
    "function",
    "builtin_function_or_method",
    "instance",
    "_Feature"
   ],
   "window_display": false
  }
 },
 "nbformat": 4,
 "nbformat_minor": 2
}
