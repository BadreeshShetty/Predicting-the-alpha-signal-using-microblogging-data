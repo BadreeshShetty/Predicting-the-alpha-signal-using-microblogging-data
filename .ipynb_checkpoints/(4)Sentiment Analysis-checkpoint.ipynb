{
 "cells": [
  {
   "cell_type": "markdown",
   "metadata": {},
   "source": [
    "# Sentiment Analysis Training Model"
   ]
  },
  {
   "cell_type": "code",
   "execution_count": 35,
   "metadata": {},
   "outputs": [],
   "source": [
    "import pandas as pd\n",
    "import numpy as np\n",
    "import matplotlib.pyplot as plt\n",
    "import seaborn as sns\n",
    "import datetime\n",
    "import warnings\n",
    "warnings.filterwarnings(\"ignore\")"
   ]
  },
  {
   "cell_type": "code",
   "execution_count": 36,
   "metadata": {},
   "outputs": [],
   "source": [
    "json_df=pd.read_csv('json_df_cleaned_train_val_1.csv')"
   ]
  },
  {
   "cell_type": "code",
   "execution_count": 37,
   "metadata": {},
   "outputs": [
    {
     "data": {
      "text/html": [
       "<div>\n",
       "<style scoped>\n",
       "    .dataframe tbody tr th:only-of-type {\n",
       "        vertical-align: middle;\n",
       "    }\n",
       "\n",
       "    .dataframe tbody tr th {\n",
       "        vertical-align: top;\n",
       "    }\n",
       "\n",
       "    .dataframe thead th {\n",
       "        text-align: right;\n",
       "    }\n",
       "</style>\n",
       "<table border=\"1\" class=\"dataframe\">\n",
       "  <thead>\n",
       "    <tr style=\"text-align: right;\">\n",
       "      <th></th>\n",
       "      <th>Sentiment_score</th>\n",
       "      <th>Stock</th>\n",
       "      <th>Date_T</th>\n",
       "      <th>Month</th>\n",
       "      <th>Day</th>\n",
       "      <th>WeekDay</th>\n",
       "      <th>WeekNumber</th>\n",
       "      <th>Tidy_Tweet</th>\n",
       "      <th>Punctuation_%</th>\n",
       "      <th>Text Length</th>\n",
       "    </tr>\n",
       "  </thead>\n",
       "  <tbody>\n",
       "    <tr>\n",
       "      <th>0</th>\n",
       "      <td>3</td>\n",
       "      <td>AMD</td>\n",
       "      <td>2018-09-19</td>\n",
       "      <td>9</td>\n",
       "      <td>19</td>\n",
       "      <td>2</td>\n",
       "      <td>38</td>\n",
       "      <td>go hesit howev chart stabl go upward</td>\n",
       "      <td>1.6</td>\n",
       "      <td>62</td>\n",
       "    </tr>\n",
       "    <tr>\n",
       "      <th>1</th>\n",
       "      <td>3</td>\n",
       "      <td>CAT</td>\n",
       "      <td>2018-10-09</td>\n",
       "      <td>10</td>\n",
       "      <td>9</td>\n",
       "      <td>1</td>\n",
       "      <td>41</td>\n",
       "      <td>despit china trade war held well thumb</td>\n",
       "      <td>5.0</td>\n",
       "      <td>60</td>\n",
       "    </tr>\n",
       "    <tr>\n",
       "      <th>2</th>\n",
       "      <td>2</td>\n",
       "      <td>AVGO</td>\n",
       "      <td>2018-07-12</td>\n",
       "      <td>7</td>\n",
       "      <td>12</td>\n",
       "      <td>3</td>\n",
       "      <td>28</td>\n",
       "      <td>wtf</td>\n",
       "      <td>22.2</td>\n",
       "      <td>9</td>\n",
       "    </tr>\n",
       "    <tr>\n",
       "      <th>3</th>\n",
       "      <td>2</td>\n",
       "      <td>PH</td>\n",
       "      <td>2018-07-19</td>\n",
       "      <td>7</td>\n",
       "      <td>19</td>\n",
       "      <td>3</td>\n",
       "      <td>29</td>\n",
       "      <td>new insid file muller klau peter transact code</td>\n",
       "      <td>11.0</td>\n",
       "      <td>100</td>\n",
       "    </tr>\n",
       "    <tr>\n",
       "      <th>4</th>\n",
       "      <td>3</td>\n",
       "      <td>FB</td>\n",
       "      <td>2018-08-23</td>\n",
       "      <td>8</td>\n",
       "      <td>23</td>\n",
       "      <td>3</td>\n",
       "      <td>34</td>\n",
       "      <td>bounc tommorrow right thing gtfo</td>\n",
       "      <td>2.2</td>\n",
       "      <td>45</td>\n",
       "    </tr>\n",
       "  </tbody>\n",
       "</table>\n",
       "</div>"
      ],
      "text/plain": [
       "   Sentiment_score Stock      Date_T  Month  Day  WeekDay  WeekNumber  \\\n",
       "0                3   AMD  2018-09-19      9   19        2          38   \n",
       "1                3   CAT  2018-10-09     10    9        1          41   \n",
       "2                2  AVGO  2018-07-12      7   12        3          28   \n",
       "3                2    PH  2018-07-19      7   19        3          29   \n",
       "4                3    FB  2018-08-23      8   23        3          34   \n",
       "\n",
       "                                       Tidy_Tweet  Punctuation_%  Text Length  \n",
       "0            go hesit howev chart stabl go upward            1.6           62  \n",
       "1          despit china trade war held well thumb            5.0           60  \n",
       "2                                             wtf           22.2            9  \n",
       "3  new insid file muller klau peter transact code           11.0          100  \n",
       "4                bounc tommorrow right thing gtfo            2.2           45  "
      ]
     },
     "execution_count": 37,
     "metadata": {},
     "output_type": "execute_result"
    }
   ],
   "source": [
    "json_df.head()"
   ]
  },
  {
   "cell_type": "code",
   "execution_count": 38,
   "metadata": {},
   "outputs": [
    {
     "name": "stdout",
     "output_type": "stream",
     "text": [
      "<class 'pandas.core.frame.DataFrame'>\n",
      "RangeIndex: 986803 entries, 0 to 986802\n",
      "Data columns (total 10 columns):\n",
      "Sentiment_score    986803 non-null int64\n",
      "Stock              986803 non-null object\n",
      "Date_T             986803 non-null object\n",
      "Month              986803 non-null int64\n",
      "Day                986803 non-null int64\n",
      "WeekDay            986803 non-null int64\n",
      "WeekNumber         986803 non-null int64\n",
      "Tidy_Tweet         986803 non-null object\n",
      "Punctuation_%      986803 non-null float64\n",
      "Text Length        986803 non-null int64\n",
      "dtypes: float64(1), int64(6), object(3)\n",
      "memory usage: 75.3+ MB\n"
     ]
    }
   ],
   "source": [
    "json_df.info()"
   ]
  },
  {
   "cell_type": "code",
   "execution_count": 39,
   "metadata": {},
   "outputs": [],
   "source": [
    "X=json_df['Tidy_Tweet']\n",
    "y=json_df['Sentiment_score']"
   ]
  },
  {
   "cell_type": "code",
   "execution_count": 40,
   "metadata": {},
   "outputs": [
    {
     "data": {
      "text/plain": [
       "0              go hesit howev chart stabl go upward\n",
       "1            despit china trade war held well thumb\n",
       "2                                               wtf\n",
       "3    new insid file muller klau peter transact code\n",
       "4                  bounc tommorrow right thing gtfo\n",
       "Name: Tidy_Tweet, dtype: object"
      ]
     },
     "execution_count": 40,
     "metadata": {},
     "output_type": "execute_result"
    }
   ],
   "source": [
    "X.head()"
   ]
  },
  {
   "cell_type": "code",
   "execution_count": 41,
   "metadata": {},
   "outputs": [],
   "source": [
    "from sklearn.model_selection import train_test_split\n",
    "X_train_s, X_test_s, y_train_s, y_test_s = train_test_split(X, y, test_size = 0.3, random_state=42,stratify=y)"
   ]
  },
  {
   "cell_type": "code",
   "execution_count": 42,
   "metadata": {},
   "outputs": [
    {
     "data": {
      "text/plain": [
       "2    0.431623\n",
       "3    0.203578\n",
       "4    0.153386\n",
       "1    0.119724\n",
       "0    0.091689\n",
       "Name: Sentiment_score, dtype: float64"
      ]
     },
     "execution_count": 42,
     "metadata": {},
     "output_type": "execute_result"
    }
   ],
   "source": [
    "y_train_s.value_counts()/y_train_s.value_counts().sum()"
   ]
  },
  {
   "cell_type": "code",
   "execution_count": 43,
   "metadata": {},
   "outputs": [
    {
     "data": {
      "text/plain": [
       "2    0.431623\n",
       "3    0.203580\n",
       "4    0.153384\n",
       "1    0.119723\n",
       "0    0.091690\n",
       "Name: Sentiment_score, dtype: float64"
      ]
     },
     "execution_count": 43,
     "metadata": {},
     "output_type": "execute_result"
    }
   ],
   "source": [
    "y_test_s.value_counts()/y_test_s.value_counts().sum()"
   ]
  },
  {
   "cell_type": "markdown",
   "metadata": {},
   "source": [
    "## Simple Classification Model on Sentiment Data"
   ]
  },
  {
   "cell_type": "code",
   "execution_count": 44,
   "metadata": {},
   "outputs": [],
   "source": [
    "# Machine Learning Imports\n",
    "from mlxtend.classifier import StackingClassifier\n",
    "from sklearn.linear_model import LogisticRegression\n",
    "from sklearn.neighbors import KNeighborsClassifier\n",
    "from sklearn.linear_model import SGDClassifier\n",
    "from sklearn.naive_bayes import MultinomialNB\n",
    "from sklearn.tree import DecisionTreeClassifier\n",
    "from sklearn.ensemble import RandomForestClassifier\n",
    "from xgboost import XGBClassifier\n",
    "# from sklearn.ensemble import AdaBoostClassifier\n",
    "# from lightgbm import LGBMClassifier\n",
    "# from catboost import CatBoostClassifier\n",
    "\n",
    "# from sklearn.neural_network import MLPClassifier\n",
    "\n",
    "from sklearn.metrics import classification_report,confusion_matrix\n",
    "from sklearn.metrics import accuracy_score\n",
    "from sklearn.metrics import f1_score"
   ]
  },
  {
   "cell_type": "code",
   "execution_count": 45,
   "metadata": {},
   "outputs": [],
   "source": [
    "# Making the Confusion Matrix\n",
    "def confusion_matrix_c(y_test,y_pred):\n",
    "    cm = confusion_matrix(y_test, y_pred)\n",
    "    class_label = [\"0\",\"1\", \"2\", \"3\", \"4\"]\n",
    "    df_cm = pd.DataFrame(cm, index=class_label,columns=class_label)\n",
    "    sns.heatmap(df_cm, annot=True, fmt='d')\n",
    "    plt.title(\"Confusion Matrix\")\n",
    "    plt.xlabel(\"Predicted Label\")\n",
    "    plt.ylabel(\"True Label\")\n",
    "    plt.show()"
   ]
  },
  {
   "cell_type": "code",
   "execution_count": 46,
   "metadata": {},
   "outputs": [],
   "source": [
    "from sklearn.feature_extraction.text import TfidfVectorizer\n",
    "tfidf = TfidfVectorizer()\n",
    "vect_train = tfidf.fit_transform(X_train_s)\n",
    "vect_test = tfidf.transform(X_test_s)"
   ]
  },
  {
   "cell_type": "code",
   "execution_count": 47,
   "metadata": {},
   "outputs": [],
   "source": [
    "from scipy import sparse\n",
    "from scipy.sparse import csr_matrix\n",
    "#jf_vect.toarray()\n",
    "sp_vect_train = sparse.csr_matrix(vect_train)\n",
    "sp_vect_test = sparse.csr_matrix(vect_test)"
   ]
  },
  {
   "cell_type": "markdown",
   "metadata": {},
   "source": [
    "### Logistic Regression"
   ]
  },
  {
   "cell_type": "code",
   "execution_count": 48,
   "metadata": {},
   "outputs": [
    {
     "data": {
      "text/plain": [
       "LogisticRegression(C=1.0, class_weight=None, dual=False, fit_intercept=True,\n",
       "                   intercept_scaling=1, l1_ratio=None, max_iter=100,\n",
       "                   multi_class='warn', n_jobs=None, penalty='l2',\n",
       "                   random_state=None, solver='newton-cg', tol=0.0001, verbose=0,\n",
       "                   warm_start=False)"
      ]
     },
     "execution_count": 48,
     "metadata": {},
     "output_type": "execute_result"
    }
   ],
   "source": [
    "lg_s = LogisticRegression(solver = 'newton-cg')\n",
    "lg_s.fit(sp_vect_train,y_train_s)"
   ]
  },
  {
   "cell_type": "code",
   "execution_count": 49,
   "metadata": {},
   "outputs": [],
   "source": [
    "# Predicting the Train and Test set results\n",
    "y_pred_lr_train= lg_s.predict(sp_vect_train)\n",
    "y_pred_lr_test= lg_s.predict(sp_vect_test)"
   ]
  },
  {
   "cell_type": "markdown",
   "metadata": {},
   "source": [
    "#### Train Set"
   ]
  },
  {
   "cell_type": "code",
   "execution_count": 50,
   "metadata": {},
   "outputs": [
    {
     "name": "stdout",
     "output_type": "stream",
     "text": [
      "              precision    recall  f1-score   support\n",
      "\n",
      "           0       0.67      0.50      0.58     63335\n",
      "           1       0.59      0.36      0.45     82701\n",
      "           2       0.66      0.88      0.75    298149\n",
      "           3       0.56      0.38      0.45    140624\n",
      "           4       0.65      0.60      0.62    105953\n",
      "\n",
      "    accuracy                           0.64    690762\n",
      "   macro avg       0.63      0.54      0.57    690762\n",
      "weighted avg       0.63      0.64      0.62    690762\n",
      "\n"
     ]
    }
   ],
   "source": [
    "print(classification_report(y_train_s,y_pred_lr_train))"
   ]
  },
  {
   "cell_type": "code",
   "execution_count": 51,
   "metadata": {},
   "outputs": [
    {
     "data": {
      "image/png": "[encoded data removed]",
      "text/plain": [
       "<Figure size 432x288 with 2 Axes>"
      ]
     },
     "metadata": {
      "needs_background": "light"
     },
     "output_type": "display_data"
    }
   ],
   "source": [
    "# Confusion Matrix\n",
    "confusion_matrix_c(y_train_s, y_pred_lr_train)"
   ]
  },
  {
   "cell_type": "code",
   "execution_count": 52,
   "metadata": {
    "code_folding": []
   },
   "outputs": [
    {
     "name": "stdout",
     "output_type": "stream",
     "text": [
      "Misclassified samples: 250066\n",
      "Accuracy: 0.64\n",
      "F1-Score: 0.57\n"
     ]
    }
   ],
   "source": [
    "# how did our model perform?\n",
    "count_misclassified = (y_train_s != y_pred_lr_train).sum()\n",
    "print('Misclassified samples: {}'.format(count_misclassified))\n",
    "accuracy = accuracy_score(y_train_s, y_pred_lr_train)\n",
    "print('Accuracy: {:.2f}'.format(accuracy))\n",
    "f1=f1_score(y_train_s, y_pred_lr_train, average='macro')\n",
    "print('F1-Score: {:.2f}'.format(f1))"
   ]
  },
  {
   "cell_type": "markdown",
   "metadata": {},
   "source": [
    "#### Test Set"
   ]
  },
  {
   "cell_type": "code",
   "execution_count": 53,
   "metadata": {},
   "outputs": [
    {
     "name": "stdout",
     "output_type": "stream",
     "text": [
      "              precision    recall  f1-score   support\n",
      "\n",
      "           0       0.65      0.49      0.56     27144\n",
      "           1       0.56      0.34      0.43     35443\n",
      "           2       0.65      0.87      0.74    127778\n",
      "           3       0.53      0.36      0.43     60268\n",
      "           4       0.63      0.58      0.61     45408\n",
      "\n",
      "    accuracy                           0.62    296041\n",
      "   macro avg       0.61      0.53      0.55    296041\n",
      "weighted avg       0.61      0.62      0.60    296041\n",
      "\n"
     ]
    }
   ],
   "source": [
    "print(classification_report(y_test_s,y_pred_lr_test))"
   ]
  },
  {
   "cell_type": "code",
   "execution_count": 54,
   "metadata": {},
   "outputs": [
    {
     "data": {
      "image/png": "[encoded data removed]",
      "text/plain": [
       "<Figure size 432x288 with 2 Axes>"
      ]
     },
     "metadata": {
      "needs_background": "light"
     },
     "output_type": "display_data"
    }
   ],
   "source": [
    "# Confusion Matrix\n",
    "confusion_matrix_c(y_test_s, y_pred_lr_test)"
   ]
  },
  {
   "cell_type": "code",
   "execution_count": 55,
   "metadata": {
    "code_folding": [],
    "scrolled": true
   },
   "outputs": [
    {
     "name": "stdout",
     "output_type": "stream",
     "text": [
      "Misclassified samples: 111068\n",
      "Accuracy: 0.62\n",
      "F1-Score: 0.55\n"
     ]
    }
   ],
   "source": [
    "# how did our model perform?\n",
    "count_misclassified = (y_test_s != y_pred_lr_test).sum()\n",
    "print('Misclassified samples: {}'.format(count_misclassified))\n",
    "accuracy = accuracy_score(y_test_s, y_pred_lr_test)\n",
    "print('Accuracy: {:.2f}'.format(accuracy))\n",
    "f1=f1_score(y_test_s, y_pred_lr_test, average='macro')\n",
    "print('F1-Score: {:.2f}'.format(f1))"
   ]
  },
  {
   "cell_type": "markdown",
   "metadata": {},
   "source": [
    "### SVM"
   ]
  },
  {
   "cell_type": "code",
   "execution_count": 56,
   "metadata": {},
   "outputs": [],
   "source": [
    "from sklearn.linear_model import SGDClassifier"
   ]
  },
  {
   "cell_type": "code",
   "execution_count": 57,
   "metadata": {},
   "outputs": [],
   "source": [
    "# from sklearn.model_selection import RandomizedSearchCV\n",
    "# params_distributions = {'kernel': ['rbf'], 'gamma': [1e-3, 1e-4],\n",
    "#                      'C': [1, 10, 100, 1000]},\n",
    "#                     {'kernel': ['linear'], 'C': [1, 10, 100, 1000]}"
   ]
  },
  {
   "cell_type": "code",
   "execution_count": 58,
   "metadata": {},
   "outputs": [
    {
     "data": {
      "text/plain": [
       "SGDClassifier(alpha=0.0001, average=False, class_weight=None,\n",
       "              early_stopping=False, epsilon=0.1, eta0=0.0, fit_intercept=True,\n",
       "              l1_ratio=0.15, learning_rate='optimal', loss='hinge',\n",
       "              max_iter=100, n_iter_no_change=5, n_jobs=None, penalty='l2',\n",
       "              power_t=0.5, random_state=None, shuffle=True, tol=0.001,\n",
       "              validation_fraction=0.1, verbose=0, warm_start=False)"
      ]
     },
     "execution_count": 58,
     "metadata": {},
     "output_type": "execute_result"
    }
   ],
   "source": [
    "# Performing CV to tune parameters for best SVM fit \n",
    "#svm_s = RandomizedSearchCV(SVC(), params_distributions, cv=5)\n",
    "svm_s=SGDClassifier(loss='hinge',max_iter=100)\n",
    "svm_s.fit(sp_vect_train, y_train_s)"
   ]
  },
  {
   "cell_type": "code",
   "execution_count": 59,
   "metadata": {},
   "outputs": [],
   "source": [
    "# # View the accuracy score\n",
    "# print('Best score for training data:', svm_s.best_score_,\"\\n\") \n",
    "\n",
    "# # View the best parameters for the model found using grid search\n",
    "# print('Best C:',svm_s.best_estimator_.C,\"\\n\") \n",
    "# print('Best Kernel:',svm_s.best_estimator_.kernel,\"\\n\")\n",
    "# print('Best Gamma:',svm_s.best_estimator_.gamma,\"\\n\")"
   ]
  },
  {
   "cell_type": "code",
   "execution_count": 60,
   "metadata": {},
   "outputs": [],
   "source": [
    "# Predicting the Train and Test set results\n",
    "y_pred_svm_train= svm_s.predict(sp_vect_train)\n",
    "y_pred_svm_test= svm_s.predict(sp_vect_test)"
   ]
  },
  {
   "cell_type": "markdown",
   "metadata": {},
   "source": [
    "#### Train Set"
   ]
  },
  {
   "cell_type": "code",
   "execution_count": 61,
   "metadata": {},
   "outputs": [
    {
     "name": "stdout",
     "output_type": "stream",
     "text": [
      "              precision    recall  f1-score   support\n",
      "\n",
      "           0       0.61      0.48      0.54     63335\n",
      "           1       0.57      0.24      0.33     82701\n",
      "           2       0.60      0.90      0.72    298149\n",
      "           3       0.51      0.18      0.26    140624\n",
      "           4       0.58      0.60      0.59    105953\n",
      "\n",
      "    accuracy                           0.59    690762\n",
      "   macro avg       0.57      0.48      0.49    690762\n",
      "weighted avg       0.57      0.59      0.54    690762\n",
      "\n"
     ]
    }
   ],
   "source": [
    "print(classification_report(y_train_s,y_pred_svm_train))"
   ]
  },
  {
   "cell_type": "code",
   "execution_count": 62,
   "metadata": {},
   "outputs": [
    {
     "data": {
      "image/png": "[encoded data removed]",
      "text/plain": [
       "<Figure size 432x288 with 2 Axes>"
      ]
     },
     "metadata": {
      "needs_background": "light"
     },
     "output_type": "display_data"
    }
   ],
   "source": [
    "# Confusion Matrix\n",
    "confusion_matrix_c(y_train_s, y_pred_svm_train)"
   ]
  },
  {
   "cell_type": "code",
   "execution_count": 63,
   "metadata": {
    "code_folding": []
   },
   "outputs": [
    {
     "name": "stdout",
     "output_type": "stream",
     "text": [
      "Misclassified samples: 284174\n",
      "Accuracy: 0.59\n",
      "F1-Score: 0.49\n"
     ]
    }
   ],
   "source": [
    "# how did our model perform?\n",
    "count_misclassified = (y_train_s != y_pred_svm_train).sum()\n",
    "print('Misclassified samples: {}'.format(count_misclassified))\n",
    "accuracy = accuracy_score(y_train_s, y_pred_svm_train)\n",
    "print('Accuracy: {:.2f}'.format(accuracy))\n",
    "f1=f1_score(y_train_s, y_pred_svm_train, average='macro')\n",
    "print('F1-Score: {:.2f}'.format(f1))"
   ]
  },
  {
   "cell_type": "markdown",
   "metadata": {},
   "source": [
    "#### Test Set"
   ]
  },
  {
   "cell_type": "code",
   "execution_count": 64,
   "metadata": {},
   "outputs": [
    {
     "name": "stdout",
     "output_type": "stream",
     "text": [
      "              precision    recall  f1-score   support\n",
      "\n",
      "           0       0.60      0.47      0.53     27144\n",
      "           1       0.55      0.23      0.33     35443\n",
      "           2       0.60      0.90      0.72    127778\n",
      "           3       0.50      0.18      0.26     60268\n",
      "           4       0.58      0.60      0.59     45408\n",
      "\n",
      "    accuracy                           0.59    296041\n",
      "   macro avg       0.57      0.48      0.48    296041\n",
      "weighted avg       0.57      0.59      0.54    296041\n",
      "\n"
     ]
    }
   ],
   "source": [
    "print(classification_report(y_test_s,y_pred_svm_test))"
   ]
  },
  {
   "cell_type": "code",
   "execution_count": 65,
   "metadata": {},
   "outputs": [
    {
     "data": {
      "image/png": "[encoded data removed]",
      "text/plain": [
       "<Figure size 432x288 with 2 Axes>"
      ]
     },
     "metadata": {
      "needs_background": "light"
     },
     "output_type": "display_data"
    }
   ],
   "source": [
    "# Confusion Matrix\n",
    "confusion_matrix_c(y_test_s, y_pred_svm_test)"
   ]
  },
  {
   "cell_type": "code",
   "execution_count": 66,
   "metadata": {
    "code_folding": [],
    "scrolled": true
   },
   "outputs": [
    {
     "name": "stdout",
     "output_type": "stream",
     "text": [
      "Misclassified samples: 122425\n",
      "Accuracy: 0.59\n",
      "F1-Score: 0.48\n"
     ]
    }
   ],
   "source": [
    "# how did our model perform?\n",
    "count_misclassified = (y_test_s != y_pred_svm_test).sum()\n",
    "print('Misclassified samples: {}'.format(count_misclassified))\n",
    "accuracy = accuracy_score(y_test_s, y_pred_svm_test)\n",
    "print('Accuracy: {:.2f}'.format(accuracy))\n",
    "f1=f1_score(y_test_s, y_pred_svm_test, average='macro')\n",
    "print('F1-Score: {:.2f}'.format(f1))"
   ]
  },
  {
   "cell_type": "markdown",
   "metadata": {},
   "source": [
    "### Decision Tree Classifier"
   ]
  },
  {
   "cell_type": "code",
   "execution_count": 67,
   "metadata": {},
   "outputs": [
    {
     "data": {
      "text/plain": [
       "DecisionTreeClassifier(class_weight=None, criterion='gini', max_depth=None,\n",
       "                       max_features=None, max_leaf_nodes=None,\n",
       "                       min_impurity_decrease=0.0, min_impurity_split=None,\n",
       "                       min_samples_leaf=1, min_samples_split=2,\n",
       "                       min_weight_fraction_leaf=0.0, presort=False,\n",
       "                       random_state=None, splitter='best')"
      ]
     },
     "execution_count": 67,
     "metadata": {},
     "output_type": "execute_result"
    }
   ],
   "source": [
    "# Fitting DecisionTree to the Training set\n",
    "dt_s = DecisionTreeClassifier()\n",
    "dt_s.fit(sp_vect_train,y_train_s)"
   ]
  },
  {
   "cell_type": "code",
   "execution_count": 68,
   "metadata": {},
   "outputs": [],
   "source": [
    "# Predicting the Train and Test set results\n",
    "y_pred_dt_train= dt_s.predict(sp_vect_train)\n",
    "y_pred_dt_test= dt_s.predict(sp_vect_test)"
   ]
  },
  {
   "cell_type": "markdown",
   "metadata": {},
   "source": [
    "#### Train Set"
   ]
  },
  {
   "cell_type": "code",
   "execution_count": 69,
   "metadata": {},
   "outputs": [
    {
     "name": "stdout",
     "output_type": "stream",
     "text": [
      "              precision    recall  f1-score   support\n",
      "\n",
      "           0       0.95      0.93      0.94     63335\n",
      "           1       0.93      0.94      0.94     82701\n",
      "           2       0.95      0.97      0.96    298149\n",
      "           3       0.95      0.92      0.93    140624\n",
      "           4       0.94      0.95      0.95    105953\n",
      "\n",
      "    accuracy                           0.95    690762\n",
      "   macro avg       0.94      0.94      0.94    690762\n",
      "weighted avg       0.95      0.95      0.95    690762\n",
      "\n"
     ]
    }
   ],
   "source": [
    "print(classification_report(y_train_s,y_pred_dt_train))"
   ]
  },
  {
   "cell_type": "code",
   "execution_count": 70,
   "metadata": {},
   "outputs": [
    {
     "data": {
      "image/png": "[encoded data removed]",
      "text/plain": [
       "<Figure size 432x288 with 2 Axes>"
      ]
     },
     "metadata": {
      "needs_background": "light"
     },
     "output_type": "display_data"
    }
   ],
   "source": [
    "# Confusion Matrix\n",
    "confusion_matrix_c(y_train_s, y_pred_dt_train)"
   ]
  },
  {
   "cell_type": "code",
   "execution_count": 71,
   "metadata": {
    "code_folding": []
   },
   "outputs": [
    {
     "name": "stdout",
     "output_type": "stream",
     "text": [
      "Misclassified samples: 36291\n",
      "Accuracy: 0.95\n",
      "F1-Score: 0.94\n"
     ]
    }
   ],
   "source": [
    "# how did our model perform?\n",
    "count_misclassified = (y_train_s != y_pred_dt_train).sum()\n",
    "print('Misclassified samples: {}'.format(count_misclassified))\n",
    "accuracy = accuracy_score(y_train_s, y_pred_dt_train)\n",
    "print('Accuracy: {:.2f}'.format(accuracy))\n",
    "f1=f1_score(y_train_s, y_pred_dt_train, average='macro')\n",
    "print('F1-Score: {:.2f}'.format(f1))"
   ]
  },
  {
   "cell_type": "markdown",
   "metadata": {},
   "source": [
    "#### Test Set"
   ]
  },
  {
   "cell_type": "code",
   "execution_count": 72,
   "metadata": {},
   "outputs": [
    {
     "name": "stdout",
     "output_type": "stream",
     "text": [
      "              precision    recall  f1-score   support\n",
      "\n",
      "           0       0.56      0.52      0.54     27144\n",
      "           1       0.49      0.47      0.48     35443\n",
      "           2       0.72      0.76      0.74    127778\n",
      "           3       0.49      0.46      0.47     60268\n",
      "           4       0.62      0.61      0.62     45408\n",
      "\n",
      "    accuracy                           0.62    296041\n",
      "   macro avg       0.58      0.56      0.57    296041\n",
      "weighted avg       0.61      0.62      0.62    296041\n",
      "\n"
     ]
    }
   ],
   "source": [
    "print(classification_report(y_test_s,y_pred_dt_test))"
   ]
  },
  {
   "cell_type": "code",
   "execution_count": 73,
   "metadata": {},
   "outputs": [
    {
     "data": {
      "image/png": "[encoded data removed]",
      "text/plain": [
       "<Figure size 432x288 with 2 Axes>"
      ]
     },
     "metadata": {
      "needs_background": "light"
     },
     "output_type": "display_data"
    }
   ],
   "source": [
    "# Confusion Matrix\n",
    "confusion_matrix_c(y_test_s, y_pred_dt_test)"
   ]
  },
  {
   "cell_type": "code",
   "execution_count": 74,
   "metadata": {
    "code_folding": [],
    "scrolled": true
   },
   "outputs": [
    {
     "name": "stdout",
     "output_type": "stream",
     "text": [
      "Misclassified samples: 112633\n",
      "Accuracy: 0.62\n",
      "F1-Score: 0.57\n"
     ]
    }
   ],
   "source": [
    "# how did our model perform?\n",
    "count_misclassified = (y_test_s != y_pred_dt_test).sum()\n",
    "print('Misclassified samples: {}'.format(count_misclassified))\n",
    "accuracy = accuracy_score(y_test_s, y_pred_dt_test)\n",
    "print('Accuracy: {:.2f}'.format(accuracy))\n",
    "f1=f1_score(y_test_s, y_pred_dt_test, average='macro')\n",
    "print('F1-Score: {:.2f}'.format(f1))"
   ]
  },
  {
   "cell_type": "markdown",
   "metadata": {},
   "source": [
    "### Random Forest Classifier"
   ]
  },
  {
   "cell_type": "code",
   "execution_count": 75,
   "metadata": {},
   "outputs": [
    {
     "data": {
      "text/plain": [
       "RandomForestClassifier(bootstrap=True, class_weight=None, criterion='gini',\n",
       "                       max_depth=None, max_features='auto', max_leaf_nodes=None,\n",
       "                       min_impurity_decrease=0.0, min_impurity_split=None,\n",
       "                       min_samples_leaf=1, min_samples_split=2,\n",
       "                       min_weight_fraction_leaf=0.0, n_estimators=10,\n",
       "                       n_jobs=None, oob_score=False, random_state=42, verbose=0,\n",
       "                       warm_start=False)"
      ]
     },
     "execution_count": 75,
     "metadata": {},
     "output_type": "execute_result"
    }
   ],
   "source": [
    "from sklearn.model_selection import RandomizedSearchCV\n",
    "# GridSearchCV\n",
    "# param_grid={'max_depth':range(1,15,2),\n",
    "#             'n_estimators':[125,250],\n",
    "#             'max_features':range(1,15,2)}\n",
    "rf_s=RandomForestClassifier(random_state=42)\n",
    "rf_s.fit(sp_vect_train,y_train_s)\n",
    "# dt_cv=RandomizedSearchCV(dt_g,param_grid,cv=10,scoring='f1_macro',n_jobs=-1)\n",
    "# dt_cv.fit(X_train_s,y_train_s)\n",
    "\n",
    "# print(\"Best parameters:\",dt_cv.best_params_)\n",
    "# print(\"Accuracy :\",dt_cv.best_score_)"
   ]
  },
  {
   "cell_type": "code",
   "execution_count": 76,
   "metadata": {
    "scrolled": true
   },
   "outputs": [],
   "source": [
    "# # Fitting Logistic Regression to the Training set\n",
    "# rf_s = RandomForestClassifier(max_depth=,max_features=,n_estimators=,random_state=42)\n",
    "# rf_s.fit(X_train,y_train)"
   ]
  },
  {
   "cell_type": "code",
   "execution_count": 77,
   "metadata": {},
   "outputs": [],
   "source": [
    "# Predicting the Train and Test set results\n",
    "y_pred_rf_train= rf_s.predict(sp_vect_train)\n",
    "y_pred_rf_test= rf_s.predict(sp_vect_test)"
   ]
  },
  {
   "cell_type": "markdown",
   "metadata": {},
   "source": [
    "#### Train Set"
   ]
  },
  {
   "cell_type": "code",
   "execution_count": 78,
   "metadata": {},
   "outputs": [
    {
     "name": "stdout",
     "output_type": "stream",
     "text": [
      "              precision    recall  f1-score   support\n",
      "\n",
      "           0       0.95      0.91      0.93     63335\n",
      "           1       0.93      0.92      0.93     82701\n",
      "           2       0.94      0.96      0.95    298149\n",
      "           3       0.93      0.89      0.91    140624\n",
      "           4       0.93      0.94      0.94    105953\n",
      "\n",
      "    accuracy                           0.94    690762\n",
      "   macro avg       0.94      0.93      0.93    690762\n",
      "weighted avg       0.94      0.94      0.94    690762\n",
      "\n"
     ]
    }
   ],
   "source": [
    "print(classification_report(y_train_s,y_pred_rf_train))"
   ]
  },
  {
   "cell_type": "code",
   "execution_count": 79,
   "metadata": {},
   "outputs": [
    {
     "data": {
      "image/png": "[encoded data removed]",
      "text/plain": [
       "<Figure size 432x288 with 2 Axes>"
      ]
     },
     "metadata": {
      "needs_background": "light"
     },
     "output_type": "display_data"
    }
   ],
   "source": [
    "# Confusion Matrix\n",
    "confusion_matrix_c(y_train_s, y_pred_rf_train)"
   ]
  },
  {
   "cell_type": "code",
   "execution_count": 80,
   "metadata": {
    "code_folding": []
   },
   "outputs": [
    {
     "name": "stdout",
     "output_type": "stream",
     "text": [
      "Misclassified samples: 43580\n",
      "Accuracy: 0.94\n",
      "F1-Score: 0.93\n"
     ]
    }
   ],
   "source": [
    "# how did our model perform?\n",
    "count_misclassified = (y_train_s != y_pred_rf_train).sum()\n",
    "print('Misclassified samples: {}'.format(count_misclassified))\n",
    "accuracy = accuracy_score(y_train_s, y_pred_rf_train)\n",
    "print('Accuracy: {:.2f}'.format(accuracy))\n",
    "f1=f1_score(y_train_s, y_pred_rf_train, average='macro')\n",
    "print('F1-Score: {:.2f}'.format(f1))"
   ]
  },
  {
   "cell_type": "markdown",
   "metadata": {},
   "source": [
    "#### Test Set"
   ]
  },
  {
   "cell_type": "code",
   "execution_count": 81,
   "metadata": {},
   "outputs": [
    {
     "name": "stdout",
     "output_type": "stream",
     "text": [
      "              precision    recall  f1-score   support\n",
      "\n",
      "           0       0.59      0.54      0.57     27144\n",
      "           1       0.55      0.45      0.50     35443\n",
      "           2       0.70      0.83      0.76    127778\n",
      "           3       0.53      0.43      0.48     60268\n",
      "           4       0.66      0.61      0.63     45408\n",
      "\n",
      "    accuracy                           0.64    296041\n",
      "   macro avg       0.61      0.57      0.59    296041\n",
      "weighted avg       0.63      0.64      0.63    296041\n",
      "\n"
     ]
    }
   ],
   "source": [
    "print(classification_report(y_test_s,y_pred_rf_test))"
   ]
  },
  {
   "cell_type": "code",
   "execution_count": 82,
   "metadata": {},
   "outputs": [
    {
     "data": {
      "image/png": "[encoded data removed]",
      "text/plain": [
       "<Figure size 432x288 with 2 Axes>"
      ]
     },
     "metadata": {
      "needs_background": "light"
     },
     "output_type": "display_data"
    }
   ],
   "source": [
    "# Confusion Matrix\n",
    "confusion_matrix_c(y_test_s, y_pred_rf_test)"
   ]
  },
  {
   "cell_type": "code",
   "execution_count": 83,
   "metadata": {
    "code_folding": [],
    "scrolled": false
   },
   "outputs": [
    {
     "name": "stdout",
     "output_type": "stream",
     "text": [
      "Misclassified samples: 105874\n",
      "Accuracy: 0.64\n",
      "F1-Score: 0.59\n"
     ]
    }
   ],
   "source": [
    "# how did our model perform?\n",
    "count_misclassified = (y_test_s != y_pred_rf_test).sum()\n",
    "print('Misclassified samples: {}'.format(count_misclassified))\n",
    "accuracy = accuracy_score(y_test_s, y_pred_rf_test)\n",
    "print('Accuracy: {:.2f}'.format(accuracy))\n",
    "f1=f1_score(y_test_s, y_pred_rf_test, average='macro')\n",
    "print('F1-Score: {:.2f}'.format(f1))"
   ]
  },
  {
   "cell_type": "markdown",
   "metadata": {},
   "source": [
    "## On Whole Dataset"
   ]
  },
  {
   "cell_type": "code",
   "execution_count": 84,
   "metadata": {},
   "outputs": [],
   "source": [
    "from sklearn.feature_extraction.text import TfidfVectorizer\n",
    "tfidf_full=TfidfVectorizer()\n",
    "vect_full = tfidf_full.fit_transform(X)"
   ]
  },
  {
   "cell_type": "markdown",
   "metadata": {},
   "source": [
    "# Saving Vectorizer"
   ]
  },
  {
   "cell_type": "code",
   "execution_count": 85,
   "metadata": {},
   "outputs": [],
   "source": [
    "import pickle\n",
    "# Save to file \n",
    "pkl_filename = \"tfidf_full.pkl\"\n",
    "with open(pkl_filename, 'wb') as file:\n",
    "    pickle.dump(tfidf_full, file)"
   ]
  },
  {
   "cell_type": "code",
   "execution_count": 86,
   "metadata": {},
   "outputs": [],
   "source": [
    "# vect_test = tfidf.transform(X_test)"
   ]
  },
  {
   "cell_type": "code",
   "execution_count": 87,
   "metadata": {},
   "outputs": [],
   "source": [
    "# data['Date_T']"
   ]
  },
  {
   "cell_type": "code",
   "execution_count": 88,
   "metadata": {},
   "outputs": [],
   "source": [
    "from scipy import sparse\n",
    "from scipy.sparse import csr_matrix\n",
    "#jf_vect.toarray()\n",
    "sp_vect_full = sparse.csr_matrix(vect_full)\n",
    "# sp_vect_test = sparse.csr_matrix(vect_test)"
   ]
  },
  {
   "cell_type": "code",
   "execution_count": 89,
   "metadata": {},
   "outputs": [],
   "source": [
    "from sklearn.ensemble import RandomForestClassifier\n",
    "#from sklearn.model_selection import GridSearchCV\n",
    "rf = RandomForestClassifier(n_jobs=-1)\n",
    "#param = {'n_estimators': [10, 150, 300],\n",
    "#        'max_depth': [30, 60, 90, None]}\n",
    "\n",
    "#gs = GridSearchCV(rf, param, cv=5, n_jobs=-1)\n",
    "rf_fit = rf.fit(sp_vect_full, y)"
   ]
  },
  {
   "cell_type": "code",
   "execution_count": 90,
   "metadata": {},
   "outputs": [],
   "source": [
    "X_tfidf_csr_full_pred=rf_fit.predict(sp_vect_full)\n",
    "# X_tfidf_csr_test_pred=rf_fit.predict(sp_vect_test)"
   ]
  },
  {
   "cell_type": "code",
   "execution_count": 91,
   "metadata": {},
   "outputs": [
    {
     "name": "stdout",
     "output_type": "stream",
     "text": [
      "              precision    recall  f1-score   support\n",
      "\n",
      "           0       0.95      0.91      0.93     90479\n",
      "           1       0.93      0.92      0.92    118144\n",
      "           2       0.94      0.96      0.95    425927\n",
      "           3       0.93      0.89      0.91    200892\n",
      "           4       0.93      0.94      0.93    151361\n",
      "\n",
      "    accuracy                           0.93    986803\n",
      "   macro avg       0.94      0.92      0.93    986803\n",
      "weighted avg       0.93      0.93      0.93    986803\n",
      "\n"
     ]
    }
   ],
   "source": [
    "from sklearn.metrics import classification_report\n",
    "print(classification_report(y,X_tfidf_csr_full_pred))"
   ]
  },
  {
   "cell_type": "markdown",
   "metadata": {},
   "source": [
    "# Saving Model"
   ]
  },
  {
   "cell_type": "code",
   "execution_count": 92,
   "metadata": {},
   "outputs": [],
   "source": [
    "import pickle\n",
    "# Save to file \n",
    "pkl_filename = \"tfidf_rf_full.pkl\"\n",
    "with open(pkl_filename, 'wb') as file:\n",
    "    pickle.dump(rf_fit, file)"
   ]
  },
  {
   "cell_type": "markdown",
   "metadata": {},
   "source": [
    "## Fin"
   ]
  },
  {
   "cell_type": "markdown",
   "metadata": {},
   "source": [
    "# Sentiment Analysis Testing Model"
   ]
  },
  {
   "cell_type": "code",
   "execution_count": 2,
   "metadata": {},
   "outputs": [],
   "source": [
    "json_df=pd.read_csv('json_df_cleaned_test_1.csv')"
   ]
  },
  {
   "cell_type": "code",
   "execution_count": 3,
   "metadata": {},
   "outputs": [
    {
     "data": {
      "text/html": [
       "<div>\n",
       "<style scoped>\n",
       "    .dataframe tbody tr th:only-of-type {\n",
       "        vertical-align: middle;\n",
       "    }\n",
       "\n",
       "    .dataframe tbody tr th {\n",
       "        vertical-align: top;\n",
       "    }\n",
       "\n",
       "    .dataframe thead th {\n",
       "        text-align: right;\n",
       "    }\n",
       "</style>\n",
       "<table border=\"1\" class=\"dataframe\">\n",
       "  <thead>\n",
       "    <tr style=\"text-align: right;\">\n",
       "      <th></th>\n",
       "      <th>Stock</th>\n",
       "      <th>Date_T</th>\n",
       "      <th>Month</th>\n",
       "      <th>Day</th>\n",
       "      <th>WeekDay</th>\n",
       "      <th>WeekNumber</th>\n",
       "      <th>Tidy_Tweet</th>\n",
       "      <th>Punctuation_%</th>\n",
       "      <th>Text Length</th>\n",
       "    </tr>\n",
       "  </thead>\n",
       "  <tbody>\n",
       "    <tr>\n",
       "      <th>0</th>\n",
       "      <td>CELG</td>\n",
       "      <td>2018-10-25</td>\n",
       "      <td>10</td>\n",
       "      <td>25</td>\n",
       "      <td>3</td>\n",
       "      <td>43</td>\n",
       "      <td>noth exit</td>\n",
       "      <td>3.7</td>\n",
       "      <td>27</td>\n",
       "    </tr>\n",
       "    <tr>\n",
       "      <th>1</th>\n",
       "      <td>AMD</td>\n",
       "      <td>2018-07-13</td>\n",
       "      <td>7</td>\n",
       "      <td>13</td>\n",
       "      <td>4</td>\n",
       "      <td>28</td>\n",
       "      <td>yall exhaust buyer first green candl byee</td>\n",
       "      <td>9.3</td>\n",
       "      <td>54</td>\n",
       "    </tr>\n",
       "    <tr>\n",
       "      <th>2</th>\n",
       "      <td>AMD</td>\n",
       "      <td>2018-09-25</td>\n",
       "      <td>9</td>\n",
       "      <td>25</td>\n",
       "      <td>1</td>\n",
       "      <td>39</td>\n",
       "      <td>day trader day</td>\n",
       "      <td>11.1</td>\n",
       "      <td>18</td>\n",
       "    </tr>\n",
       "    <tr>\n",
       "      <th>3</th>\n",
       "      <td>MU</td>\n",
       "      <td>2018-07-31</td>\n",
       "      <td>7</td>\n",
       "      <td>31</td>\n",
       "      <td>1</td>\n",
       "      <td>31</td>\n",
       "      <td>weak price action far today dont afraid go sho...</td>\n",
       "      <td>3.4</td>\n",
       "      <td>88</td>\n",
       "    </tr>\n",
       "    <tr>\n",
       "      <th>4</th>\n",
       "      <td>AMZN</td>\n",
       "      <td>2018-08-04</td>\n",
       "      <td>8</td>\n",
       "      <td>4</td>\n",
       "      <td>5</td>\n",
       "      <td>31</td>\n",
       "      <td>continu grow specif key area like cloud comput...</td>\n",
       "      <td>3.7</td>\n",
       "      <td>108</td>\n",
       "    </tr>\n",
       "  </tbody>\n",
       "</table>\n",
       "</div>"
      ],
      "text/plain": [
       "  Stock      Date_T  Month  Day  WeekDay  WeekNumber  \\\n",
       "0  CELG  2018-10-25     10   25        3          43   \n",
       "1   AMD  2018-07-13      7   13        4          28   \n",
       "2   AMD  2018-09-25      9   25        1          39   \n",
       "3    MU  2018-07-31      7   31        1          31   \n",
       "4  AMZN  2018-08-04      8    4        5          31   \n",
       "\n",
       "                                          Tidy_Tweet  Punctuation_%  \\\n",
       "0                                          noth exit            3.7   \n",
       "1          yall exhaust buyer first green candl byee            9.3   \n",
       "2                                     day trader day           11.1   \n",
       "3  weak price action far today dont afraid go sho...            3.4   \n",
       "4  continu grow specif key area like cloud comput...            3.7   \n",
       "\n",
       "   Text Length  \n",
       "0           27  \n",
       "1           54  \n",
       "2           18  \n",
       "3           88  \n",
       "4          108  "
      ]
     },
     "execution_count": 3,
     "metadata": {},
     "output_type": "execute_result"
    }
   ],
   "source": [
    "json_df.head()"
   ]
  },
  {
   "cell_type": "code",
   "execution_count": 4,
   "metadata": {},
   "outputs": [
    {
     "name": "stdout",
     "output_type": "stream",
     "text": [
      "<class 'pandas.core.frame.DataFrame'>\n",
      "RangeIndex: 254741 entries, 0 to 254740\n",
      "Data columns (total 9 columns):\n",
      "Stock            254741 non-null object\n",
      "Date_T           254741 non-null object\n",
      "Month            254741 non-null int64\n",
      "Day              254741 non-null int64\n",
      "WeekDay          254741 non-null int64\n",
      "WeekNumber       254741 non-null int64\n",
      "Tidy_Tweet       254741 non-null object\n",
      "Punctuation_%    254741 non-null float64\n",
      "Text Length      254741 non-null int64\n",
      "dtypes: float64(1), int64(5), object(3)\n",
      "memory usage: 17.5+ MB\n"
     ]
    }
   ],
   "source": [
    "json_df.info()"
   ]
  },
  {
   "cell_type": "markdown",
   "metadata": {},
   "source": [
    "## For Storing ID's"
   ]
  },
  {
   "cell_type": "code",
   "execution_count": 5,
   "metadata": {},
   "outputs": [],
   "source": [
    "df_i=json_df.copy()"
   ]
  },
  {
   "cell_type": "code",
   "execution_count": 6,
   "metadata": {},
   "outputs": [],
   "source": [
    "X=json_df['Tidy_Tweet']\n",
    "# y=smf['alpha']"
   ]
  },
  {
   "cell_type": "code",
   "execution_count": 7,
   "metadata": {},
   "outputs": [
    {
     "data": {
      "text/plain": [
       "0                                            noth exit\n",
       "1            yall exhaust buyer first green candl byee\n",
       "2                                       day trader day\n",
       "3    weak price action far today dont afraid go sho...\n",
       "4    continu grow specif key area like cloud comput...\n",
       "Name: Tidy_Tweet, dtype: object"
      ]
     },
     "execution_count": 7,
     "metadata": {},
     "output_type": "execute_result"
    }
   ],
   "source": [
    "X.head()"
   ]
  },
  {
   "cell_type": "markdown",
   "metadata": {},
   "source": [
    "## Random Forest Classifier"
   ]
  },
  {
   "cell_type": "code",
   "execution_count": 8,
   "metadata": {},
   "outputs": [
    {
     "data": {
      "text/html": [
       "<div>\n",
       "<style scoped>\n",
       "    .dataframe tbody tr th:only-of-type {\n",
       "        vertical-align: middle;\n",
       "    }\n",
       "\n",
       "    .dataframe tbody tr th {\n",
       "        vertical-align: top;\n",
       "    }\n",
       "\n",
       "    .dataframe thead th {\n",
       "        text-align: right;\n",
       "    }\n",
       "</style>\n",
       "<table border=\"1\" class=\"dataframe\">\n",
       "  <thead>\n",
       "    <tr style=\"text-align: right;\">\n",
       "      <th></th>\n",
       "      <th>Stock</th>\n",
       "      <th>Date_T</th>\n",
       "    </tr>\n",
       "  </thead>\n",
       "  <tbody>\n",
       "    <tr>\n",
       "      <th>0</th>\n",
       "      <td>CELG</td>\n",
       "      <td>2018-10-25</td>\n",
       "    </tr>\n",
       "    <tr>\n",
       "      <th>1</th>\n",
       "      <td>AMD</td>\n",
       "      <td>2018-07-13</td>\n",
       "    </tr>\n",
       "    <tr>\n",
       "      <th>2</th>\n",
       "      <td>AMD</td>\n",
       "      <td>2018-09-25</td>\n",
       "    </tr>\n",
       "    <tr>\n",
       "      <th>3</th>\n",
       "      <td>MU</td>\n",
       "      <td>2018-07-31</td>\n",
       "    </tr>\n",
       "    <tr>\n",
       "      <th>4</th>\n",
       "      <td>AMZN</td>\n",
       "      <td>2018-08-04</td>\n",
       "    </tr>\n",
       "  </tbody>\n",
       "</table>\n",
       "</div>"
      ],
      "text/plain": [
       "  Stock      Date_T\n",
       "0  CELG  2018-10-25\n",
       "1   AMD  2018-07-13\n",
       "2   AMD  2018-09-25\n",
       "3    MU  2018-07-31\n",
       "4  AMZN  2018-08-04"
      ]
     },
     "execution_count": 8,
     "metadata": {},
     "output_type": "execute_result"
    }
   ],
   "source": [
    "df_i[['Stock','Date_T']].head()"
   ]
  },
  {
   "cell_type": "markdown",
   "metadata": {},
   "source": [
    "# Loading Vectorizer and Saved Model"
   ]
  },
  {
   "cell_type": "code",
   "execution_count": 9,
   "metadata": {},
   "outputs": [],
   "source": [
    "import pickle\n",
    "# Load from file\n",
    "pkl_filename = \"tfidf_full.pkl\"\n",
    "with open(pkl_filename, 'rb') as file:\n",
    "   tfidf_full = pickle.load(file)"
   ]
  },
  {
   "cell_type": "code",
   "execution_count": 10,
   "metadata": {},
   "outputs": [],
   "source": [
    "from sklearn.feature_extraction.text import TfidfVectorizer\n",
    "#tfidf = TfidfVectorizer()\n",
    "#vect_train = tfidf.fit_transform(X_train)\n",
    "vect_te = tfidf_full.transform(X)"
   ]
  },
  {
   "cell_type": "code",
   "execution_count": 11,
   "metadata": {},
   "outputs": [],
   "source": [
    "from scipy import sparse\n",
    "from scipy.sparse import csr_matrix\n",
    "#sp_vect_train = sparse.csr_matrix(vect_train)\n",
    "sp_vect_te = sparse.csr_matrix(vect_te)"
   ]
  },
  {
   "cell_type": "code",
   "execution_count": 12,
   "metadata": {},
   "outputs": [],
   "source": [
    "# from sklearn.ensemble import RandomForestClassifier\n",
    "# #from sklearn.model_selection import GridSearchCV\n",
    "# rf = RandomForestClassifier()\n",
    "#param = {'n_estimators': [10, 150, 300],\n",
    "#        'max_depth': [30, 60, 90, None]}\n",
    "\n",
    "#gs = GridSearchCV(rf, param, cv=5, n_jobs=-1)\n",
    "# rf_fit = rf.fit(sp_vect_te, y_train)"
   ]
  },
  {
   "cell_type": "code",
   "execution_count": 13,
   "metadata": {},
   "outputs": [],
   "source": [
    "import pickle\n",
    "# Load from file\n",
    "pkl_filename = \"tfidf_rf_full.pkl\"\n",
    "with open(pkl_filename, 'rb') as file:\n",
    "   rf_fit = pickle.load(file)"
   ]
  },
  {
   "cell_type": "code",
   "execution_count": 14,
   "metadata": {},
   "outputs": [],
   "source": [
    "#X_tfidf_csr_train_pred=rf_fit.predict(sp_vect_train)\n",
    "y_tfidf_csr_full_pred=rf_fit.predict(sp_vect_te)"
   ]
  },
  {
   "cell_type": "code",
   "execution_count": 15,
   "metadata": {},
   "outputs": [
    {
     "data": {
      "text/html": [
       "<div>\n",
       "<style scoped>\n",
       "    .dataframe tbody tr th:only-of-type {\n",
       "        vertical-align: middle;\n",
       "    }\n",
       "\n",
       "    .dataframe tbody tr th {\n",
       "        vertical-align: top;\n",
       "    }\n",
       "\n",
       "    .dataframe thead th {\n",
       "        text-align: right;\n",
       "    }\n",
       "</style>\n",
       "<table border=\"1\" class=\"dataframe\">\n",
       "  <thead>\n",
       "    <tr style=\"text-align: right;\">\n",
       "      <th></th>\n",
       "      <th>Stock</th>\n",
       "      <th>Date_T</th>\n",
       "      <th>Sentiment_score_pred</th>\n",
       "    </tr>\n",
       "  </thead>\n",
       "  <tbody>\n",
       "    <tr>\n",
       "      <th>0</th>\n",
       "      <td>CELG</td>\n",
       "      <td>2018-10-25</td>\n",
       "      <td>2</td>\n",
       "    </tr>\n",
       "    <tr>\n",
       "      <th>1</th>\n",
       "      <td>AMD</td>\n",
       "      <td>2018-07-13</td>\n",
       "      <td>4</td>\n",
       "    </tr>\n",
       "    <tr>\n",
       "      <th>2</th>\n",
       "      <td>AMD</td>\n",
       "      <td>2018-09-25</td>\n",
       "      <td>2</td>\n",
       "    </tr>\n",
       "    <tr>\n",
       "      <th>3</th>\n",
       "      <td>MU</td>\n",
       "      <td>2018-07-31</td>\n",
       "      <td>0</td>\n",
       "    </tr>\n",
       "    <tr>\n",
       "      <th>4</th>\n",
       "      <td>AMZN</td>\n",
       "      <td>2018-08-04</td>\n",
       "      <td>2</td>\n",
       "    </tr>\n",
       "    <tr>\n",
       "      <th>5</th>\n",
       "      <td>CLF</td>\n",
       "      <td>2018-08-17</td>\n",
       "      <td>2</td>\n",
       "    </tr>\n",
       "    <tr>\n",
       "      <th>6</th>\n",
       "      <td>MU</td>\n",
       "      <td>2018-09-21</td>\n",
       "      <td>3</td>\n",
       "    </tr>\n",
       "    <tr>\n",
       "      <th>7</th>\n",
       "      <td>AMD</td>\n",
       "      <td>2018-09-19</td>\n",
       "      <td>3</td>\n",
       "    </tr>\n",
       "    <tr>\n",
       "      <th>8</th>\n",
       "      <td>AMD</td>\n",
       "      <td>2018-09-21</td>\n",
       "      <td>2</td>\n",
       "    </tr>\n",
       "    <tr>\n",
       "      <th>9</th>\n",
       "      <td>AMD</td>\n",
       "      <td>2018-08-24</td>\n",
       "      <td>2</td>\n",
       "    </tr>\n",
       "  </tbody>\n",
       "</table>\n",
       "</div>"
      ],
      "text/plain": [
       "  Stock      Date_T  Sentiment_score_pred\n",
       "0  CELG  2018-10-25                     2\n",
       "1   AMD  2018-07-13                     4\n",
       "2   AMD  2018-09-25                     2\n",
       "3    MU  2018-07-31                     0\n",
       "4  AMZN  2018-08-04                     2\n",
       "5   CLF  2018-08-17                     2\n",
       "6    MU  2018-09-21                     3\n",
       "7   AMD  2018-09-19                     3\n",
       "8   AMD  2018-09-21                     2\n",
       "9   AMD  2018-08-24                     2"
      ]
     },
     "execution_count": 15,
     "metadata": {},
     "output_type": "execute_result"
    }
   ],
   "source": [
    "rf_s_pred_actual = pd.DataFrame({ 'Stock': df_i['Stock'],'Date_T': df_i['Date_T'],'Sentiment_score_pred': y_tfidf_csr_full_pred})\n",
    "\n",
    "rf_s_pred_actual.head(10)"
   ]
  },
  {
   "cell_type": "code",
   "execution_count": 16,
   "metadata": {},
   "outputs": [
    {
     "data": {
      "text/plain": [
       "(254741, 3)"
      ]
     },
     "execution_count": 16,
     "metadata": {},
     "output_type": "execute_result"
    }
   ],
   "source": [
    "rf_s_pred_actual.shape"
   ]
  },
  {
   "cell_type": "code",
   "execution_count": 17,
   "metadata": {},
   "outputs": [
    {
     "data": {
      "text/plain": [
       "2    132219\n",
       "3     41582\n",
       "4     36273\n",
       "1     24182\n",
       "0     20485\n",
       "Name: Sentiment_score_pred, dtype: int64"
      ]
     },
     "execution_count": 17,
     "metadata": {},
     "output_type": "execute_result"
    }
   ],
   "source": [
    "rf_s_pred_actual['Sentiment_score_pred'].value_counts()"
   ]
  },
  {
   "cell_type": "markdown",
   "metadata": {},
   "source": [
    "# Simple Model Prediction(Random Forest)"
   ]
  },
  {
   "cell_type": "code",
   "execution_count": 18,
   "metadata": {},
   "outputs": [],
   "source": [
    "# rf_s_pred_actual.to_csv('Rf_senti_pred.csv', index=False)"
   ]
  },
  {
   "cell_type": "markdown",
   "metadata": {},
   "source": [
    "## Fin"
   ]
  }
 ],
 "metadata": {
  "kernelspec": {
   "display_name": "Python 3",
   "language": "python",
   "name": "python3"
  },
  "language_info": {
   "codemirror_mode": {
    "name": "ipython",
    "version": 3
   },
   "file_extension": ".py",
   "mimetype": "text/x-python",
   "name": "python",
   "nbconvert_exporter": "python",
   "pygments_lexer": "ipython3",
   "version": "3.7.2"
  },
  "toc": {
   "base_numbering": 1,
   "nav_menu": {},
   "number_sections": true,
   "sideBar": true,
   "skip_h1_title": false,
   "title_cell": "Table of Contents",
   "title_sidebar": "Contents",
   "toc_cell": false,
   "toc_position": {},
   "toc_section_display": true,
   "toc_window_display": true
  },
  "varInspector": {
   "cols": {
    "lenName": 16,
    "lenType": 16,
    "lenVar": 40
   },
   "kernels_config": {
    "python": {
     "delete_cmd_postfix": "",
     "delete_cmd_prefix": "del ",
     "library": "var_list.py",
     "varRefreshCmd": "print(var_dic_list())"
    },
    "r": {
     "delete_cmd_postfix": ") ",
     "delete_cmd_prefix": "rm(",
     "library": "var_list.r",
     "varRefreshCmd": "cat(var_dic_list()) "
    }
   },
   "types_to_exclude": [
    "module",
    "function",
    "builtin_function_or_method",
    "instance",
    "_Feature"
   ],
   "window_display": false
  }
 },
 "nbformat": 4,
 "nbformat_minor": 2
}
