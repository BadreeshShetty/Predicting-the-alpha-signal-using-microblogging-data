{
 "cells": [
  {
   "cell_type": "markdown",
   "metadata": {},
   "source": [
    "# Merging Sentiment to Train and Test"
   ]
  },
  {
   "cell_type": "markdown",
   "metadata": {},
   "source": [
    "## Import Data and Libraries"
   ]
  },
  {
   "cell_type": "code",
   "execution_count": 1,
   "metadata": {},
   "outputs": [],
   "source": [
    "import pandas as pd\n",
    "import numpy as np\n",
    "import matplotlib.pyplot as plt\n",
    "import seaborn as sns\n",
    "import datetime\n",
    "import warnings\n",
    "warnings.filterwarnings(\"ignore\")\n",
    "from sklearn.model_selection import train_test_split\n",
    "from sklearn.metrics import classification_report,confusion_matrix\n",
    "from sklearn.metrics import accuracy_score\n",
    "from sklearn.metrics import f1_score"
   ]
  },
  {
   "cell_type": "code",
   "execution_count": 2,
   "metadata": {},
   "outputs": [],
   "source": [
    "# Making the Confusion Matrix\n",
    "def confusion_matrix_c(y_test,y_pred):\n",
    "    cm = confusion_matrix(y_test, y_pred)\n",
    "    class_label = [\"1\",\"2\", \"3\", \"4\"]\n",
    "    df_cm = pd.DataFrame(cm, index=class_label,columns=class_label)\n",
    "    sns.heatmap(df_cm, annot=True, fmt='d')\n",
    "    plt.title(\"Confusion Matrix\")\n",
    "    plt.xlabel(\"Predicted Label\")\n",
    "    plt.ylabel(\"True Label\")\n",
    "    plt.show()"
   ]
  },
  {
   "cell_type": "code",
   "execution_count": 3,
   "metadata": {},
   "outputs": [],
   "source": [
    "train=pd.read_csv('smf_cleaned_train_val.csv')\n",
    "test=pd.read_csv('smf_cleaned_test.csv')"
   ]
  },
  {
   "cell_type": "code",
   "execution_count": 4,
   "metadata": {},
   "outputs": [
    {
     "name": "stdout",
     "output_type": "stream",
     "text": [
      "(27006, 15)\n",
      "(11575, 14)\n"
     ]
    }
   ],
   "source": [
    "print(train.shape)\n",
    "print(test.shape)"
   ]
  },
  {
   "cell_type": "code",
   "execution_count": 5,
   "metadata": {},
   "outputs": [
    {
     "data": {
      "text/html": [
       "<div>\n",
       "<style scoped>\n",
       "    .dataframe tbody tr th:only-of-type {\n",
       "        vertical-align: middle;\n",
       "    }\n",
       "\n",
       "    .dataframe tbody tr th {\n",
       "        vertical-align: top;\n",
       "    }\n",
       "\n",
       "    .dataframe thead th {\n",
       "        text-align: right;\n",
       "    }\n",
       "</style>\n",
       "<table border=\"1\" class=\"dataframe\">\n",
       "  <thead>\n",
       "    <tr style=\"text-align: right;\">\n",
       "      <th></th>\n",
       "      <th>Id</th>\n",
       "      <th>date</th>\n",
       "      <th>ticker</th>\n",
       "      <th>SF1</th>\n",
       "      <th>SF2</th>\n",
       "      <th>SF3</th>\n",
       "      <th>SF4</th>\n",
       "      <th>SF5</th>\n",
       "      <th>SF6</th>\n",
       "      <th>SF7</th>\n",
       "      <th>alpha</th>\n",
       "      <th>Month</th>\n",
       "      <th>Day</th>\n",
       "      <th>WeekDay</th>\n",
       "      <th>WeekNumber</th>\n",
       "    </tr>\n",
       "  </thead>\n",
       "  <tbody>\n",
       "    <tr>\n",
       "      <td>0</td>\n",
       "      <td>1</td>\n",
       "      <td>2018-08-21</td>\n",
       "      <td>NTAP</td>\n",
       "      <td>-0.628652</td>\n",
       "      <td>0.988891</td>\n",
       "      <td>-0.055714</td>\n",
       "      <td>0.774379</td>\n",
       "      <td>0.551089</td>\n",
       "      <td>-1.329229</td>\n",
       "      <td>-0.995539</td>\n",
       "      <td>2</td>\n",
       "      <td>8</td>\n",
       "      <td>21</td>\n",
       "      <td>1</td>\n",
       "      <td>34</td>\n",
       "    </tr>\n",
       "    <tr>\n",
       "      <td>1</td>\n",
       "      <td>2</td>\n",
       "      <td>2018-10-11</td>\n",
       "      <td>WYNN</td>\n",
       "      <td>1.315786</td>\n",
       "      <td>1.438754</td>\n",
       "      <td>0.187327</td>\n",
       "      <td>0.608933</td>\n",
       "      <td>-1.153030</td>\n",
       "      <td>1.859441</td>\n",
       "      <td>0.730995</td>\n",
       "      <td>3</td>\n",
       "      <td>10</td>\n",
       "      <td>11</td>\n",
       "      <td>3</td>\n",
       "      <td>41</td>\n",
       "    </tr>\n",
       "    <tr>\n",
       "      <td>2</td>\n",
       "      <td>3</td>\n",
       "      <td>2018-08-21</td>\n",
       "      <td>DRI</td>\n",
       "      <td>-1.141388</td>\n",
       "      <td>-1.455016</td>\n",
       "      <td>0.332755</td>\n",
       "      <td>0.674502</td>\n",
       "      <td>0.111326</td>\n",
       "      <td>-0.478597</td>\n",
       "      <td>-1.488157</td>\n",
       "      <td>1</td>\n",
       "      <td>8</td>\n",
       "      <td>21</td>\n",
       "      <td>1</td>\n",
       "      <td>34</td>\n",
       "    </tr>\n",
       "    <tr>\n",
       "      <td>3</td>\n",
       "      <td>4</td>\n",
       "      <td>2018-07-10</td>\n",
       "      <td>GE</td>\n",
       "      <td>-0.054839</td>\n",
       "      <td>-1.454149</td>\n",
       "      <td>-0.162267</td>\n",
       "      <td>-0.681870</td>\n",
       "      <td>0.307869</td>\n",
       "      <td>-0.529987</td>\n",
       "      <td>0.404172</td>\n",
       "      <td>2</td>\n",
       "      <td>7</td>\n",
       "      <td>10</td>\n",
       "      <td>1</td>\n",
       "      <td>28</td>\n",
       "    </tr>\n",
       "    <tr>\n",
       "      <td>4</td>\n",
       "      <td>5</td>\n",
       "      <td>2018-09-12</td>\n",
       "      <td>FE</td>\n",
       "      <td>-0.686366</td>\n",
       "      <td>0.838865</td>\n",
       "      <td>0.073830</td>\n",
       "      <td>0.679024</td>\n",
       "      <td>0.329463</td>\n",
       "      <td>1.262782</td>\n",
       "      <td>-1.024042</td>\n",
       "      <td>2</td>\n",
       "      <td>9</td>\n",
       "      <td>12</td>\n",
       "      <td>2</td>\n",
       "      <td>37</td>\n",
       "    </tr>\n",
       "  </tbody>\n",
       "</table>\n",
       "</div>"
      ],
      "text/plain": [
       "   Id        date ticker       SF1       SF2       SF3       SF4       SF5  \\\n",
       "0   1  2018-08-21   NTAP -0.628652  0.988891 -0.055714  0.774379  0.551089   \n",
       "1   2  2018-10-11   WYNN  1.315786  1.438754  0.187327  0.608933 -1.153030   \n",
       "2   3  2018-08-21    DRI -1.141388 -1.455016  0.332755  0.674502  0.111326   \n",
       "3   4  2018-07-10     GE -0.054839 -1.454149 -0.162267 -0.681870  0.307869   \n",
       "4   5  2018-09-12     FE -0.686366  0.838865  0.073830  0.679024  0.329463   \n",
       "\n",
       "        SF6       SF7  alpha  Month  Day  WeekDay  WeekNumber  \n",
       "0 -1.329229 -0.995539      2      8   21        1          34  \n",
       "1  1.859441  0.730995      3     10   11        3          41  \n",
       "2 -0.478597 -1.488157      1      8   21        1          34  \n",
       "3 -0.529987  0.404172      2      7   10        1          28  \n",
       "4  1.262782 -1.024042      2      9   12        2          37  "
      ]
     },
     "execution_count": 5,
     "metadata": {},
     "output_type": "execute_result"
    }
   ],
   "source": [
    "train.head()"
   ]
  },
  {
   "cell_type": "code",
   "execution_count": 6,
   "metadata": {},
   "outputs": [
    {
     "data": {
      "text/html": [
       "<div>\n",
       "<style scoped>\n",
       "    .dataframe tbody tr th:only-of-type {\n",
       "        vertical-align: middle;\n",
       "    }\n",
       "\n",
       "    .dataframe tbody tr th {\n",
       "        vertical-align: top;\n",
       "    }\n",
       "\n",
       "    .dataframe thead th {\n",
       "        text-align: right;\n",
       "    }\n",
       "</style>\n",
       "<table border=\"1\" class=\"dataframe\">\n",
       "  <thead>\n",
       "    <tr style=\"text-align: right;\">\n",
       "      <th></th>\n",
       "      <th>Id</th>\n",
       "      <th>date</th>\n",
       "      <th>ticker</th>\n",
       "      <th>SF1</th>\n",
       "      <th>SF2</th>\n",
       "      <th>SF3</th>\n",
       "      <th>SF4</th>\n",
       "      <th>SF5</th>\n",
       "      <th>SF6</th>\n",
       "      <th>SF7</th>\n",
       "      <th>Month</th>\n",
       "      <th>Day</th>\n",
       "      <th>WeekDay</th>\n",
       "      <th>WeekNumber</th>\n",
       "    </tr>\n",
       "  </thead>\n",
       "  <tbody>\n",
       "    <tr>\n",
       "      <td>0</td>\n",
       "      <td>270007</td>\n",
       "      <td>2018-07-21</td>\n",
       "      <td>INTC</td>\n",
       "      <td>-3.062194</td>\n",
       "      <td>1.223466</td>\n",
       "      <td>1.741714</td>\n",
       "      <td>2.279266</td>\n",
       "      <td>-1.323573</td>\n",
       "      <td>-0.274912</td>\n",
       "      <td>-4.504449</td>\n",
       "      <td>7</td>\n",
       "      <td>21</td>\n",
       "      <td>5</td>\n",
       "      <td>29</td>\n",
       "    </tr>\n",
       "    <tr>\n",
       "      <td>1</td>\n",
       "      <td>270008</td>\n",
       "      <td>2018-10-05</td>\n",
       "      <td>CTSH</td>\n",
       "      <td>0.816263</td>\n",
       "      <td>-2.184408</td>\n",
       "      <td>0.157975</td>\n",
       "      <td>-0.264743</td>\n",
       "      <td>-0.836282</td>\n",
       "      <td>0.046276</td>\n",
       "      <td>0.826353</td>\n",
       "      <td>10</td>\n",
       "      <td>5</td>\n",
       "      <td>4</td>\n",
       "      <td>40</td>\n",
       "    </tr>\n",
       "    <tr>\n",
       "      <td>2</td>\n",
       "      <td>270009</td>\n",
       "      <td>2018-10-01</td>\n",
       "      <td>CB</td>\n",
       "      <td>0.401281</td>\n",
       "      <td>0.091604</td>\n",
       "      <td>0.083411</td>\n",
       "      <td>-1.147041</td>\n",
       "      <td>-0.485223</td>\n",
       "      <td>-0.601060</td>\n",
       "      <td>1.012811</td>\n",
       "      <td>10</td>\n",
       "      <td>1</td>\n",
       "      <td>0</td>\n",
       "      <td>40</td>\n",
       "    </tr>\n",
       "    <tr>\n",
       "      <td>3</td>\n",
       "      <td>270010</td>\n",
       "      <td>2018-10-24</td>\n",
       "      <td>CTAS</td>\n",
       "      <td>-0.783521</td>\n",
       "      <td>1.192929</td>\n",
       "      <td>0.813831</td>\n",
       "      <td>-0.368166</td>\n",
       "      <td>-1.113656</td>\n",
       "      <td>-0.553581</td>\n",
       "      <td>-0.683803</td>\n",
       "      <td>10</td>\n",
       "      <td>24</td>\n",
       "      <td>2</td>\n",
       "      <td>43</td>\n",
       "    </tr>\n",
       "    <tr>\n",
       "      <td>4</td>\n",
       "      <td>270011</td>\n",
       "      <td>2018-07-27</td>\n",
       "      <td>INTC</td>\n",
       "      <td>0.796507</td>\n",
       "      <td>0.455341</td>\n",
       "      <td>0.679032</td>\n",
       "      <td>0.354336</td>\n",
       "      <td>-1.799055</td>\n",
       "      <td>0.126153</td>\n",
       "      <td>0.297111</td>\n",
       "      <td>7</td>\n",
       "      <td>27</td>\n",
       "      <td>4</td>\n",
       "      <td>30</td>\n",
       "    </tr>\n",
       "  </tbody>\n",
       "</table>\n",
       "</div>"
      ],
      "text/plain": [
       "       Id        date ticker       SF1       SF2       SF3       SF4  \\\n",
       "0  270007  2018-07-21   INTC -3.062194  1.223466  1.741714  2.279266   \n",
       "1  270008  2018-10-05   CTSH  0.816263 -2.184408  0.157975 -0.264743   \n",
       "2  270009  2018-10-01     CB  0.401281  0.091604  0.083411 -1.147041   \n",
       "3  270010  2018-10-24   CTAS -0.783521  1.192929  0.813831 -0.368166   \n",
       "4  270011  2018-07-27   INTC  0.796507  0.455341  0.679032  0.354336   \n",
       "\n",
       "        SF5       SF6       SF7  Month  Day  WeekDay  WeekNumber  \n",
       "0 -1.323573 -0.274912 -4.504449      7   21        5          29  \n",
       "1 -0.836282  0.046276  0.826353     10    5        4          40  \n",
       "2 -0.485223 -0.601060  1.012811     10    1        0          40  \n",
       "3 -1.113656 -0.553581 -0.683803     10   24        2          43  \n",
       "4 -1.799055  0.126153  0.297111      7   27        4          30  "
      ]
     },
     "execution_count": 6,
     "metadata": {},
     "output_type": "execute_result"
    }
   ],
   "source": [
    "test.head()"
   ]
  },
  {
   "cell_type": "code",
   "execution_count": 7,
   "metadata": {},
   "outputs": [],
   "source": [
    "train_s=pd.read_csv('json_df_cleaned_train_val_1.csv')\n",
    "test_s=pd.read_csv('json_df_cleaned_test_1.csv')\n",
    "test_sentiment_pred=pd.read_csv('Rf_senti_pred.csv')\n",
    "# test_sentiment_pred_dl="
   ]
  },
  {
   "cell_type": "code",
   "execution_count": 8,
   "metadata": {},
   "outputs": [
    {
     "name": "stdout",
     "output_type": "stream",
     "text": [
      "(986803, 10)\n",
      "(254741, 9)\n"
     ]
    }
   ],
   "source": [
    "print(train_s.shape)\n",
    "print(test_s.shape)"
   ]
  },
  {
   "cell_type": "code",
   "execution_count": 9,
   "metadata": {},
   "outputs": [
    {
     "data": {
      "text/html": [
       "<div>\n",
       "<style scoped>\n",
       "    .dataframe tbody tr th:only-of-type {\n",
       "        vertical-align: middle;\n",
       "    }\n",
       "\n",
       "    .dataframe tbody tr th {\n",
       "        vertical-align: top;\n",
       "    }\n",
       "\n",
       "    .dataframe thead th {\n",
       "        text-align: right;\n",
       "    }\n",
       "</style>\n",
       "<table border=\"1\" class=\"dataframe\">\n",
       "  <thead>\n",
       "    <tr style=\"text-align: right;\">\n",
       "      <th></th>\n",
       "      <th>Sentiment_score</th>\n",
       "      <th>Stock</th>\n",
       "      <th>Date_T</th>\n",
       "      <th>Month</th>\n",
       "      <th>Day</th>\n",
       "      <th>WeekDay</th>\n",
       "      <th>WeekNumber</th>\n",
       "      <th>Tidy_Tweet</th>\n",
       "      <th>Punctuation_%</th>\n",
       "      <th>Text Length</th>\n",
       "    </tr>\n",
       "  </thead>\n",
       "  <tbody>\n",
       "    <tr>\n",
       "      <td>0</td>\n",
       "      <td>3</td>\n",
       "      <td>AMD</td>\n",
       "      <td>2018-09-19</td>\n",
       "      <td>9</td>\n",
       "      <td>19</td>\n",
       "      <td>2</td>\n",
       "      <td>38</td>\n",
       "      <td>go hesit howev chart stabl go upward</td>\n",
       "      <td>1.6</td>\n",
       "      <td>62</td>\n",
       "    </tr>\n",
       "    <tr>\n",
       "      <td>1</td>\n",
       "      <td>3</td>\n",
       "      <td>CAT</td>\n",
       "      <td>2018-10-09</td>\n",
       "      <td>10</td>\n",
       "      <td>9</td>\n",
       "      <td>1</td>\n",
       "      <td>41</td>\n",
       "      <td>despit china trade war held well thumb</td>\n",
       "      <td>5.0</td>\n",
       "      <td>60</td>\n",
       "    </tr>\n",
       "    <tr>\n",
       "      <td>2</td>\n",
       "      <td>2</td>\n",
       "      <td>AVGO</td>\n",
       "      <td>2018-07-12</td>\n",
       "      <td>7</td>\n",
       "      <td>12</td>\n",
       "      <td>3</td>\n",
       "      <td>28</td>\n",
       "      <td>wtf</td>\n",
       "      <td>22.2</td>\n",
       "      <td>9</td>\n",
       "    </tr>\n",
       "    <tr>\n",
       "      <td>3</td>\n",
       "      <td>2</td>\n",
       "      <td>PH</td>\n",
       "      <td>2018-07-19</td>\n",
       "      <td>7</td>\n",
       "      <td>19</td>\n",
       "      <td>3</td>\n",
       "      <td>29</td>\n",
       "      <td>new insid file muller klau peter transact code</td>\n",
       "      <td>11.0</td>\n",
       "      <td>100</td>\n",
       "    </tr>\n",
       "    <tr>\n",
       "      <td>4</td>\n",
       "      <td>3</td>\n",
       "      <td>FB</td>\n",
       "      <td>2018-08-23</td>\n",
       "      <td>8</td>\n",
       "      <td>23</td>\n",
       "      <td>3</td>\n",
       "      <td>34</td>\n",
       "      <td>bounc tommorrow right thing gtfo</td>\n",
       "      <td>2.2</td>\n",
       "      <td>45</td>\n",
       "    </tr>\n",
       "  </tbody>\n",
       "</table>\n",
       "</div>"
      ],
      "text/plain": [
       "   Sentiment_score Stock      Date_T  Month  Day  WeekDay  WeekNumber  \\\n",
       "0                3   AMD  2018-09-19      9   19        2          38   \n",
       "1                3   CAT  2018-10-09     10    9        1          41   \n",
       "2                2  AVGO  2018-07-12      7   12        3          28   \n",
       "3                2    PH  2018-07-19      7   19        3          29   \n",
       "4                3    FB  2018-08-23      8   23        3          34   \n",
       "\n",
       "                                       Tidy_Tweet  Punctuation_%  Text Length  \n",
       "0            go hesit howev chart stabl go upward            1.6           62  \n",
       "1          despit china trade war held well thumb            5.0           60  \n",
       "2                                             wtf           22.2            9  \n",
       "3  new insid file muller klau peter transact code           11.0          100  \n",
       "4                bounc tommorrow right thing gtfo            2.2           45  "
      ]
     },
     "execution_count": 9,
     "metadata": {},
     "output_type": "execute_result"
    }
   ],
   "source": [
    "train_s.head()"
   ]
  },
  {
   "cell_type": "code",
   "execution_count": 10,
   "metadata": {},
   "outputs": [
    {
     "data": {
      "text/html": [
       "<div>\n",
       "<style scoped>\n",
       "    .dataframe tbody tr th:only-of-type {\n",
       "        vertical-align: middle;\n",
       "    }\n",
       "\n",
       "    .dataframe tbody tr th {\n",
       "        vertical-align: top;\n",
       "    }\n",
       "\n",
       "    .dataframe thead th {\n",
       "        text-align: right;\n",
       "    }\n",
       "</style>\n",
       "<table border=\"1\" class=\"dataframe\">\n",
       "  <thead>\n",
       "    <tr style=\"text-align: right;\">\n",
       "      <th></th>\n",
       "      <th>Stock</th>\n",
       "      <th>Date_T</th>\n",
       "      <th>Month</th>\n",
       "      <th>Day</th>\n",
       "      <th>WeekDay</th>\n",
       "      <th>WeekNumber</th>\n",
       "      <th>Tidy_Tweet</th>\n",
       "      <th>Punctuation_%</th>\n",
       "      <th>Text Length</th>\n",
       "    </tr>\n",
       "  </thead>\n",
       "  <tbody>\n",
       "    <tr>\n",
       "      <td>0</td>\n",
       "      <td>CELG</td>\n",
       "      <td>2018-10-25</td>\n",
       "      <td>10</td>\n",
       "      <td>25</td>\n",
       "      <td>3</td>\n",
       "      <td>43</td>\n",
       "      <td>noth exit</td>\n",
       "      <td>3.7</td>\n",
       "      <td>27</td>\n",
       "    </tr>\n",
       "    <tr>\n",
       "      <td>1</td>\n",
       "      <td>AMD</td>\n",
       "      <td>2018-07-13</td>\n",
       "      <td>7</td>\n",
       "      <td>13</td>\n",
       "      <td>4</td>\n",
       "      <td>28</td>\n",
       "      <td>yall exhaust buyer first green candl byee</td>\n",
       "      <td>9.3</td>\n",
       "      <td>54</td>\n",
       "    </tr>\n",
       "    <tr>\n",
       "      <td>2</td>\n",
       "      <td>AMD</td>\n",
       "      <td>2018-09-25</td>\n",
       "      <td>9</td>\n",
       "      <td>25</td>\n",
       "      <td>1</td>\n",
       "      <td>39</td>\n",
       "      <td>day trader day</td>\n",
       "      <td>11.1</td>\n",
       "      <td>18</td>\n",
       "    </tr>\n",
       "    <tr>\n",
       "      <td>3</td>\n",
       "      <td>MU</td>\n",
       "      <td>2018-07-31</td>\n",
       "      <td>7</td>\n",
       "      <td>31</td>\n",
       "      <td>1</td>\n",
       "      <td>31</td>\n",
       "      <td>weak price action far today dont afraid go sho...</td>\n",
       "      <td>3.4</td>\n",
       "      <td>88</td>\n",
       "    </tr>\n",
       "    <tr>\n",
       "      <td>4</td>\n",
       "      <td>AMZN</td>\n",
       "      <td>2018-08-04</td>\n",
       "      <td>8</td>\n",
       "      <td>4</td>\n",
       "      <td>5</td>\n",
       "      <td>31</td>\n",
       "      <td>continu grow specif key area like cloud comput...</td>\n",
       "      <td>3.7</td>\n",
       "      <td>108</td>\n",
       "    </tr>\n",
       "  </tbody>\n",
       "</table>\n",
       "</div>"
      ],
      "text/plain": [
       "  Stock      Date_T  Month  Day  WeekDay  WeekNumber  \\\n",
       "0  CELG  2018-10-25     10   25        3          43   \n",
       "1   AMD  2018-07-13      7   13        4          28   \n",
       "2   AMD  2018-09-25      9   25        1          39   \n",
       "3    MU  2018-07-31      7   31        1          31   \n",
       "4  AMZN  2018-08-04      8    4        5          31   \n",
       "\n",
       "                                          Tidy_Tweet  Punctuation_%  \\\n",
       "0                                          noth exit            3.7   \n",
       "1          yall exhaust buyer first green candl byee            9.3   \n",
       "2                                     day trader day           11.1   \n",
       "3  weak price action far today dont afraid go sho...            3.4   \n",
       "4  continu grow specif key area like cloud comput...            3.7   \n",
       "\n",
       "   Text Length  \n",
       "0           27  \n",
       "1           54  \n",
       "2           18  \n",
       "3           88  \n",
       "4          108  "
      ]
     },
     "execution_count": 10,
     "metadata": {},
     "output_type": "execute_result"
    }
   ],
   "source": [
    "test_s.head()"
   ]
  },
  {
   "cell_type": "code",
   "execution_count": 11,
   "metadata": {},
   "outputs": [
    {
     "data": {
      "text/plain": [
       "(254741, 9)"
      ]
     },
     "execution_count": 11,
     "metadata": {},
     "output_type": "execute_result"
    }
   ],
   "source": [
    "test_s.shape"
   ]
  },
  {
   "cell_type": "code",
   "execution_count": 12,
   "metadata": {},
   "outputs": [
    {
     "data": {
      "text/html": [
       "<div>\n",
       "<style scoped>\n",
       "    .dataframe tbody tr th:only-of-type {\n",
       "        vertical-align: middle;\n",
       "    }\n",
       "\n",
       "    .dataframe tbody tr th {\n",
       "        vertical-align: top;\n",
       "    }\n",
       "\n",
       "    .dataframe thead th {\n",
       "        text-align: right;\n",
       "    }\n",
       "</style>\n",
       "<table border=\"1\" class=\"dataframe\">\n",
       "  <thead>\n",
       "    <tr style=\"text-align: right;\">\n",
       "      <th></th>\n",
       "      <th>Stock</th>\n",
       "      <th>Date_T</th>\n",
       "      <th>Sentiment_score_pred</th>\n",
       "    </tr>\n",
       "  </thead>\n",
       "  <tbody>\n",
       "    <tr>\n",
       "      <td>0</td>\n",
       "      <td>CELG</td>\n",
       "      <td>2018-10-25</td>\n",
       "      <td>2</td>\n",
       "    </tr>\n",
       "    <tr>\n",
       "      <td>1</td>\n",
       "      <td>AMD</td>\n",
       "      <td>2018-07-13</td>\n",
       "      <td>4</td>\n",
       "    </tr>\n",
       "    <tr>\n",
       "      <td>2</td>\n",
       "      <td>AMD</td>\n",
       "      <td>2018-09-25</td>\n",
       "      <td>2</td>\n",
       "    </tr>\n",
       "    <tr>\n",
       "      <td>3</td>\n",
       "      <td>MU</td>\n",
       "      <td>2018-07-31</td>\n",
       "      <td>0</td>\n",
       "    </tr>\n",
       "    <tr>\n",
       "      <td>4</td>\n",
       "      <td>AMZN</td>\n",
       "      <td>2018-08-04</td>\n",
       "      <td>2</td>\n",
       "    </tr>\n",
       "  </tbody>\n",
       "</table>\n",
       "</div>"
      ],
      "text/plain": [
       "  Stock      Date_T  Sentiment_score_pred\n",
       "0  CELG  2018-10-25                     2\n",
       "1   AMD  2018-07-13                     4\n",
       "2   AMD  2018-09-25                     2\n",
       "3    MU  2018-07-31                     0\n",
       "4  AMZN  2018-08-04                     2"
      ]
     },
     "execution_count": 12,
     "metadata": {},
     "output_type": "execute_result"
    }
   ],
   "source": [
    "test_sentiment_pred.head()"
   ]
  },
  {
   "cell_type": "markdown",
   "metadata": {},
   "source": [
    "## Adding Sentiment Predicted to Test "
   ]
  },
  {
   "cell_type": "code",
   "execution_count": 13,
   "metadata": {},
   "outputs": [],
   "source": [
    "test['Sentiment_score']=test_sentiment_pred['Sentiment_score_pred']"
   ]
  },
  {
   "cell_type": "code",
   "execution_count": 14,
   "metadata": {},
   "outputs": [
    {
     "data": {
      "text/html": [
       "<div>\n",
       "<style scoped>\n",
       "    .dataframe tbody tr th:only-of-type {\n",
       "        vertical-align: middle;\n",
       "    }\n",
       "\n",
       "    .dataframe tbody tr th {\n",
       "        vertical-align: top;\n",
       "    }\n",
       "\n",
       "    .dataframe thead th {\n",
       "        text-align: right;\n",
       "    }\n",
       "</style>\n",
       "<table border=\"1\" class=\"dataframe\">\n",
       "  <thead>\n",
       "    <tr style=\"text-align: right;\">\n",
       "      <th></th>\n",
       "      <th>Id</th>\n",
       "      <th>date</th>\n",
       "      <th>ticker</th>\n",
       "      <th>SF1</th>\n",
       "      <th>SF2</th>\n",
       "      <th>SF3</th>\n",
       "      <th>SF4</th>\n",
       "      <th>SF5</th>\n",
       "      <th>SF6</th>\n",
       "      <th>SF7</th>\n",
       "      <th>Month</th>\n",
       "      <th>Day</th>\n",
       "      <th>WeekDay</th>\n",
       "      <th>WeekNumber</th>\n",
       "      <th>Sentiment_score</th>\n",
       "    </tr>\n",
       "  </thead>\n",
       "  <tbody>\n",
       "    <tr>\n",
       "      <td>0</td>\n",
       "      <td>270007</td>\n",
       "      <td>2018-07-21</td>\n",
       "      <td>INTC</td>\n",
       "      <td>-3.062194</td>\n",
       "      <td>1.223466</td>\n",
       "      <td>1.741714</td>\n",
       "      <td>2.279266</td>\n",
       "      <td>-1.323573</td>\n",
       "      <td>-0.274912</td>\n",
       "      <td>-4.504449</td>\n",
       "      <td>7</td>\n",
       "      <td>21</td>\n",
       "      <td>5</td>\n",
       "      <td>29</td>\n",
       "      <td>2</td>\n",
       "    </tr>\n",
       "    <tr>\n",
       "      <td>1</td>\n",
       "      <td>270008</td>\n",
       "      <td>2018-10-05</td>\n",
       "      <td>CTSH</td>\n",
       "      <td>0.816263</td>\n",
       "      <td>-2.184408</td>\n",
       "      <td>0.157975</td>\n",
       "      <td>-0.264743</td>\n",
       "      <td>-0.836282</td>\n",
       "      <td>0.046276</td>\n",
       "      <td>0.826353</td>\n",
       "      <td>10</td>\n",
       "      <td>5</td>\n",
       "      <td>4</td>\n",
       "      <td>40</td>\n",
       "      <td>4</td>\n",
       "    </tr>\n",
       "    <tr>\n",
       "      <td>2</td>\n",
       "      <td>270009</td>\n",
       "      <td>2018-10-01</td>\n",
       "      <td>CB</td>\n",
       "      <td>0.401281</td>\n",
       "      <td>0.091604</td>\n",
       "      <td>0.083411</td>\n",
       "      <td>-1.147041</td>\n",
       "      <td>-0.485223</td>\n",
       "      <td>-0.601060</td>\n",
       "      <td>1.012811</td>\n",
       "      <td>10</td>\n",
       "      <td>1</td>\n",
       "      <td>0</td>\n",
       "      <td>40</td>\n",
       "      <td>2</td>\n",
       "    </tr>\n",
       "    <tr>\n",
       "      <td>3</td>\n",
       "      <td>270010</td>\n",
       "      <td>2018-10-24</td>\n",
       "      <td>CTAS</td>\n",
       "      <td>-0.783521</td>\n",
       "      <td>1.192929</td>\n",
       "      <td>0.813831</td>\n",
       "      <td>-0.368166</td>\n",
       "      <td>-1.113656</td>\n",
       "      <td>-0.553581</td>\n",
       "      <td>-0.683803</td>\n",
       "      <td>10</td>\n",
       "      <td>24</td>\n",
       "      <td>2</td>\n",
       "      <td>43</td>\n",
       "      <td>0</td>\n",
       "    </tr>\n",
       "    <tr>\n",
       "      <td>4</td>\n",
       "      <td>270011</td>\n",
       "      <td>2018-07-27</td>\n",
       "      <td>INTC</td>\n",
       "      <td>0.796507</td>\n",
       "      <td>0.455341</td>\n",
       "      <td>0.679032</td>\n",
       "      <td>0.354336</td>\n",
       "      <td>-1.799055</td>\n",
       "      <td>0.126153</td>\n",
       "      <td>0.297111</td>\n",
       "      <td>7</td>\n",
       "      <td>27</td>\n",
       "      <td>4</td>\n",
       "      <td>30</td>\n",
       "      <td>2</td>\n",
       "    </tr>\n",
       "  </tbody>\n",
       "</table>\n",
       "</div>"
      ],
      "text/plain": [
       "       Id        date ticker       SF1       SF2       SF3       SF4  \\\n",
       "0  270007  2018-07-21   INTC -3.062194  1.223466  1.741714  2.279266   \n",
       "1  270008  2018-10-05   CTSH  0.816263 -2.184408  0.157975 -0.264743   \n",
       "2  270009  2018-10-01     CB  0.401281  0.091604  0.083411 -1.147041   \n",
       "3  270010  2018-10-24   CTAS -0.783521  1.192929  0.813831 -0.368166   \n",
       "4  270011  2018-07-27   INTC  0.796507  0.455341  0.679032  0.354336   \n",
       "\n",
       "        SF5       SF6       SF7  Month  Day  WeekDay  WeekNumber  \\\n",
       "0 -1.323573 -0.274912 -4.504449      7   21        5          29   \n",
       "1 -0.836282  0.046276  0.826353     10    5        4          40   \n",
       "2 -0.485223 -0.601060  1.012811     10    1        0          40   \n",
       "3 -1.113656 -0.553581 -0.683803     10   24        2          43   \n",
       "4 -1.799055  0.126153  0.297111      7   27        4          30   \n",
       "\n",
       "   Sentiment_score  \n",
       "0                2  \n",
       "1                4  \n",
       "2                2  \n",
       "3                0  \n",
       "4                2  "
      ]
     },
     "execution_count": 14,
     "metadata": {},
     "output_type": "execute_result"
    }
   ],
   "source": [
    "test.head()"
   ]
  },
  {
   "cell_type": "markdown",
   "metadata": {},
   "source": [
    "## Mode "
   ]
  },
  {
   "cell_type": "code",
   "execution_count": 15,
   "metadata": {},
   "outputs": [],
   "source": [
    "train_s_group_mode=train_s.groupby(by=['Date_T','Stock'])['Sentiment_score'].agg(lambda x:x.value_counts().index[0]).to_frame()"
   ]
  },
  {
   "cell_type": "code",
   "execution_count": 16,
   "metadata": {},
   "outputs": [],
   "source": [
    "train_s_group_mode_merge=pd.merge(train, train_s_group_mode,  how='left', left_on=['date','ticker'], right_on = ['Date_T','Stock'])"
   ]
  },
  {
   "cell_type": "code",
   "execution_count": 17,
   "metadata": {},
   "outputs": [
    {
     "data": {
      "text/html": [
       "<div>\n",
       "<style scoped>\n",
       "    .dataframe tbody tr th:only-of-type {\n",
       "        vertical-align: middle;\n",
       "    }\n",
       "\n",
       "    .dataframe tbody tr th {\n",
       "        vertical-align: top;\n",
       "    }\n",
       "\n",
       "    .dataframe thead th {\n",
       "        text-align: right;\n",
       "    }\n",
       "</style>\n",
       "<table border=\"1\" class=\"dataframe\">\n",
       "  <thead>\n",
       "    <tr style=\"text-align: right;\">\n",
       "      <th></th>\n",
       "      <th>Id</th>\n",
       "      <th>date</th>\n",
       "      <th>ticker</th>\n",
       "      <th>SF1</th>\n",
       "      <th>SF2</th>\n",
       "      <th>SF3</th>\n",
       "      <th>SF4</th>\n",
       "      <th>SF5</th>\n",
       "      <th>SF6</th>\n",
       "      <th>SF7</th>\n",
       "      <th>alpha</th>\n",
       "      <th>Month</th>\n",
       "      <th>Day</th>\n",
       "      <th>WeekDay</th>\n",
       "      <th>WeekNumber</th>\n",
       "      <th>Sentiment_score</th>\n",
       "    </tr>\n",
       "  </thead>\n",
       "  <tbody>\n",
       "    <tr>\n",
       "      <td>0</td>\n",
       "      <td>1</td>\n",
       "      <td>2018-08-21</td>\n",
       "      <td>NTAP</td>\n",
       "      <td>-0.628652</td>\n",
       "      <td>0.988891</td>\n",
       "      <td>-0.055714</td>\n",
       "      <td>0.774379</td>\n",
       "      <td>0.551089</td>\n",
       "      <td>-1.329229</td>\n",
       "      <td>-0.995539</td>\n",
       "      <td>2</td>\n",
       "      <td>8</td>\n",
       "      <td>21</td>\n",
       "      <td>1</td>\n",
       "      <td>34</td>\n",
       "      <td>2.0</td>\n",
       "    </tr>\n",
       "    <tr>\n",
       "      <td>1</td>\n",
       "      <td>2</td>\n",
       "      <td>2018-10-11</td>\n",
       "      <td>WYNN</td>\n",
       "      <td>1.315786</td>\n",
       "      <td>1.438754</td>\n",
       "      <td>0.187327</td>\n",
       "      <td>0.608933</td>\n",
       "      <td>-1.153030</td>\n",
       "      <td>1.859441</td>\n",
       "      <td>0.730995</td>\n",
       "      <td>3</td>\n",
       "      <td>10</td>\n",
       "      <td>11</td>\n",
       "      <td>3</td>\n",
       "      <td>41</td>\n",
       "      <td>2.0</td>\n",
       "    </tr>\n",
       "    <tr>\n",
       "      <td>2</td>\n",
       "      <td>3</td>\n",
       "      <td>2018-08-21</td>\n",
       "      <td>DRI</td>\n",
       "      <td>-1.141388</td>\n",
       "      <td>-1.455016</td>\n",
       "      <td>0.332755</td>\n",
       "      <td>0.674502</td>\n",
       "      <td>0.111326</td>\n",
       "      <td>-0.478597</td>\n",
       "      <td>-1.488157</td>\n",
       "      <td>1</td>\n",
       "      <td>8</td>\n",
       "      <td>21</td>\n",
       "      <td>1</td>\n",
       "      <td>34</td>\n",
       "      <td>2.0</td>\n",
       "    </tr>\n",
       "    <tr>\n",
       "      <td>3</td>\n",
       "      <td>4</td>\n",
       "      <td>2018-07-10</td>\n",
       "      <td>GE</td>\n",
       "      <td>-0.054839</td>\n",
       "      <td>-1.454149</td>\n",
       "      <td>-0.162267</td>\n",
       "      <td>-0.681870</td>\n",
       "      <td>0.307869</td>\n",
       "      <td>-0.529987</td>\n",
       "      <td>0.404172</td>\n",
       "      <td>2</td>\n",
       "      <td>7</td>\n",
       "      <td>10</td>\n",
       "      <td>1</td>\n",
       "      <td>28</td>\n",
       "      <td>2.0</td>\n",
       "    </tr>\n",
       "    <tr>\n",
       "      <td>4</td>\n",
       "      <td>5</td>\n",
       "      <td>2018-09-12</td>\n",
       "      <td>FE</td>\n",
       "      <td>-0.686366</td>\n",
       "      <td>0.838865</td>\n",
       "      <td>0.073830</td>\n",
       "      <td>0.679024</td>\n",
       "      <td>0.329463</td>\n",
       "      <td>1.262782</td>\n",
       "      <td>-1.024042</td>\n",
       "      <td>2</td>\n",
       "      <td>9</td>\n",
       "      <td>12</td>\n",
       "      <td>2</td>\n",
       "      <td>37</td>\n",
       "      <td>0.0</td>\n",
       "    </tr>\n",
       "    <tr>\n",
       "      <td>...</td>\n",
       "      <td>...</td>\n",
       "      <td>...</td>\n",
       "      <td>...</td>\n",
       "      <td>...</td>\n",
       "      <td>...</td>\n",
       "      <td>...</td>\n",
       "      <td>...</td>\n",
       "      <td>...</td>\n",
       "      <td>...</td>\n",
       "      <td>...</td>\n",
       "      <td>...</td>\n",
       "      <td>...</td>\n",
       "      <td>...</td>\n",
       "      <td>...</td>\n",
       "      <td>...</td>\n",
       "      <td>...</td>\n",
       "    </tr>\n",
       "    <tr>\n",
       "      <td>27001</td>\n",
       "      <td>27002</td>\n",
       "      <td>2018-10-05</td>\n",
       "      <td>RF</td>\n",
       "      <td>-0.946205</td>\n",
       "      <td>1.871952</td>\n",
       "      <td>0.068230</td>\n",
       "      <td>-0.348439</td>\n",
       "      <td>0.439969</td>\n",
       "      <td>0.297584</td>\n",
       "      <td>-0.634398</td>\n",
       "      <td>3</td>\n",
       "      <td>10</td>\n",
       "      <td>5</td>\n",
       "      <td>4</td>\n",
       "      <td>40</td>\n",
       "      <td>0.0</td>\n",
       "    </tr>\n",
       "    <tr>\n",
       "      <td>27002</td>\n",
       "      <td>27003</td>\n",
       "      <td>2018-07-30</td>\n",
       "      <td>PG</td>\n",
       "      <td>-0.962175</td>\n",
       "      <td>0.623644</td>\n",
       "      <td>0.468051</td>\n",
       "      <td>0.245506</td>\n",
       "      <td>-0.290927</td>\n",
       "      <td>-0.658470</td>\n",
       "      <td>-1.112317</td>\n",
       "      <td>3</td>\n",
       "      <td>7</td>\n",
       "      <td>30</td>\n",
       "      <td>0</td>\n",
       "      <td>31</td>\n",
       "      <td>2.0</td>\n",
       "    </tr>\n",
       "    <tr>\n",
       "      <td>27003</td>\n",
       "      <td>27004</td>\n",
       "      <td>2018-10-16</td>\n",
       "      <td>JCP</td>\n",
       "      <td>1.382757</td>\n",
       "      <td>-1.382645</td>\n",
       "      <td>-0.008343</td>\n",
       "      <td>-0.276788</td>\n",
       "      <td>-0.869303</td>\n",
       "      <td>-1.563029</td>\n",
       "      <td>1.372273</td>\n",
       "      <td>2</td>\n",
       "      <td>10</td>\n",
       "      <td>16</td>\n",
       "      <td>1</td>\n",
       "      <td>42</td>\n",
       "      <td>2.0</td>\n",
       "    </tr>\n",
       "    <tr>\n",
       "      <td>27004</td>\n",
       "      <td>27005</td>\n",
       "      <td>2018-07-27</td>\n",
       "      <td>NVDA</td>\n",
       "      <td>1.088894</td>\n",
       "      <td>-1.123395</td>\n",
       "      <td>0.027197</td>\n",
       "      <td>0.914267</td>\n",
       "      <td>-0.680183</td>\n",
       "      <td>-0.375689</td>\n",
       "      <td>0.394336</td>\n",
       "      <td>3</td>\n",
       "      <td>7</td>\n",
       "      <td>27</td>\n",
       "      <td>4</td>\n",
       "      <td>30</td>\n",
       "      <td>2.0</td>\n",
       "    </tr>\n",
       "    <tr>\n",
       "      <td>27005</td>\n",
       "      <td>27006</td>\n",
       "      <td>2018-10-14</td>\n",
       "      <td>WBA</td>\n",
       "      <td>-0.637959</td>\n",
       "      <td>0.621395</td>\n",
       "      <td>-0.636104</td>\n",
       "      <td>-0.810184</td>\n",
       "      <td>1.587782</td>\n",
       "      <td>-0.413540</td>\n",
       "      <td>0.101924</td>\n",
       "      <td>2</td>\n",
       "      <td>10</td>\n",
       "      <td>14</td>\n",
       "      <td>6</td>\n",
       "      <td>41</td>\n",
       "      <td>3.0</td>\n",
       "    </tr>\n",
       "  </tbody>\n",
       "</table>\n",
       "<p>27006 rows × 16 columns</p>\n",
       "</div>"
      ],
      "text/plain": [
       "          Id        date ticker       SF1       SF2       SF3       SF4  \\\n",
       "0          1  2018-08-21   NTAP -0.628652  0.988891 -0.055714  0.774379   \n",
       "1          2  2018-10-11   WYNN  1.315786  1.438754  0.187327  0.608933   \n",
       "2          3  2018-08-21    DRI -1.141388 -1.455016  0.332755  0.674502   \n",
       "3          4  2018-07-10     GE -0.054839 -1.454149 -0.162267 -0.681870   \n",
       "4          5  2018-09-12     FE -0.686366  0.838865  0.073830  0.679024   \n",
       "...      ...         ...    ...       ...       ...       ...       ...   \n",
       "27001  27002  2018-10-05     RF -0.946205  1.871952  0.068230 -0.348439   \n",
       "27002  27003  2018-07-30     PG -0.962175  0.623644  0.468051  0.245506   \n",
       "27003  27004  2018-10-16    JCP  1.382757 -1.382645 -0.008343 -0.276788   \n",
       "27004  27005  2018-07-27   NVDA  1.088894 -1.123395  0.027197  0.914267   \n",
       "27005  27006  2018-10-14    WBA -0.637959  0.621395 -0.636104 -0.810184   \n",
       "\n",
       "            SF5       SF6       SF7  alpha  Month  Day  WeekDay  WeekNumber  \\\n",
       "0      0.551089 -1.329229 -0.995539      2      8   21        1          34   \n",
       "1     -1.153030  1.859441  0.730995      3     10   11        3          41   \n",
       "2      0.111326 -0.478597 -1.488157      1      8   21        1          34   \n",
       "3      0.307869 -0.529987  0.404172      2      7   10        1          28   \n",
       "4      0.329463  1.262782 -1.024042      2      9   12        2          37   \n",
       "...         ...       ...       ...    ...    ...  ...      ...         ...   \n",
       "27001  0.439969  0.297584 -0.634398      3     10    5        4          40   \n",
       "27002 -0.290927 -0.658470 -1.112317      3      7   30        0          31   \n",
       "27003 -0.869303 -1.563029  1.372273      2     10   16        1          42   \n",
       "27004 -0.680183 -0.375689  0.394336      3      7   27        4          30   \n",
       "27005  1.587782 -0.413540  0.101924      2     10   14        6          41   \n",
       "\n",
       "       Sentiment_score  \n",
       "0                  2.0  \n",
       "1                  2.0  \n",
       "2                  2.0  \n",
       "3                  2.0  \n",
       "4                  0.0  \n",
       "...                ...  \n",
       "27001              0.0  \n",
       "27002              2.0  \n",
       "27003              2.0  \n",
       "27004              2.0  \n",
       "27005              3.0  \n",
       "\n",
       "[27006 rows x 16 columns]"
      ]
     },
     "execution_count": 17,
     "metadata": {},
     "output_type": "execute_result"
    }
   ],
   "source": [
    "train_s_group_mode_merge"
   ]
  },
  {
   "cell_type": "code",
   "execution_count": 18,
   "metadata": {},
   "outputs": [
    {
     "data": {
      "text/plain": [
       "(27006, 16)"
      ]
     },
     "execution_count": 18,
     "metadata": {},
     "output_type": "execute_result"
    }
   ],
   "source": [
    "train_s_group_mode_merge.shape"
   ]
  },
  {
   "cell_type": "code",
   "execution_count": 19,
   "metadata": {},
   "outputs": [
    {
     "data": {
      "text/plain": [
       "Id                    0\n",
       "date                  0\n",
       "ticker                0\n",
       "SF1                   0\n",
       "SF2                   0\n",
       "SF3                   0\n",
       "SF4                   0\n",
       "SF5                   0\n",
       "SF6                   0\n",
       "SF7                   0\n",
       "alpha                 0\n",
       "Month                 0\n",
       "Day                   0\n",
       "WeekDay               0\n",
       "WeekNumber            0\n",
       "Sentiment_score    2196\n",
       "dtype: int64"
      ]
     },
     "execution_count": 19,
     "metadata": {},
     "output_type": "execute_result"
    }
   ],
   "source": [
    "train_s_group_mode_merge.isnull().sum()"
   ]
  },
  {
   "cell_type": "code",
   "execution_count": 20,
   "metadata": {},
   "outputs": [],
   "source": [
    "train_s_group_mode_merge.fillna(2,inplace=True)"
   ]
  },
  {
   "cell_type": "code",
   "execution_count": 21,
   "metadata": {},
   "outputs": [],
   "source": [
    "X=train_s_group_mode_merge.drop(['Id','date','alpha','ticker','Month','Day','WeekDay','WeekNumber'],axis=1)\n",
    "y=train_s_group_mode_merge['alpha']"
   ]
  },
  {
   "cell_type": "code",
   "execution_count": 22,
   "metadata": {},
   "outputs": [],
   "source": [
    "X_train_sent,X_test_sent,y_train_sent,y_test_sent=train_test_split(X,y,test_size=0.3,random_state=42)"
   ]
  },
  {
   "cell_type": "markdown",
   "metadata": {},
   "source": [
    "## Random Forest"
   ]
  },
  {
   "cell_type": "code",
   "execution_count": 23,
   "metadata": {},
   "outputs": [],
   "source": [
    "from sklearn.ensemble import RandomForestClassifier\n",
    "rf=RandomForestClassifier()\n",
    "rf.fit(X_train_sent,y_train_sent)\n",
    "y_train_sent_pred=rf.predict(X_train_sent)\n",
    "y_test_sent_pred=rf.predict(X_test_sent)"
   ]
  },
  {
   "cell_type": "markdown",
   "metadata": {},
   "source": [
    "### Train Set"
   ]
  },
  {
   "cell_type": "code",
   "execution_count": 24,
   "metadata": {},
   "outputs": [
    {
     "name": "stdout",
     "output_type": "stream",
     "text": [
      "              precision    recall  f1-score   support\n",
      "\n",
      "           1       0.98      0.99      0.98      3828\n",
      "           2       0.98      1.00      0.99      7650\n",
      "           3       0.99      0.97      0.98      3904\n",
      "           4       0.99      0.97      0.98      3522\n",
      "\n",
      "    accuracy                           0.99     18904\n",
      "   macro avg       0.99      0.98      0.98     18904\n",
      "weighted avg       0.99      0.99      0.99     18904\n",
      "\n"
     ]
    }
   ],
   "source": [
    "print(classification_report(y_train_sent, y_train_sent_pred))"
   ]
  },
  {
   "cell_type": "code",
   "execution_count": 25,
   "metadata": {},
   "outputs": [
    {
     "data": {
      "image/png": "[encoded data removed]",
      "text/plain": [
       "<Figure size 432x288 with 2 Axes>"
      ]
     },
     "metadata": {
      "needs_background": "light"
     },
     "output_type": "display_data"
    }
   ],
   "source": [
    "# Confusion Matrix\n",
    "confusion_matrix_c(y_train_sent, y_train_sent_pred)"
   ]
  },
  {
   "cell_type": "code",
   "execution_count": 26,
   "metadata": {},
   "outputs": [
    {
     "name": "stdout",
     "output_type": "stream",
     "text": [
      "Misclassified samples: 278\n",
      "Accuracy: 0.99\n",
      "F1-Score: 0.98\n"
     ]
    }
   ],
   "source": [
    "# how did our model perform?\n",
    "count_misclassified = (y_train_sent != y_train_sent_pred).sum()\n",
    "print('Misclassified samples: {}'.format(count_misclassified))\n",
    "accuracy = accuracy_score(y_train_sent, y_train_sent_pred)\n",
    "print('Accuracy: {:.2f}'.format(accuracy))\n",
    "f1=f1_score(y_train_sent, y_train_sent_pred, average='macro')\n",
    "print('F1-Score: {:.2f}'.format(f1))"
   ]
  },
  {
   "cell_type": "markdown",
   "metadata": {},
   "source": [
    "### Test Set"
   ]
  },
  {
   "cell_type": "code",
   "execution_count": 27,
   "metadata": {
    "scrolled": true
   },
   "outputs": [
    {
     "name": "stdout",
     "output_type": "stream",
     "text": [
      "              precision    recall  f1-score   support\n",
      "\n",
      "           1       0.60      0.56      0.58      1639\n",
      "           2       0.78      0.93      0.85      3262\n",
      "           3       0.58      0.47      0.52      1632\n",
      "           4       0.63      0.54      0.59      1569\n",
      "\n",
      "    accuracy                           0.69      8102\n",
      "   macro avg       0.65      0.63      0.63      8102\n",
      "weighted avg       0.67      0.69      0.68      8102\n",
      "\n"
     ]
    }
   ],
   "source": [
    "print(classification_report(y_test_sent, y_test_sent_pred))"
   ]
  },
  {
   "cell_type": "code",
   "execution_count": 28,
   "metadata": {
    "scrolled": true
   },
   "outputs": [
    {
     "data": {
      "image/png": "[encoded data removed]",
      "text/plain": [
       "<Figure size 432x288 with 2 Axes>"
      ]
     },
     "metadata": {
      "needs_background": "light"
     },
     "output_type": "display_data"
    }
   ],
   "source": [
    "# Confusion Matrix\n",
    "confusion_matrix_c(y_test_sent, y_test_sent_pred)"
   ]
  },
  {
   "cell_type": "code",
   "execution_count": 29,
   "metadata": {
    "scrolled": false
   },
   "outputs": [
    {
     "name": "stdout",
     "output_type": "stream",
     "text": [
      "Misclassified samples: 2526\n",
      "Accuracy: 0.69\n",
      "F1-Score: 0.63\n"
     ]
    }
   ],
   "source": [
    "# how did our model perform?\n",
    "count_misclassified = (y_test_sent != y_test_sent_pred).sum()\n",
    "print('Misclassified samples: {}'.format(count_misclassified))\n",
    "accuracy = accuracy_score(y_test_sent, y_test_sent_pred)\n",
    "print('Accuracy: {:.2f}'.format(accuracy))\n",
    "f1=f1_score(y_test_sent, y_test_sent_pred, average='macro')\n",
    "print('F1-Score: {:.2f}'.format(f1))"
   ]
  },
  {
   "cell_type": "markdown",
   "metadata": {},
   "source": [
    "## On Whole Dataset"
   ]
  },
  {
   "cell_type": "code",
   "execution_count": 30,
   "metadata": {},
   "outputs": [],
   "source": [
    "from sklearn.ensemble import RandomForestClassifier\n",
    "rf=RandomForestClassifier()\n",
    "rf.fit(X,y)\n",
    "y_pred_full=rf.predict(X)"
   ]
  },
  {
   "cell_type": "code",
   "execution_count": 31,
   "metadata": {
    "scrolled": true
   },
   "outputs": [
    {
     "name": "stdout",
     "output_type": "stream",
     "text": [
      "              precision    recall  f1-score   support\n",
      "\n",
      "           1       0.98      0.99      0.98      5467\n",
      "           2       0.98      1.00      0.99     10912\n",
      "           3       0.99      0.97      0.98      5536\n",
      "           4       0.99      0.97      0.98      5091\n",
      "\n",
      "    accuracy                           0.99     27006\n",
      "   macro avg       0.99      0.98      0.98     27006\n",
      "weighted avg       0.99      0.99      0.99     27006\n",
      "\n"
     ]
    }
   ],
   "source": [
    "print(classification_report(y, y_pred_full))"
   ]
  },
  {
   "cell_type": "code",
   "execution_count": 32,
   "metadata": {
    "scrolled": true
   },
   "outputs": [
    {
     "data": {
      "image/png": "[encoded data removed]",
      "text/plain": [
       "<Figure size 432x288 with 2 Axes>"
      ]
     },
     "metadata": {
      "needs_background": "light"
     },
     "output_type": "display_data"
    }
   ],
   "source": [
    "# Confusion Matrix\n",
    "confusion_matrix_c(y, y_pred_full)"
   ]
  },
  {
   "cell_type": "code",
   "execution_count": 33,
   "metadata": {
    "scrolled": true
   },
   "outputs": [
    {
     "name": "stdout",
     "output_type": "stream",
     "text": [
      "Misclassified samples: 382\n",
      "Accuracy: 0.99\n",
      "F1-Score: 0.98\n"
     ]
    }
   ],
   "source": [
    "# how did our model perform?\n",
    "count_misclassified = (y != y_pred_full).sum()\n",
    "print('Misclassified samples: {}'.format(count_misclassified))\n",
    "accuracy = accuracy_score(y, y_pred_full)\n",
    "print('Accuracy: {:.2f}'.format(accuracy))\n",
    "f1=f1_score(y, y_pred_full, average='macro')\n",
    "print('F1-Score: {:.2f}'.format(f1))"
   ]
  },
  {
   "cell_type": "markdown",
   "metadata": {},
   "source": [
    "## Randomized SearchCV Random Forest(1)"
   ]
  },
  {
   "cell_type": "code",
   "execution_count": 34,
   "metadata": {},
   "outputs": [
    {
     "name": "stdout",
     "output_type": "stream",
     "text": [
      "Fitting 3 folds for each of 10 candidates, totalling 30 fits\n"
     ]
    },
    {
     "name": "stderr",
     "output_type": "stream",
     "text": [
      "[Parallel(n_jobs=-1)]: Using backend LokyBackend with 8 concurrent workers.\n",
      "[Parallel(n_jobs=-1)]: Done  30 out of  30 | elapsed:  4.5min finished\n"
     ]
    },
    {
     "data": {
      "text/plain": [
       "RandomizedSearchCV(cv=3, error_score='raise-deprecating',\n",
       "                   estimator=RandomForestClassifier(bootstrap=True,\n",
       "                                                    class_weight=None,\n",
       "                                                    criterion='gini',\n",
       "                                                    max_depth=None,\n",
       "                                                    max_features='auto',\n",
       "                                                    max_leaf_nodes=None,\n",
       "                                                    min_impurity_decrease=0.0,\n",
       "                                                    min_impurity_split=None,\n",
       "                                                    min_samples_leaf=1,\n",
       "                                                    min_samples_split=2,\n",
       "                                                    min_weight_fraction_leaf=0.0,\n",
       "                                                    n_estimators='warn',\n",
       "                                                    n_jobs=None,\n",
       "                                                    oob_sc...\n",
       "                   iid='warn', n_iter=10, n_jobs=-1,\n",
       "                   param_distributions={'bootstrap': [True],\n",
       "                                        'max_depth': [50, 60, 80, 90, 100, 110],\n",
       "                                        'max_features': [2, 3, 'sqrt', 4, 5, 6,\n",
       "                                                         7],\n",
       "                                        'min_samples_leaf': [3, 4, 5],\n",
       "                                        'min_samples_split': [8, 10, 12, 14, 16,\n",
       "                                                              18],\n",
       "                                        'n_estimators': [80, 100, 200, 300,\n",
       "                                                         1000]},\n",
       "                   pre_dispatch='2*n_jobs', random_state=None, refit=True,\n",
       "                   return_train_score=False, scoring='f1_macro', verbose=2)"
      ]
     },
     "execution_count": 34,
     "metadata": {},
     "output_type": "execute_result"
    }
   ],
   "source": [
    "from sklearn.model_selection import RandomizedSearchCV\n",
    "from sklearn.ensemble import RandomForestClassifier\n",
    "# Create the parameter grid based on the results of grid search\n",
    "param_grid = {\n",
    "    'bootstrap': [True],\n",
    "    'max_depth': [50,60,80, 90, 100, 110],\n",
    "    'max_features': [2, 3,'sqrt', 4, 5, 6, 7],\n",
    "    'min_samples_leaf': [3, 4, 5],\n",
    "    'min_samples_split': [8, 10, 12, 14, 16, 18],\n",
    "    'n_estimators': [80, 100, 200, 300, 1000]\n",
    "}\n",
    "# Create a based model\n",
    "rf = RandomForestClassifier()\n",
    "# Instantiate the grid search model\n",
    "rand_search = RandomizedSearchCV(estimator = rf, param_distributions = param_grid,\n",
    "                          cv = 3, n_jobs = -1, verbose = 2, scoring=\"f1_macro\")\n",
    "rand_search.fit(X, y)"
   ]
  },
  {
   "cell_type": "code",
   "execution_count": 35,
   "metadata": {},
   "outputs": [
    {
     "data": {
      "text/plain": [
       "{'n_estimators': 1000,\n",
       " 'min_samples_split': 8,\n",
       " 'min_samples_leaf': 4,\n",
       " 'max_features': 6,\n",
       " 'max_depth': 110,\n",
       " 'bootstrap': True}"
      ]
     },
     "execution_count": 35,
     "metadata": {},
     "output_type": "execute_result"
    }
   ],
   "source": [
    "rand_search.best_params_"
   ]
  },
  {
   "cell_type": "code",
   "execution_count": 36,
   "metadata": {},
   "outputs": [
    {
     "name": "stdout",
     "output_type": "stream",
     "text": [
      "Fitting 3 folds for each of 10 candidates, totalling 30 fits\n"
     ]
    },
    {
     "name": "stderr",
     "output_type": "stream",
     "text": [
      "[Parallel(n_jobs=-1)]: Using backend LokyBackend with 8 concurrent workers.\n",
      "[Parallel(n_jobs=-1)]: Done  30 out of  30 | elapsed:  1.8min finished\n"
     ]
    }
   ],
   "source": [
    "rand_search.fit(X_train_sent,y_train_sent)\n",
    "y_train_sent_pred=rand_search.predict(X_train_sent)\n",
    "y_test_sent_pred=rand_search.predict(X_test_sent)"
   ]
  },
  {
   "cell_type": "markdown",
   "metadata": {},
   "source": [
    "### Train Set"
   ]
  },
  {
   "cell_type": "code",
   "execution_count": 37,
   "metadata": {},
   "outputs": [
    {
     "name": "stdout",
     "output_type": "stream",
     "text": [
      "              precision    recall  f1-score   support\n",
      "\n",
      "           1       0.88      0.76      0.82      3828\n",
      "           2       0.85      0.98      0.91      7650\n",
      "           3       0.88      0.75      0.81      3904\n",
      "           4       0.86      0.83      0.84      3522\n",
      "\n",
      "    accuracy                           0.86     18904\n",
      "   macro avg       0.87      0.83      0.85     18904\n",
      "weighted avg       0.86      0.86      0.86     18904\n",
      "\n"
     ]
    }
   ],
   "source": [
    "print(classification_report(y_train_sent, y_train_sent_pred))"
   ]
  },
  {
   "cell_type": "code",
   "execution_count": 38,
   "metadata": {},
   "outputs": [
    {
     "data": {
      "image/png": "[encoded data removed]",
      "text/plain": [
       "<Figure size 432x288 with 2 Axes>"
      ]
     },
     "metadata": {
      "needs_background": "light"
     },
     "output_type": "display_data"
    }
   ],
   "source": [
    "# Confusion Matrix\n",
    "confusion_matrix_c(y_train_sent, y_train_sent_pred)"
   ]
  },
  {
   "cell_type": "code",
   "execution_count": 39,
   "metadata": {},
   "outputs": [
    {
     "name": "stdout",
     "output_type": "stream",
     "text": [
      "Misclassified samples: 2594\n",
      "Accuracy: 0.86\n",
      "F1-Score: 0.85\n"
     ]
    }
   ],
   "source": [
    "# how did our model perform?\n",
    "count_misclassified = (y_train_sent != y_train_sent_pred).sum()\n",
    "print('Misclassified samples: {}'.format(count_misclassified))\n",
    "accuracy = accuracy_score(y_train_sent, y_train_sent_pred)\n",
    "print('Accuracy: {:.2f}'.format(accuracy))\n",
    "f1=f1_score(y_train_sent, y_train_sent_pred, average='macro')\n",
    "print('F1-Score: {:.2f}'.format(f1))"
   ]
  },
  {
   "cell_type": "markdown",
   "metadata": {},
   "source": [
    "### Test Set"
   ]
  },
  {
   "cell_type": "code",
   "execution_count": 40,
   "metadata": {
    "scrolled": true
   },
   "outputs": [
    {
     "name": "stdout",
     "output_type": "stream",
     "text": [
      "              precision    recall  f1-score   support\n",
      "\n",
      "           1       0.68      0.56      0.61      1639\n",
      "           2       0.78      0.95      0.86      3262\n",
      "           3       0.63      0.48      0.54      1632\n",
      "           4       0.65      0.63      0.64      1569\n",
      "\n",
      "    accuracy                           0.72      8102\n",
      "   macro avg       0.68      0.66      0.66      8102\n",
      "weighted avg       0.70      0.72      0.70      8102\n",
      "\n"
     ]
    }
   ],
   "source": [
    "print(classification_report(y_test_sent, y_test_sent_pred))"
   ]
  },
  {
   "cell_type": "code",
   "execution_count": 41,
   "metadata": {
    "scrolled": false
   },
   "outputs": [
    {
     "data": {
      "image/png": "[encoded data removed]",
      "text/plain": [
       "<Figure size 432x288 with 2 Axes>"
      ]
     },
     "metadata": {
      "needs_background": "light"
     },
     "output_type": "display_data"
    }
   ],
   "source": [
    "# Confusion Matrix\n",
    "confusion_matrix_c(y_test_sent, y_test_sent_pred)"
   ]
  },
  {
   "cell_type": "code",
   "execution_count": 42,
   "metadata": {
    "scrolled": true
   },
   "outputs": [
    {
     "name": "stdout",
     "output_type": "stream",
     "text": [
      "Misclassified samples: 2305\n",
      "Accuracy: 0.72\n",
      "F1-Score: 0.66\n"
     ]
    }
   ],
   "source": [
    "# how did our model perform?\n",
    "count_misclassified = (y_test_sent != y_test_sent_pred).sum()\n",
    "print('Misclassified samples: {}'.format(count_misclassified))\n",
    "accuracy = accuracy_score(y_test_sent, y_test_sent_pred)\n",
    "print('Accuracy: {:.2f}'.format(accuracy))\n",
    "f1=f1_score(y_test_sent, y_test_sent_pred, average='macro')\n",
    "print('F1-Score: {:.2f}'.format(f1))"
   ]
  },
  {
   "cell_type": "markdown",
   "metadata": {},
   "source": [
    "## Randomized SearchCV Random Forest(2)"
   ]
  },
  {
   "cell_type": "code",
   "execution_count": 43,
   "metadata": {},
   "outputs": [
    {
     "name": "stdout",
     "output_type": "stream",
     "text": [
      "Fitting 3 folds for each of 10 candidates, totalling 30 fits\n"
     ]
    },
    {
     "name": "stderr",
     "output_type": "stream",
     "text": [
      "[Parallel(n_jobs=-1)]: Using backend LokyBackend with 8 concurrent workers.\n",
      "[Parallel(n_jobs=-1)]: Done  30 out of  30 | elapsed:  5.3min finished\n"
     ]
    },
    {
     "data": {
      "text/plain": [
       "RandomizedSearchCV(cv=3, error_score='raise-deprecating',\n",
       "                   estimator=RandomForestClassifier(bootstrap=True,\n",
       "                                                    class_weight=None,\n",
       "                                                    criterion='gini',\n",
       "                                                    max_depth=None,\n",
       "                                                    max_features='auto',\n",
       "                                                    max_leaf_nodes=None,\n",
       "                                                    min_impurity_decrease=0.0,\n",
       "                                                    min_impurity_split=None,\n",
       "                                                    min_samples_leaf=1,\n",
       "                                                    min_samples_split=2,\n",
       "                                                    min_weight_fraction_leaf=0.0,\n",
       "                                                    n_estimators='warn',\n",
       "                                                    n_jobs=None,\n",
       "                                                    oob_sc...\n",
       "                   iid='warn', n_iter=10, n_jobs=-1,\n",
       "                   param_distributions={'bootstrap': [True],\n",
       "                                        'max_depth': [50, 60, 80, 90, 100, 110,\n",
       "                                                      130],\n",
       "                                        'max_features': [2, 3, 'sqrt', 4, 5, 6,\n",
       "                                                         7, 8],\n",
       "                                        'min_samples_leaf': [3, 4, 5, 7, 9, 11],\n",
       "                                        'min_samples_split': [8, 10, 12, 14, 16,\n",
       "                                                              18],\n",
       "                                        'n_estimators': [80, 100, 200, 300,\n",
       "                                                         1000, 1500, 2000]},\n",
       "                   pre_dispatch='2*n_jobs', random_state=None, refit=True,\n",
       "                   return_train_score=False, scoring='f1_macro', verbose=2)"
      ]
     },
     "execution_count": 43,
     "metadata": {},
     "output_type": "execute_result"
    }
   ],
   "source": [
    "from sklearn.model_selection import RandomizedSearchCV\n",
    "from sklearn.ensemble import RandomForestClassifier\n",
    "# Create the parameter grid based on the results of grid search\n",
    "param_grid = {\n",
    "    'bootstrap': [True],\n",
    "    'max_depth': [50,60,80, 90, 100, 110, 130],\n",
    "    'max_features': [2, 3,'sqrt', 4, 5, 6, 7, 8],\n",
    "    'min_samples_leaf': [3, 4, 5, 7, 9, 11],\n",
    "    'min_samples_split': [8, 10, 12, 14, 16, 18],\n",
    "    'n_estimators': [80, 100, 200, 300, 1000,1500,2000]\n",
    "}\n",
    "# Create a based model\n",
    "rf = RandomForestClassifier()\n",
    "# Instantiate the grid search model\n",
    "rand_search = RandomizedSearchCV(estimator = rf, param_distributions = param_grid,\n",
    "                          cv = 3, n_jobs = -1, verbose = 2, scoring=\"f1_macro\")\n",
    "rand_search.fit(X, y)"
   ]
  },
  {
   "cell_type": "code",
   "execution_count": 44,
   "metadata": {},
   "outputs": [
    {
     "data": {
      "text/plain": [
       "{'n_estimators': 200,\n",
       " 'min_samples_split': 16,\n",
       " 'min_samples_leaf': 3,\n",
       " 'max_features': 4,\n",
       " 'max_depth': 100,\n",
       " 'bootstrap': True}"
      ]
     },
     "execution_count": 44,
     "metadata": {},
     "output_type": "execute_result"
    }
   ],
   "source": [
    "rand_search.best_params_"
   ]
  },
  {
   "cell_type": "code",
   "execution_count": 45,
   "metadata": {},
   "outputs": [
    {
     "name": "stdout",
     "output_type": "stream",
     "text": [
      "Fitting 3 folds for each of 10 candidates, totalling 30 fits\n"
     ]
    },
    {
     "name": "stderr",
     "output_type": "stream",
     "text": [
      "[Parallel(n_jobs=-1)]: Using backend LokyBackend with 8 concurrent workers.\n",
      "[Parallel(n_jobs=-1)]: Done  30 out of  30 | elapsed:  3.9min finished\n"
     ]
    }
   ],
   "source": [
    "rand_search.fit(X_train_sent,y_train_sent)\n",
    "y_train_sent_pred=rand_search.predict(X_train_sent)\n",
    "y_test_sent_pred=rand_search.predict(X_test_sent)"
   ]
  },
  {
   "cell_type": "markdown",
   "metadata": {},
   "source": [
    "### Train Set"
   ]
  },
  {
   "cell_type": "code",
   "execution_count": 46,
   "metadata": {},
   "outputs": [
    {
     "name": "stdout",
     "output_type": "stream",
     "text": [
      "              precision    recall  f1-score   support\n",
      "\n",
      "           1       0.86      0.75      0.80      3828\n",
      "           2       0.85      0.98      0.91      7650\n",
      "           3       0.86      0.73      0.79      3904\n",
      "           4       0.84      0.82      0.83      3522\n",
      "\n",
      "    accuracy                           0.85     18904\n",
      "   macro avg       0.85      0.82      0.83     18904\n",
      "weighted avg       0.85      0.85      0.85     18904\n",
      "\n"
     ]
    }
   ],
   "source": [
    "print(classification_report(y_train_sent, y_train_sent_pred))"
   ]
  },
  {
   "cell_type": "code",
   "execution_count": 47,
   "metadata": {},
   "outputs": [
    {
     "data": {
      "image/png": "[encoded data removed]",
      "text/plain": [
       "<Figure size 432x288 with 2 Axes>"
      ]
     },
     "metadata": {
      "needs_background": "light"
     },
     "output_type": "display_data"
    }
   ],
   "source": [
    "# Confusion Matrix\n",
    "confusion_matrix_c(y_train_sent, y_train_sent_pred)"
   ]
  },
  {
   "cell_type": "code",
   "execution_count": 48,
   "metadata": {},
   "outputs": [
    {
     "name": "stdout",
     "output_type": "stream",
     "text": [
      "Misclassified samples: 2827\n",
      "Accuracy: 0.85\n",
      "F1-Score: 0.83\n"
     ]
    }
   ],
   "source": [
    "# how did our model perform?\n",
    "count_misclassified = (y_train_sent != y_train_sent_pred).sum()\n",
    "print('Misclassified samples: {}'.format(count_misclassified))\n",
    "accuracy = accuracy_score(y_train_sent, y_train_sent_pred)\n",
    "print('Accuracy: {:.2f}'.format(accuracy))\n",
    "f1=f1_score(y_train_sent, y_train_sent_pred, average='macro')\n",
    "print('F1-Score: {:.2f}'.format(f1))"
   ]
  },
  {
   "cell_type": "markdown",
   "metadata": {},
   "source": [
    "### Test Set"
   ]
  },
  {
   "cell_type": "code",
   "execution_count": 49,
   "metadata": {
    "scrolled": true
   },
   "outputs": [
    {
     "name": "stdout",
     "output_type": "stream",
     "text": [
      "              precision    recall  f1-score   support\n",
      "\n",
      "           1       0.68      0.57      0.62      1639\n",
      "           2       0.79      0.95      0.86      3262\n",
      "           3       0.63      0.49      0.55      1632\n",
      "           4       0.65      0.63      0.64      1569\n",
      "\n",
      "    accuracy                           0.72      8102\n",
      "   macro avg       0.69      0.66      0.67      8102\n",
      "weighted avg       0.71      0.72      0.71      8102\n",
      "\n"
     ]
    }
   ],
   "source": [
    "print(classification_report(y_test_sent, y_test_sent_pred))"
   ]
  },
  {
   "cell_type": "code",
   "execution_count": 50,
   "metadata": {
    "scrolled": false
   },
   "outputs": [
    {
     "data": {
      "image/png": "[encoded data removed]",
      "text/plain": [
       "<Figure size 432x288 with 2 Axes>"
      ]
     },
     "metadata": {
      "needs_background": "light"
     },
     "output_type": "display_data"
    }
   ],
   "source": [
    "# Confusion Matrix\n",
    "confusion_matrix_c(y_test_sent, y_test_sent_pred)"
   ]
  },
  {
   "cell_type": "code",
   "execution_count": 51,
   "metadata": {
    "scrolled": true
   },
   "outputs": [
    {
     "name": "stdout",
     "output_type": "stream",
     "text": [
      "Misclassified samples: 2281\n",
      "Accuracy: 0.72\n",
      "F1-Score: 0.67\n"
     ]
    }
   ],
   "source": [
    "# how did our model perform?\n",
    "count_misclassified = (y_test_sent != y_test_sent_pred).sum()\n",
    "print('Misclassified samples: {}'.format(count_misclassified))\n",
    "accuracy = accuracy_score(y_test_sent, y_test_sent_pred)\n",
    "print('Accuracy: {:.2f}'.format(accuracy))\n",
    "f1=f1_score(y_test_sent, y_test_sent_pred, average='macro')\n",
    "print('F1-Score: {:.2f}'.format(f1))"
   ]
  },
  {
   "cell_type": "markdown",
   "metadata": {},
   "source": [
    "### Feature Importance"
   ]
  },
  {
   "cell_type": "code",
   "execution_count": 52,
   "metadata": {},
   "outputs": [
    {
     "name": "stdout",
     "output_type": "stream",
     "text": [
      " 1) SF4                                           0.283235\n",
      " 2) SF3                                           0.254344\n",
      " 3) SF1                                           0.175883\n",
      " 4) SF5                                           0.116124\n",
      " 5) SF7                                           0.070651\n",
      " 6) SF6                                           0.044468\n",
      " 7) SF2                                           0.044119\n",
      " 8) Sentiment_score                               0.011178\n"
     ]
    },
    {
     "data": {
      "image/png": "[encoded data removed]",
      "text/plain": [
       "<Figure size 432x288 with 1 Axes>"
      ]
     },
     "metadata": {
      "needs_background": "light"
     },
     "output_type": "display_data"
    }
   ],
   "source": [
    "feat_labels = X.columns[:]\n",
    "\n",
    "importances = rand_search.best_estimator_.feature_importances_\n",
    "\n",
    "indices = np.argsort(importances)[::-1]\n",
    "\n",
    "for f in range(X_train_sent.shape[1]):\n",
    "    print(\"%2d) %-*s %f\" % (f + 1,45,\n",
    "                            feat_labels[indices[f]],\n",
    "                            importances[indices[f]]))\n",
    "plt.title('Feature Importance')\n",
    "plt.bar(range(X_train_sent.shape[1]),\n",
    "        importances[indices],\n",
    "        align='center')\n",
    "\n",
    "plt.xticks(range(X_train_sent.shape[1]),\n",
    "           feat_labels[indices], rotation=90)\n",
    "plt.xlim([-1, X_train_sent.shape[1]])\n",
    "plt.tight_layout()\n",
    "plt.show()"
   ]
  },
  {
   "cell_type": "code",
   "execution_count": 53,
   "metadata": {},
   "outputs": [],
   "source": [
    "# from skater.core.explanations import Interpretation\n",
    "# from skater.model import InMemoryModel\n",
    "\n",
    "# interpreter = Interpretation(X_test_sent, feature_names=data.feature_names)\n",
    "# model = InMemoryModel(grid_search.predict_proba, examples=X_train_sent, target_names=grid_search.classes_)"
   ]
  },
  {
   "cell_type": "code",
   "execution_count": 54,
   "metadata": {},
   "outputs": [],
   "source": [
    "# plots = interpreter.feature_importance.plot_feature_importance(model, ascending=False)"
   ]
  },
  {
   "cell_type": "markdown",
   "metadata": {},
   "source": [
    "## Randomized SearchCV XGBClassifier(1)"
   ]
  },
  {
   "cell_type": "code",
   "execution_count": 55,
   "metadata": {},
   "outputs": [
    {
     "name": "stdout",
     "output_type": "stream",
     "text": [
      "Fitting 3 folds for each of 10 candidates, totalling 30 fits\n"
     ]
    },
    {
     "name": "stderr",
     "output_type": "stream",
     "text": [
      "[Parallel(n_jobs=-1)]: Using backend LokyBackend with 8 concurrent workers.\n",
      "[Parallel(n_jobs=-1)]: Done  30 out of  30 | elapsed: 19.6min finished\n"
     ]
    },
    {
     "data": {
      "text/plain": [
       "RandomizedSearchCV(cv=3, error_score='raise-deprecating',\n",
       "                   estimator=XGBClassifier(base_score=0.5, booster='gbtree',\n",
       "                                           colsample_bylevel=1,\n",
       "                                           colsample_bynode=1,\n",
       "                                           colsample_bytree=1, gamma=0,\n",
       "                                           learning_rate=0.1, max_delta_step=0,\n",
       "                                           max_depth=3, min_child_weight=1,\n",
       "                                           missing=None, n_estimators=100,\n",
       "                                           n_jobs=1, nthread=None,\n",
       "                                           objective='binary:logistic',\n",
       "                                           random_state=0, reg_alpha=0,\n",
       "                                           reg_lambda=1, scale_pos_weight=1,\n",
       "                                           seed=None, silent=None, subsample=1,\n",
       "                                           verbosity=1),\n",
       "                   iid='warn', n_iter=10, n_jobs=-1,\n",
       "                   param_distributions={'max_depth': [3, 4, 5, 6, 8, 10, 12, 15,\n",
       "                                                      17, 19, 21],\n",
       "                                        'min_child_weight': [1, 3, 5, 7],\n",
       "                                        'n_estimators': [200, 400, 600, 800,\n",
       "                                                         1000, 1200]},\n",
       "                   pre_dispatch='2*n_jobs', random_state=None, refit=True,\n",
       "                   return_train_score=False, scoring='f1_macro', verbose=2)"
      ]
     },
     "execution_count": 55,
     "metadata": {},
     "output_type": "execute_result"
    }
   ],
   "source": [
    "from sklearn.model_selection import RandomizedSearchCV\n",
    "from xgboost import XGBClassifier\n",
    "# Create the parameter grid based on the results of grid search\n",
    "param_grid = {\n",
    "    \"n_estimators\"      : [200, 400, 600, 800, 1000, 1200],  \n",
    "     \"max_depth\"        : [ 3, 4, 5, 6, 8, 10, 12, 15, 17, 19, 21],\n",
    "     \"min_child_weight\" : [ 1, 3, 5, 7]\n",
    "}\n",
    "\n",
    "# Create a based model\n",
    "xgb = XGBClassifier()\n",
    "# Instantiate the grid search model\n",
    "rand_search = RandomizedSearchCV(estimator = xgb, param_distributions = param_grid,\n",
    "                          cv = 3, n_jobs = -1, verbose = 2, scoring=\"f1_macro\")\n",
    "rand_search.fit(X, y)"
   ]
  },
  {
   "cell_type": "code",
   "execution_count": 56,
   "metadata": {},
   "outputs": [
    {
     "data": {
      "text/plain": [
       "{'n_estimators': 600, 'min_child_weight': 5, 'max_depth': 17}"
      ]
     },
     "execution_count": 56,
     "metadata": {},
     "output_type": "execute_result"
    }
   ],
   "source": [
    "rand_search.best_params_"
   ]
  },
  {
   "cell_type": "code",
   "execution_count": 57,
   "metadata": {},
   "outputs": [
    {
     "name": "stdout",
     "output_type": "stream",
     "text": [
      "Fitting 3 folds for each of 10 candidates, totalling 30 fits\n"
     ]
    },
    {
     "name": "stderr",
     "output_type": "stream",
     "text": [
      "[Parallel(n_jobs=-1)]: Using backend LokyBackend with 8 concurrent workers.\n",
      "[Parallel(n_jobs=-1)]: Done  30 out of  30 | elapsed: 13.7min finished\n"
     ]
    }
   ],
   "source": [
    "rand_search.fit(X_train_sent,y_train_sent)\n",
    "y_train_sent_pred=rand_search.predict(X_train_sent)\n",
    "y_test_sent_pred=rand_search.predict(X_test_sent)"
   ]
  },
  {
   "cell_type": "markdown",
   "metadata": {},
   "source": [
    "### Train Set"
   ]
  },
  {
   "cell_type": "code",
   "execution_count": 58,
   "metadata": {},
   "outputs": [
    {
     "name": "stdout",
     "output_type": "stream",
     "text": [
      "              precision    recall  f1-score   support\n",
      "\n",
      "           1       1.00      1.00      1.00      3828\n",
      "           2       1.00      1.00      1.00      7650\n",
      "           3       1.00      1.00      1.00      3904\n",
      "           4       1.00      1.00      1.00      3522\n",
      "\n",
      "    accuracy                           1.00     18904\n",
      "   macro avg       1.00      1.00      1.00     18904\n",
      "weighted avg       1.00      1.00      1.00     18904\n",
      "\n"
     ]
    }
   ],
   "source": [
    "print(classification_report(y_train_sent, y_train_sent_pred))"
   ]
  },
  {
   "cell_type": "code",
   "execution_count": 59,
   "metadata": {},
   "outputs": [
    {
     "data": {
      "image/png": "[encoded data removed]",
      "text/plain": [
       "<Figure size 432x288 with 2 Axes>"
      ]
     },
     "metadata": {
      "needs_background": "light"
     },
     "output_type": "display_data"
    }
   ],
   "source": [
    "# Confusion Matrix\n",
    "confusion_matrix_c(y_train_sent, y_train_sent_pred)"
   ]
  },
  {
   "cell_type": "code",
   "execution_count": 60,
   "metadata": {},
   "outputs": [
    {
     "name": "stdout",
     "output_type": "stream",
     "text": [
      "Misclassified samples: 8\n",
      "Accuracy: 1.00\n",
      "F1-Score: 1.00\n"
     ]
    }
   ],
   "source": [
    "# how did our model perform?\n",
    "count_misclassified = (y_train_sent != y_train_sent_pred).sum()\n",
    "print('Misclassified samples: {}'.format(count_misclassified))\n",
    "accuracy = accuracy_score(y_train_sent, y_train_sent_pred)\n",
    "print('Accuracy: {:.2f}'.format(accuracy))\n",
    "f1=f1_score(y_train_sent, y_train_sent_pred, average='macro')\n",
    "print('F1-Score: {:.2f}'.format(f1))"
   ]
  },
  {
   "cell_type": "markdown",
   "metadata": {},
   "source": [
    "### Test Set"
   ]
  },
  {
   "cell_type": "code",
   "execution_count": 61,
   "metadata": {
    "scrolled": true
   },
   "outputs": [
    {
     "name": "stdout",
     "output_type": "stream",
     "text": [
      "              precision    recall  f1-score   support\n",
      "\n",
      "           1       0.66      0.56      0.60      1639\n",
      "           2       0.80      0.95      0.87      3262\n",
      "           3       0.60      0.49      0.54      1632\n",
      "           4       0.64      0.61      0.62      1569\n",
      "\n",
      "    accuracy                           0.71      8102\n",
      "   macro avg       0.67      0.65      0.66      8102\n",
      "weighted avg       0.70      0.71      0.70      8102\n",
      "\n"
     ]
    }
   ],
   "source": [
    "print(classification_report(y_test_sent, y_test_sent_pred))"
   ]
  },
  {
   "cell_type": "code",
   "execution_count": 62,
   "metadata": {
    "scrolled": false
   },
   "outputs": [
    {
     "data": {
      "image/png": "[encoded data removed]",
      "text/plain": [
       "<Figure size 432x288 with 2 Axes>"
      ]
     },
     "metadata": {
      "needs_background": "light"
     },
     "output_type": "display_data"
    }
   ],
   "source": [
    "# Confusion Matrix\n",
    "confusion_matrix_c(y_test_sent, y_test_sent_pred)"
   ]
  },
  {
   "cell_type": "code",
   "execution_count": 63,
   "metadata": {
    "scrolled": true
   },
   "outputs": [
    {
     "name": "stdout",
     "output_type": "stream",
     "text": [
      "Misclassified samples: 2336\n",
      "Accuracy: 0.71\n",
      "F1-Score: 0.66\n"
     ]
    }
   ],
   "source": [
    "# how did our model perform?\n",
    "count_misclassified = (y_test_sent != y_test_sent_pred).sum()\n",
    "print('Misclassified samples: {}'.format(count_misclassified))\n",
    "accuracy = accuracy_score(y_test_sent, y_test_sent_pred)\n",
    "print('Accuracy: {:.2f}'.format(accuracy))\n",
    "f1=f1_score(y_test_sent, y_test_sent_pred, average='macro')\n",
    "print('F1-Score: {:.2f}'.format(f1))"
   ]
  },
  {
   "cell_type": "markdown",
   "metadata": {},
   "source": [
    "### Feature Importance"
   ]
  },
  {
   "cell_type": "code",
   "execution_count": 64,
   "metadata": {},
   "outputs": [
    {
     "name": "stdout",
     "output_type": "stream",
     "text": [
      " 1) SF3                                           0.201918\n",
      " 2) SF4                                           0.199538\n",
      " 3) SF1                                           0.142604\n",
      " 4) SF5                                           0.126847\n",
      " 5) Sentiment_score                               0.106881\n",
      " 6) SF7                                           0.095001\n",
      " 7) SF6                                           0.064022\n",
      " 8) SF2                                           0.063190\n"
     ]
    },
    {
     "data": {
      "image/png": "[encoded data removed]",
      "text/plain": [
       "<Figure size 432x288 with 1 Axes>"
      ]
     },
     "metadata": {
      "needs_background": "light"
     },
     "output_type": "display_data"
    }
   ],
   "source": [
    "feat_labels = X.columns[:]\n",
    "\n",
    "importances = rand_search.best_estimator_.feature_importances_\n",
    "\n",
    "indices = np.argsort(importances)[::-1]\n",
    "\n",
    "for f in range(X_train_sent.shape[1]):\n",
    "    print(\"%2d) %-*s %f\" % (f + 1,45,\n",
    "                            feat_labels[indices[f]],\n",
    "                            importances[indices[f]]))\n",
    "plt.title('Feature Importance')\n",
    "plt.bar(range(X_train_sent.shape[1]),\n",
    "        importances[indices],\n",
    "        align='center')\n",
    "\n",
    "plt.xticks(range(X_train_sent.shape[1]),\n",
    "           feat_labels[indices], rotation=90)\n",
    "plt.xlim([-1, X_train_sent.shape[1]])\n",
    "plt.tight_layout()\n",
    "plt.show()"
   ]
  },
  {
   "cell_type": "markdown",
   "metadata": {},
   "source": [
    "## On Whole Dataset RandomForestClassifier Tuned"
   ]
  },
  {
   "cell_type": "code",
   "execution_count": 70,
   "metadata": {},
   "outputs": [],
   "source": [
    "# from sklearn.ensemble import RandomForestClassifier\n",
    "rf=RandomForestClassifier(n_estimators=200,\n",
    " min_samples_split=16,\n",
    " min_samples_leaf=3,\n",
    " max_features=4,\n",
    " max_depth=100,\n",
    " bootstrap=True)\n",
    "\n",
    "rf.fit(X,y)\n",
    "y_pred_full=rf.predict(X)"
   ]
  },
  {
   "cell_type": "code",
   "execution_count": 71,
   "metadata": {
    "scrolled": true
   },
   "outputs": [
    {
     "name": "stdout",
     "output_type": "stream",
     "text": [
      "              precision    recall  f1-score   support\n",
      "\n",
      "           1       0.85      0.75      0.80      5467\n",
      "           2       0.85      0.98      0.91     10912\n",
      "           3       0.86      0.72      0.78      5536\n",
      "           4       0.83      0.81      0.82      5091\n",
      "\n",
      "    accuracy                           0.85     27006\n",
      "   macro avg       0.85      0.82      0.83     27006\n",
      "weighted avg       0.85      0.85      0.84     27006\n",
      "\n"
     ]
    }
   ],
   "source": [
    "print(classification_report(y, y_pred_full))"
   ]
  },
  {
   "cell_type": "code",
   "execution_count": 72,
   "metadata": {
    "scrolled": true
   },
   "outputs": [
    {
     "data": {
      "image/png": "[encoded data removed]",
      "text/plain": [
       "<Figure size 432x288 with 2 Axes>"
      ]
     },
     "metadata": {
      "needs_background": "light"
     },
     "output_type": "display_data"
    }
   ],
   "source": [
    "# Confusion Matrix\n",
    "confusion_matrix_c(y, y_pred_full)"
   ]
  },
  {
   "cell_type": "code",
   "execution_count": 73,
   "metadata": {
    "scrolled": true
   },
   "outputs": [
    {
     "name": "stdout",
     "output_type": "stream",
     "text": [
      "Misclassified samples: 4096\n",
      "Accuracy: 0.85\n",
      "F1-Score: 0.83\n"
     ]
    }
   ],
   "source": [
    "# how did our model perform?\n",
    "count_misclassified = (y != y_pred_full).sum()\n",
    "print('Misclassified samples: {}'.format(count_misclassified))\n",
    "accuracy = accuracy_score(y, y_pred_full)\n",
    "print('Accuracy: {:.2f}'.format(accuracy))\n",
    "f1=f1_score(y, y_pred_full, average='macro')\n",
    "print('F1-Score: {:.2f}'.format(f1))"
   ]
  },
  {
   "cell_type": "markdown",
   "metadata": {},
   "source": [
    "## Predicting on the Actual Test Set"
   ]
  },
  {
   "cell_type": "code",
   "execution_count": 74,
   "metadata": {},
   "outputs": [
    {
     "data": {
      "text/html": [
       "<div>\n",
       "<style scoped>\n",
       "    .dataframe tbody tr th:only-of-type {\n",
       "        vertical-align: middle;\n",
       "    }\n",
       "\n",
       "    .dataframe tbody tr th {\n",
       "        vertical-align: top;\n",
       "    }\n",
       "\n",
       "    .dataframe thead th {\n",
       "        text-align: right;\n",
       "    }\n",
       "</style>\n",
       "<table border=\"1\" class=\"dataframe\">\n",
       "  <thead>\n",
       "    <tr style=\"text-align: right;\">\n",
       "      <th></th>\n",
       "      <th>Id</th>\n",
       "      <th>date</th>\n",
       "      <th>ticker</th>\n",
       "      <th>SF1</th>\n",
       "      <th>SF2</th>\n",
       "      <th>SF3</th>\n",
       "      <th>SF4</th>\n",
       "      <th>SF5</th>\n",
       "      <th>SF6</th>\n",
       "      <th>SF7</th>\n",
       "      <th>Month</th>\n",
       "      <th>Day</th>\n",
       "      <th>WeekDay</th>\n",
       "      <th>WeekNumber</th>\n",
       "      <th>Sentiment_score</th>\n",
       "    </tr>\n",
       "  </thead>\n",
       "  <tbody>\n",
       "    <tr>\n",
       "      <td>0</td>\n",
       "      <td>270007</td>\n",
       "      <td>2018-07-21</td>\n",
       "      <td>INTC</td>\n",
       "      <td>-3.062194</td>\n",
       "      <td>1.223466</td>\n",
       "      <td>1.741714</td>\n",
       "      <td>2.279266</td>\n",
       "      <td>-1.323573</td>\n",
       "      <td>-0.274912</td>\n",
       "      <td>-4.504449</td>\n",
       "      <td>7</td>\n",
       "      <td>21</td>\n",
       "      <td>5</td>\n",
       "      <td>29</td>\n",
       "      <td>2</td>\n",
       "    </tr>\n",
       "    <tr>\n",
       "      <td>1</td>\n",
       "      <td>270008</td>\n",
       "      <td>2018-10-05</td>\n",
       "      <td>CTSH</td>\n",
       "      <td>0.816263</td>\n",
       "      <td>-2.184408</td>\n",
       "      <td>0.157975</td>\n",
       "      <td>-0.264743</td>\n",
       "      <td>-0.836282</td>\n",
       "      <td>0.046276</td>\n",
       "      <td>0.826353</td>\n",
       "      <td>10</td>\n",
       "      <td>5</td>\n",
       "      <td>4</td>\n",
       "      <td>40</td>\n",
       "      <td>4</td>\n",
       "    </tr>\n",
       "    <tr>\n",
       "      <td>2</td>\n",
       "      <td>270009</td>\n",
       "      <td>2018-10-01</td>\n",
       "      <td>CB</td>\n",
       "      <td>0.401281</td>\n",
       "      <td>0.091604</td>\n",
       "      <td>0.083411</td>\n",
       "      <td>-1.147041</td>\n",
       "      <td>-0.485223</td>\n",
       "      <td>-0.601060</td>\n",
       "      <td>1.012811</td>\n",
       "      <td>10</td>\n",
       "      <td>1</td>\n",
       "      <td>0</td>\n",
       "      <td>40</td>\n",
       "      <td>2</td>\n",
       "    </tr>\n",
       "    <tr>\n",
       "      <td>3</td>\n",
       "      <td>270010</td>\n",
       "      <td>2018-10-24</td>\n",
       "      <td>CTAS</td>\n",
       "      <td>-0.783521</td>\n",
       "      <td>1.192929</td>\n",
       "      <td>0.813831</td>\n",
       "      <td>-0.368166</td>\n",
       "      <td>-1.113656</td>\n",
       "      <td>-0.553581</td>\n",
       "      <td>-0.683803</td>\n",
       "      <td>10</td>\n",
       "      <td>24</td>\n",
       "      <td>2</td>\n",
       "      <td>43</td>\n",
       "      <td>0</td>\n",
       "    </tr>\n",
       "    <tr>\n",
       "      <td>4</td>\n",
       "      <td>270011</td>\n",
       "      <td>2018-07-27</td>\n",
       "      <td>INTC</td>\n",
       "      <td>0.796507</td>\n",
       "      <td>0.455341</td>\n",
       "      <td>0.679032</td>\n",
       "      <td>0.354336</td>\n",
       "      <td>-1.799055</td>\n",
       "      <td>0.126153</td>\n",
       "      <td>0.297111</td>\n",
       "      <td>7</td>\n",
       "      <td>27</td>\n",
       "      <td>4</td>\n",
       "      <td>30</td>\n",
       "      <td>2</td>\n",
       "    </tr>\n",
       "  </tbody>\n",
       "</table>\n",
       "</div>"
      ],
      "text/plain": [
       "       Id        date ticker       SF1       SF2       SF3       SF4  \\\n",
       "0  270007  2018-07-21   INTC -3.062194  1.223466  1.741714  2.279266   \n",
       "1  270008  2018-10-05   CTSH  0.816263 -2.184408  0.157975 -0.264743   \n",
       "2  270009  2018-10-01     CB  0.401281  0.091604  0.083411 -1.147041   \n",
       "3  270010  2018-10-24   CTAS -0.783521  1.192929  0.813831 -0.368166   \n",
       "4  270011  2018-07-27   INTC  0.796507  0.455341  0.679032  0.354336   \n",
       "\n",
       "        SF5       SF6       SF7  Month  Day  WeekDay  WeekNumber  \\\n",
       "0 -1.323573 -0.274912 -4.504449      7   21        5          29   \n",
       "1 -0.836282  0.046276  0.826353     10    5        4          40   \n",
       "2 -0.485223 -0.601060  1.012811     10    1        0          40   \n",
       "3 -1.113656 -0.553581 -0.683803     10   24        2          43   \n",
       "4 -1.799055  0.126153  0.297111      7   27        4          30   \n",
       "\n",
       "   Sentiment_score  \n",
       "0                2  \n",
       "1                4  \n",
       "2                2  \n",
       "3                0  \n",
       "4                2  "
      ]
     },
     "execution_count": 74,
     "metadata": {},
     "output_type": "execute_result"
    }
   ],
   "source": [
    "test.head()"
   ]
  },
  {
   "cell_type": "code",
   "execution_count": 75,
   "metadata": {},
   "outputs": [],
   "source": [
    "X_test=test.drop(['Id','date','ticker','Month','Day','WeekDay','WeekNumber'],axis=1)"
   ]
  },
  {
   "cell_type": "code",
   "execution_count": 76,
   "metadata": {},
   "outputs": [],
   "source": [
    "y_alpha_rf_s_rs=rf.predict(X_test)"
   ]
  },
  {
   "cell_type": "code",
   "execution_count": 77,
   "metadata": {},
   "outputs": [
    {
     "data": {
      "text/html": [
       "<div>\n",
       "<style scoped>\n",
       "    .dataframe tbody tr th:only-of-type {\n",
       "        vertical-align: middle;\n",
       "    }\n",
       "\n",
       "    .dataframe tbody tr th {\n",
       "        vertical-align: top;\n",
       "    }\n",
       "\n",
       "    .dataframe thead th {\n",
       "        text-align: right;\n",
       "    }\n",
       "</style>\n",
       "<table border=\"1\" class=\"dataframe\">\n",
       "  <thead>\n",
       "    <tr style=\"text-align: right;\">\n",
       "      <th></th>\n",
       "      <th>Id</th>\n",
       "      <th>alpha</th>\n",
       "    </tr>\n",
       "  </thead>\n",
       "  <tbody>\n",
       "    <tr>\n",
       "      <td>0</td>\n",
       "      <td>270007</td>\n",
       "      <td>4</td>\n",
       "    </tr>\n",
       "    <tr>\n",
       "      <td>1</td>\n",
       "      <td>270008</td>\n",
       "      <td>4</td>\n",
       "    </tr>\n",
       "    <tr>\n",
       "      <td>2</td>\n",
       "      <td>270009</td>\n",
       "      <td>2</td>\n",
       "    </tr>\n",
       "    <tr>\n",
       "      <td>3</td>\n",
       "      <td>270010</td>\n",
       "      <td>1</td>\n",
       "    </tr>\n",
       "    <tr>\n",
       "      <td>4</td>\n",
       "      <td>270011</td>\n",
       "      <td>4</td>\n",
       "    </tr>\n",
       "    <tr>\n",
       "      <td>5</td>\n",
       "      <td>270012</td>\n",
       "      <td>1</td>\n",
       "    </tr>\n",
       "    <tr>\n",
       "      <td>6</td>\n",
       "      <td>270013</td>\n",
       "      <td>4</td>\n",
       "    </tr>\n",
       "    <tr>\n",
       "      <td>7</td>\n",
       "      <td>270014</td>\n",
       "      <td>3</td>\n",
       "    </tr>\n",
       "    <tr>\n",
       "      <td>8</td>\n",
       "      <td>270015</td>\n",
       "      <td>4</td>\n",
       "    </tr>\n",
       "    <tr>\n",
       "      <td>9</td>\n",
       "      <td>270016</td>\n",
       "      <td>2</td>\n",
       "    </tr>\n",
       "  </tbody>\n",
       "</table>\n",
       "</div>"
      ],
      "text/plain": [
       "       Id  alpha\n",
       "0  270007      4\n",
       "1  270008      4\n",
       "2  270009      2\n",
       "3  270010      1\n",
       "4  270011      4\n",
       "5  270012      1\n",
       "6  270013      4\n",
       "7  270014      3\n",
       "8  270015      4\n",
       "9  270016      2"
      ]
     },
     "execution_count": 77,
     "metadata": {},
     "output_type": "execute_result"
    }
   ],
   "source": [
    "y_alpha_rf_s_rs_pred = pd.DataFrame({ 'Id': test['Id'],'alpha': y_alpha_rf_s_rs})\n",
    "\n",
    "y_alpha_rf_s_rs_pred.head(10)"
   ]
  },
  {
   "cell_type": "code",
   "execution_count": 78,
   "metadata": {},
   "outputs": [
    {
     "data": {
      "text/plain": [
       "(11575, 2)"
      ]
     },
     "execution_count": 78,
     "metadata": {},
     "output_type": "execute_result"
    }
   ],
   "source": [
    "y_alpha_rf_s_rs_pred.shape"
   ]
  },
  {
   "cell_type": "code",
   "execution_count": 79,
   "metadata": {},
   "outputs": [
    {
     "data": {
      "text/plain": [
       "2    5665\n",
       "4    2132\n",
       "1    1939\n",
       "3    1839\n",
       "Name: alpha, dtype: int64"
      ]
     },
     "execution_count": 79,
     "metadata": {},
     "output_type": "execute_result"
    }
   ],
   "source": [
    "y_alpha_rf_s_rs_pred['alpha'].value_counts()"
   ]
  },
  {
   "cell_type": "code",
   "execution_count": 39,
   "metadata": {},
   "outputs": [],
   "source": [
    "# y_alpha_rf_s_pred.to_csv('Rf_senti_alpha_pred.csv', index=False)"
   ]
  },
  {
   "cell_type": "markdown",
   "metadata": {},
   "source": [
    "## Fin"
   ]
  },
  {
   "cell_type": "markdown",
   "metadata": {},
   "source": [
    "## Deep Learning Alpha"
   ]
  },
  {
   "cell_type": "code",
   "execution_count": 23,
   "metadata": {},
   "outputs": [
    {
     "name": "stderr",
     "output_type": "stream",
     "text": [
      "Using TensorFlow backend.\n"
     ]
    }
   ],
   "source": [
    "import keras \n",
    "import numpy as np\n",
    "from keras.preprocessing.text import Tokenizer\n",
    "import numpy as np\n",
    "import pandas as pd\n",
    "from keras.models import Sequential\n",
    "from keras.layers import Dense\n",
    "from keras.preprocessing.sequence import pad_sequences\n",
    "from keras.layers import Input, Dense, Dropout, Embedding, LSTM, Flatten,BatchNormalization, Activation\n",
    "from keras.models import Model\n",
    "from keras.utils import to_categorical\n",
    "from keras.callbacks import ModelCheckpoint\n",
    "import seaborn as sns\n",
    "import matplotlib.pyplot as plt\n",
    "from sklearn.model_selection import train_test_split\n",
    "from sklearn.metrics import accuracy_score"
   ]
  },
  {
   "cell_type": "code",
   "execution_count": 24,
   "metadata": {},
   "outputs": [],
   "source": [
    "y_train_ohe = np.array(pd.get_dummies(y_train_sent))\n",
    "y_test_ohe = np.array(pd.get_dummies(y_test_sent))"
   ]
  },
  {
   "cell_type": "code",
   "execution_count": 25,
   "metadata": {},
   "outputs": [],
   "source": [
    "embed_dim = 128\n",
    "lstm_out = 64\n",
    "model = Sequential()\n",
    "model.add(Dense(2048, input_shape=(X_train_sent.shape[1], )))\n",
    "model.add(BatchNormalization())\n",
    "model.add(Activation('relu'))\n",
    "\n",
    "model.add(Dense(1024))\n",
    "model.add(BatchNormalization())\n",
    "model.add(Activation('relu'))\n",
    "\n",
    "model.add(Dense(1024))\n",
    "model.add(BatchNormalization())\n",
    "model.add(Activation('relu'))\n",
    "\n",
    "model.add(Dense(1024))\n",
    "model.add(BatchNormalization())\n",
    "model.add(Activation('relu'))\n",
    "\n",
    "model.add(Dense(4, activation='softmax'))\n",
    "model.compile(loss = 'categorical_crossentropy', optimizer='adam',metrics = ['accuracy'])"
   ]
  },
  {
   "cell_type": "code",
   "execution_count": 26,
   "metadata": {},
   "outputs": [
    {
     "name": "stdout",
     "output_type": "stream",
     "text": [
      "Model: \"sequential_1\"\n",
      "_________________________________________________________________\n",
      "Layer (type)                 Output Shape              Param #   \n",
      "=================================================================\n",
      "dense_1 (Dense)              (None, 2048)              18432     \n",
      "_________________________________________________________________\n",
      "batch_normalization_1 (Batch (None, 2048)              8192      \n",
      "_________________________________________________________________\n",
      "activation_1 (Activation)    (None, 2048)              0         \n",
      "_________________________________________________________________\n",
      "dense_2 (Dense)              (None, 1024)              2098176   \n",
      "_________________________________________________________________\n",
      "batch_normalization_2 (Batch (None, 1024)              4096      \n",
      "_________________________________________________________________\n",
      "activation_2 (Activation)    (None, 1024)              0         \n",
      "_________________________________________________________________\n",
      "dense_3 (Dense)              (None, 1024)              1049600   \n",
      "_________________________________________________________________\n",
      "batch_normalization_3 (Batch (None, 1024)              4096      \n",
      "_________________________________________________________________\n",
      "activation_3 (Activation)    (None, 1024)              0         \n",
      "_________________________________________________________________\n",
      "dense_4 (Dense)              (None, 1024)              1049600   \n",
      "_________________________________________________________________\n",
      "batch_normalization_4 (Batch (None, 1024)              4096      \n",
      "_________________________________________________________________\n",
      "activation_4 (Activation)    (None, 1024)              0         \n",
      "_________________________________________________________________\n",
      "dense_5 (Dense)              (None, 4)                 4100      \n",
      "=================================================================\n",
      "Total params: 4,240,388\n",
      "Trainable params: 4,230,148\n",
      "Non-trainable params: 10,240\n",
      "_________________________________________________________________\n",
      "None\n"
     ]
    }
   ],
   "source": [
    "print(model.summary())"
   ]
  },
  {
   "cell_type": "code",
   "execution_count": 27,
   "metadata": {},
   "outputs": [
    {
     "name": "stdout",
     "output_type": "stream",
     "text": [
      "Epoch 1/100\n",
      "18904/18904 [==============================] - 17s 883us/step - loss: 1.0543 - accuracy: 0.6017\n",
      "Epoch 2/100\n",
      "18904/18904 [==============================] - 17s 875us/step - loss: 0.9035 - accuracy: 0.6488\n",
      "Epoch 3/100\n",
      "18904/18904 [==============================] - 16s 858us/step - loss: 0.8708 - accuracy: 0.6623\n",
      "Epoch 4/100\n",
      "18904/18904 [==============================] - 15s 812us/step - loss: 0.8383 - accuracy: 0.6767\n",
      "Epoch 5/100\n",
      "18904/18904 [==============================] - 17s 909us/step - loss: 0.8490 - accuracy: 0.6701\n",
      "Epoch 6/100\n",
      "18904/18904 [==============================] - 16s 848us/step - loss: 0.8264 - accuracy: 0.6821\n",
      "Epoch 7/100\n",
      "18904/18904 [==============================] - 15s 815us/step - loss: 0.8207 - accuracy: 0.6814\n",
      "Epoch 8/100\n",
      "18904/18904 [==============================] - 16s 863us/step - loss: 0.8390 - accuracy: 0.6760\n",
      "Epoch 9/100\n",
      "18904/18904 [==============================] - 16s 842us/step - loss: 0.8047 - accuracy: 0.6930\n",
      "Epoch 10/100\n",
      "18904/18904 [==============================] - 17s 902us/step - loss: 0.7926 - accuracy: 0.6931\n",
      "Epoch 11/100\n",
      "18904/18904 [==============================] - 16s 827us/step - loss: 0.7868 - accuracy: 0.6983\n",
      "Epoch 12/100\n",
      "18904/18904 [==============================] - 15s 813us/step - loss: 0.7888 - accuracy: 0.6963\n",
      "Epoch 13/100\n",
      "18904/18904 [==============================] - 16s 851us/step - loss: 0.7723 - accuracy: 0.7035\n",
      "Epoch 14/100\n",
      "18904/18904 [==============================] - 16s 866us/step - loss: 0.7674 - accuracy: 0.7050\n",
      "Epoch 15/100\n",
      "18904/18904 [==============================] - 16s 833us/step - loss: 0.7715 - accuracy: 0.7052\n",
      "Epoch 16/100\n",
      "18904/18904 [==============================] - 16s 864us/step - loss: 0.7689 - accuracy: 0.7032\n",
      "Epoch 17/100\n",
      "18904/18904 [==============================] - 16s 865us/step - loss: 0.7677 - accuracy: 0.7083\n",
      "Epoch 18/100\n",
      "18904/18904 [==============================] - 17s 912us/step - loss: 0.7747 - accuracy: 0.7028\n",
      "Epoch 19/100\n",
      "18904/18904 [==============================] - 16s 872us/step - loss: 0.7583 - accuracy: 0.7103\n",
      "Epoch 20/100\n",
      "18904/18904 [==============================] - 16s 848us/step - loss: 0.7601 - accuracy: 0.7060\n",
      "Epoch 21/100\n",
      "18904/18904 [==============================] - 17s 885us/step - loss: 0.7430 - accuracy: 0.7158\n",
      "Epoch 22/100\n",
      "18904/18904 [==============================] - 15s 795us/step - loss: 0.7473 - accuracy: 0.7124\n",
      "Epoch 23/100\n",
      "18904/18904 [==============================] - 17s 887us/step - loss: 0.7644 - accuracy: 0.7085\n",
      "Epoch 24/100\n",
      "18904/18904 [==============================] - 14s 756us/step - loss: 0.7573 - accuracy: 0.7067\n",
      "Epoch 25/100\n",
      "18904/18904 [==============================] - 15s 771us/step - loss: 0.7488 - accuracy: 0.7149\n",
      "Epoch 26/100\n",
      "18904/18904 [==============================] - 15s 799us/step - loss: 0.7268 - accuracy: 0.7197\n",
      "Epoch 27/100\n",
      "18904/18904 [==============================] - 17s 907us/step - loss: 0.7489 - accuracy: 0.7121\n",
      "Epoch 28/100\n",
      "18904/18904 [==============================] - 17s 886us/step - loss: 0.7482 - accuracy: 0.7092\n",
      "Epoch 29/100\n",
      "18904/18904 [==============================] - 16s 833us/step - loss: 0.7515 - accuracy: 0.7110\n",
      "Epoch 30/100\n",
      "18904/18904 [==============================] - 17s 878us/step - loss: 0.7388 - accuracy: 0.7158\n",
      "Epoch 31/100\n",
      "18904/18904 [==============================] - 16s 847us/step - loss: 0.7368 - accuracy: 0.7156\n",
      "Epoch 32/100\n",
      "18904/18904 [==============================] - 17s 888us/step - loss: 0.7285 - accuracy: 0.7212\n",
      "Epoch 33/100\n",
      "18904/18904 [==============================] - 16s 872us/step - loss: 0.7194 - accuracy: 0.7212\n",
      "Epoch 34/100\n",
      "18904/18904 [==============================] - 16s 847us/step - loss: 0.7242 - accuracy: 0.7201\n",
      "Epoch 35/100\n",
      "18904/18904 [==============================] - 16s 849us/step - loss: 0.7166 - accuracy: 0.7215\n",
      "Epoch 36/100\n",
      "18904/18904 [==============================] - 16s 864us/step - loss: 0.7222 - accuracy: 0.7212\n",
      "Epoch 37/100\n",
      "18904/18904 [==============================] - 16s 848us/step - loss: 0.7209 - accuracy: 0.7209\n",
      "Epoch 38/100\n",
      "18904/18904 [==============================] - 16s 854us/step - loss: 0.7178 - accuracy: 0.7236\n",
      "Epoch 39/100\n",
      "18904/18904 [==============================] - 18s 943us/step - loss: 0.7041 - accuracy: 0.7282\n",
      "Epoch 40/100\n",
      "18904/18904 [==============================] - 16s 847us/step - loss: 0.7189 - accuracy: 0.7259\n",
      "Epoch 41/100\n",
      "18904/18904 [==============================] - 17s 886us/step - loss: 0.7232 - accuracy: 0.7203\n",
      "Epoch 42/100\n",
      "18904/18904 [==============================] - 16s 833us/step - loss: 0.7010 - accuracy: 0.7286\n",
      "Epoch 43/100\n",
      "18904/18904 [==============================] - 16s 829us/step - loss: 0.7019 - accuracy: 0.7297\n",
      "Epoch 44/100\n",
      "18904/18904 [==============================] - 15s 814us/step - loss: 0.7019 - accuracy: 0.7294\n",
      "Epoch 45/100\n",
      "18904/18904 [==============================] - 16s 840us/step - loss: 0.7222 - accuracy: 0.7235\n",
      "Epoch 46/100\n",
      "18904/18904 [==============================] - 16s 836us/step - loss: 0.7059 - accuracy: 0.7285\n",
      "Epoch 47/100\n",
      "18904/18904 [==============================] - 15s 811us/step - loss: 0.7010 - accuracy: 0.7303\n",
      "Epoch 48/100\n",
      "18904/18904 [==============================] - 16s 830us/step - loss: 0.7050 - accuracy: 0.7297\n",
      "Epoch 49/100\n",
      "18904/18904 [==============================] - 15s 818us/step - loss: 0.7048 - accuracy: 0.7271\n",
      "Epoch 50/100\n",
      "18904/18904 [==============================] - 16s 840us/step - loss: 0.7041 - accuracy: 0.7263\n",
      "Epoch 51/100\n",
      "18904/18904 [==============================] - 16s 858us/step - loss: 0.7044 - accuracy: 0.7282\n",
      "Epoch 52/100\n",
      "18904/18904 [==============================] - 16s 829us/step - loss: 0.7020 - accuracy: 0.7261\n",
      "Epoch 53/100\n",
      "18904/18904 [==============================] - 17s 899us/step - loss: 0.6935 - accuracy: 0.7321\n",
      "Epoch 54/100\n",
      "18904/18904 [==============================] - 15s 798us/step - loss: 0.6913 - accuracy: 0.7321\n",
      "Epoch 55/100\n",
      "18904/18904 [==============================] - 14s 749us/step - loss: 0.6944 - accuracy: 0.7354\n",
      "Epoch 56/100\n",
      "18904/18904 [==============================] - 15s 780us/step - loss: 0.6878 - accuracy: 0.7341\n",
      "Epoch 57/100\n",
      "18904/18904 [==============================] - 16s 850us/step - loss: 0.6874 - accuracy: 0.7313\n",
      "Epoch 58/100\n",
      "18904/18904 [==============================] - 14s 750us/step - loss: 0.6761 - accuracy: 0.7396\n",
      "Epoch 59/100\n",
      "18904/18904 [==============================] - 16s 845us/step - loss: 0.6874 - accuracy: 0.7360\n",
      "Epoch 60/100\n",
      "18904/18904 [==============================] - 15s 813us/step - loss: 0.6727 - accuracy: 0.7404\n",
      "Epoch 61/100\n",
      "18904/18904 [==============================] - 16s 858us/step - loss: 0.6743 - accuracy: 0.7400\n",
      "Epoch 62/100\n",
      "18904/18904 [==============================] - 16s 858us/step - loss: 0.6809 - accuracy: 0.7364\n",
      "Epoch 63/100\n",
      "18904/18904 [==============================] - 16s 827us/step - loss: 0.6810 - accuracy: 0.7375\n",
      "Epoch 64/100\n",
      "18904/18904 [==============================] - 16s 859us/step - loss: 0.6685 - accuracy: 0.7409\n",
      "Epoch 65/100\n",
      "18904/18904 [==============================] - 16s 864us/step - loss: 0.6745 - accuracy: 0.7399\n",
      "Epoch 66/100\n",
      "18904/18904 [==============================] - 16s 843us/step - loss: 0.6674 - accuracy: 0.7421\n",
      "Epoch 67/100\n",
      "18904/18904 [==============================] - 16s 841us/step - loss: 0.6661 - accuracy: 0.7408\n",
      "Epoch 68/100\n",
      "18904/18904 [==============================] - 15s 810us/step - loss: 0.6731 - accuracy: 0.7409\n",
      "Epoch 69/100\n",
      "18904/18904 [==============================] - 16s 845us/step - loss: 0.6628 - accuracy: 0.7443\n",
      "Epoch 70/100\n",
      "18904/18904 [==============================] - 15s 817us/step - loss: 0.6672 - accuracy: 0.7406\n",
      "Epoch 71/100\n",
      "18904/18904 [==============================] - 16s 834us/step - loss: 0.6575 - accuracy: 0.7459\n",
      "Epoch 72/100\n",
      "18904/18904 [==============================] - 18s 951us/step - loss: 0.6588 - accuracy: 0.7424\n",
      "Epoch 73/100\n",
      "18904/18904 [==============================] - 16s 831us/step - loss: 0.6530 - accuracy: 0.7469\n",
      "Epoch 74/100\n",
      "18904/18904 [==============================] - 17s 885us/step - loss: 0.6555 - accuracy: 0.7406\n",
      "Epoch 75/100\n",
      "18904/18904 [==============================] - 16s 831us/step - loss: 0.6557 - accuracy: 0.7430\n",
      "Epoch 76/100\n"
     ]
    },
    {
     "name": "stdout",
     "output_type": "stream",
     "text": [
      "18904/18904 [==============================] - 17s 884us/step - loss: 0.6464 - accuracy: 0.7478\n",
      "Epoch 77/100\n",
      "18904/18904 [==============================] - 14s 749us/step - loss: 0.6577 - accuracy: 0.7461\n",
      "Epoch 78/100\n",
      "18904/18904 [==============================] - 14s 738us/step - loss: 0.6547 - accuracy: 0.7467\n",
      "Epoch 79/100\n",
      "18904/18904 [==============================] - 14s 747us/step - loss: 0.6566 - accuracy: 0.7446\n",
      "Epoch 80/100\n",
      "18904/18904 [==============================] - 14s 744us/step - loss: 0.6407 - accuracy: 0.7504\n",
      "Epoch 81/100\n",
      "18904/18904 [==============================] - 14s 745us/step - loss: 0.6478 - accuracy: 0.7446\n",
      "Epoch 82/100\n",
      "18904/18904 [==============================] - 14s 735us/step - loss: 0.6354 - accuracy: 0.7533\n",
      "Epoch 83/100\n",
      "18904/18904 [==============================] - 14s 734us/step - loss: 0.6439 - accuracy: 0.7483\n",
      "Epoch 84/100\n",
      "18904/18904 [==============================] - 14s 736us/step - loss: 0.6373 - accuracy: 0.7517\n",
      "Epoch 85/100\n",
      "18904/18904 [==============================] - 14s 737us/step - loss: 0.6370 - accuracy: 0.7548\n",
      "Epoch 86/100\n",
      "18904/18904 [==============================] - 14s 737us/step - loss: 0.6390 - accuracy: 0.7500\n",
      "Epoch 87/100\n",
      "18904/18904 [==============================] - 16s 837us/step - loss: 0.6400 - accuracy: 0.7506\n",
      "Epoch 88/100\n",
      "18904/18904 [==============================] - 15s 805us/step - loss: 0.6349 - accuracy: 0.7521\n",
      "Epoch 89/100\n",
      "18904/18904 [==============================] - 16s 860us/step - loss: 0.6440 - accuracy: 0.7489\n",
      "Epoch 90/100\n",
      "18904/18904 [==============================] - 17s 895us/step - loss: 0.6237 - accuracy: 0.7561\n",
      "Epoch 91/100\n",
      "18904/18904 [==============================] - 15s 806us/step - loss: 0.6468 - accuracy: 0.7501\n",
      "Epoch 92/100\n",
      "18904/18904 [==============================] - 15s 805us/step - loss: 0.6280 - accuracy: 0.7553s - loss: 0.6270 - accu\n",
      "Epoch 93/100\n",
      "18904/18904 [==============================] - 15s 812us/step - loss: 0.6307 - accuracy: 0.7537\n",
      "Epoch 94/100\n",
      "18904/18904 [==============================] - 16s 866us/step - loss: 0.6281 - accuracy: 0.7571\n",
      "Epoch 95/100\n",
      "18904/18904 [==============================] - 15s 797us/step - loss: 0.6269 - accuracy: 0.7545\n",
      "Epoch 96/100\n",
      "18904/18904 [==============================] - 15s 806us/step - loss: 0.6238 - accuracy: 0.7565\n",
      "Epoch 97/100\n",
      "18904/18904 [==============================] - 15s 802us/step - loss: 0.6257 - accuracy: 0.7528\n",
      "Epoch 98/100\n",
      "18904/18904 [==============================] - 15s 799us/step - loss: 0.6199 - accuracy: 0.7567\n",
      "Epoch 99/100\n",
      "18904/18904 [==============================] - 15s 803us/step - loss: 0.6210 - accuracy: 0.7598\n",
      "Epoch 100/100\n",
      "18904/18904 [==============================] - 15s 809us/step - loss: 0.6201 - accuracy: 0.7576\n"
     ]
    }
   ],
   "source": [
    "batch_size = 100\n",
    "history=model.fit(X_train_sent, y_train_ohe, epochs = 100, batch_size=batch_size, verbose=1)"
   ]
  },
  {
   "cell_type": "code",
   "execution_count": 28,
   "metadata": {},
   "outputs": [
    {
     "name": "stdout",
     "output_type": "stream",
     "text": [
      "8102/8102 [==============================] - 1s 184us/step\n"
     ]
    }
   ],
   "source": [
    "eval_history=model.evaluate(X_test_sent,y_test_ohe)"
   ]
  },
  {
   "cell_type": "code",
   "execution_count": 30,
   "metadata": {},
   "outputs": [
    {
     "data": {
      "image/png": "[encoded data removed]",
      "text/plain": [
       "<Figure size 432x288 with 1 Axes>"
      ]
     },
     "metadata": {
      "needs_background": "light"
     },
     "output_type": "display_data"
    }
   ],
   "source": [
    "plt.plot(history.history['accuracy'])\n",
    "# plt.plot(history.history['val_accuracy'])\n",
    "plt.title('LSTM Model Accuracy')\n",
    "plt.ylabel('Accuracy')\n",
    "plt.xlabel('Epoch')\n",
    "plt.legend(['Train'], loc = 'upper left')\n",
    "plt.show()"
   ]
  },
  {
   "cell_type": "code",
   "execution_count": 31,
   "metadata": {},
   "outputs": [
    {
     "data": {
      "image/png": "[encoded data removed]",
      "text/plain": [
       "<Figure size 432x288 with 1 Axes>"
      ]
     },
     "metadata": {
      "needs_background": "light"
     },
     "output_type": "display_data"
    }
   ],
   "source": [
    "plt.plot(history.history['loss'])\n",
    "# plt.plot(history.history['val_loss'])\n",
    "plt.title('LSTM Model Loss')\n",
    "plt.ylabel('Loss')\n",
    "plt.xlabel('Epoch')\n",
    "plt.legend(['Train'], loc = 'upper left')\n",
    "plt.show()"
   ]
  },
  {
   "cell_type": "markdown",
   "metadata": {},
   "source": [
    "___________________________________________________"
   ]
  },
  {
   "cell_type": "markdown",
   "metadata": {},
   "source": [
    "## Practice RF Tuned"
   ]
  },
  {
   "cell_type": "code",
   "execution_count": 80,
   "metadata": {},
   "outputs": [],
   "source": [
    "from sklearn.ensemble import RandomForestClassifier\n",
    "rf=RandomForestClassifier(max_features=7)\n",
    "rf.fit(X_train_sent,y_train_sent)\n",
    "y_train_sent_pred=rf.predict(X_train_sent)\n",
    "y_test_sent_pred=rf.predict(X_test_sent)"
   ]
  },
  {
   "cell_type": "markdown",
   "metadata": {},
   "source": [
    "### Train Set"
   ]
  },
  {
   "cell_type": "code",
   "execution_count": 81,
   "metadata": {},
   "outputs": [
    {
     "name": "stdout",
     "output_type": "stream",
     "text": [
      "              precision    recall  f1-score   support\n",
      "\n",
      "           1       0.98      0.99      0.98      3828\n",
      "           2       0.98      1.00      0.99      7650\n",
      "           3       0.99      0.96      0.98      3904\n",
      "           4       0.99      0.97      0.98      3522\n",
      "\n",
      "    accuracy                           0.98     18904\n",
      "   macro avg       0.98      0.98      0.98     18904\n",
      "weighted avg       0.98      0.98      0.98     18904\n",
      "\n"
     ]
    }
   ],
   "source": [
    "print(classification_report(y_train_sent, y_train_sent_pred))"
   ]
  },
  {
   "cell_type": "code",
   "execution_count": 82,
   "metadata": {},
   "outputs": [
    {
     "data": {
      "image/png": "[encoded data removed]",
      "text/plain": [
       "<Figure size 432x288 with 2 Axes>"
      ]
     },
     "metadata": {
      "needs_background": "light"
     },
     "output_type": "display_data"
    }
   ],
   "source": [
    "# Confusion Matrix\n",
    "confusion_matrix_c(y_train_sent, y_train_sent_pred)"
   ]
  },
  {
   "cell_type": "code",
   "execution_count": 83,
   "metadata": {},
   "outputs": [
    {
     "name": "stdout",
     "output_type": "stream",
     "text": [
      "Misclassified samples: 309\n",
      "Accuracy: 0.98\n",
      "F1-Score: 0.98\n"
     ]
    }
   ],
   "source": [
    "# how did our model perform?\n",
    "count_misclassified = (y_train_sent != y_train_sent_pred).sum()\n",
    "print('Misclassified samples: {}'.format(count_misclassified))\n",
    "accuracy = accuracy_score(y_train_sent, y_train_sent_pred)\n",
    "print('Accuracy: {:.2f}'.format(accuracy))\n",
    "f1=f1_score(y_train_sent, y_train_sent_pred, average='macro')\n",
    "print('F1-Score: {:.2f}'.format(f1))"
   ]
  },
  {
   "cell_type": "markdown",
   "metadata": {},
   "source": [
    "### Test Set"
   ]
  },
  {
   "cell_type": "code",
   "execution_count": 84,
   "metadata": {
    "scrolled": true
   },
   "outputs": [
    {
     "name": "stdout",
     "output_type": "stream",
     "text": [
      "              precision    recall  f1-score   support\n",
      "\n",
      "           1       0.61      0.58      0.60      1639\n",
      "           2       0.80      0.92      0.86      3262\n",
      "           3       0.56      0.47      0.51      1632\n",
      "           4       0.64      0.59      0.62      1569\n",
      "\n",
      "    accuracy                           0.70      8102\n",
      "   macro avg       0.66      0.64      0.65      8102\n",
      "weighted avg       0.69      0.70      0.69      8102\n",
      "\n"
     ]
    }
   ],
   "source": [
    "print(classification_report(y_test_sent, y_test_sent_pred))"
   ]
  },
  {
   "cell_type": "code",
   "execution_count": 85,
   "metadata": {
    "scrolled": true
   },
   "outputs": [
    {
     "data": {
      "image/png": "[encoded data removed]",
      "text/plain": [
       "<Figure size 432x288 with 2 Axes>"
      ]
     },
     "metadata": {
      "needs_background": "light"
     },
     "output_type": "display_data"
    }
   ],
   "source": [
    "# Confusion Matrix\n",
    "confusion_matrix_c(y_test_sent, y_test_sent_pred)"
   ]
  },
  {
   "cell_type": "code",
   "execution_count": 86,
   "metadata": {},
   "outputs": [
    {
     "name": "stdout",
     "output_type": "stream",
     "text": [
      "Misclassified samples: 2452\n",
      "Accuracy: 0.70\n",
      "F1-Score: 0.65\n"
     ]
    }
   ],
   "source": [
    "# how did our model perform?\n",
    "count_misclassified = (y_test_sent != y_test_sent_pred).sum()\n",
    "print('Misclassified samples: {}'.format(count_misclassified))\n",
    "accuracy = accuracy_score(y_test_sent, y_test_sent_pred)\n",
    "print('Accuracy: {:.2f}'.format(accuracy))\n",
    "f1=f1_score(y_test_sent, y_test_sent_pred, average='macro')\n",
    "print('F1-Score: {:.2f}'.format(f1))"
   ]
  },
  {
   "cell_type": "markdown",
   "metadata": {},
   "source": [
    "## On Whole Dataset"
   ]
  },
  {
   "cell_type": "code",
   "execution_count": 87,
   "metadata": {},
   "outputs": [],
   "source": [
    "from sklearn.ensemble import RandomForestClassifier\n",
    "rf=RandomForestClassifier(max_features=7)\n",
    "rf.fit(X,y)\n",
    "y_pred_full=rf.predict(X)"
   ]
  },
  {
   "cell_type": "code",
   "execution_count": 88,
   "metadata": {
    "scrolled": true
   },
   "outputs": [
    {
     "name": "stdout",
     "output_type": "stream",
     "text": [
      "              precision    recall  f1-score   support\n",
      "\n",
      "           1       0.98      0.98      0.98      5467\n",
      "           2       0.98      1.00      0.99     10912\n",
      "           3       0.99      0.97      0.98      5536\n",
      "           4       0.99      0.97      0.98      5091\n",
      "\n",
      "    accuracy                           0.98     27006\n",
      "   macro avg       0.99      0.98      0.98     27006\n",
      "weighted avg       0.98      0.98      0.98     27006\n",
      "\n"
     ]
    }
   ],
   "source": [
    "print(classification_report(y, y_pred_full))"
   ]
  },
  {
   "cell_type": "code",
   "execution_count": 89,
   "metadata": {
    "scrolled": true
   },
   "outputs": [
    {
     "data": {
      "image/png": "[encoded data removed]",
      "text/plain": [
       "<Figure size 432x288 with 2 Axes>"
      ]
     },
     "metadata": {
      "needs_background": "light"
     },
     "output_type": "display_data"
    }
   ],
   "source": [
    "# Confusion Matrix\n",
    "confusion_matrix_c(y, y_pred_full)"
   ]
  },
  {
   "cell_type": "code",
   "execution_count": 90,
   "metadata": {},
   "outputs": [
    {
     "name": "stdout",
     "output_type": "stream",
     "text": [
      "Misclassified samples: 421\n",
      "Accuracy: 0.98\n",
      "F1-Score: 0.98\n"
     ]
    }
   ],
   "source": [
    "# how did our model perform?\n",
    "count_misclassified = (y != y_pred_full).sum()\n",
    "print('Misclassified samples: {}'.format(count_misclassified))\n",
    "accuracy = accuracy_score(y, y_pred_full)\n",
    "print('Accuracy: {:.2f}'.format(accuracy))\n",
    "f1=f1_score(y, y_pred_full, average='macro')\n",
    "print('F1-Score: {:.2f}'.format(f1))"
   ]
  },
  {
   "cell_type": "markdown",
   "metadata": {},
   "source": [
    "## Predict Actual Test"
   ]
  },
  {
   "cell_type": "code",
   "execution_count": 91,
   "metadata": {},
   "outputs": [
    {
     "data": {
      "text/html": [
       "<div>\n",
       "<style scoped>\n",
       "    .dataframe tbody tr th:only-of-type {\n",
       "        vertical-align: middle;\n",
       "    }\n",
       "\n",
       "    .dataframe tbody tr th {\n",
       "        vertical-align: top;\n",
       "    }\n",
       "\n",
       "    .dataframe thead th {\n",
       "        text-align: right;\n",
       "    }\n",
       "</style>\n",
       "<table border=\"1\" class=\"dataframe\">\n",
       "  <thead>\n",
       "    <tr style=\"text-align: right;\">\n",
       "      <th></th>\n",
       "      <th>Id</th>\n",
       "      <th>date</th>\n",
       "      <th>ticker</th>\n",
       "      <th>SF1</th>\n",
       "      <th>SF2</th>\n",
       "      <th>SF3</th>\n",
       "      <th>SF4</th>\n",
       "      <th>SF5</th>\n",
       "      <th>SF6</th>\n",
       "      <th>SF7</th>\n",
       "      <th>Month</th>\n",
       "      <th>Day</th>\n",
       "      <th>WeekDay</th>\n",
       "      <th>WeekNumber</th>\n",
       "      <th>Sentiment_score</th>\n",
       "    </tr>\n",
       "  </thead>\n",
       "  <tbody>\n",
       "    <tr>\n",
       "      <td>0</td>\n",
       "      <td>270007</td>\n",
       "      <td>2018-07-21</td>\n",
       "      <td>INTC</td>\n",
       "      <td>-3.062194</td>\n",
       "      <td>1.223466</td>\n",
       "      <td>1.741714</td>\n",
       "      <td>2.279266</td>\n",
       "      <td>-1.323573</td>\n",
       "      <td>-0.274912</td>\n",
       "      <td>-4.504449</td>\n",
       "      <td>7</td>\n",
       "      <td>21</td>\n",
       "      <td>5</td>\n",
       "      <td>29</td>\n",
       "      <td>2</td>\n",
       "    </tr>\n",
       "    <tr>\n",
       "      <td>1</td>\n",
       "      <td>270008</td>\n",
       "      <td>2018-10-05</td>\n",
       "      <td>CTSH</td>\n",
       "      <td>0.816263</td>\n",
       "      <td>-2.184408</td>\n",
       "      <td>0.157975</td>\n",
       "      <td>-0.264743</td>\n",
       "      <td>-0.836282</td>\n",
       "      <td>0.046276</td>\n",
       "      <td>0.826353</td>\n",
       "      <td>10</td>\n",
       "      <td>5</td>\n",
       "      <td>4</td>\n",
       "      <td>40</td>\n",
       "      <td>4</td>\n",
       "    </tr>\n",
       "    <tr>\n",
       "      <td>2</td>\n",
       "      <td>270009</td>\n",
       "      <td>2018-10-01</td>\n",
       "      <td>CB</td>\n",
       "      <td>0.401281</td>\n",
       "      <td>0.091604</td>\n",
       "      <td>0.083411</td>\n",
       "      <td>-1.147041</td>\n",
       "      <td>-0.485223</td>\n",
       "      <td>-0.601060</td>\n",
       "      <td>1.012811</td>\n",
       "      <td>10</td>\n",
       "      <td>1</td>\n",
       "      <td>0</td>\n",
       "      <td>40</td>\n",
       "      <td>2</td>\n",
       "    </tr>\n",
       "    <tr>\n",
       "      <td>3</td>\n",
       "      <td>270010</td>\n",
       "      <td>2018-10-24</td>\n",
       "      <td>CTAS</td>\n",
       "      <td>-0.783521</td>\n",
       "      <td>1.192929</td>\n",
       "      <td>0.813831</td>\n",
       "      <td>-0.368166</td>\n",
       "      <td>-1.113656</td>\n",
       "      <td>-0.553581</td>\n",
       "      <td>-0.683803</td>\n",
       "      <td>10</td>\n",
       "      <td>24</td>\n",
       "      <td>2</td>\n",
       "      <td>43</td>\n",
       "      <td>0</td>\n",
       "    </tr>\n",
       "    <tr>\n",
       "      <td>4</td>\n",
       "      <td>270011</td>\n",
       "      <td>2018-07-27</td>\n",
       "      <td>INTC</td>\n",
       "      <td>0.796507</td>\n",
       "      <td>0.455341</td>\n",
       "      <td>0.679032</td>\n",
       "      <td>0.354336</td>\n",
       "      <td>-1.799055</td>\n",
       "      <td>0.126153</td>\n",
       "      <td>0.297111</td>\n",
       "      <td>7</td>\n",
       "      <td>27</td>\n",
       "      <td>4</td>\n",
       "      <td>30</td>\n",
       "      <td>2</td>\n",
       "    </tr>\n",
       "  </tbody>\n",
       "</table>\n",
       "</div>"
      ],
      "text/plain": [
       "       Id        date ticker       SF1       SF2       SF3       SF4  \\\n",
       "0  270007  2018-07-21   INTC -3.062194  1.223466  1.741714  2.279266   \n",
       "1  270008  2018-10-05   CTSH  0.816263 -2.184408  0.157975 -0.264743   \n",
       "2  270009  2018-10-01     CB  0.401281  0.091604  0.083411 -1.147041   \n",
       "3  270010  2018-10-24   CTAS -0.783521  1.192929  0.813831 -0.368166   \n",
       "4  270011  2018-07-27   INTC  0.796507  0.455341  0.679032  0.354336   \n",
       "\n",
       "        SF5       SF6       SF7  Month  Day  WeekDay  WeekNumber  \\\n",
       "0 -1.323573 -0.274912 -4.504449      7   21        5          29   \n",
       "1 -0.836282  0.046276  0.826353     10    5        4          40   \n",
       "2 -0.485223 -0.601060  1.012811     10    1        0          40   \n",
       "3 -1.113656 -0.553581 -0.683803     10   24        2          43   \n",
       "4 -1.799055  0.126153  0.297111      7   27        4          30   \n",
       "\n",
       "   Sentiment_score  \n",
       "0                2  \n",
       "1                4  \n",
       "2                2  \n",
       "3                0  \n",
       "4                2  "
      ]
     },
     "execution_count": 91,
     "metadata": {},
     "output_type": "execute_result"
    }
   ],
   "source": [
    "test.head()"
   ]
  },
  {
   "cell_type": "code",
   "execution_count": 92,
   "metadata": {},
   "outputs": [],
   "source": [
    "X_test=test.drop(['Id','date','ticker','Month','Day','WeekDay','WeekNumber'],axis=1)"
   ]
  },
  {
   "cell_type": "code",
   "execution_count": 93,
   "metadata": {},
   "outputs": [],
   "source": [
    "y_alpha_rf_s_tuned=rf.predict(X_test)"
   ]
  },
  {
   "cell_type": "code",
   "execution_count": 94,
   "metadata": {},
   "outputs": [
    {
     "data": {
      "text/html": [
       "<div>\n",
       "<style scoped>\n",
       "    .dataframe tbody tr th:only-of-type {\n",
       "        vertical-align: middle;\n",
       "    }\n",
       "\n",
       "    .dataframe tbody tr th {\n",
       "        vertical-align: top;\n",
       "    }\n",
       "\n",
       "    .dataframe thead th {\n",
       "        text-align: right;\n",
       "    }\n",
       "</style>\n",
       "<table border=\"1\" class=\"dataframe\">\n",
       "  <thead>\n",
       "    <tr style=\"text-align: right;\">\n",
       "      <th></th>\n",
       "      <th>Id</th>\n",
       "      <th>alpha</th>\n",
       "    </tr>\n",
       "  </thead>\n",
       "  <tbody>\n",
       "    <tr>\n",
       "      <td>0</td>\n",
       "      <td>270007</td>\n",
       "      <td>4</td>\n",
       "    </tr>\n",
       "    <tr>\n",
       "      <td>1</td>\n",
       "      <td>270008</td>\n",
       "      <td>3</td>\n",
       "    </tr>\n",
       "    <tr>\n",
       "      <td>2</td>\n",
       "      <td>270009</td>\n",
       "      <td>2</td>\n",
       "    </tr>\n",
       "    <tr>\n",
       "      <td>3</td>\n",
       "      <td>270010</td>\n",
       "      <td>1</td>\n",
       "    </tr>\n",
       "    <tr>\n",
       "      <td>4</td>\n",
       "      <td>270011</td>\n",
       "      <td>3</td>\n",
       "    </tr>\n",
       "    <tr>\n",
       "      <td>5</td>\n",
       "      <td>270012</td>\n",
       "      <td>1</td>\n",
       "    </tr>\n",
       "    <tr>\n",
       "      <td>6</td>\n",
       "      <td>270013</td>\n",
       "      <td>4</td>\n",
       "    </tr>\n",
       "    <tr>\n",
       "      <td>7</td>\n",
       "      <td>270014</td>\n",
       "      <td>3</td>\n",
       "    </tr>\n",
       "    <tr>\n",
       "      <td>8</td>\n",
       "      <td>270015</td>\n",
       "      <td>4</td>\n",
       "    </tr>\n",
       "    <tr>\n",
       "      <td>9</td>\n",
       "      <td>270016</td>\n",
       "      <td>2</td>\n",
       "    </tr>\n",
       "  </tbody>\n",
       "</table>\n",
       "</div>"
      ],
      "text/plain": [
       "       Id  alpha\n",
       "0  270007      4\n",
       "1  270008      3\n",
       "2  270009      2\n",
       "3  270010      1\n",
       "4  270011      3\n",
       "5  270012      1\n",
       "6  270013      4\n",
       "7  270014      3\n",
       "8  270015      4\n",
       "9  270016      2"
      ]
     },
     "execution_count": 94,
     "metadata": {},
     "output_type": "execute_result"
    }
   ],
   "source": [
    "y_alpha_rf_s_tuned_pred = pd.DataFrame({ 'Id': test['Id'],'alpha': y_alpha_rf_s_tuned})\n",
    "\n",
    "y_alpha_rf_s_tuned_pred.head(10)"
   ]
  },
  {
   "cell_type": "code",
   "execution_count": 95,
   "metadata": {},
   "outputs": [
    {
     "data": {
      "text/plain": [
       "(11575, 2)"
      ]
     },
     "execution_count": 95,
     "metadata": {},
     "output_type": "execute_result"
    }
   ],
   "source": [
    "y_alpha_rf_s_tuned_pred.shape"
   ]
  },
  {
   "cell_type": "code",
   "execution_count": 96,
   "metadata": {},
   "outputs": [
    {
     "data": {
      "text/plain": [
       "2    5358\n",
       "1    2277\n",
       "4    1984\n",
       "3    1956\n",
       "Name: alpha, dtype: int64"
      ]
     },
     "execution_count": 96,
     "metadata": {},
     "output_type": "execute_result"
    }
   ],
   "source": [
    "y_alpha_rf_s_tuned_pred['alpha'].value_counts()"
   ]
  },
  {
   "cell_type": "code",
   "execution_count": 57,
   "metadata": {},
   "outputs": [],
   "source": [
    "# y_alpha_rf_s_tuned_pred.to_csv('Rf_tuned_senti_alpha_pred.csv', index=False)"
   ]
  },
  {
   "cell_type": "markdown",
   "metadata": {},
   "source": [
    "# Fin Fin Fin"
   ]
  },
  {
   "cell_type": "markdown",
   "metadata": {},
   "source": [
    "## Count of Sentiment by Dates"
   ]
  },
  {
   "cell_type": "code",
   "execution_count": 40,
   "metadata": {},
   "outputs": [],
   "source": [
    "train_s_group=train_s.groupby(by=[\"Date_T\",\"Stock\",\"Sentiment_score\"]).count()[\"Tidy_Tweet\"].unstack().fillna(0)"
   ]
  },
  {
   "cell_type": "code",
   "execution_count": 41,
   "metadata": {},
   "outputs": [
    {
     "data": {
      "text/html": [
       "<div>\n",
       "<style scoped>\n",
       "    .dataframe tbody tr th:only-of-type {\n",
       "        vertical-align: middle;\n",
       "    }\n",
       "\n",
       "    .dataframe tbody tr th {\n",
       "        vertical-align: top;\n",
       "    }\n",
       "\n",
       "    .dataframe thead th {\n",
       "        text-align: right;\n",
       "    }\n",
       "</style>\n",
       "<table border=\"1\" class=\"dataframe\">\n",
       "  <thead>\n",
       "    <tr style=\"text-align: right;\">\n",
       "      <th></th>\n",
       "      <th>Sentiment_score</th>\n",
       "      <th>0</th>\n",
       "      <th>1</th>\n",
       "      <th>2</th>\n",
       "      <th>3</th>\n",
       "      <th>4</th>\n",
       "    </tr>\n",
       "    <tr>\n",
       "      <th>Date_T</th>\n",
       "      <th>Stock</th>\n",
       "      <th></th>\n",
       "      <th></th>\n",
       "      <th></th>\n",
       "      <th></th>\n",
       "      <th></th>\n",
       "    </tr>\n",
       "  </thead>\n",
       "  <tbody>\n",
       "    <tr>\n",
       "      <th rowspan=\"5\" valign=\"top\">2018-07-01</th>\n",
       "      <th>AABA</th>\n",
       "      <td>0.0</td>\n",
       "      <td>0.0</td>\n",
       "      <td>1.0</td>\n",
       "      <td>0.0</td>\n",
       "      <td>0.0</td>\n",
       "    </tr>\n",
       "    <tr>\n",
       "      <th>AAL</th>\n",
       "      <td>0.0</td>\n",
       "      <td>1.0</td>\n",
       "      <td>1.0</td>\n",
       "      <td>2.0</td>\n",
       "      <td>1.0</td>\n",
       "    </tr>\n",
       "    <tr>\n",
       "      <th>AAP</th>\n",
       "      <td>0.0</td>\n",
       "      <td>1.0</td>\n",
       "      <td>0.0</td>\n",
       "      <td>0.0</td>\n",
       "      <td>0.0</td>\n",
       "    </tr>\n",
       "    <tr>\n",
       "      <th>AAPL</th>\n",
       "      <td>1.0</td>\n",
       "      <td>2.0</td>\n",
       "      <td>29.0</td>\n",
       "      <td>4.0</td>\n",
       "      <td>2.0</td>\n",
       "    </tr>\n",
       "    <tr>\n",
       "      <th>ABBV</th>\n",
       "      <td>2.0</td>\n",
       "      <td>0.0</td>\n",
       "      <td>0.0</td>\n",
       "      <td>0.0</td>\n",
       "      <td>1.0</td>\n",
       "    </tr>\n",
       "  </tbody>\n",
       "</table>\n",
       "</div>"
      ],
      "text/plain": [
       "Sentiment_score     0    1     2    3    4\n",
       "Date_T     Stock                          \n",
       "2018-07-01 AABA   0.0  0.0   1.0  0.0  0.0\n",
       "           AAL    0.0  1.0   1.0  2.0  1.0\n",
       "           AAP    0.0  1.0   0.0  0.0  0.0\n",
       "           AAPL   1.0  2.0  29.0  4.0  2.0\n",
       "           ABBV   2.0  0.0   0.0  0.0  1.0"
      ]
     },
     "execution_count": 41,
     "metadata": {},
     "output_type": "execute_result"
    }
   ],
   "source": [
    "train_s_group.head()"
   ]
  },
  {
   "cell_type": "code",
   "execution_count": 15,
   "metadata": {},
   "outputs": [],
   "source": [
    "#train_s_group.to_csv('Train_Sentiment_Group_Dummiefied.csv')"
   ]
  },
  {
   "cell_type": "code",
   "execution_count": 16,
   "metadata": {},
   "outputs": [],
   "source": [
    "#train_s_group=pd.read_csv('Train_Sentiment_Group_Dummiefied.csv')"
   ]
  },
  {
   "cell_type": "code",
   "execution_count": 17,
   "metadata": {},
   "outputs": [],
   "source": [
    "# train['date']=train['date'].astype(str)\n",
    "# train_s_group['Date_T']=train_s_group['Date_T'].astype(str)"
   ]
  },
  {
   "cell_type": "code",
   "execution_count": 42,
   "metadata": {},
   "outputs": [],
   "source": [
    "train_s_group_merge=pd.merge(train, train_s_group,  how='left', left_on=['date','ticker'], right_on = ['Date_T','Stock'])"
   ]
  },
  {
   "cell_type": "code",
   "execution_count": 43,
   "metadata": {},
   "outputs": [
    {
     "data": {
      "text/plain": [
       "(27006, 20)"
      ]
     },
     "execution_count": 43,
     "metadata": {},
     "output_type": "execute_result"
    }
   ],
   "source": [
    "train_s_group_merge.shape"
   ]
  },
  {
   "cell_type": "code",
   "execution_count": 44,
   "metadata": {},
   "outputs": [],
   "source": [
    "#train_s_group_merge.drop(['Date_T','Stock'],axis=1,inplace=True)"
   ]
  },
  {
   "cell_type": "code",
   "execution_count": 45,
   "metadata": {},
   "outputs": [
    {
     "data": {
      "text/plain": [
       "Id               0\n",
       "date             0\n",
       "ticker           0\n",
       "SF1              0\n",
       "SF2              0\n",
       "SF3              0\n",
       "SF4              0\n",
       "SF5              0\n",
       "SF6              0\n",
       "SF7              0\n",
       "alpha            0\n",
       "Month            0\n",
       "Day              0\n",
       "WeekDay          0\n",
       "WeekNumber       0\n",
       "0             2196\n",
       "1             2196\n",
       "2             2196\n",
       "3             2196\n",
       "4             2196\n",
       "dtype: int64"
      ]
     },
     "execution_count": 45,
     "metadata": {},
     "output_type": "execute_result"
    }
   ],
   "source": [
    "train_s_group_merge.isnull().sum()"
   ]
  },
  {
   "cell_type": "code",
   "execution_count": 46,
   "metadata": {},
   "outputs": [],
   "source": [
    "train_s_group_merge.fillna(0,inplace=True)"
   ]
  },
  {
   "cell_type": "code",
   "execution_count": 47,
   "metadata": {},
   "outputs": [
    {
     "data": {
      "text/html": [
       "<div>\n",
       "<style scoped>\n",
       "    .dataframe tbody tr th:only-of-type {\n",
       "        vertical-align: middle;\n",
       "    }\n",
       "\n",
       "    .dataframe tbody tr th {\n",
       "        vertical-align: top;\n",
       "    }\n",
       "\n",
       "    .dataframe thead th {\n",
       "        text-align: right;\n",
       "    }\n",
       "</style>\n",
       "<table border=\"1\" class=\"dataframe\">\n",
       "  <thead>\n",
       "    <tr style=\"text-align: right;\">\n",
       "      <th></th>\n",
       "      <th>Id</th>\n",
       "      <th>date</th>\n",
       "      <th>ticker</th>\n",
       "      <th>SF1</th>\n",
       "      <th>SF2</th>\n",
       "      <th>SF3</th>\n",
       "      <th>SF4</th>\n",
       "      <th>SF5</th>\n",
       "      <th>SF6</th>\n",
       "      <th>SF7</th>\n",
       "      <th>alpha</th>\n",
       "      <th>Month</th>\n",
       "      <th>Day</th>\n",
       "      <th>WeekDay</th>\n",
       "      <th>WeekNumber</th>\n",
       "      <th>0</th>\n",
       "      <th>1</th>\n",
       "      <th>2</th>\n",
       "      <th>3</th>\n",
       "      <th>4</th>\n",
       "    </tr>\n",
       "  </thead>\n",
       "  <tbody>\n",
       "    <tr>\n",
       "      <th>0</th>\n",
       "      <td>1</td>\n",
       "      <td>2018-08-21</td>\n",
       "      <td>NTAP</td>\n",
       "      <td>-0.628652</td>\n",
       "      <td>0.988891</td>\n",
       "      <td>-0.055714</td>\n",
       "      <td>0.774379</td>\n",
       "      <td>0.551089</td>\n",
       "      <td>-1.329229</td>\n",
       "      <td>-0.995539</td>\n",
       "      <td>2</td>\n",
       "      <td>8</td>\n",
       "      <td>21</td>\n",
       "      <td>1</td>\n",
       "      <td>34</td>\n",
       "      <td>0.0</td>\n",
       "      <td>3.0</td>\n",
       "      <td>5.0</td>\n",
       "      <td>2.0</td>\n",
       "      <td>1.0</td>\n",
       "    </tr>\n",
       "    <tr>\n",
       "      <th>1</th>\n",
       "      <td>2</td>\n",
       "      <td>2018-10-11</td>\n",
       "      <td>WYNN</td>\n",
       "      <td>1.315786</td>\n",
       "      <td>1.438754</td>\n",
       "      <td>0.187327</td>\n",
       "      <td>0.608933</td>\n",
       "      <td>-1.153030</td>\n",
       "      <td>1.859441</td>\n",
       "      <td>0.730995</td>\n",
       "      <td>3</td>\n",
       "      <td>10</td>\n",
       "      <td>11</td>\n",
       "      <td>3</td>\n",
       "      <td>41</td>\n",
       "      <td>1.0</td>\n",
       "      <td>2.0</td>\n",
       "      <td>8.0</td>\n",
       "      <td>3.0</td>\n",
       "      <td>1.0</td>\n",
       "    </tr>\n",
       "    <tr>\n",
       "      <th>2</th>\n",
       "      <td>3</td>\n",
       "      <td>2018-08-21</td>\n",
       "      <td>DRI</td>\n",
       "      <td>-1.141388</td>\n",
       "      <td>-1.455016</td>\n",
       "      <td>0.332755</td>\n",
       "      <td>0.674502</td>\n",
       "      <td>0.111326</td>\n",
       "      <td>-0.478597</td>\n",
       "      <td>-1.488157</td>\n",
       "      <td>1</td>\n",
       "      <td>8</td>\n",
       "      <td>21</td>\n",
       "      <td>1</td>\n",
       "      <td>34</td>\n",
       "      <td>0.0</td>\n",
       "      <td>1.0</td>\n",
       "      <td>2.0</td>\n",
       "      <td>0.0</td>\n",
       "      <td>0.0</td>\n",
       "    </tr>\n",
       "    <tr>\n",
       "      <th>3</th>\n",
       "      <td>4</td>\n",
       "      <td>2018-07-10</td>\n",
       "      <td>GE</td>\n",
       "      <td>-0.054839</td>\n",
       "      <td>-1.454149</td>\n",
       "      <td>-0.162267</td>\n",
       "      <td>-0.681870</td>\n",
       "      <td>0.307869</td>\n",
       "      <td>-0.529987</td>\n",
       "      <td>0.404172</td>\n",
       "      <td>2</td>\n",
       "      <td>7</td>\n",
       "      <td>10</td>\n",
       "      <td>1</td>\n",
       "      <td>28</td>\n",
       "      <td>5.0</td>\n",
       "      <td>11.0</td>\n",
       "      <td>51.0</td>\n",
       "      <td>28.0</td>\n",
       "      <td>23.0</td>\n",
       "    </tr>\n",
       "    <tr>\n",
       "      <th>4</th>\n",
       "      <td>5</td>\n",
       "      <td>2018-09-12</td>\n",
       "      <td>FE</td>\n",
       "      <td>-0.686366</td>\n",
       "      <td>0.838865</td>\n",
       "      <td>0.073830</td>\n",
       "      <td>0.679024</td>\n",
       "      <td>0.329463</td>\n",
       "      <td>1.262782</td>\n",
       "      <td>-1.024042</td>\n",
       "      <td>2</td>\n",
       "      <td>9</td>\n",
       "      <td>12</td>\n",
       "      <td>2</td>\n",
       "      <td>37</td>\n",
       "      <td>1.0</td>\n",
       "      <td>0.0</td>\n",
       "      <td>0.0</td>\n",
       "      <td>0.0</td>\n",
       "      <td>0.0</td>\n",
       "    </tr>\n",
       "  </tbody>\n",
       "</table>\n",
       "</div>"
      ],
      "text/plain": [
       "   Id        date ticker       SF1       SF2       SF3       SF4       SF5  \\\n",
       "0   1  2018-08-21   NTAP -0.628652  0.988891 -0.055714  0.774379  0.551089   \n",
       "1   2  2018-10-11   WYNN  1.315786  1.438754  0.187327  0.608933 -1.153030   \n",
       "2   3  2018-08-21    DRI -1.141388 -1.455016  0.332755  0.674502  0.111326   \n",
       "3   4  2018-07-10     GE -0.054839 -1.454149 -0.162267 -0.681870  0.307869   \n",
       "4   5  2018-09-12     FE -0.686366  0.838865  0.073830  0.679024  0.329463   \n",
       "\n",
       "        SF6       SF7  alpha  Month  Day  WeekDay  WeekNumber    0     1  \\\n",
       "0 -1.329229 -0.995539      2      8   21        1          34  0.0   3.0   \n",
       "1  1.859441  0.730995      3     10   11        3          41  1.0   2.0   \n",
       "2 -0.478597 -1.488157      1      8   21        1          34  0.0   1.0   \n",
       "3 -0.529987  0.404172      2      7   10        1          28  5.0  11.0   \n",
       "4  1.262782 -1.024042      2      9   12        2          37  1.0   0.0   \n",
       "\n",
       "      2     3     4  \n",
       "0   5.0   2.0   1.0  \n",
       "1   8.0   3.0   1.0  \n",
       "2   2.0   0.0   0.0  \n",
       "3  51.0  28.0  23.0  \n",
       "4   0.0   0.0   0.0  "
      ]
     },
     "execution_count": 47,
     "metadata": {},
     "output_type": "execute_result"
    }
   ],
   "source": [
    "train_s_group_merge.head()"
   ]
  },
  {
   "cell_type": "code",
   "execution_count": 48,
   "metadata": {},
   "outputs": [
    {
     "data": {
      "text/plain": [
       "(27006, 20)"
      ]
     },
     "execution_count": 48,
     "metadata": {},
     "output_type": "execute_result"
    }
   ],
   "source": [
    "train_s_group_merge.shape"
   ]
  },
  {
   "cell_type": "code",
   "execution_count": 49,
   "metadata": {},
   "outputs": [],
   "source": [
    "X=train_s_group_merge.drop(['date','alpha','ticker','Month','Day','WeekNumber'],axis=1)\n",
    "y=train_s_group_merge['alpha']"
   ]
  },
  {
   "cell_type": "code",
   "execution_count": 50,
   "metadata": {},
   "outputs": [],
   "source": [
    "from sklearn.model_selection import train_test_split\n",
    "X_train_sent,X_test_sent,y_train_sent,y_test_sent=train_test_split(X,y,test_size=0.3,random_state=42)"
   ]
  },
  {
   "cell_type": "code",
   "execution_count": 51,
   "metadata": {},
   "outputs": [],
   "source": [
    "from sklearn.ensemble import RandomForestClassifier\n",
    "rf=RandomForestClassifier()\n",
    "rf.fit(X_train_sent,y_train_sent)\n",
    "y_train_sent_pred=rf.predict(X_train_sent)\n",
    "y_test_sent_pred=rf.predict(X_test_sent)"
   ]
  },
  {
   "cell_type": "code",
   "execution_count": 52,
   "metadata": {},
   "outputs": [
    {
     "name": "stdout",
     "output_type": "stream",
     "text": [
      "              precision    recall  f1-score   support\n",
      "\n",
      "           1       0.99      0.98      0.99      3828\n",
      "           2       0.98      1.00      0.99      7650\n",
      "           3       0.99      0.98      0.98      3904\n",
      "           4       0.99      0.98      0.99      3522\n",
      "\n",
      "    accuracy                           0.99     18904\n",
      "   macro avg       0.99      0.98      0.99     18904\n",
      "weighted avg       0.99      0.99      0.99     18904\n",
      "\n",
      "              precision    recall  f1-score   support\n",
      "\n",
      "           1       0.62      0.58      0.60      1639\n",
      "           2       0.72      0.88      0.79      3262\n",
      "           3       0.60      0.52      0.56      1632\n",
      "           4       0.60      0.46      0.52      1569\n",
      "\n",
      "    accuracy                           0.66      8102\n",
      "   macro avg       0.64      0.61      0.62      8102\n",
      "weighted avg       0.65      0.66      0.65      8102\n",
      "\n"
     ]
    }
   ],
   "source": [
    "from sklearn.metrics import classification_report\n",
    "print(classification_report(y_train_sent, y_train_sent_pred))\n",
    "print(classification_report(y_test_sent, y_test_sent_pred))"
   ]
  },
  {
   "cell_type": "markdown",
   "metadata": {},
   "source": [
    "XGB"
   ]
  },
  {
   "cell_type": "code",
   "execution_count": 53,
   "metadata": {},
   "outputs": [],
   "source": [
    "from xgboost import XGBClassifier\n",
    "xgb=XGBClassifier()\n",
    "xgb.fit(X_train_sent,y_train_sent)\n",
    "y_train_sent_pred=xgb.predict(X_train_sent)\n",
    "y_test_sent_pred=xgb.predict(X_test_sent)"
   ]
  },
  {
   "cell_type": "code",
   "execution_count": 54,
   "metadata": {
    "scrolled": true
   },
   "outputs": [
    {
     "name": "stdout",
     "output_type": "stream",
     "text": [
      "              precision    recall  f1-score   support\n",
      "\n",
      "           1       0.75      0.50      0.60      3828\n",
      "           2       0.66      0.95      0.78      7650\n",
      "           3       0.68      0.53      0.59      3904\n",
      "           4       0.63      0.41      0.50      3522\n",
      "\n",
      "    accuracy                           0.67     18904\n",
      "   macro avg       0.68      0.60      0.62     18904\n",
      "weighted avg       0.67      0.67      0.65     18904\n",
      "\n",
      "              precision    recall  f1-score   support\n",
      "\n",
      "           1       0.73      0.50      0.59      1639\n",
      "           2       0.65      0.93      0.77      3262\n",
      "           3       0.64      0.48      0.55      1632\n",
      "           4       0.59      0.40      0.48      1569\n",
      "\n",
      "    accuracy                           0.65      8102\n",
      "   macro avg       0.65      0.58      0.60      8102\n",
      "weighted avg       0.65      0.65      0.63      8102\n",
      "\n"
     ]
    }
   ],
   "source": [
    "from sklearn.metrics import classification_report\n",
    "print(classification_report(y_train_sent, y_train_sent_pred))\n",
    "print(classification_report(y_test_sent, y_test_sent_pred))"
   ]
  },
  {
   "cell_type": "code",
   "execution_count": 57,
   "metadata": {},
   "outputs": [
    {
     "data": {
      "text/html": [
       "<div>\n",
       "<style scoped>\n",
       "    .dataframe tbody tr th:only-of-type {\n",
       "        vertical-align: middle;\n",
       "    }\n",
       "\n",
       "    .dataframe tbody tr th {\n",
       "        vertical-align: top;\n",
       "    }\n",
       "\n",
       "    .dataframe thead th {\n",
       "        text-align: right;\n",
       "    }\n",
       "</style>\n",
       "<table border=\"1\" class=\"dataframe\">\n",
       "  <thead>\n",
       "    <tr style=\"text-align: right;\">\n",
       "      <th></th>\n",
       "      <th>Stock</th>\n",
       "      <th>Date_T</th>\n",
       "      <th>Month</th>\n",
       "      <th>Day</th>\n",
       "      <th>WeekDay</th>\n",
       "      <th>WeekNumber</th>\n",
       "      <th>Tidy_Tweet</th>\n",
       "      <th>Punctuation_%</th>\n",
       "      <th>Text Length</th>\n",
       "    </tr>\n",
       "  </thead>\n",
       "  <tbody>\n",
       "    <tr>\n",
       "      <th>0</th>\n",
       "      <td>CELG</td>\n",
       "      <td>2018-10-25</td>\n",
       "      <td>10</td>\n",
       "      <td>25</td>\n",
       "      <td>3</td>\n",
       "      <td>43</td>\n",
       "      <td>noth exit</td>\n",
       "      <td>3.7</td>\n",
       "      <td>27</td>\n",
       "    </tr>\n",
       "    <tr>\n",
       "      <th>1</th>\n",
       "      <td>AMD</td>\n",
       "      <td>2018-07-13</td>\n",
       "      <td>7</td>\n",
       "      <td>13</td>\n",
       "      <td>4</td>\n",
       "      <td>28</td>\n",
       "      <td>yall exhaust buyer first green candl byee</td>\n",
       "      <td>9.3</td>\n",
       "      <td>54</td>\n",
       "    </tr>\n",
       "    <tr>\n",
       "      <th>2</th>\n",
       "      <td>AMD</td>\n",
       "      <td>2018-09-25</td>\n",
       "      <td>9</td>\n",
       "      <td>25</td>\n",
       "      <td>1</td>\n",
       "      <td>39</td>\n",
       "      <td>day trader day</td>\n",
       "      <td>11.1</td>\n",
       "      <td>18</td>\n",
       "    </tr>\n",
       "    <tr>\n",
       "      <th>3</th>\n",
       "      <td>MU</td>\n",
       "      <td>2018-07-31</td>\n",
       "      <td>7</td>\n",
       "      <td>31</td>\n",
       "      <td>1</td>\n",
       "      <td>31</td>\n",
       "      <td>weak price action far today dont afraid go sho...</td>\n",
       "      <td>3.4</td>\n",
       "      <td>88</td>\n",
       "    </tr>\n",
       "    <tr>\n",
       "      <th>4</th>\n",
       "      <td>AMZN</td>\n",
       "      <td>2018-08-04</td>\n",
       "      <td>8</td>\n",
       "      <td>4</td>\n",
       "      <td>5</td>\n",
       "      <td>31</td>\n",
       "      <td>continu grow specif key area like cloud comput...</td>\n",
       "      <td>3.7</td>\n",
       "      <td>108</td>\n",
       "    </tr>\n",
       "  </tbody>\n",
       "</table>\n",
       "</div>"
      ],
      "text/plain": [
       "  Stock      Date_T  Month  Day  WeekDay  WeekNumber  \\\n",
       "0  CELG  2018-10-25     10   25        3          43   \n",
       "1   AMD  2018-07-13      7   13        4          28   \n",
       "2   AMD  2018-09-25      9   25        1          39   \n",
       "3    MU  2018-07-31      7   31        1          31   \n",
       "4  AMZN  2018-08-04      8    4        5          31   \n",
       "\n",
       "                                          Tidy_Tweet  Punctuation_%  \\\n",
       "0                                          noth exit            3.7   \n",
       "1          yall exhaust buyer first green candl byee            9.3   \n",
       "2                                     day trader day           11.1   \n",
       "3  weak price action far today dont afraid go sho...            3.4   \n",
       "4  continu grow specif key area like cloud comput...            3.7   \n",
       "\n",
       "   Text Length  \n",
       "0           27  \n",
       "1           54  \n",
       "2           18  \n",
       "3           88  \n",
       "4          108  "
      ]
     },
     "execution_count": 57,
     "metadata": {},
     "output_type": "execute_result"
    }
   ],
   "source": [
    "test_s.head()"
   ]
  },
  {
   "cell_type": "code",
   "execution_count": 59,
   "metadata": {},
   "outputs": [
    {
     "data": {
      "text/plain": [
       "(254741, 9)"
      ]
     },
     "execution_count": 59,
     "metadata": {},
     "output_type": "execute_result"
    }
   ],
   "source": [
    "test_s.shape"
   ]
  },
  {
   "cell_type": "code",
   "execution_count": 60,
   "metadata": {},
   "outputs": [
    {
     "data": {
      "text/plain": [
       "(254741, 3)"
      ]
     },
     "execution_count": 60,
     "metadata": {},
     "output_type": "execute_result"
    }
   ],
   "source": [
    "test_sentiment_pred.shape"
   ]
  }
 ],
 "metadata": {
  "kernelspec": {
   "display_name": "Python 3",
   "language": "python",
   "name": "python3"
  },
  "language_info": {
   "codemirror_mode": {
    "name": "ipython",
    "version": 3
   },
   "file_extension": ".py",
   "mimetype": "text/x-python",
   "name": "python",
   "nbconvert_exporter": "python",
   "pygments_lexer": "ipython3",
   "version": "3.7.2"
  },
  "toc": {
   "base_numbering": 1,
   "nav_menu": {},
   "number_sections": true,
   "sideBar": true,
   "skip_h1_title": false,
   "title_cell": "Table of Contents",
   "title_sidebar": "Contents",
   "toc_cell": false,
   "toc_position": {},
   "toc_section_display": true,
   "toc_window_display": false
  },
  "varInspector": {
   "cols": {
    "lenName": 16,
    "lenType": 16,
    "lenVar": 40
   },
   "kernels_config": {
    "python": {
     "delete_cmd_postfix": "",
     "delete_cmd_prefix": "del ",
     "library": "var_list.py",
     "varRefreshCmd": "print(var_dic_list())"
    },
    "r": {
     "delete_cmd_postfix": ") ",
     "delete_cmd_prefix": "rm(",
     "library": "var_list.r",
     "varRefreshCmd": "cat(var_dic_list()) "
    }
   },
   "types_to_exclude": [
    "module",
    "function",
    "builtin_function_or_method",
    "instance",
    "_Feature"
   ],
   "window_display": false
  }
 },
 "nbformat": 4,
 "nbformat_minor": 2
}
