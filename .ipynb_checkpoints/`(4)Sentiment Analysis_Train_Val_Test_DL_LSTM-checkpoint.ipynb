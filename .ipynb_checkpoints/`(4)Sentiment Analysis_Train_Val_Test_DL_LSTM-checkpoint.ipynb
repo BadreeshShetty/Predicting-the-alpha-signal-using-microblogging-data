{
 "cells": [
  {
   "cell_type": "code",
   "execution_count": 20,
   "metadata": {},
   "outputs": [],
   "source": [
    "import pandas as pd\n",
    "import matplotlib.pyplot as plt\n",
    "import seaborn as sns\n",
    "import numpy as np\n",
    "import warnings\n",
    "warnings.filterwarnings(\"ignore\")"
   ]
  },
  {
   "cell_type": "code",
   "execution_count": 21,
   "metadata": {},
   "outputs": [],
   "source": [
    "json_df=pd.read_csv(\"json_df_cleaned_train_val_1.csv\")"
   ]
  },
  {
   "cell_type": "code",
   "execution_count": 22,
   "metadata": {},
   "outputs": [],
   "source": [
    "data=json_df.copy()"
   ]
  },
  {
   "cell_type": "code",
   "execution_count": 23,
   "metadata": {},
   "outputs": [
    {
     "data": {
      "text/html": [
       "<div>\n",
       "<style scoped>\n",
       "    .dataframe tbody tr th:only-of-type {\n",
       "        vertical-align: middle;\n",
       "    }\n",
       "\n",
       "    .dataframe tbody tr th {\n",
       "        vertical-align: top;\n",
       "    }\n",
       "\n",
       "    .dataframe thead th {\n",
       "        text-align: right;\n",
       "    }\n",
       "</style>\n",
       "<table border=\"1\" class=\"dataframe\">\n",
       "  <thead>\n",
       "    <tr style=\"text-align: right;\">\n",
       "      <th></th>\n",
       "      <th>Sentiment_score</th>\n",
       "      <th>Stock</th>\n",
       "      <th>Date_T</th>\n",
       "      <th>Month</th>\n",
       "      <th>Day</th>\n",
       "      <th>WeekDay</th>\n",
       "      <th>WeekNumber</th>\n",
       "      <th>Tidy_Tweet</th>\n",
       "      <th>Punctuation_%</th>\n",
       "      <th>Text Length</th>\n",
       "    </tr>\n",
       "  </thead>\n",
       "  <tbody>\n",
       "    <tr>\n",
       "      <th>0</th>\n",
       "      <td>3</td>\n",
       "      <td>AMD</td>\n",
       "      <td>2018-09-19</td>\n",
       "      <td>9</td>\n",
       "      <td>19</td>\n",
       "      <td>2</td>\n",
       "      <td>38</td>\n",
       "      <td>going hesitating however chart stable going up...</td>\n",
       "      <td>1.6</td>\n",
       "      <td>62</td>\n",
       "    </tr>\n",
       "    <tr>\n",
       "      <th>1</th>\n",
       "      <td>3</td>\n",
       "      <td>CAT</td>\n",
       "      <td>2018-10-09</td>\n",
       "      <td>10</td>\n",
       "      <td>9</td>\n",
       "      <td>1</td>\n",
       "      <td>41</td>\n",
       "      <td>despite china trade war held well thumb</td>\n",
       "      <td>5.0</td>\n",
       "      <td>60</td>\n",
       "    </tr>\n",
       "    <tr>\n",
       "      <th>2</th>\n",
       "      <td>2</td>\n",
       "      <td>AVGO</td>\n",
       "      <td>2018-07-12</td>\n",
       "      <td>7</td>\n",
       "      <td>12</td>\n",
       "      <td>3</td>\n",
       "      <td>28</td>\n",
       "      <td>wtf</td>\n",
       "      <td>22.2</td>\n",
       "      <td>9</td>\n",
       "    </tr>\n",
       "    <tr>\n",
       "      <th>3</th>\n",
       "      <td>2</td>\n",
       "      <td>PH</td>\n",
       "      <td>2018-07-19</td>\n",
       "      <td>7</td>\n",
       "      <td>19</td>\n",
       "      <td>3</td>\n",
       "      <td>29</td>\n",
       "      <td>new insider filing muller klaus peter transact...</td>\n",
       "      <td>11.0</td>\n",
       "      <td>100</td>\n",
       "    </tr>\n",
       "    <tr>\n",
       "      <th>4</th>\n",
       "      <td>3</td>\n",
       "      <td>FB</td>\n",
       "      <td>2018-08-23</td>\n",
       "      <td>8</td>\n",
       "      <td>23</td>\n",
       "      <td>3</td>\n",
       "      <td>34</td>\n",
       "      <td>bounce tommorrow right thing gtfo</td>\n",
       "      <td>2.2</td>\n",
       "      <td>45</td>\n",
       "    </tr>\n",
       "  </tbody>\n",
       "</table>\n",
       "</div>"
      ],
      "text/plain": [
       "   Sentiment_score Stock      Date_T  Month  Day  WeekDay  WeekNumber  \\\n",
       "0                3   AMD  2018-09-19      9   19        2          38   \n",
       "1                3   CAT  2018-10-09     10    9        1          41   \n",
       "2                2  AVGO  2018-07-12      7   12        3          28   \n",
       "3                2    PH  2018-07-19      7   19        3          29   \n",
       "4                3    FB  2018-08-23      8   23        3          34   \n",
       "\n",
       "                                          Tidy_Tweet  Punctuation_%  \\\n",
       "0  going hesitating however chart stable going up...            1.6   \n",
       "1            despite china trade war held well thumb            5.0   \n",
       "2                                                wtf           22.2   \n",
       "3  new insider filing muller klaus peter transact...           11.0   \n",
       "4                  bounce tommorrow right thing gtfo            2.2   \n",
       "\n",
       "   Text Length  \n",
       "0           62  \n",
       "1           60  \n",
       "2            9  \n",
       "3          100  \n",
       "4           45  "
      ]
     },
     "execution_count": 23,
     "metadata": {},
     "output_type": "execute_result"
    }
   ],
   "source": [
    "json_df.head()"
   ]
  },
  {
   "cell_type": "code",
   "execution_count": 24,
   "metadata": {},
   "outputs": [],
   "source": [
    "# # Import label encoder \n",
    "# from sklearn.preprocessing import LabelEncoder\n",
    "  \n",
    "# # label_encoder object knows how to understand word labels. \n",
    "# label_encoder = LabelEncoder() \n",
    "  \n",
    "# # Encode labels in column 'species'. \n",
    "# data['Stock']= label_encoder.fit_transform(data['Stock']) \n",
    "  \n",
    "# data['Stock'].nunique()"
   ]
  },
  {
   "cell_type": "code",
   "execution_count": 25,
   "metadata": {},
   "outputs": [
    {
     "data": {
      "text/html": [
       "<div>\n",
       "<style scoped>\n",
       "    .dataframe tbody tr th:only-of-type {\n",
       "        vertical-align: middle;\n",
       "    }\n",
       "\n",
       "    .dataframe tbody tr th {\n",
       "        vertical-align: top;\n",
       "    }\n",
       "\n",
       "    .dataframe thead th {\n",
       "        text-align: right;\n",
       "    }\n",
       "</style>\n",
       "<table border=\"1\" class=\"dataframe\">\n",
       "  <thead>\n",
       "    <tr style=\"text-align: right;\">\n",
       "      <th></th>\n",
       "      <th>Sentiment_score</th>\n",
       "      <th>Stock</th>\n",
       "      <th>Date_T</th>\n",
       "      <th>Month</th>\n",
       "      <th>Day</th>\n",
       "      <th>WeekDay</th>\n",
       "      <th>WeekNumber</th>\n",
       "      <th>Tidy_Tweet</th>\n",
       "      <th>Punctuation_%</th>\n",
       "      <th>Text Length</th>\n",
       "    </tr>\n",
       "  </thead>\n",
       "  <tbody>\n",
       "    <tr>\n",
       "      <th>0</th>\n",
       "      <td>3</td>\n",
       "      <td>AMD</td>\n",
       "      <td>2018-09-19</td>\n",
       "      <td>9</td>\n",
       "      <td>19</td>\n",
       "      <td>2</td>\n",
       "      <td>38</td>\n",
       "      <td>going hesitating however chart stable going up...</td>\n",
       "      <td>1.6</td>\n",
       "      <td>62</td>\n",
       "    </tr>\n",
       "    <tr>\n",
       "      <th>1</th>\n",
       "      <td>3</td>\n",
       "      <td>CAT</td>\n",
       "      <td>2018-10-09</td>\n",
       "      <td>10</td>\n",
       "      <td>9</td>\n",
       "      <td>1</td>\n",
       "      <td>41</td>\n",
       "      <td>despite china trade war held well thumb</td>\n",
       "      <td>5.0</td>\n",
       "      <td>60</td>\n",
       "    </tr>\n",
       "    <tr>\n",
       "      <th>2</th>\n",
       "      <td>2</td>\n",
       "      <td>AVGO</td>\n",
       "      <td>2018-07-12</td>\n",
       "      <td>7</td>\n",
       "      <td>12</td>\n",
       "      <td>3</td>\n",
       "      <td>28</td>\n",
       "      <td>wtf</td>\n",
       "      <td>22.2</td>\n",
       "      <td>9</td>\n",
       "    </tr>\n",
       "    <tr>\n",
       "      <th>3</th>\n",
       "      <td>2</td>\n",
       "      <td>PH</td>\n",
       "      <td>2018-07-19</td>\n",
       "      <td>7</td>\n",
       "      <td>19</td>\n",
       "      <td>3</td>\n",
       "      <td>29</td>\n",
       "      <td>new insider filing muller klaus peter transact...</td>\n",
       "      <td>11.0</td>\n",
       "      <td>100</td>\n",
       "    </tr>\n",
       "    <tr>\n",
       "      <th>4</th>\n",
       "      <td>3</td>\n",
       "      <td>FB</td>\n",
       "      <td>2018-08-23</td>\n",
       "      <td>8</td>\n",
       "      <td>23</td>\n",
       "      <td>3</td>\n",
       "      <td>34</td>\n",
       "      <td>bounce tommorrow right thing gtfo</td>\n",
       "      <td>2.2</td>\n",
       "      <td>45</td>\n",
       "    </tr>\n",
       "  </tbody>\n",
       "</table>\n",
       "</div>"
      ],
      "text/plain": [
       "   Sentiment_score Stock      Date_T  Month  Day  WeekDay  WeekNumber  \\\n",
       "0                3   AMD  2018-09-19      9   19        2          38   \n",
       "1                3   CAT  2018-10-09     10    9        1          41   \n",
       "2                2  AVGO  2018-07-12      7   12        3          28   \n",
       "3                2    PH  2018-07-19      7   19        3          29   \n",
       "4                3    FB  2018-08-23      8   23        3          34   \n",
       "\n",
       "                                          Tidy_Tweet  Punctuation_%  \\\n",
       "0  going hesitating however chart stable going up...            1.6   \n",
       "1            despite china trade war held well thumb            5.0   \n",
       "2                                                wtf           22.2   \n",
       "3  new insider filing muller klaus peter transact...           11.0   \n",
       "4                  bounce tommorrow right thing gtfo            2.2   \n",
       "\n",
       "   Text Length  \n",
       "0           62  \n",
       "1           60  \n",
       "2            9  \n",
       "3          100  \n",
       "4           45  "
      ]
     },
     "execution_count": 25,
     "metadata": {},
     "output_type": "execute_result"
    }
   ],
   "source": [
    "data.head()"
   ]
  },
  {
   "cell_type": "code",
   "execution_count": 26,
   "metadata": {},
   "outputs": [],
   "source": [
    "X=data['Tidy_Tweet']\n",
    "y=data['Sentiment_score']"
   ]
  },
  {
   "cell_type": "code",
   "execution_count": 27,
   "metadata": {},
   "outputs": [],
   "source": [
    "from sklearn.model_selection import train_test_split\n",
    "X_train, X_test, y_train, y_test= train_test_split(X, y, test_size = 0.3, random_state=42,stratify=y)"
   ]
  },
  {
   "cell_type": "code",
   "execution_count": 28,
   "metadata": {},
   "outputs": [],
   "source": [
    "from sklearn.feature_extraction.text import TfidfVectorizer\n",
    "tfidf = TfidfVectorizer()\n",
    "vect_train = tfidf.fit_transform(X_train)\n",
    "vect_test = tfidf.transform(X_test)"
   ]
  },
  {
   "cell_type": "code",
   "execution_count": 29,
   "metadata": {},
   "outputs": [],
   "source": [
    "from scipy import sparse\n",
    "from scipy.sparse import csr_matrix\n",
    "#jf_vect.toarray()\n",
    "sp_vect_train = sparse.csr_matrix(vect_train)\n",
    "sp_vect_test = sparse.csr_matrix(vect_test)"
   ]
  },
  {
   "cell_type": "code",
   "execution_count": 30,
   "metadata": {},
   "outputs": [],
   "source": [
    "from sklearn.ensemble import RandomForestClassifier\n",
    "#from sklearn.model_selection import GridSearchCV\n",
    "rf = RandomForestClassifier(n_jobs=-1)\n",
    "#param = {'n_estimators': [10, 150, 300],\n",
    "#        'max_depth': [30, 60, 90, None]}\n",
    "\n",
    "#gs = GridSearchCV(rf, param, cv=5, n_jobs=-1)\n",
    "rf_fit = rf.fit(sp_vect_train, y_train)"
   ]
  },
  {
   "cell_type": "code",
   "execution_count": 31,
   "metadata": {},
   "outputs": [],
   "source": [
    "X_tfidf_csr_train_pred=rf_fit.predict(sp_vect_train)\n",
    "X_tfidf_csr_test_pred=rf_fit.predict(sp_vect_test)"
   ]
  },
  {
   "cell_type": "code",
   "execution_count": 48,
   "metadata": {},
   "outputs": [
    {
     "name": "stdout",
     "output_type": "stream",
     "text": [
      "              precision    recall  f1-score   support\n",
      "\n",
      "           0       0.94      0.92      0.93     63335\n",
      "           1       0.93      0.93      0.93     82701\n",
      "           2       0.94      0.96      0.95    298148\n",
      "           3       0.93      0.90      0.92    140625\n",
      "           4       0.94      0.94      0.94    105953\n",
      "\n",
      "    accuracy                           0.94    690762\n",
      "   macro avg       0.94      0.93      0.93    690762\n",
      "weighted avg       0.94      0.94      0.94    690762\n",
      "\n"
     ]
    }
   ],
   "source": [
    "from sklearn.metrics import classification_report\n",
    "print(classification_report(y_train,X_tfidf_csr_train_pred))"
   ]
  },
  {
   "cell_type": "code",
   "execution_count": 49,
   "metadata": {},
   "outputs": [
    {
     "name": "stdout",
     "output_type": "stream",
     "text": [
      "              precision    recall  f1-score   support\n",
      "\n",
      "           0       0.59      0.54      0.57     27144\n",
      "           1       0.56      0.45      0.50     35443\n",
      "           2       0.70      0.83      0.76    127779\n",
      "           3       0.53      0.44      0.48     60268\n",
      "           4       0.66      0.60      0.63     45408\n",
      "\n",
      "    accuracy                           0.64    296042\n",
      "   macro avg       0.61      0.57      0.59    296042\n",
      "weighted avg       0.63      0.64      0.63    296042\n",
      "\n"
     ]
    }
   ],
   "source": [
    "print(classification_report(y_test,X_tfidf_csr_test_pred))"
   ]
  },
  {
   "cell_type": "markdown",
   "metadata": {},
   "source": [
    "## On Whole Dataset"
   ]
  },
  {
   "cell_type": "code",
   "execution_count": 40,
   "metadata": {},
   "outputs": [],
   "source": [
    "from sklearn.feature_extraction.text import TfidfVectorizer\n",
    "tfidf_full=TfidfVectorizer()\n",
    "vect_full = tfidf_full.fit_transform(X)"
   ]
  },
  {
   "cell_type": "code",
   "execution_count": 51,
   "metadata": {},
   "outputs": [],
   "source": [
    "import pickle\n",
    "# Save to file \n",
    "pkl_filename = \"tfidf_full.pkl\"\n",
    "with open(pkl_filename, 'wb') as file:\n",
    "    pickle.dump(tfidf_full, file)"
   ]
  },
  {
   "cell_type": "code",
   "execution_count": 36,
   "metadata": {},
   "outputs": [],
   "source": [
    "# vect_test = tfidf.transform(X_test)"
   ]
  },
  {
   "cell_type": "code",
   "execution_count": 37,
   "metadata": {},
   "outputs": [],
   "source": [
    "# data['Date_T']"
   ]
  },
  {
   "cell_type": "code",
   "execution_count": 42,
   "metadata": {},
   "outputs": [
    {
     "data": {
      "text/plain": [
       "<986804x88589 sparse matrix of type '<class 'numpy.float64'>'\n",
       "\twith 6284717 stored elements in Compressed Sparse Row format>"
      ]
     },
     "execution_count": 42,
     "metadata": {},
     "output_type": "execute_result"
    }
   ],
   "source": [
    "vect_full"
   ]
  },
  {
   "cell_type": "code",
   "execution_count": 43,
   "metadata": {},
   "outputs": [],
   "source": [
    "from scipy import sparse\n",
    "from scipy.sparse import csr_matrix\n",
    "#jf_vect.toarray()\n",
    "sp_vect_full = sparse.csr_matrix(vect_full)\n",
    "# sp_vect_test = sparse.csr_matrix(vect_test)"
   ]
  },
  {
   "cell_type": "code",
   "execution_count": 44,
   "metadata": {},
   "outputs": [],
   "source": [
    "from sklearn.ensemble import RandomForestClassifier\n",
    "#from sklearn.model_selection import GridSearchCV\n",
    "rf = RandomForestClassifier(n_jobs=-1)\n",
    "#param = {'n_estimators': [10, 150, 300],\n",
    "#        'max_depth': [30, 60, 90, None]}\n",
    "\n",
    "#gs = GridSearchCV(rf, param, cv=5, n_jobs=-1)\n",
    "rf_fit = rf.fit(sp_vect_full, y)"
   ]
  },
  {
   "cell_type": "code",
   "execution_count": 45,
   "metadata": {},
   "outputs": [],
   "source": [
    "X_tfidf_csr_full_pred=rf_fit.predict(sp_vect_full)\n",
    "# X_tfidf_csr_test_pred=rf_fit.predict(sp_vect_test)"
   ]
  },
  {
   "cell_type": "code",
   "execution_count": 47,
   "metadata": {},
   "outputs": [
    {
     "name": "stdout",
     "output_type": "stream",
     "text": [
      "              precision    recall  f1-score   support\n",
      "\n",
      "           0       0.94      0.92      0.93     90479\n",
      "           1       0.93      0.92      0.93    118144\n",
      "           2       0.94      0.97      0.95    425927\n",
      "           3       0.94      0.89      0.91    200893\n",
      "           4       0.93      0.94      0.94    151361\n",
      "\n",
      "    accuracy                           0.94    986804\n",
      "   macro avg       0.94      0.93      0.93    986804\n",
      "weighted avg       0.94      0.94      0.94    986804\n",
      "\n"
     ]
    }
   ],
   "source": [
    "from sklearn.metrics import classification_report\n",
    "print(classification_report(y,X_tfidf_csr_full_pred))"
   ]
  },
  {
   "cell_type": "code",
   "execution_count": 50,
   "metadata": {},
   "outputs": [],
   "source": [
    "import pickle\n",
    "# Save to file \n",
    "pkl_filename = \"tfidf_rf_full.pkl\"\n",
    "with open(pkl_filename, 'wb') as file:\n",
    "    pickle.dump(rf_fit, file)"
   ]
  },
  {
   "cell_type": "code",
   "execution_count": null,
   "metadata": {},
   "outputs": [],
   "source": []
  },
  {
   "cell_type": "code",
   "execution_count": null,
   "metadata": {},
   "outputs": [],
   "source": []
  },
  {
   "cell_type": "code",
   "execution_count": null,
   "metadata": {},
   "outputs": [],
   "source": []
  },
  {
   "cell_type": "code",
   "execution_count": null,
   "metadata": {},
   "outputs": [],
   "source": []
  },
  {
   "cell_type": "code",
   "execution_count": null,
   "metadata": {},
   "outputs": [],
   "source": []
  },
  {
   "cell_type": "code",
   "execution_count": null,
   "metadata": {},
   "outputs": [],
   "source": []
  },
  {
   "cell_type": "code",
   "execution_count": null,
   "metadata": {},
   "outputs": [],
   "source": [
    "# Machine Learning Imports\n",
    "from mlxtend.classifier import StackingClassifier\n",
    "from sklearn.linear_model import LogisticRegression\n",
    "from sklearn.neighbors import KNeighborsClassifier\n",
    "from sklearn.linear_model import SGDClassifier\n",
    "from sklearn.naive_bayes import MultinomialNB\n",
    "from sklearn.tree import DecisionTreeClassifier\n",
    "from sklearn.ensemble import RandomForestClassifier\n",
    "from sklearn.ensemble import AdaBoostClassifier\n",
    "from lightgbm import LGBMClassifier\n",
    "from catboost import CatBoostClassifier\n",
    "from xgboost import XGBClassifier\n",
    "from sklearn.neural_network import MLPClassifier\n",
    "\n",
    "from sklearn.metrics import classification_report,confusion_matrix\n",
    "from sklearn.metrics import accuracy_score\n",
    "from sklearn.metrics import f1_score"
   ]
  },
  {
   "cell_type": "code",
   "execution_count": null,
   "metadata": {},
   "outputs": [],
   "source": [
    "# Making the Confusion Matrix\n",
    "def confusion_matrix_c(y_test,y_pred):\n",
    "    cm = confusion_matrix(y_test, y_pred)\n",
    "    class_label = [\"1\", \"2\", \"3\", \"4\"]\n",
    "    df_cm = pd.DataFrame(cm, index=class_label,columns=class_label)\n",
    "    sns.heatmap(df_cm, annot=True, fmt='d')\n",
    "    plt.title(\"Confusion Matrix\")\n",
    "    plt.xlabel(\"Predicted Label\")\n",
    "    plt.ylabel(\"True Label\")\n",
    "    plt.show()"
   ]
  },
  {
   "cell_type": "markdown",
   "metadata": {},
   "source": [
    "## Logistic Regression"
   ]
  },
  {
   "cell_type": "code",
   "execution_count": null,
   "metadata": {},
   "outputs": [],
   "source": [
    "lg_s = LogisticRegression(solver = 'newton-cg')\n",
    "lg_s.fit(X_train_s,y_train_s)"
   ]
  },
  {
   "cell_type": "code",
   "execution_count": null,
   "metadata": {},
   "outputs": [],
   "source": [
    "# Predicting the Train and Test set results\n",
    "y_pred_lr_train= lg_s.predict(X_train_s)\n",
    "y_pred_lr_test= lg_s.predict(X_test_s)"
   ]
  },
  {
   "cell_type": "markdown",
   "metadata": {},
   "source": [
    "### Train Set"
   ]
  },
  {
   "cell_type": "code",
   "execution_count": null,
   "metadata": {},
   "outputs": [],
   "source": [
    "print(classification_report(y_train_s,y_pred_lr_train))"
   ]
  },
  {
   "cell_type": "code",
   "execution_count": null,
   "metadata": {},
   "outputs": [],
   "source": [
    "# Confusion Matrix\n",
    "confusion_matrix_c(y_train_s, y_pred_lr_train)"
   ]
  },
  {
   "cell_type": "code",
   "execution_count": null,
   "metadata": {
    "code_folding": []
   },
   "outputs": [],
   "source": [
    "# how did our model perform?\n",
    "count_misclassified = (y_train_s != y_pred_lr_train).sum()\n",
    "print('Misclassified samples: {}'.format(count_misclassified))\n",
    "accuracy = accuracy_score(y_train_s, y_pred_lr_train)\n",
    "print('Accuracy: {:.2f}'.format(accuracy))\n",
    "f1=f1_score(y_train_s, y_pred_lr_train, average='macro')\n",
    "print('F1-Score: {:.2f}'.format(f1))"
   ]
  },
  {
   "cell_type": "markdown",
   "metadata": {},
   "source": [
    "### Test Set"
   ]
  },
  {
   "cell_type": "code",
   "execution_count": null,
   "metadata": {},
   "outputs": [],
   "source": [
    "print(classification_report(y_test_s,y_pred_lr_test))"
   ]
  },
  {
   "cell_type": "code",
   "execution_count": null,
   "metadata": {},
   "outputs": [],
   "source": [
    "# Confusion Matrix\n",
    "confusion_matrix_c(y_test_s, y_pred_lr_test)"
   ]
  },
  {
   "cell_type": "code",
   "execution_count": null,
   "metadata": {
    "code_folding": [],
    "scrolled": true
   },
   "outputs": [],
   "source": [
    "# how did our model perform?\n",
    "count_misclassified = (y_test_s != y_pred_lr_test).sum()\n",
    "print('Misclassified samples: {}'.format(count_misclassified))\n",
    "accuracy = accuracy_score(y_test_s, y_pred_lr_test)\n",
    "print('Accuracy: {:.2f}'.format(accuracy))\n",
    "f1=f1_score(y_test_s, y_pred_lr_test, average='macro')\n",
    "print('F1-Score: {:.2f}'.format(f1))"
   ]
  },
  {
   "cell_type": "markdown",
   "metadata": {},
   "source": [
    "## SVM"
   ]
  },
  {
   "cell_type": "code",
   "execution_count": null,
   "metadata": {},
   "outputs": [],
   "source": [
    "from sklearn.linear_model import SGDClassifier"
   ]
  },
  {
   "cell_type": "code",
   "execution_count": null,
   "metadata": {},
   "outputs": [],
   "source": [
    "# from sklearn.model_selection import RandomizedSearchCV\n",
    "# params_distributions = {'kernel': ['rbf'], 'gamma': [1e-3, 1e-4],\n",
    "#                      'C': [1, 10, 100, 1000]},\n",
    "#                     {'kernel': ['linear'], 'C': [1, 10, 100, 1000]}"
   ]
  },
  {
   "cell_type": "code",
   "execution_count": null,
   "metadata": {},
   "outputs": [],
   "source": [
    "# Performing CV to tune parameters for best SVM fit \n",
    "#svm_s = RandomizedSearchCV(SVC(), params_distributions, cv=5)\n",
    "svm_s=SGDClassifier(loss='hinge',max_iter=100)\n",
    "svm_s.fit(X_train_s, y_train_s)"
   ]
  },
  {
   "cell_type": "code",
   "execution_count": null,
   "metadata": {},
   "outputs": [],
   "source": [
    "# # View the accuracy score\n",
    "# print('Best score for training data:', svm_s.best_score_,\"\\n\") \n",
    "\n",
    "# # View the best parameters for the model found using grid search\n",
    "# print('Best C:',svm_s.best_estimator_.C,\"\\n\") \n",
    "# print('Best Kernel:',svm_s.best_estimator_.kernel,\"\\n\")\n",
    "# print('Best Gamma:',svm_s.best_estimator_.gamma,\"\\n\")"
   ]
  },
  {
   "cell_type": "code",
   "execution_count": null,
   "metadata": {},
   "outputs": [],
   "source": [
    "# Predicting the Train and Test set results\n",
    "y_pred_svm_train= svm_s.predict(X_train_s)\n",
    "y_pred_svm_test= svm_s.predict(X_test_s)"
   ]
  },
  {
   "cell_type": "markdown",
   "metadata": {},
   "source": [
    "### Train Set"
   ]
  },
  {
   "cell_type": "code",
   "execution_count": null,
   "metadata": {},
   "outputs": [],
   "source": [
    "print(classification_report(y_train_s,y_pred_svm_train))"
   ]
  },
  {
   "cell_type": "code",
   "execution_count": null,
   "metadata": {},
   "outputs": [],
   "source": [
    "# Confusion Matrix\n",
    "confusion_matrix_c(y_train_s, y_pred_svm_train)"
   ]
  },
  {
   "cell_type": "code",
   "execution_count": null,
   "metadata": {
    "code_folding": []
   },
   "outputs": [],
   "source": [
    "# how did our model perform?\n",
    "count_misclassified = (y_train_s != y_pred_svm_train).sum()\n",
    "print('Misclassified samples: {}'.format(count_misclassified))\n",
    "accuracy = accuracy_score(y_train_s, y_pred_svm_train)\n",
    "print('Accuracy: {:.2f}'.format(accuracy))\n",
    "f1=f1_score(y_train_s, y_pred_svm_train, average='macro')\n",
    "print('F1-Score: {:.2f}'.format(f1))"
   ]
  },
  {
   "cell_type": "markdown",
   "metadata": {},
   "source": [
    "### Test Set"
   ]
  },
  {
   "cell_type": "code",
   "execution_count": null,
   "metadata": {},
   "outputs": [],
   "source": [
    "print(classification_report(y_test_s,y_pred_svm_test))"
   ]
  },
  {
   "cell_type": "code",
   "execution_count": null,
   "metadata": {},
   "outputs": [],
   "source": [
    "# Confusion Matrix\n",
    "confusion_matrix_c(y_test_s, y_pred_svm_test)"
   ]
  },
  {
   "cell_type": "code",
   "execution_count": null,
   "metadata": {
    "code_folding": [],
    "scrolled": true
   },
   "outputs": [],
   "source": [
    "# how did our model perform?\n",
    "count_misclassified = (y_test_s != y_pred_svm_test).sum()\n",
    "print('Misclassified samples: {}'.format(count_misclassified))\n",
    "accuracy = accuracy_score(y_test_s, y_pred_svm_test)\n",
    "print('Accuracy: {:.2f}'.format(accuracy))\n",
    "f1=f1_score(y_test_s, y_pred_svm_test, average='macro')\n",
    "print('F1-Score: {:.2f}'.format(f1))"
   ]
  },
  {
   "cell_type": "markdown",
   "metadata": {},
   "source": [
    "## KNN Classifier"
   ]
  },
  {
   "cell_type": "code",
   "execution_count": null,
   "metadata": {},
   "outputs": [],
   "source": [
    "## Fitting KNN to the Training set\n",
    "knn_s = KNeighborsClassifier()\n",
    "knn_s.fit(X_train_s,y_train_s)"
   ]
  },
  {
   "cell_type": "code",
   "execution_count": null,
   "metadata": {},
   "outputs": [],
   "source": [
    "# Predicting the Train and Test set results\n",
    "y_pred_knn_train= knn_s.predict(X_train_s)\n",
    "y_pred_knn_test= knn_s.predict(X_test_s)"
   ]
  },
  {
   "cell_type": "markdown",
   "metadata": {},
   "source": [
    "### Train Set"
   ]
  },
  {
   "cell_type": "code",
   "execution_count": null,
   "metadata": {},
   "outputs": [],
   "source": [
    "print(classification_report(y_train_s,y_pred_knn_train))"
   ]
  },
  {
   "cell_type": "code",
   "execution_count": null,
   "metadata": {},
   "outputs": [],
   "source": [
    "# Confusion Matrix\n",
    "confusion_matrix_c(y_train_s, y_pred_knn_train)"
   ]
  },
  {
   "cell_type": "code",
   "execution_count": null,
   "metadata": {
    "code_folding": []
   },
   "outputs": [],
   "source": [
    "# how did our model perform?\n",
    "count_misclassified = (y_train_s != y_pred_knn_train).sum()\n",
    "print('Misclassified samples: {}'.format(count_misclassified))\n",
    "accuracy = accuracy_score(y_train_s, y_pred_knn_train)\n",
    "print('Accuracy: {:.2f}'.format(accuracy))\n",
    "f1=f1_score(y_train_s, y_pred_knn_train, average='macro')\n",
    "print('F1-Score: {:.2f}'.format(f1))"
   ]
  },
  {
   "cell_type": "markdown",
   "metadata": {},
   "source": [
    "### Test Set"
   ]
  },
  {
   "cell_type": "code",
   "execution_count": null,
   "metadata": {},
   "outputs": [],
   "source": [
    "print(classification_report(y_test_s,y_pred_knn_test))"
   ]
  },
  {
   "cell_type": "code",
   "execution_count": null,
   "metadata": {},
   "outputs": [],
   "source": [
    "# Confusion Matrix\n",
    "confusion_matrix_c(y_test_s, y_pred_knn_test)"
   ]
  },
  {
   "cell_type": "code",
   "execution_count": null,
   "metadata": {
    "code_folding": [],
    "scrolled": true
   },
   "outputs": [],
   "source": [
    "# how did our model perform?\n",
    "count_misclassified = (y_test_s != y_pred_knn_test).sum()\n",
    "print('Misclassified samples: {}'.format(count_misclassified))\n",
    "accuracy = accuracy_score(y_test_s, y_pred_knn_test)\n",
    "print('Accuracy: {:.2f}'.format(accuracy))\n",
    "f1=f1_score(y_test_s, y_pred_knn_test, average='macro')\n",
    "print('F1-Score: {:.2f}'.format(f1))"
   ]
  },
  {
   "cell_type": "markdown",
   "metadata": {},
   "source": [
    "## Decision Tree Classifier"
   ]
  },
  {
   "cell_type": "code",
   "execution_count": null,
   "metadata": {},
   "outputs": [],
   "source": [
    "# Fitting DecisionTree to the Training set\n",
    "dt_s = DecisionTreeClassifier()\n",
    "dt_s.fit(X_train_s,y_train_s)"
   ]
  },
  {
   "cell_type": "code",
   "execution_count": null,
   "metadata": {},
   "outputs": [],
   "source": [
    "# Predicting the Train and Test set results\n",
    "y_pred_dt_train= dt_s.predict(X_train_s)\n",
    "y_pred_dt_test= dt_s.predict(X_test_s)"
   ]
  },
  {
   "cell_type": "markdown",
   "metadata": {},
   "source": [
    "### Train Set"
   ]
  },
  {
   "cell_type": "code",
   "execution_count": null,
   "metadata": {},
   "outputs": [],
   "source": [
    "print(classification_report(y_train_s,y_pred_dt_train))"
   ]
  },
  {
   "cell_type": "code",
   "execution_count": null,
   "metadata": {},
   "outputs": [],
   "source": [
    "# Confusion Matrix\n",
    "confusion_matrix_c(y_train_s, y_pred_dt_train)"
   ]
  },
  {
   "cell_type": "code",
   "execution_count": null,
   "metadata": {
    "code_folding": []
   },
   "outputs": [],
   "source": [
    "# how did our model perform?\n",
    "count_misclassified = (y_train_s != y_pred_dt_train).sum()\n",
    "print('Misclassified samples: {}'.format(count_misclassified))\n",
    "accuracy = accuracy_score(y_train_s, y_pred_dt_train)\n",
    "print('Accuracy: {:.2f}'.format(accuracy))\n",
    "f1=f1_score(y_train_s, y_pred_dt_train, average='macro')\n",
    "print('F1-Score: {:.2f}'.format(f1))"
   ]
  },
  {
   "cell_type": "markdown",
   "metadata": {},
   "source": [
    "### Test Set"
   ]
  },
  {
   "cell_type": "code",
   "execution_count": null,
   "metadata": {},
   "outputs": [],
   "source": [
    "print(classification_report(y_test_s,y_pred_dt_test))"
   ]
  },
  {
   "cell_type": "code",
   "execution_count": null,
   "metadata": {},
   "outputs": [],
   "source": [
    "# Confusion Matrix\n",
    "confusion_matrix_c(y_test_s, y_pred_dt_test)"
   ]
  },
  {
   "cell_type": "code",
   "execution_count": null,
   "metadata": {
    "code_folding": [],
    "scrolled": true
   },
   "outputs": [],
   "source": [
    "# how did our model perform?\n",
    "count_misclassified = (y_test_s != y_pred_dt_test).sum()\n",
    "print('Misclassified samples: {}'.format(count_misclassified))\n",
    "accuracy = accuracy_score(y_test_s, y_pred_dt_test)\n",
    "print('Accuracy: {:.2f}'.format(accuracy))\n",
    "f1=f1_score(y_test_s, y_pred_dt_test, average='macro')\n",
    "print('F1-Score: {:.2f}'.format(f1))"
   ]
  },
  {
   "cell_type": "markdown",
   "metadata": {},
   "source": [
    "## Random Forest Classifier"
   ]
  },
  {
   "cell_type": "code",
   "execution_count": null,
   "metadata": {},
   "outputs": [],
   "source": [
    "from sklearn.model_selection import RandomizedSearchCV\n",
    "# GridSearchCV\n",
    "# param_grid={'max_depth':range(1,15,2),\n",
    "#             'n_estimators':[125,250],\n",
    "#             'max_features':range(1,15,2)}\n",
    "rf_s=RandomForestClassifier(random_state=42)\n",
    "rf_s.fit(X_train_s,y_train_s)\n",
    "# dt_cv=RandomizedSearchCV(dt_g,param_grid,cv=10,scoring='f1_macro',n_jobs=-1)\n",
    "# dt_cv.fit(X_train_s,y_train_s)\n",
    "\n",
    "# print(\"Best parameters:\",dt_cv.best_params_)\n",
    "# print(\"Accuracy :\",dt_cv.best_score_)"
   ]
  },
  {
   "cell_type": "code",
   "execution_count": null,
   "metadata": {
    "scrolled": true
   },
   "outputs": [],
   "source": [
    "# # Fitting Logistic Regression to the Training set\n",
    "# rf_s = RandomForestClassifier(max_depth=,max_features=,n_estimators=,random_state=42)\n",
    "# rf_s.fit(X_train,y_train)"
   ]
  },
  {
   "cell_type": "code",
   "execution_count": null,
   "metadata": {},
   "outputs": [],
   "source": [
    "# Predicting the Train and Test set results\n",
    "y_pred_rf_train= rf_s.predict(X_train_s)\n",
    "y_pred_rf_test= rf_s.predict(X_test_s)"
   ]
  },
  {
   "cell_type": "markdown",
   "metadata": {},
   "source": [
    "### Train Set"
   ]
  },
  {
   "cell_type": "code",
   "execution_count": null,
   "metadata": {},
   "outputs": [],
   "source": [
    "print(classification_report(y_train_s,y_pred_rf_train))"
   ]
  },
  {
   "cell_type": "code",
   "execution_count": null,
   "metadata": {},
   "outputs": [],
   "source": [
    "# Confusion Matrix\n",
    "confusion_matrix_c(y_train_s, y_pred_rf_train)"
   ]
  },
  {
   "cell_type": "code",
   "execution_count": null,
   "metadata": {
    "code_folding": []
   },
   "outputs": [],
   "source": [
    "# how did our model perform?\n",
    "count_misclassified = (y_train_s != y_pred_rf_train).sum()\n",
    "print('Misclassified samples: {}'.format(count_misclassified))\n",
    "accuracy = accuracy_score(y_train_s, y_pred_rf_train)\n",
    "print('Accuracy: {:.2f}'.format(accuracy))\n",
    "f1=f1_score(y_train_s, y_pred_rf_train, average='macro')\n",
    "print('F1-Score: {:.2f}'.format(f1))"
   ]
  },
  {
   "cell_type": "markdown",
   "metadata": {},
   "source": [
    "### Test Set"
   ]
  },
  {
   "cell_type": "code",
   "execution_count": null,
   "metadata": {},
   "outputs": [],
   "source": [
    "print(classification_report(y_test_s,y_pred_rf_test))"
   ]
  },
  {
   "cell_type": "code",
   "execution_count": null,
   "metadata": {},
   "outputs": [],
   "source": [
    "# Confusion Matrix\n",
    "confusion_matrix_c(y_test_s, y_pred_rf_test)"
   ]
  },
  {
   "cell_type": "code",
   "execution_count": null,
   "metadata": {
    "code_folding": [],
    "scrolled": false
   },
   "outputs": [],
   "source": [
    "# how did our model perform?\n",
    "count_misclassified = (y_test_s != y_pred_rf_test).sum()\n",
    "print('Misclassified samples: {}'.format(count_misclassified))\n",
    "accuracy = accuracy_score(y_test_s, y_pred_rf_test)\n",
    "print('Accuracy: {:.2f}'.format(accuracy))\n",
    "f1=f1_score(y_test_s, y_pred_rf_test, average='macro')\n",
    "print('F1-Score: {:.2f}'.format(f1))"
   ]
  },
  {
   "cell_type": "markdown",
   "metadata": {},
   "source": [
    "## Xgboost Classifier"
   ]
  },
  {
   "cell_type": "code",
   "execution_count": null,
   "metadata": {},
   "outputs": [],
   "source": [
    "xgb_s=XGBClassifier(random_state=42)\n",
    "xgb_s.fit(X_train_s,y_train_s)"
   ]
  },
  {
   "cell_type": "code",
   "execution_count": null,
   "metadata": {},
   "outputs": [],
   "source": [
    "# Predicting the Train and Test set results\n",
    "y_pred_xgb_train= xgb_s.predict(X_train_s)\n",
    "y_pred_xgb_test= xgb_s.predict(X_test_s)"
   ]
  },
  {
   "cell_type": "markdown",
   "metadata": {},
   "source": [
    "### Train Set"
   ]
  },
  {
   "cell_type": "code",
   "execution_count": null,
   "metadata": {},
   "outputs": [],
   "source": [
    "print(classification_report(y_train_s,y_pred_xgb_train))"
   ]
  },
  {
   "cell_type": "code",
   "execution_count": null,
   "metadata": {},
   "outputs": [],
   "source": [
    "# Confusion Matrix\n",
    "confusion_matrix_c(y_train_s, y_pred_xgb_train)"
   ]
  },
  {
   "cell_type": "code",
   "execution_count": null,
   "metadata": {
    "code_folding": []
   },
   "outputs": [],
   "source": [
    "# how did our model perform?\n",
    "count_misclassified = (y_train_s != y_pred_xgb_train).sum()\n",
    "print('Misclassified samples: {}'.format(count_misclassified))\n",
    "accuracy = accuracy_score(y_train_s, y_pred_xgb_train)\n",
    "print('Accuracy: {:.2f}'.format(accuracy))\n",
    "f1=f1_score(y_train_s, y_pred_xgb_train, average='macro')\n",
    "print('F1-Score: {:.2f}'.format(f1))"
   ]
  },
  {
   "cell_type": "markdown",
   "metadata": {},
   "source": [
    "### Test Set"
   ]
  },
  {
   "cell_type": "code",
   "execution_count": null,
   "metadata": {},
   "outputs": [],
   "source": [
    "print(classification_report(y_test_s,y_pred_xgb_test))"
   ]
  },
  {
   "cell_type": "code",
   "execution_count": null,
   "metadata": {},
   "outputs": [],
   "source": [
    "# Confusion Matrix\n",
    "confusion_matrix_c(y_test_s, y_pred_xgb_test)"
   ]
  },
  {
   "cell_type": "code",
   "execution_count": null,
   "metadata": {
    "code_folding": [],
    "scrolled": true
   },
   "outputs": [],
   "source": [
    "# how did our model perform?\n",
    "count_misclassified = (y_test_s != y_pred_xgb_test).sum()\n",
    "print('Misclassified samples: {}'.format(count_misclassified))\n",
    "accuracy = accuracy_score(y_test_s, y_pred_xgb_test)\n",
    "print('Accuracy: {:.2f}'.format(accuracy))\n",
    "f1=f1_score(y_test_s, y_pred_xgb_test, average='macro')\n",
    "print('F1-Score: {:.2f}'.format(f1))"
   ]
  },
  {
   "cell_type": "code",
   "execution_count": null,
   "metadata": {},
   "outputs": [],
   "source": []
  },
  {
   "cell_type": "code",
   "execution_count": null,
   "metadata": {},
   "outputs": [],
   "source": []
  },
  {
   "cell_type": "code",
   "execution_count": null,
   "metadata": {},
   "outputs": [],
   "source": []
  },
  {
   "cell_type": "markdown",
   "metadata": {},
   "source": [
    "## Sentiment Analysis"
   ]
  },
  {
   "cell_type": "code",
   "execution_count": 1,
   "metadata": {},
   "outputs": [
    {
     "name": "stderr",
     "output_type": "stream",
     "text": [
      "Using TensorFlow backend.\n"
     ]
    }
   ],
   "source": [
    "from keras.preprocessing import sequence\n",
    "from keras.models import Sequential\n",
    "from keras.layers import Dense, Embedding, Dropout\n",
    "from keras.layers import LSTM\n",
    "from keras.datasets import imdb\n",
    "import pandas as pd \n",
    "import numpy as np\n",
    "from bs4 import BeautifulSoup\n",
    "import re\n",
    "from keras.preprocessing.text import Tokenizer"
   ]
  },
  {
   "cell_type": "code",
   "execution_count": 2,
   "metadata": {},
   "outputs": [],
   "source": [
    "json_df = pd.read_csv('json_df_cleaned_train_val_1.csv')"
   ]
  },
  {
   "cell_type": "code",
   "execution_count": 3,
   "metadata": {},
   "outputs": [],
   "source": [
    "reviews = np.array(json_df['Tidy_Tweet'])\n",
    "sentiments = np.array(json_df['Sentiment_score'])"
   ]
  },
  {
   "cell_type": "code",
   "execution_count": 4,
   "metadata": {},
   "outputs": [],
   "source": [
    "tokenizer = Tokenizer(num_words=10000, split=' ')\n",
    "tokenizer.fit_on_texts(reviews)"
   ]
  },
  {
   "cell_type": "code",
   "execution_count": 5,
   "metadata": {},
   "outputs": [
    {
     "data": {
      "text/plain": [
       "{'not': 1,\n",
       " 'short': 2,\n",
       " 'q': 3,\n",
       " 'buy': 4,\n",
       " 'today': 5,\n",
       " 'call': 6,\n",
       " 'stock': 7,\n",
       " 'day': 8,\n",
       " 'go': 9,\n",
       " 'earnings': 10,\n",
       " 'share': 11,\n",
       " 'like': 12,\n",
       " 'going': 13,\n",
       " 'volume': 14,\n",
       " 'estimize': 15,\n",
       " 'trade': 16,\n",
       " 'market': 17,\n",
       " 'get': 18,\n",
       " 'back': 19,\n",
       " 'see': 20,\n",
       " 'week': 21,\n",
       " 'good': 22,\n",
       " 'reporting': 23,\n",
       " 'analyst': 24,\n",
       " 'report': 25,\n",
       " 'next': 26,\n",
       " 'time': 27,\n",
       " 'put': 28,\n",
       " 'no': 29,\n",
       " 'tomorrow': 30,\n",
       " 'price': 31,\n",
       " 'new': 32,\n",
       " 'bear': 33,\n",
       " 'face': 34,\n",
       " 'eps': 35,\n",
       " 'sell': 36,\n",
       " 'still': 37,\n",
       " 'revenue': 38,\n",
       " 'u': 39,\n",
       " 'lol': 40,\n",
       " 'last': 41,\n",
       " 'year': 42,\n",
       " 'long': 43,\n",
       " 'look': 44,\n",
       " 'growth': 45,\n",
       " 'bull': 46,\n",
       " 'er': 47,\n",
       " 'close': 48,\n",
       " 'let': 49,\n",
       " 'big': 50,\n",
       " 'money': 51,\n",
       " 'one': 52,\n",
       " 'higher': 53,\n",
       " 'high': 54,\n",
       " 'bmo': 55,\n",
       " 'amc': 56,\n",
       " 'since': 57,\n",
       " 'buying': 58,\n",
       " 'would': 59,\n",
       " 'think': 60,\n",
       " 'hold': 61,\n",
       " 'amd': 62,\n",
       " 'update': 63,\n",
       " 'sale': 64,\n",
       " 'open': 65,\n",
       " 'believe': 66,\n",
       " 'move': 67,\n",
       " 'need': 68,\n",
       " 'insider': 69,\n",
       " 'low': 70,\n",
       " 'company': 71,\n",
       " 'via': 72,\n",
       " 'bullish': 73,\n",
       " 'know': 74,\n",
       " 'bought': 75,\n",
       " 'right': 76,\n",
       " 'coming': 77,\n",
       " 'trading': 78,\n",
       " 'make': 79,\n",
       " 'aug': 80,\n",
       " 'here': 81,\n",
       " 'green': 82,\n",
       " 'come': 83,\n",
       " 'selling': 84,\n",
       " 'expectation': 85,\n",
       " 'news': 86,\n",
       " 'per': 87,\n",
       " 'drop': 88,\n",
       " 'yoy': 89,\n",
       " 'dip': 90,\n",
       " 'break': 91,\n",
       " 'wall': 92,\n",
       " 'option': 93,\n",
       " 'nice': 94,\n",
       " 'rating': 95,\n",
       " 'target': 96,\n",
       " 'looking': 97,\n",
       " 'sold': 98,\n",
       " 'strong': 99,\n",
       " 'take': 100,\n",
       " 'pt': 101,\n",
       " 'lower': 102,\n",
       " 'tear': 103,\n",
       " 'want': 104,\n",
       " 'dont': 105,\n",
       " 'people': 106,\n",
       " 'soon': 107,\n",
       " 'well': 108,\n",
       " 'sep': 109,\n",
       " 'great': 110,\n",
       " 'way': 111,\n",
       " 'much': 112,\n",
       " 'chart': 113,\n",
       " 'got': 114,\n",
       " 'contract': 115,\n",
       " 'month': 116,\n",
       " 'could': 117,\n",
       " 'run': 118,\n",
       " 'im': 119,\n",
       " 'expecting': 120,\n",
       " 'profit': 121,\n",
       " 'say': 122,\n",
       " 'ago': 123,\n",
       " 'even': 124,\n",
       " 'street': 125,\n",
       " 'keep': 126,\n",
       " 'b': 127,\n",
       " 'beat': 128,\n",
       " 'holding': 129,\n",
       " 'red': 130,\n",
       " 'another': 131,\n",
       " 'k': 132,\n",
       " 'support': 133,\n",
       " 'reported': 134,\n",
       " 'term': 135,\n",
       " 'guy': 136,\n",
       " 'largest': 137,\n",
       " 'bad': 138,\n",
       " 'interest': 139,\n",
       " 'max': 140,\n",
       " 'alerted': 141,\n",
       " 'pain': 142,\n",
       " 'oct': 143,\n",
       " 'hit': 144,\n",
       " 'better': 145,\n",
       " 'apple': 146,\n",
       " 'thing': 147,\n",
       " 'stop': 148,\n",
       " 'quarter': 149,\n",
       " 'end': 150,\n",
       " 'wow': 151,\n",
       " 'maxpain': 152,\n",
       " 'getting': 153,\n",
       " 'technical': 154,\n",
       " 'wait': 155,\n",
       " 'gonna': 156,\n",
       " 'watch': 157,\n",
       " 'exp': 158,\n",
       " 'bounce': 159,\n",
       " 'alert': 160,\n",
       " 'position': 161,\n",
       " 'daily': 162,\n",
       " 'really': 163,\n",
       " 'yesterday': 164,\n",
       " 'gain': 165,\n",
       " 'friday': 166,\n",
       " 'morning': 167,\n",
       " 'may': 168,\n",
       " 'top': 169,\n",
       " 'hour': 170,\n",
       " 'trump': 171,\n",
       " 'block': 172,\n",
       " 'love': 173,\n",
       " 'highputoi': 174,\n",
       " 'highcalloi': 175,\n",
       " 'china': 176,\n",
       " 'form': 177,\n",
       " 'w': 178,\n",
       " 'amazon': 179,\n",
       " 'hope': 180,\n",
       " 'expect': 181,\n",
       " 'lot': 182,\n",
       " 'show': 183,\n",
       " 'level': 184,\n",
       " 'mu': 185,\n",
       " 'gap': 186,\n",
       " 'bottom': 187,\n",
       " 'around': 188,\n",
       " 'already': 189,\n",
       " 'code': 190,\n",
       " 'bearish': 191,\n",
       " 'anyone': 192,\n",
       " 'many': 193,\n",
       " 'whats': 194,\n",
       " 'source': 195,\n",
       " 'range': 196,\n",
       " 'said': 197,\n",
       " 'never': 198,\n",
       " 'might': 199,\n",
       " 'huge': 200,\n",
       " 'every': 201,\n",
       " 'start': 202,\n",
       " 'expiry': 203,\n",
       " 'point': 204,\n",
       " 'best': 205,\n",
       " 'ceo': 206,\n",
       " 'financial': 207,\n",
       " 'average': 208,\n",
       " 'data': 209,\n",
       " 'insight': 210,\n",
       " 'play': 211,\n",
       " 'mouth': 212,\n",
       " 'reason': 213,\n",
       " 'dividend': 214,\n",
       " 'estimate': 215,\n",
       " 'everyone': 216,\n",
       " 'fb': 217,\n",
       " 'c': 218,\n",
       " 'jul': 219,\n",
       " 'yet': 220,\n",
       " 'facebook': 221,\n",
       " 'sure': 222,\n",
       " 'joy': 223,\n",
       " 'guidance': 224,\n",
       " 'hand': 225,\n",
       " 'give': 226,\n",
       " 'cant': 227,\n",
       " 'pop': 228,\n",
       " 'ratio': 229,\n",
       " 'past': 230,\n",
       " 'pay': 231,\n",
       " 'maybe': 232,\n",
       " 'inc': 233,\n",
       " 'oh': 234,\n",
       " 'moving': 235,\n",
       " 'post': 236,\n",
       " 'little': 237,\n",
       " 'resistance': 238,\n",
       " 'cannot': 239,\n",
       " 'billion': 240,\n",
       " 'always': 241,\n",
       " 'ready': 242,\n",
       " 'skin': 243,\n",
       " 'industry': 244,\n",
       " 'setup': 245,\n",
       " 'made': 246,\n",
       " 'waiting': 247,\n",
       " 'f': 248,\n",
       " 'please': 249,\n",
       " 'first': 250,\n",
       " 'potential': 251,\n",
       " 'p': 252,\n",
       " 'weekly': 253,\n",
       " 'tariff': 254,\n",
       " 'investor': 255,\n",
       " 'line': 256,\n",
       " 'sincealerted': 257,\n",
       " 'cheap': 258,\n",
       " 'percent': 259,\n",
       " 'x': 260,\n",
       " 'hard': 261,\n",
       " 'medium': 262,\n",
       " 'monday': 263,\n",
       " 'cash': 264,\n",
       " 'joyface': 265,\n",
       " 'future': 266,\n",
       " 'loss': 267,\n",
       " 'chance': 268,\n",
       " 'nothing': 269,\n",
       " 'margin': 270,\n",
       " 'intel': 271,\n",
       " 'dollar': 272,\n",
       " 'action': 273,\n",
       " 'ah': 274,\n",
       " 'fall': 275,\n",
       " 'shit': 276,\n",
       " 'tech': 277,\n",
       " 'light': 278,\n",
       " 'easy': 279,\n",
       " 'trend': 280,\n",
       " 'pattern': 281,\n",
       " 'real': 282,\n",
       " 'large': 283,\n",
       " 'th': 284,\n",
       " 'expected': 285,\n",
       " 'man': 286,\n",
       " 'miss': 287,\n",
       " 'upgrade': 288,\n",
       " 'bank': 289,\n",
       " 'order': 290,\n",
       " 'cover': 291,\n",
       " 'app': 292,\n",
       " 'positioning': 293,\n",
       " 'million': 294,\n",
       " 'current': 295,\n",
       " 'also': 296,\n",
       " 'taking': 297,\n",
       " 'forecast': 298,\n",
       " 'smiling': 299,\n",
       " 'thought': 300,\n",
       " 'raise': 301,\n",
       " 'confirmed': 302,\n",
       " 'check': 303,\n",
       " 'breakout': 304,\n",
       " 'previous': 305,\n",
       " 'min': 306,\n",
       " 'rank': 307,\n",
       " 'add': 308,\n",
       " 'mean': 309,\n",
       " 'feel': 310,\n",
       " 'opportunity': 311,\n",
       " 'stay': 312,\n",
       " 'guess': 313,\n",
       " 'something': 314,\n",
       " 'mm': 315,\n",
       " 'longs': 316,\n",
       " 'dump': 317,\n",
       " 'eye': 318,\n",
       " 'squeeze': 319,\n",
       " 'near': 320,\n",
       " 'positive': 321,\n",
       " 'v': 322,\n",
       " 'thinking': 323,\n",
       " 'pre': 324,\n",
       " 'added': 325,\n",
       " 'floor': 326,\n",
       " 'event': 327,\n",
       " 'buyer': 328,\n",
       " 'view': 329,\n",
       " 'flow': 330,\n",
       " 'set': 331,\n",
       " 'thats': 332,\n",
       " 'making': 333,\n",
       " 'sec': 334,\n",
       " 'daystoexpire': 335,\n",
       " 'win': 336,\n",
       " 'jury': 337,\n",
       " 'plus': 338,\n",
       " 'eod': 339,\n",
       " 'ever': 340,\n",
       " 'almost': 341,\n",
       " 'trying': 342,\n",
       " 'damn': 343,\n",
       " 'deal': 344,\n",
       " 'least': 345,\n",
       " 'wrong': 346,\n",
       " 'total': 347,\n",
       " 'director': 348,\n",
       " 'filing': 349,\n",
       " 'seems': 350,\n",
       " 'latest': 351,\n",
       " 'buyback': 352,\n",
       " 'file': 353,\n",
       " 'r': 354,\n",
       " 'entry': 355,\n",
       " 'done': 356,\n",
       " 'thanks': 357,\n",
       " 'someone': 358,\n",
       " 'recent': 359,\n",
       " 'ok': 360,\n",
       " 'st': 361,\n",
       " 'store': 362,\n",
       " 'rally': 363,\n",
       " 'minute': 364,\n",
       " 'transaction': 365,\n",
       " 'float': 366,\n",
       " 'reached': 367,\n",
       " 'value': 368,\n",
       " 'upside': 369,\n",
       " 'po': 370,\n",
       " 'probably': 371,\n",
       " 'number': 372,\n",
       " 'far': 373,\n",
       " 'pump': 374,\n",
       " 'weak': 375,\n",
       " 'bag': 376,\n",
       " 'consensus': 377,\n",
       " 'pm': 378,\n",
       " 'reversal': 379,\n",
       " 'based': 380,\n",
       " 'baby': 381,\n",
       " 'cut': 382,\n",
       " 'two': 383,\n",
       " 'io': 384,\n",
       " 'business': 385,\n",
       " 'work': 386,\n",
       " 'micron': 387,\n",
       " 'went': 388,\n",
       " 'imo': 389,\n",
       " 'staanalystalert': 390,\n",
       " 'wtf': 391,\n",
       " 'watching': 392,\n",
       " 'away': 393,\n",
       " 'detail': 394,\n",
       " 'facemoney': 395,\n",
       " 'cnbc': 396,\n",
       " 'crowdthnks': 397,\n",
       " 'tran': 398,\n",
       " 'yes': 399,\n",
       " 'change': 400,\n",
       " 'game': 401,\n",
       " 'swing': 402,\n",
       " 'whale': 403,\n",
       " 'pull': 404,\n",
       " 'boy': 405,\n",
       " 'amzn': 406,\n",
       " 'rate': 407,\n",
       " 'chip': 408,\n",
       " 'remember': 409,\n",
       " 'early': 410,\n",
       " 'tell': 411,\n",
       " 'result': 412,\n",
       " 'group': 413,\n",
       " 'crazy': 414,\n",
       " 'trader': 415,\n",
       " 'double': 416,\n",
       " 'e': 417,\n",
       " 'enough': 418,\n",
       " 'push': 419,\n",
       " 'small': 420,\n",
       " 'setupalert': 421,\n",
       " 'trap': 422,\n",
       " 'verdict': 423,\n",
       " 'worth': 424,\n",
       " 'pretty': 425,\n",
       " 'lost': 426,\n",
       " 'cost': 427,\n",
       " 'overweight': 428,\n",
       " 'tone': 429,\n",
       " 'till': 430,\n",
       " 'sentiment': 431,\n",
       " 'netflix': 432,\n",
       " 'rev': 433,\n",
       " 'load': 434,\n",
       " 'pullback': 435,\n",
       " 'mark': 436,\n",
       " 'happy': 437,\n",
       " 'setting': 438,\n",
       " 'nike': 439,\n",
       " 'co': 440,\n",
       " 'retail': 441,\n",
       " 'must': 442,\n",
       " 'release': 443,\n",
       " 'turn': 444,\n",
       " 'happen': 445,\n",
       " 'return': 446,\n",
       " 'filed': 447,\n",
       " 'signal': 448,\n",
       " 'info': 449,\n",
       " 'oil': 450,\n",
       " 'shorting': 451,\n",
       " 'took': 452,\n",
       " 'intraday': 453,\n",
       " 'power': 454,\n",
       " 'bit': 455,\n",
       " 'posted': 456,\n",
       " 'algo': 457,\n",
       " 'free': 458,\n",
       " 'war': 459,\n",
       " 'test': 460,\n",
       " 'negative': 461,\n",
       " 'indicator': 462,\n",
       " 'anybody': 463,\n",
       " 'g': 464,\n",
       " 'product': 465,\n",
       " 'lmao': 466,\n",
       " 'pe': 467,\n",
       " 'head': 468,\n",
       " 'finally': 469,\n",
       " 'fast': 470,\n",
       " 'bet': 471,\n",
       " 'oversold': 472,\n",
       " 'world': 473,\n",
       " 'saying': 474,\n",
       " 'though': 475,\n",
       " 'folk': 476,\n",
       " 'sector': 477,\n",
       " 'everything': 478,\n",
       " 'dead': 479,\n",
       " 'possible': 480,\n",
       " 'increase': 481,\n",
       " 'risk': 482,\n",
       " 'thank': 483,\n",
       " 'told': 484,\n",
       " 'closing': 485,\n",
       " 'board': 486,\n",
       " 'valuation': 487,\n",
       " 'attention': 488,\n",
       " 'lose': 489,\n",
       " 'raised': 490,\n",
       " 'rsi': 491,\n",
       " 'detected': 492,\n",
       " 'le': 493,\n",
       " 'seen': 494,\n",
       " 'anything': 495,\n",
       " 'area': 496,\n",
       " 'didnt': 497,\n",
       " 'downgrade': 498,\n",
       " 'ill': 499,\n",
       " 'rise': 500,\n",
       " 'happened': 501,\n",
       " 'left': 502,\n",
       " 'talk': 503,\n",
       " 'old': 504,\n",
       " 'fake': 505,\n",
       " 'ahead': 506,\n",
       " 'cent': 507,\n",
       " 'nasdaq': 508,\n",
       " 'rolling': 509,\n",
       " 'else': 510,\n",
       " 'side': 511,\n",
       " 'neutral': 512,\n",
       " 'wont': 513,\n",
       " 'plan': 514,\n",
       " 'aapl': 515,\n",
       " 'help': 516,\n",
       " 'glad': 517,\n",
       " 'ge': 518,\n",
       " 'stupid': 519,\n",
       " 'second': 520,\n",
       " 'crash': 521,\n",
       " 'rocket': 522,\n",
       " 'ride': 523,\n",
       " 'doesnt': 524,\n",
       " 'quick': 525,\n",
       " 'continue': 526,\n",
       " 'likely': 527,\n",
       " 'fuck': 528,\n",
       " 'vol': 529,\n",
       " 'moved': 530,\n",
       " 'missed': 531,\n",
       " 'half': 532,\n",
       " 'major': 533,\n",
       " 'matter': 534,\n",
       " 'sign': 535,\n",
       " 'candle': 536,\n",
       " 'usd': 537,\n",
       " 'morgan': 538,\n",
       " 'picked': 539,\n",
       " 'disposed': 540,\n",
       " 'closed': 541,\n",
       " 'due': 542,\n",
       " 'jump': 543,\n",
       " 'sorry': 544,\n",
       " 'peer': 545,\n",
       " 'luck': 546,\n",
       " 'quarterly': 547,\n",
       " 'exhibit': 548,\n",
       " 'pick': 549,\n",
       " 'actually': 550,\n",
       " 'fear': 551,\n",
       " 'investment': 552,\n",
       " 'maxgain': 553,\n",
       " 'job': 554,\n",
       " 'interesting': 555,\n",
       " 'idea': 556,\n",
       " 'nvda': 557,\n",
       " 'massive': 558,\n",
       " 'hate': 559,\n",
       " 'yeah': 560,\n",
       " 'earlier': 561,\n",
       " 'weekend': 562,\n",
       " 'later': 563,\n",
       " 'quite': 564,\n",
       " 'lisa': 565,\n",
       " 'broke': 566,\n",
       " 'cross': 567,\n",
       " 'finra': 568,\n",
       " 'iphone': 569,\n",
       " 'either': 570,\n",
       " 'forward': 571,\n",
       " 'smart': 572,\n",
       " 'falling': 573,\n",
       " 'announces': 574,\n",
       " 'rip': 575,\n",
       " 'releasing': 576,\n",
       " 'given': 577,\n",
       " 'congrats': 578,\n",
       " 'find': 579,\n",
       " 'seller': 580,\n",
       " 'idiot': 581,\n",
       " 'movement': 582,\n",
       " 'use': 583,\n",
       " 'cramer': 584,\n",
       " 'fill': 585,\n",
       " 'started': 586,\n",
       " 'starting': 587,\n",
       " 'nflx': 588,\n",
       " 'solid': 589,\n",
       " 'listen': 590,\n",
       " 'try': 591,\n",
       " 'decent': 592,\n",
       " 'running': 593,\n",
       " 'couple': 594,\n",
       " 'n': 595,\n",
       " 'rest': 596,\n",
       " 'score': 597,\n",
       " 'gross': 598,\n",
       " 'bring': 599,\n",
       " 'available': 600,\n",
       " 'index': 601,\n",
       " 'dropped': 602,\n",
       " 'read': 603,\n",
       " 'cloud': 604,\n",
       " 'happens': 605,\n",
       " 'statement': 606,\n",
       " 'wish': 607,\n",
       " 'thumb': 608,\n",
       " 'hell': 609,\n",
       " 'panic': 610,\n",
       " 'debt': 611,\n",
       " 'cap': 612,\n",
       " 'care': 613,\n",
       " 'wonder': 614,\n",
       " 'breaking': 615,\n",
       " 'cry': 616,\n",
       " 'adding': 617,\n",
       " 'fund': 618,\n",
       " 'god': 619,\n",
       " 'flag': 620,\n",
       " 'held': 621,\n",
       " 'premarket': 622,\n",
       " 'fire': 623,\n",
       " 'service': 624,\n",
       " 'room': 625,\n",
       " 'nm': 626,\n",
       " 'dma': 627,\n",
       " 'whole': 628,\n",
       " 'trillion': 629,\n",
       " 'h': 630,\n",
       " 'amazing': 631,\n",
       " 'heading': 632,\n",
       " 'fun': 633,\n",
       " 'july': 634,\n",
       " 'part': 635,\n",
       " 'follow': 636,\n",
       " 'sept': 637,\n",
       " 'gl': 638,\n",
       " 'bagmoney': 639,\n",
       " 'full': 640,\n",
       " 'life': 641,\n",
       " 'live': 642,\n",
       " 'stanley': 643,\n",
       " 'technology': 644,\n",
       " 'nov': 645,\n",
       " 'place': 646,\n",
       " 'jan': 647,\n",
       " 'suck': 648,\n",
       " 'tank': 649,\n",
       " 'sub': 650,\n",
       " 'earning': 651,\n",
       " 'late': 652,\n",
       " 'called': 653,\n",
       " 'slow': 654,\n",
       " 'present': 655,\n",
       " 'hey': 656,\n",
       " 'fly': 657,\n",
       " 'president': 658,\n",
       " 'capital': 659,\n",
       " 'hoping': 660,\n",
       " 'moment': 661,\n",
       " 'problem': 662,\n",
       " 'clear': 663,\n",
       " 'crap': 664,\n",
       " 'talking': 665,\n",
       " 'hopefully': 666,\n",
       " 'macd': 667,\n",
       " 'worry': 668,\n",
       " 'name': 669,\n",
       " 'correction': 670,\n",
       " 'momentum': 671,\n",
       " 'underweight': 672,\n",
       " 'compared': 673,\n",
       " 'comparable': 674,\n",
       " 'manipulation': 675,\n",
       " 'expire': 676,\n",
       " 'laughing': 677,\n",
       " 'boom': 678,\n",
       " 'mid': 679,\n",
       " 'car': 680,\n",
       " 'gone': 681,\n",
       " 'heavy': 682,\n",
       " 'ya': 683,\n",
       " 'goldman': 684,\n",
       " 'cc': 685,\n",
       " 'seeing': 686,\n",
       " 'account': 687,\n",
       " 'fucking': 688,\n",
       " 'question': 689,\n",
       " 'conference': 690,\n",
       " 'feeling': 691,\n",
       " 'nvidia': 692,\n",
       " 'moon': 693,\n",
       " 'straddle': 694,\n",
       " 'american': 695,\n",
       " 'america': 696,\n",
       " 'channel': 697,\n",
       " 'wave': 698,\n",
       " 'google': 699,\n",
       " 'ath': 700,\n",
       " 'funny': 701,\n",
       " 'analysis': 702,\n",
       " 'learn': 703,\n",
       " 'yr': 704,\n",
       " 'playing': 705,\n",
       " 'key': 706,\n",
       " 'premium': 707,\n",
       " 'august': 708,\n",
       " 'cfo': 709,\n",
       " 'corporation': 710,\n",
       " 'holder': 711,\n",
       " 'saw': 712,\n",
       " 'issue': 713,\n",
       " 'ask': 714,\n",
       " 'previously': 715,\n",
       " 'energy': 716,\n",
       " 'yield': 717,\n",
       " 'security': 718,\n",
       " 'sma': 719,\n",
       " 'october': 720,\n",
       " 'story': 721,\n",
       " 'div': 722,\n",
       " 'fade': 723,\n",
       " 'showing': 724,\n",
       " 'fy': 725,\n",
       " 'elliottwave': 726,\n",
       " 'bid': 727,\n",
       " 'spread': 728,\n",
       " 'comp': 729,\n",
       " 'dumb': 730,\n",
       " 'equity': 731,\n",
       " 'net': 732,\n",
       " 'strike': 733,\n",
       " 'eow': 734,\n",
       " 'without': 735,\n",
       " 'leg': 736,\n",
       " 'shorted': 737,\n",
       " 'upgraded': 738,\n",
       " 'buck': 739,\n",
       " 'night': 740,\n",
       " 'case': 741,\n",
       " 'dropping': 742,\n",
       " 'sad': 743,\n",
       " 'user': 744,\n",
       " 'reiterated': 745,\n",
       " 'handle': 746,\n",
       " 'bb': 747,\n",
       " 'credit': 748,\n",
       " 'management': 749,\n",
       " 'gotta': 750,\n",
       " 'save': 751,\n",
       " 'covering': 752,\n",
       " 'phone': 753,\n",
       " 'heart': 754,\n",
       " 'article': 755,\n",
       " 'within': 756,\n",
       " 'traded': 757,\n",
       " 'surprised': 758,\n",
       " 'volatility': 759,\n",
       " 'avg': 760,\n",
       " 'penny': 761,\n",
       " 'downside': 762,\n",
       " 'sanjay': 763,\n",
       " 'tax': 764,\n",
       " 'biggest': 765,\n",
       " 'lunch': 766,\n",
       " 'loaded': 767,\n",
       " 'losing': 768,\n",
       " 'garbage': 769,\n",
       " 'super': 770,\n",
       " 'isnt': 771,\n",
       " 'downgraded': 772,\n",
       " 'september': 773,\n",
       " 'demand': 774,\n",
       " 'ha': 775,\n",
       " 'currently': 776,\n",
       " 'consolidation': 777,\n",
       " 'undervalued': 778,\n",
       " 'chinese': 779,\n",
       " 'fine': 780,\n",
       " 'haha': 781,\n",
       " 'holy': 782,\n",
       " 'pig': 783,\n",
       " 'single': 784,\n",
       " 'health': 785,\n",
       " 'working': 786,\n",
       " 'ford': 787,\n",
       " 'happening': 788,\n",
       " 'profitability': 789,\n",
       " 'bye': 790,\n",
       " 'continues': 791,\n",
       " 'priced': 792,\n",
       " 'thursday': 793,\n",
       " 'ad': 794,\n",
       " 'friend': 795,\n",
       " 'spike': 796,\n",
       " 'tuesday': 797,\n",
       " 'atm': 798,\n",
       " 'paid': 799,\n",
       " 'winning': 800,\n",
       " 'dow': 801,\n",
       " 'sense': 802,\n",
       " 'hammer': 803,\n",
       " 'anymore': 804,\n",
       " 'trending': 805,\n",
       " 'as': 806,\n",
       " 'l': 807,\n",
       " 'fed': 808,\n",
       " 'global': 809,\n",
       " 'according': 810,\n",
       " 'understand': 811,\n",
       " 'su': 812,\n",
       " 'beast': 813,\n",
       " 'record': 814,\n",
       " 'enjoy': 815,\n",
       " 'j': 816,\n",
       " 'research': 817,\n",
       " 'although': 818,\n",
       " 'ppl': 819,\n",
       " 'word': 820,\n",
       " 'granted': 821,\n",
       " 'fact': 822,\n",
       " 'burn': 823,\n",
       " 'laughingrolling': 824,\n",
       " 'tonight': 825,\n",
       " 'slightly': 826,\n",
       " 'changed': 827,\n",
       " 'flat': 828,\n",
       " 'blow': 829,\n",
       " 'straight': 830,\n",
       " 'intc': 831,\n",
       " 'excellent': 832,\n",
       " 'mind': 833,\n",
       " 'cause': 834,\n",
       " 'forget': 835,\n",
       " 'cup': 836,\n",
       " 'true': 837,\n",
       " 'outperform': 838,\n",
       " 'worst': 839,\n",
       " 'announced': 840,\n",
       " 'perfect': 841,\n",
       " 'touch': 842,\n",
       " 'fundamental': 843,\n",
       " 'beautiful': 844,\n",
       " 'performance': 845,\n",
       " 'rising': 846,\n",
       " 'strength': 847,\n",
       " 'reach': 848,\n",
       " 'using': 849,\n",
       " 'rule': 850,\n",
       " 'home': 851,\n",
       " 'definitely': 852,\n",
       " 'book': 853,\n",
       " 'climb': 854,\n",
       " 'longer': 855,\n",
       " 'cat': 856,\n",
       " 'unless': 857,\n",
       " 'youre': 858,\n",
       " 'monthly': 859,\n",
       " 'healthy': 860,\n",
       " 'ur': 861,\n",
       " 'shareholder': 862,\n",
       " 'spy': 863,\n",
       " 'fool': 864,\n",
       " 'trust': 865,\n",
       " 'star': 866,\n",
       " 'covered': 867,\n",
       " 'eoy': 868,\n",
       " 'opening': 869,\n",
       " 'date': 870,\n",
       " 'poor': 871,\n",
       " 'trash': 872,\n",
       " 'bell': 873,\n",
       " 'hot': 874,\n",
       " 'joke': 875,\n",
       " 'careful': 876,\n",
       " 'instead': 877,\n",
       " 'omg': 878,\n",
       " 'corp': 879,\n",
       " 'yall': 880,\n",
       " 'kill': 881,\n",
       " 'hurt': 882,\n",
       " 'ownership': 883,\n",
       " 'selloff': 884,\n",
       " 'party': 885,\n",
       " 'decline': 886,\n",
       " 'mkt': 887,\n",
       " 'greedy': 888,\n",
       " 'com': 889,\n",
       " 'non': 890,\n",
       " 'surprise': 891,\n",
       " 'ugly': 892,\n",
       " 'patience': 893,\n",
       " 'comment': 894,\n",
       " 'ive': 895,\n",
       " 'growing': 896,\n",
       " 'gift': 897,\n",
       " 'headed': 898,\n",
       " 'scared': 899,\n",
       " 'rebound': 900,\n",
       " 'hear': 901,\n",
       " 'semi': 902,\n",
       " 'loading': 903,\n",
       " 'algos': 904,\n",
       " 'portfolio': 905,\n",
       " 'options': 906,\n",
       " 'giving': 907,\n",
       " 'awesome': 908,\n",
       " 'history': 909,\n",
       " 'safe': 910,\n",
       " 'prime': 911,\n",
       " 'ish': 912,\n",
       " 'prediction': 913,\n",
       " 'brand': 914,\n",
       " 'ball': 915,\n",
       " 'knew': 916,\n",
       " 'pointing': 917,\n",
       " 'grinning': 918,\n",
       " 'zero': 919,\n",
       " 'officer': 920,\n",
       " 'bigger': 921,\n",
       " 'card': 922,\n",
       " 'step': 923,\n",
       " 'normal': 924,\n",
       " 'general': 925,\n",
       " 'pin': 926,\n",
       " 'cmon': 927,\n",
       " 'ex': 928,\n",
       " 'easily': 929,\n",
       " 'filled': 930,\n",
       " 'worried': 931,\n",
       " 'dark': 932,\n",
       " 'imagine': 933,\n",
       " 'rather': 934,\n",
       " 'retest': 935,\n",
       " 'overbought': 936,\n",
       " 'cashed': 937,\n",
       " 'others': 938,\n",
       " 'ouch': 939,\n",
       " 'seriously': 940,\n",
       " 'food': 941,\n",
       " 'lt': 942,\n",
       " 'house': 943,\n",
       " 'asset': 944,\n",
       " 'doubt': 945,\n",
       " 'microsoft': 946,\n",
       " 'following': 947,\n",
       " 'smh': 948,\n",
       " 'third': 949,\n",
       " 'tight': 950,\n",
       " 'uptrend': 951,\n",
       " 'triangle': 952,\n",
       " 'system': 953,\n",
       " 'vwap': 954,\n",
       " 'glta': 955,\n",
       " 'recover': 956,\n",
       " 'note': 957,\n",
       " 'acquisition': 958,\n",
       " 'implies': 959,\n",
       " 'zone': 960,\n",
       " 'control': 961,\n",
       " 'catch': 962,\n",
       " 'direction': 963,\n",
       " 'piece': 964,\n",
       " 'calling': 965,\n",
       " 'flush': 966,\n",
       " 'sound': 967,\n",
       " 'kid': 968,\n",
       " 'invest': 969,\n",
       " 'sp': 970,\n",
       " 'instagram': 971,\n",
       " 'loser': 972,\n",
       " 'cpu': 973,\n",
       " 'kind': 974,\n",
       " 'insane': 975,\n",
       " 'hedge': 976,\n",
       " 'bezos': 977,\n",
       " 'nobody': 978,\n",
       " 'evp': 979,\n",
       " 'repeat': 980,\n",
       " 'broken': 981,\n",
       " 'valued': 982,\n",
       " 'came': 983,\n",
       " 'chief': 984,\n",
       " 'hod': 985,\n",
       " 'cheaper': 986,\n",
       " 'percentile': 987,\n",
       " 'condition': 988,\n",
       " 'wanna': 989,\n",
       " 'peak': 990,\n",
       " 'id': 991,\n",
       " 'implied': 992,\n",
       " 'used': 993,\n",
       " 'announcement': 994,\n",
       " 'blue': 995,\n",
       " 'killing': 996,\n",
       " 'wake': 997,\n",
       " 'ai': 998,\n",
       " 'indicates': 999,\n",
       " 'fight': 1000,\n",
       " ...}"
      ]
     },
     "execution_count": 5,
     "metadata": {},
     "output_type": "execute_result"
    }
   ],
   "source": [
    "tokenizer.word_index"
   ]
  },
  {
   "cell_type": "code",
   "execution_count": 6,
   "metadata": {},
   "outputs": [],
   "source": [
    "X = tokenizer.texts_to_sequences(reviews)"
   ]
  },
  {
   "cell_type": "code",
   "execution_count": 7,
   "metadata": {},
   "outputs": [],
   "source": [
    "X = sequence.pad_sequences(X)"
   ]
  },
  {
   "cell_type": "code",
   "execution_count": 8,
   "metadata": {
    "scrolled": true
   },
   "outputs": [
    {
     "data": {
      "text/html": [
       "<div>\n",
       "<style scoped>\n",
       "    .dataframe tbody tr th:only-of-type {\n",
       "        vertical-align: middle;\n",
       "    }\n",
       "\n",
       "    .dataframe tbody tr th {\n",
       "        vertical-align: top;\n",
       "    }\n",
       "\n",
       "    .dataframe thead th {\n",
       "        text-align: right;\n",
       "    }\n",
       "</style>\n",
       "<table border=\"1\" class=\"dataframe\">\n",
       "  <thead>\n",
       "    <tr style=\"text-align: right;\">\n",
       "      <th></th>\n",
       "      <th>0</th>\n",
       "      <th>1</th>\n",
       "      <th>2</th>\n",
       "      <th>3</th>\n",
       "      <th>4</th>\n",
       "    </tr>\n",
       "  </thead>\n",
       "  <tbody>\n",
       "    <tr>\n",
       "      <th>0</th>\n",
       "      <td>0</td>\n",
       "      <td>0</td>\n",
       "      <td>0</td>\n",
       "      <td>1</td>\n",
       "      <td>0</td>\n",
       "    </tr>\n",
       "    <tr>\n",
       "      <th>1</th>\n",
       "      <td>0</td>\n",
       "      <td>0</td>\n",
       "      <td>0</td>\n",
       "      <td>1</td>\n",
       "      <td>0</td>\n",
       "    </tr>\n",
       "    <tr>\n",
       "      <th>2</th>\n",
       "      <td>0</td>\n",
       "      <td>0</td>\n",
       "      <td>1</td>\n",
       "      <td>0</td>\n",
       "      <td>0</td>\n",
       "    </tr>\n",
       "    <tr>\n",
       "      <th>3</th>\n",
       "      <td>0</td>\n",
       "      <td>0</td>\n",
       "      <td>1</td>\n",
       "      <td>0</td>\n",
       "      <td>0</td>\n",
       "    </tr>\n",
       "    <tr>\n",
       "      <th>4</th>\n",
       "      <td>0</td>\n",
       "      <td>0</td>\n",
       "      <td>0</td>\n",
       "      <td>1</td>\n",
       "      <td>0</td>\n",
       "    </tr>\n",
       "    <tr>\n",
       "      <th>5</th>\n",
       "      <td>1</td>\n",
       "      <td>0</td>\n",
       "      <td>0</td>\n",
       "      <td>0</td>\n",
       "      <td>0</td>\n",
       "    </tr>\n",
       "    <tr>\n",
       "      <th>6</th>\n",
       "      <td>0</td>\n",
       "      <td>0</td>\n",
       "      <td>1</td>\n",
       "      <td>0</td>\n",
       "      <td>0</td>\n",
       "    </tr>\n",
       "    <tr>\n",
       "      <th>7</th>\n",
       "      <td>0</td>\n",
       "      <td>0</td>\n",
       "      <td>0</td>\n",
       "      <td>0</td>\n",
       "      <td>1</td>\n",
       "    </tr>\n",
       "    <tr>\n",
       "      <th>8</th>\n",
       "      <td>0</td>\n",
       "      <td>0</td>\n",
       "      <td>1</td>\n",
       "      <td>0</td>\n",
       "      <td>0</td>\n",
       "    </tr>\n",
       "    <tr>\n",
       "      <th>9</th>\n",
       "      <td>0</td>\n",
       "      <td>0</td>\n",
       "      <td>1</td>\n",
       "      <td>0</td>\n",
       "      <td>0</td>\n",
       "    </tr>\n",
       "    <tr>\n",
       "      <th>10</th>\n",
       "      <td>0</td>\n",
       "      <td>0</td>\n",
       "      <td>1</td>\n",
       "      <td>0</td>\n",
       "      <td>0</td>\n",
       "    </tr>\n",
       "    <tr>\n",
       "      <th>11</th>\n",
       "      <td>0</td>\n",
       "      <td>0</td>\n",
       "      <td>1</td>\n",
       "      <td>0</td>\n",
       "      <td>0</td>\n",
       "    </tr>\n",
       "    <tr>\n",
       "      <th>12</th>\n",
       "      <td>0</td>\n",
       "      <td>0</td>\n",
       "      <td>1</td>\n",
       "      <td>0</td>\n",
       "      <td>0</td>\n",
       "    </tr>\n",
       "    <tr>\n",
       "      <th>13</th>\n",
       "      <td>0</td>\n",
       "      <td>0</td>\n",
       "      <td>1</td>\n",
       "      <td>0</td>\n",
       "      <td>0</td>\n",
       "    </tr>\n",
       "    <tr>\n",
       "      <th>14</th>\n",
       "      <td>0</td>\n",
       "      <td>0</td>\n",
       "      <td>0</td>\n",
       "      <td>0</td>\n",
       "      <td>1</td>\n",
       "    </tr>\n",
       "    <tr>\n",
       "      <th>15</th>\n",
       "      <td>1</td>\n",
       "      <td>0</td>\n",
       "      <td>0</td>\n",
       "      <td>0</td>\n",
       "      <td>0</td>\n",
       "    </tr>\n",
       "    <tr>\n",
       "      <th>16</th>\n",
       "      <td>0</td>\n",
       "      <td>0</td>\n",
       "      <td>1</td>\n",
       "      <td>0</td>\n",
       "      <td>0</td>\n",
       "    </tr>\n",
       "    <tr>\n",
       "      <th>17</th>\n",
       "      <td>0</td>\n",
       "      <td>0</td>\n",
       "      <td>0</td>\n",
       "      <td>1</td>\n",
       "      <td>0</td>\n",
       "    </tr>\n",
       "    <tr>\n",
       "      <th>18</th>\n",
       "      <td>0</td>\n",
       "      <td>1</td>\n",
       "      <td>0</td>\n",
       "      <td>0</td>\n",
       "      <td>0</td>\n",
       "    </tr>\n",
       "    <tr>\n",
       "      <th>19</th>\n",
       "      <td>0</td>\n",
       "      <td>0</td>\n",
       "      <td>1</td>\n",
       "      <td>0</td>\n",
       "      <td>0</td>\n",
       "    </tr>\n",
       "    <tr>\n",
       "      <th>20</th>\n",
       "      <td>0</td>\n",
       "      <td>0</td>\n",
       "      <td>0</td>\n",
       "      <td>0</td>\n",
       "      <td>1</td>\n",
       "    </tr>\n",
       "    <tr>\n",
       "      <th>21</th>\n",
       "      <td>0</td>\n",
       "      <td>0</td>\n",
       "      <td>1</td>\n",
       "      <td>0</td>\n",
       "      <td>0</td>\n",
       "    </tr>\n",
       "    <tr>\n",
       "      <th>22</th>\n",
       "      <td>0</td>\n",
       "      <td>1</td>\n",
       "      <td>0</td>\n",
       "      <td>0</td>\n",
       "      <td>0</td>\n",
       "    </tr>\n",
       "    <tr>\n",
       "      <th>23</th>\n",
       "      <td>1</td>\n",
       "      <td>0</td>\n",
       "      <td>0</td>\n",
       "      <td>0</td>\n",
       "      <td>0</td>\n",
       "    </tr>\n",
       "    <tr>\n",
       "      <th>24</th>\n",
       "      <td>0</td>\n",
       "      <td>0</td>\n",
       "      <td>0</td>\n",
       "      <td>0</td>\n",
       "      <td>1</td>\n",
       "    </tr>\n",
       "    <tr>\n",
       "      <th>25</th>\n",
       "      <td>0</td>\n",
       "      <td>0</td>\n",
       "      <td>1</td>\n",
       "      <td>0</td>\n",
       "      <td>0</td>\n",
       "    </tr>\n",
       "    <tr>\n",
       "      <th>26</th>\n",
       "      <td>0</td>\n",
       "      <td>0</td>\n",
       "      <td>1</td>\n",
       "      <td>0</td>\n",
       "      <td>0</td>\n",
       "    </tr>\n",
       "    <tr>\n",
       "      <th>27</th>\n",
       "      <td>0</td>\n",
       "      <td>1</td>\n",
       "      <td>0</td>\n",
       "      <td>0</td>\n",
       "      <td>0</td>\n",
       "    </tr>\n",
       "    <tr>\n",
       "      <th>28</th>\n",
       "      <td>0</td>\n",
       "      <td>0</td>\n",
       "      <td>1</td>\n",
       "      <td>0</td>\n",
       "      <td>0</td>\n",
       "    </tr>\n",
       "    <tr>\n",
       "      <th>29</th>\n",
       "      <td>1</td>\n",
       "      <td>0</td>\n",
       "      <td>0</td>\n",
       "      <td>0</td>\n",
       "      <td>0</td>\n",
       "    </tr>\n",
       "    <tr>\n",
       "      <th>...</th>\n",
       "      <td>...</td>\n",
       "      <td>...</td>\n",
       "      <td>...</td>\n",
       "      <td>...</td>\n",
       "      <td>...</td>\n",
       "    </tr>\n",
       "    <tr>\n",
       "      <th>986774</th>\n",
       "      <td>0</td>\n",
       "      <td>0</td>\n",
       "      <td>0</td>\n",
       "      <td>1</td>\n",
       "      <td>0</td>\n",
       "    </tr>\n",
       "    <tr>\n",
       "      <th>986775</th>\n",
       "      <td>1</td>\n",
       "      <td>0</td>\n",
       "      <td>0</td>\n",
       "      <td>0</td>\n",
       "      <td>0</td>\n",
       "    </tr>\n",
       "    <tr>\n",
       "      <th>986776</th>\n",
       "      <td>0</td>\n",
       "      <td>0</td>\n",
       "      <td>1</td>\n",
       "      <td>0</td>\n",
       "      <td>0</td>\n",
       "    </tr>\n",
       "    <tr>\n",
       "      <th>986777</th>\n",
       "      <td>0</td>\n",
       "      <td>0</td>\n",
       "      <td>1</td>\n",
       "      <td>0</td>\n",
       "      <td>0</td>\n",
       "    </tr>\n",
       "    <tr>\n",
       "      <th>986778</th>\n",
       "      <td>0</td>\n",
       "      <td>0</td>\n",
       "      <td>1</td>\n",
       "      <td>0</td>\n",
       "      <td>0</td>\n",
       "    </tr>\n",
       "    <tr>\n",
       "      <th>986779</th>\n",
       "      <td>0</td>\n",
       "      <td>0</td>\n",
       "      <td>1</td>\n",
       "      <td>0</td>\n",
       "      <td>0</td>\n",
       "    </tr>\n",
       "    <tr>\n",
       "      <th>986780</th>\n",
       "      <td>0</td>\n",
       "      <td>0</td>\n",
       "      <td>0</td>\n",
       "      <td>0</td>\n",
       "      <td>1</td>\n",
       "    </tr>\n",
       "    <tr>\n",
       "      <th>986781</th>\n",
       "      <td>0</td>\n",
       "      <td>0</td>\n",
       "      <td>1</td>\n",
       "      <td>0</td>\n",
       "      <td>0</td>\n",
       "    </tr>\n",
       "    <tr>\n",
       "      <th>986782</th>\n",
       "      <td>0</td>\n",
       "      <td>0</td>\n",
       "      <td>1</td>\n",
       "      <td>0</td>\n",
       "      <td>0</td>\n",
       "    </tr>\n",
       "    <tr>\n",
       "      <th>986783</th>\n",
       "      <td>0</td>\n",
       "      <td>0</td>\n",
       "      <td>0</td>\n",
       "      <td>1</td>\n",
       "      <td>0</td>\n",
       "    </tr>\n",
       "    <tr>\n",
       "      <th>986784</th>\n",
       "      <td>0</td>\n",
       "      <td>0</td>\n",
       "      <td>1</td>\n",
       "      <td>0</td>\n",
       "      <td>0</td>\n",
       "    </tr>\n",
       "    <tr>\n",
       "      <th>986785</th>\n",
       "      <td>0</td>\n",
       "      <td>0</td>\n",
       "      <td>1</td>\n",
       "      <td>0</td>\n",
       "      <td>0</td>\n",
       "    </tr>\n",
       "    <tr>\n",
       "      <th>986786</th>\n",
       "      <td>0</td>\n",
       "      <td>0</td>\n",
       "      <td>1</td>\n",
       "      <td>0</td>\n",
       "      <td>0</td>\n",
       "    </tr>\n",
       "    <tr>\n",
       "      <th>986787</th>\n",
       "      <td>0</td>\n",
       "      <td>0</td>\n",
       "      <td>0</td>\n",
       "      <td>1</td>\n",
       "      <td>0</td>\n",
       "    </tr>\n",
       "    <tr>\n",
       "      <th>986788</th>\n",
       "      <td>0</td>\n",
       "      <td>0</td>\n",
       "      <td>0</td>\n",
       "      <td>1</td>\n",
       "      <td>0</td>\n",
       "    </tr>\n",
       "    <tr>\n",
       "      <th>986789</th>\n",
       "      <td>0</td>\n",
       "      <td>0</td>\n",
       "      <td>1</td>\n",
       "      <td>0</td>\n",
       "      <td>0</td>\n",
       "    </tr>\n",
       "    <tr>\n",
       "      <th>986790</th>\n",
       "      <td>0</td>\n",
       "      <td>0</td>\n",
       "      <td>0</td>\n",
       "      <td>0</td>\n",
       "      <td>1</td>\n",
       "    </tr>\n",
       "    <tr>\n",
       "      <th>986791</th>\n",
       "      <td>0</td>\n",
       "      <td>0</td>\n",
       "      <td>1</td>\n",
       "      <td>0</td>\n",
       "      <td>0</td>\n",
       "    </tr>\n",
       "    <tr>\n",
       "      <th>986792</th>\n",
       "      <td>0</td>\n",
       "      <td>1</td>\n",
       "      <td>0</td>\n",
       "      <td>0</td>\n",
       "      <td>0</td>\n",
       "    </tr>\n",
       "    <tr>\n",
       "      <th>986793</th>\n",
       "      <td>0</td>\n",
       "      <td>0</td>\n",
       "      <td>1</td>\n",
       "      <td>0</td>\n",
       "      <td>0</td>\n",
       "    </tr>\n",
       "    <tr>\n",
       "      <th>986794</th>\n",
       "      <td>0</td>\n",
       "      <td>0</td>\n",
       "      <td>0</td>\n",
       "      <td>1</td>\n",
       "      <td>0</td>\n",
       "    </tr>\n",
       "    <tr>\n",
       "      <th>986795</th>\n",
       "      <td>0</td>\n",
       "      <td>0</td>\n",
       "      <td>0</td>\n",
       "      <td>0</td>\n",
       "      <td>1</td>\n",
       "    </tr>\n",
       "    <tr>\n",
       "      <th>986796</th>\n",
       "      <td>0</td>\n",
       "      <td>0</td>\n",
       "      <td>1</td>\n",
       "      <td>0</td>\n",
       "      <td>0</td>\n",
       "    </tr>\n",
       "    <tr>\n",
       "      <th>986797</th>\n",
       "      <td>0</td>\n",
       "      <td>0</td>\n",
       "      <td>0</td>\n",
       "      <td>1</td>\n",
       "      <td>0</td>\n",
       "    </tr>\n",
       "    <tr>\n",
       "      <th>986798</th>\n",
       "      <td>0</td>\n",
       "      <td>0</td>\n",
       "      <td>1</td>\n",
       "      <td>0</td>\n",
       "      <td>0</td>\n",
       "    </tr>\n",
       "    <tr>\n",
       "      <th>986799</th>\n",
       "      <td>0</td>\n",
       "      <td>0</td>\n",
       "      <td>0</td>\n",
       "      <td>1</td>\n",
       "      <td>0</td>\n",
       "    </tr>\n",
       "    <tr>\n",
       "      <th>986800</th>\n",
       "      <td>0</td>\n",
       "      <td>0</td>\n",
       "      <td>0</td>\n",
       "      <td>1</td>\n",
       "      <td>0</td>\n",
       "    </tr>\n",
       "    <tr>\n",
       "      <th>986801</th>\n",
       "      <td>1</td>\n",
       "      <td>0</td>\n",
       "      <td>0</td>\n",
       "      <td>0</td>\n",
       "      <td>0</td>\n",
       "    </tr>\n",
       "    <tr>\n",
       "      <th>986802</th>\n",
       "      <td>1</td>\n",
       "      <td>0</td>\n",
       "      <td>0</td>\n",
       "      <td>0</td>\n",
       "      <td>0</td>\n",
       "    </tr>\n",
       "    <tr>\n",
       "      <th>986803</th>\n",
       "      <td>0</td>\n",
       "      <td>0</td>\n",
       "      <td>1</td>\n",
       "      <td>0</td>\n",
       "      <td>0</td>\n",
       "    </tr>\n",
       "  </tbody>\n",
       "</table>\n",
       "<p>986804 rows × 5 columns</p>\n",
       "</div>"
      ],
      "text/plain": [
       "        0  1  2  3  4\n",
       "0       0  0  0  1  0\n",
       "1       0  0  0  1  0\n",
       "2       0  0  1  0  0\n",
       "3       0  0  1  0  0\n",
       "4       0  0  0  1  0\n",
       "5       1  0  0  0  0\n",
       "6       0  0  1  0  0\n",
       "7       0  0  0  0  1\n",
       "8       0  0  1  0  0\n",
       "9       0  0  1  0  0\n",
       "10      0  0  1  0  0\n",
       "11      0  0  1  0  0\n",
       "12      0  0  1  0  0\n",
       "13      0  0  1  0  0\n",
       "14      0  0  0  0  1\n",
       "15      1  0  0  0  0\n",
       "16      0  0  1  0  0\n",
       "17      0  0  0  1  0\n",
       "18      0  1  0  0  0\n",
       "19      0  0  1  0  0\n",
       "20      0  0  0  0  1\n",
       "21      0  0  1  0  0\n",
       "22      0  1  0  0  0\n",
       "23      1  0  0  0  0\n",
       "24      0  0  0  0  1\n",
       "25      0  0  1  0  0\n",
       "26      0  0  1  0  0\n",
       "27      0  1  0  0  0\n",
       "28      0  0  1  0  0\n",
       "29      1  0  0  0  0\n",
       "...    .. .. .. .. ..\n",
       "986774  0  0  0  1  0\n",
       "986775  1  0  0  0  0\n",
       "986776  0  0  1  0  0\n",
       "986777  0  0  1  0  0\n",
       "986778  0  0  1  0  0\n",
       "986779  0  0  1  0  0\n",
       "986780  0  0  0  0  1\n",
       "986781  0  0  1  0  0\n",
       "986782  0  0  1  0  0\n",
       "986783  0  0  0  1  0\n",
       "986784  0  0  1  0  0\n",
       "986785  0  0  1  0  0\n",
       "986786  0  0  1  0  0\n",
       "986787  0  0  0  1  0\n",
       "986788  0  0  0  1  0\n",
       "986789  0  0  1  0  0\n",
       "986790  0  0  0  0  1\n",
       "986791  0  0  1  0  0\n",
       "986792  0  1  0  0  0\n",
       "986793  0  0  1  0  0\n",
       "986794  0  0  0  1  0\n",
       "986795  0  0  0  0  1\n",
       "986796  0  0  1  0  0\n",
       "986797  0  0  0  1  0\n",
       "986798  0  0  1  0  0\n",
       "986799  0  0  0  1  0\n",
       "986800  0  0  0  1  0\n",
       "986801  1  0  0  0  0\n",
       "986802  1  0  0  0  0\n",
       "986803  0  0  1  0  0\n",
       "\n",
       "[986804 rows x 5 columns]"
      ]
     },
     "execution_count": 8,
     "metadata": {},
     "output_type": "execute_result"
    }
   ],
   "source": [
    "sentiment_ohe = pd.get_dummies(sentiments)\n",
    "sentiment_ohe"
   ]
  },
  {
   "cell_type": "code",
   "execution_count": 9,
   "metadata": {},
   "outputs": [],
   "source": [
    "from sklearn.model_selection import train_test_split"
   ]
  },
  {
   "cell_type": "code",
   "execution_count": 10,
   "metadata": {},
   "outputs": [],
   "source": [
    "X_train_sent,X_test_sent,y_train_sent,y_test_sent=train_test_split(X,sentiment_ohe,test_size=0.3,random_state=42)"
   ]
  },
  {
   "cell_type": "code",
   "execution_count": 11,
   "metadata": {
    "scrolled": true
   },
   "outputs": [
    {
     "data": {
      "text/plain": [
       "((690762, 226), (296042, 226), (690762, 5), (296042, 5))"
      ]
     },
     "execution_count": 11,
     "metadata": {},
     "output_type": "execute_result"
    }
   ],
   "source": [
    "X_train_sent.shape,X_test_sent.shape,y_train_sent.shape,y_test_sent.shape"
   ]
  },
  {
   "cell_type": "code",
   "execution_count": 12,
   "metadata": {},
   "outputs": [
    {
     "name": "stdout",
     "output_type": "stream",
     "text": [
      "_________________________________________________________________\n",
      "Layer (type)                 Output Shape              Param #   \n",
      "=================================================================\n",
      "embedding_1 (Embedding)      (None, 226, 128)          1280000   \n",
      "_________________________________________________________________\n",
      "dropout_1 (Dropout)          (None, 226, 128)          0         \n",
      "_________________________________________________________________\n",
      "lstm_1 (LSTM)                (None, 64)                49408     \n",
      "_________________________________________________________________\n",
      "dense_1 (Dense)              (None, 5)                 325       \n",
      "=================================================================\n",
      "Total params: 1,329,733\n",
      "Trainable params: 1,329,733\n",
      "Non-trainable params: 0\n",
      "_________________________________________________________________\n",
      "None\n"
     ]
    }
   ],
   "source": [
    "embed_dim = 128\n",
    "lstm_out = 64\n",
    "\n",
    "model = Sequential()\n",
    "model.add(Embedding(10000, embed_dim, input_length = X.shape[1]))\n",
    "model.add(Dropout(0.2))\n",
    "model.add(LSTM(lstm_out, dropout=0.2, recurrent_dropout=0.2))\n",
    "model.add(Dense(5, activation='softmax'))\n",
    "model.compile(loss = 'categorical_crossentropy', optimizer='adam',metrics = ['accuracy'])\n",
    "print(model.summary())"
   ]
  },
  {
   "cell_type": "code",
   "execution_count": 13,
   "metadata": {
    "scrolled": true
   },
   "outputs": [
    {
     "name": "stdout",
     "output_type": "stream",
     "text": [
      "Epoch 1/5\n",
      "690762/690762 [==============================] - 2879s 4ms/step - loss: 0.8930 - acc: 0.6623\n",
      "Epoch 2/5\n",
      "690762/690762 [==============================] - 3051s 4ms/step - loss: 0.8067 - acc: 0.6938\n",
      "Epoch 3/5\n",
      "690762/690762 [==============================] - 2862s 4ms/step - loss: 0.7814 - acc: 0.7022\n",
      "Epoch 4/5\n",
      "690762/690762 [==============================] - 3114s 5ms/step - loss: 0.7638 - acc: 0.7080\n",
      "Epoch 5/5\n",
      "690762/690762 [==============================] - 2855s 4ms/step - loss: 0.7501 - acc: 0.7125\n"
     ]
    }
   ],
   "source": [
    "batch_size = 100\n",
    "history1=model.fit(X_train_sent,y_train_sent, epochs = 5, batch_size=batch_size, verbose=1)"
   ]
  },
  {
   "cell_type": "code",
   "execution_count": 15,
   "metadata": {},
   "outputs": [
    {
     "name": "stdout",
     "output_type": "stream",
     "text": [
      "296042/296042 [==============================] - 12924s 44ms/step\n"
     ]
    }
   ],
   "source": [
    "score1,acc1=model.evaluate(X_test_sent,y_test_sent)"
   ]
  },
  {
   "cell_type": "code",
   "execution_count": 77,
   "metadata": {},
   "outputs": [],
   "source": [
    "model.save('sentiment_score_5_LSTM_softmax_epoch_10.h5')"
   ]
  },
  {
   "cell_type": "code",
   "execution_count": 54,
   "metadata": {},
   "outputs": [
    {
     "data": {
      "text/plain": [
       "(296042, 226)"
      ]
     },
     "execution_count": 54,
     "metadata": {},
     "output_type": "execute_result"
    }
   ],
   "source": [
    "X_test_sent.shape"
   ]
  },
  {
   "cell_type": "code",
   "execution_count": 55,
   "metadata": {},
   "outputs": [
    {
     "data": {
      "text/plain": [
       "(296042, 5)"
      ]
     },
     "execution_count": 55,
     "metadata": {},
     "output_type": "execute_result"
    }
   ],
   "source": [
    "y_test_sent.shape"
   ]
  },
  {
   "cell_type": "code",
   "execution_count": 16,
   "metadata": {},
   "outputs": [
    {
     "ename": "NameError",
     "evalue": "name 'le' is not defined",
     "output_type": "error",
     "traceback": [
      "\u001b[1;31m---------------------------------------------------------------------------\u001b[0m",
      "\u001b[1;31mNameError\u001b[0m                                 Traceback (most recent call last)",
      "\u001b[1;32m<ipython-input-16-36598a5356f9>\u001b[0m in \u001b[0;36m<module>\u001b[1;34m\u001b[0m\n\u001b[0;32m      1\u001b[0m \u001b[0mpred_test\u001b[0m \u001b[1;33m=\u001b[0m \u001b[0mmodel\u001b[0m\u001b[1;33m.\u001b[0m\u001b[0mpredict_classes\u001b[0m\u001b[1;33m(\u001b[0m\u001b[0mX_test_sent\u001b[0m\u001b[1;33m)\u001b[0m\u001b[1;33m\u001b[0m\u001b[1;33m\u001b[0m\u001b[0m\n\u001b[1;32m----> 2\u001b[1;33m \u001b[0mpredictions\u001b[0m \u001b[1;33m=\u001b[0m \u001b[0mle\u001b[0m\u001b[1;33m.\u001b[0m\u001b[0minverse_transform\u001b[0m\u001b[1;33m(\u001b[0m\u001b[0mpred_test\u001b[0m\u001b[1;33m.\u001b[0m\u001b[0mflatten\u001b[0m\u001b[1;33m(\u001b[0m\u001b[1;33m)\u001b[0m\u001b[1;33m)\u001b[0m\u001b[1;33m\u001b[0m\u001b[1;33m\u001b[0m\u001b[0m\n\u001b[0m",
      "\u001b[1;31mNameError\u001b[0m: name 'le' is not defined"
     ]
    }
   ],
   "source": [
    "pred_test = model.predict_classes(X_test_sent)\n",
    "# predictions = le.inverse_transform(pred_test.flatten())"
   ]
  },
  {
   "cell_type": "code",
   "execution_count": 24,
   "metadata": {},
   "outputs": [
    {
     "data": {
      "text/plain": [
       "2    156558\n",
       "4     47514\n",
       "3     40879\n",
       "1     25699\n",
       "0     25392\n",
       "dtype: int64"
      ]
     },
     "execution_count": 24,
     "metadata": {},
     "output_type": "execute_result"
    }
   ],
   "source": [
    "pd.Series(pred_test).value_counts()"
   ]
  },
  {
   "cell_type": "code",
   "execution_count": 76,
   "metadata": {},
   "outputs": [
    {
     "data": {
      "text/plain": [
       "2    127850\n",
       "3     60036\n",
       "4     45413\n",
       "1     35561\n",
       "0     27182\n",
       "dtype: int64"
      ]
     },
     "execution_count": 76,
     "metadata": {},
     "output_type": "execute_result"
    }
   ],
   "source": [
    "pd.Series(y_test_sent.argmax(axis=1)).value_counts()"
   ]
  },
  {
   "cell_type": "code",
   "execution_count": 34,
   "metadata": {},
   "outputs": [
    {
     "data": {
      "text/plain": [
       "array([4, 2, 4, ..., 4, 2, 2], dtype=int64)"
      ]
     },
     "execution_count": 34,
     "metadata": {},
     "output_type": "execute_result"
    }
   ],
   "source": [
    "pred_test"
   ]
  },
  {
   "cell_type": "code",
   "execution_count": 64,
   "metadata": {},
   "outputs": [
    {
     "data": {
      "text/plain": [
       "array([4, 3, 4, ..., 4, 3, 2], dtype=int64)"
      ]
     },
     "execution_count": 64,
     "metadata": {},
     "output_type": "execute_result"
    }
   ],
   "source": [
    "y_test_sent.argmax(axis=1)"
   ]
  },
  {
   "cell_type": "code",
   "execution_count": 43,
   "metadata": {},
   "outputs": [
    {
     "data": {
      "text/plain": [
       "array([3, 3, 2, ..., 0, 0, 2], dtype=int64)"
      ]
     },
     "execution_count": 43,
     "metadata": {},
     "output_type": "execute_result"
    }
   ],
   "source": [
    "# y_test_prop.values"
   ]
  },
  {
   "cell_type": "code",
   "execution_count": 45,
   "metadata": {},
   "outputs": [
    {
     "data": {
      "text/plain": [
       "296042"
      ]
     },
     "execution_count": 45,
     "metadata": {},
     "output_type": "execute_result"
    }
   ],
   "source": [
    "len(pred_test)"
   ]
  },
  {
   "cell_type": "code",
   "execution_count": 66,
   "metadata": {},
   "outputs": [
    {
     "data": {
      "text/plain": [
       "296042"
      ]
     },
     "execution_count": 66,
     "metadata": {},
     "output_type": "execute_result"
    }
   ],
   "source": [
    "len(y_test_sent.argmax(axis=1))"
   ]
  },
  {
   "cell_type": "code",
   "execution_count": 67,
   "metadata": {},
   "outputs": [],
   "source": [
    "from sklearn.metrics import classification_report"
   ]
  },
  {
   "cell_type": "code",
   "execution_count": 53,
   "metadata": {},
   "outputs": [
    {
     "ename": "NameError",
     "evalue": "name 'y_test_sent' is not defined",
     "output_type": "error",
     "traceback": [
      "\u001b[1;31m---------------------------------------------------------------------------\u001b[0m",
      "\u001b[1;31mNameError\u001b[0m                                 Traceback (most recent call last)",
      "\u001b[1;32m<ipython-input-53-00f2b739846f>\u001b[0m in \u001b[0;36m<module>\u001b[1;34m\u001b[0m\n\u001b[1;32m----> 1\u001b[1;33m \u001b[0mop\u001b[0m\u001b[1;33m=\u001b[0m\u001b[0my_test_sent\u001b[0m\u001b[1;33m.\u001b[0m\u001b[0margmax\u001b[0m\u001b[1;33m(\u001b[0m\u001b[0maxis\u001b[0m\u001b[1;33m=\u001b[0m\u001b[1;36m1\u001b[0m\u001b[1;33m)\u001b[0m\u001b[1;33m\u001b[0m\u001b[1;33m\u001b[0m\u001b[0m\n\u001b[0m",
      "\u001b[1;31mNameError\u001b[0m: name 'y_test_sent' is not defined"
     ]
    }
   ],
   "source": [
    "op=y_test_sent.argmax(axis=1)"
   ]
  },
  {
   "cell_type": "code",
   "execution_count": 52,
   "metadata": {},
   "outputs": [
    {
     "ename": "NameError",
     "evalue": "name 'op' is not defined",
     "output_type": "error",
     "traceback": [
      "\u001b[1;31m---------------------------------------------------------------------------\u001b[0m",
      "\u001b[1;31mNameError\u001b[0m                                 Traceback (most recent call last)",
      "\u001b[1;32m<ipython-input-52-f55beb38dcc6>\u001b[0m in \u001b[0;36m<module>\u001b[1;34m\u001b[0m\n\u001b[1;32m----> 1\u001b[1;33m \u001b[0mprint\u001b[0m\u001b[1;33m(\u001b[0m\u001b[0mclassification_report\u001b[0m\u001b[1;33m(\u001b[0m\u001b[0mop\u001b[0m\u001b[1;33m,\u001b[0m\u001b[0mpred_test\u001b[0m\u001b[1;33m)\u001b[0m\u001b[1;33m)\u001b[0m\u001b[1;33m\u001b[0m\u001b[1;33m\u001b[0m\u001b[0m\n\u001b[0m",
      "\u001b[1;31mNameError\u001b[0m: name 'op' is not defined"
     ]
    }
   ],
   "source": [
    "print(classification_report(op,pred_test))"
   ]
  },
  {
   "cell_type": "code",
   "execution_count": 75,
   "metadata": {},
   "outputs": [
    {
     "data": {
      "text/plain": [
       "0.6498801748566736"
      ]
     },
     "metadata": {},
     "output_type": "display_data"
    },
    {
     "data": {
      "text/plain": [
       "0.6985799312259747"
      ]
     },
     "metadata": {},
     "output_type": "display_data"
    }
   ],
   "source": [
    "from sklearn.metrics import f1_score\n",
    "from sklearn.metrics import accuracy_score\n",
    "display(f1_score(op,pred_test,average='macro'))\n",
    "display(accuracy_score(op,pred_test))"
   ]
  },
  {
   "cell_type": "code",
   "execution_count": 65,
   "metadata": {},
   "outputs": [
    {
     "data": {
      "text/html": [
       "<div>\n",
       "<style scoped>\n",
       "    .dataframe tbody tr th:only-of-type {\n",
       "        vertical-align: middle;\n",
       "    }\n",
       "\n",
       "    .dataframe tbody tr th {\n",
       "        vertical-align: top;\n",
       "    }\n",
       "\n",
       "    .dataframe thead th {\n",
       "        text-align: right;\n",
       "    }\n",
       "</style>\n",
       "<table border=\"1\" class=\"dataframe\">\n",
       "  <thead>\n",
       "    <tr style=\"text-align: right;\">\n",
       "      <th></th>\n",
       "      <th>predicted</th>\n",
       "      <th>actual</th>\n",
       "    </tr>\n",
       "  </thead>\n",
       "  <tbody>\n",
       "    <tr>\n",
       "      <th>0</th>\n",
       "      <td>4</td>\n",
       "      <td>4</td>\n",
       "    </tr>\n",
       "    <tr>\n",
       "      <th>1</th>\n",
       "      <td>2</td>\n",
       "      <td>3</td>\n",
       "    </tr>\n",
       "    <tr>\n",
       "      <th>2</th>\n",
       "      <td>4</td>\n",
       "      <td>4</td>\n",
       "    </tr>\n",
       "    <tr>\n",
       "      <th>3</th>\n",
       "      <td>3</td>\n",
       "      <td>3</td>\n",
       "    </tr>\n",
       "    <tr>\n",
       "      <th>4</th>\n",
       "      <td>2</td>\n",
       "      <td>2</td>\n",
       "    </tr>\n",
       "    <tr>\n",
       "      <th>5</th>\n",
       "      <td>2</td>\n",
       "      <td>2</td>\n",
       "    </tr>\n",
       "    <tr>\n",
       "      <th>6</th>\n",
       "      <td>0</td>\n",
       "      <td>0</td>\n",
       "    </tr>\n",
       "    <tr>\n",
       "      <th>7</th>\n",
       "      <td>4</td>\n",
       "      <td>4</td>\n",
       "    </tr>\n",
       "    <tr>\n",
       "      <th>8</th>\n",
       "      <td>0</td>\n",
       "      <td>3</td>\n",
       "    </tr>\n",
       "    <tr>\n",
       "      <th>9</th>\n",
       "      <td>2</td>\n",
       "      <td>2</td>\n",
       "    </tr>\n",
       "  </tbody>\n",
       "</table>\n",
       "</div>"
      ],
      "text/plain": [
       "   predicted  actual\n",
       "0          4       4\n",
       "1          2       3\n",
       "2          4       4\n",
       "3          3       3\n",
       "4          2       2\n",
       "5          2       2\n",
       "6          0       0\n",
       "7          4       4\n",
       "8          0       3\n",
       "9          2       2"
      ]
     },
     "execution_count": 65,
     "metadata": {},
     "output_type": "execute_result"
    }
   ],
   "source": [
    "dl_pred_actual = pd.DataFrame({'predicted':pred_test, 'actual': y_test_sent.argmax(axis=1)})\n",
    "\n",
    "dl_pred_actual.head(10)"
   ]
  },
  {
   "cell_type": "code",
   "execution_count": null,
   "metadata": {},
   "outputs": [],
   "source": []
  },
  {
   "cell_type": "code",
   "execution_count": null,
   "metadata": {},
   "outputs": [],
   "source": []
  },
  {
   "cell_type": "code",
   "execution_count": null,
   "metadata": {},
   "outputs": [],
   "source": []
  },
  {
   "cell_type": "code",
   "execution_count": null,
   "metadata": {},
   "outputs": [],
   "source": []
  },
  {
   "cell_type": "code",
   "execution_count": null,
   "metadata": {},
   "outputs": [],
   "source": []
  },
  {
   "cell_type": "code",
   "execution_count": null,
   "metadata": {},
   "outputs": [],
   "source": []
  },
  {
   "cell_type": "code",
   "execution_count": null,
   "metadata": {},
   "outputs": [],
   "source": []
  }
 ],
 "metadata": {
  "kernelspec": {
   "display_name": "Python 3",
   "language": "python",
   "name": "python3"
  },
  "language_info": {
   "codemirror_mode": {
    "name": "ipython",
    "version": 3
   },
   "file_extension": ".py",
   "mimetype": "text/x-python",
   "name": "python",
   "nbconvert_exporter": "python",
   "pygments_lexer": "ipython3",
   "version": "3.6.8"
  },
  "toc": {
   "base_numbering": 1,
   "nav_menu": {},
   "number_sections": true,
   "sideBar": true,
   "skip_h1_title": false,
   "title_cell": "Table of Contents",
   "title_sidebar": "Contents",
   "toc_cell": false,
   "toc_position": {},
   "toc_section_display": true,
   "toc_window_display": false
  },
  "varInspector": {
   "cols": {
    "lenName": 16,
    "lenType": 16,
    "lenVar": 40
   },
   "kernels_config": {
    "python": {
     "delete_cmd_postfix": "",
     "delete_cmd_prefix": "del ",
     "library": "var_list.py",
     "varRefreshCmd": "print(var_dic_list())"
    },
    "r": {
     "delete_cmd_postfix": ") ",
     "delete_cmd_prefix": "rm(",
     "library": "var_list.r",
     "varRefreshCmd": "cat(var_dic_list()) "
    }
   },
   "types_to_exclude": [
    "module",
    "function",
    "builtin_function_or_method",
    "instance",
    "_Feature"
   ],
   "window_display": false
  }
 },
 "nbformat": 4,
 "nbformat_minor": 2
}
